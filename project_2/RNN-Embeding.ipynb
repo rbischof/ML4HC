{
 "cells": [
  {
   "cell_type": "code",
   "execution_count": 1,
   "metadata": {},
   "outputs": [
    {
     "name": "stdout",
     "output_type": "stream",
     "text": [
      "showing info https://raw.githubusercontent.com/nltk/nltk_data/gh-pages/index.xml\n"
     ]
    },
    {
     "data": {
      "text/plain": [
       "True"
      ]
     },
     "execution_count": 1,
     "metadata": {},
     "output_type": "execute_result"
    }
   ],
   "source": [
    "import nltk\n",
    "nltk.download()"
   ]
  },
  {
   "cell_type": "code",
   "execution_count": 2,
   "metadata": {},
   "outputs": [],
   "source": [
    "import pandas as pd\n",
    "import numpy as np\n",
    "from nltk.corpus import wordnet as wn\n",
    "import gensim \n",
    "from gensim.models import Word2Vec \n",
    "from gensim.models.doc2vec import Doc2Vec, TaggedDocument\n",
    "import matplotlib.pyplot as plt\n",
    "from sklearn.decomposition import PCA"
   ]
  },
  {
   "cell_type": "code",
   "execution_count": 3,
   "metadata": {},
   "outputs": [],
   "source": [
    "from nltk.tokenize import RegexpTokenizer\n",
    "tokenizer = RegexpTokenizer(r'\\w+')"
   ]
  },
  {
   "cell_type": "code",
   "execution_count": 56,
   "metadata": {},
   "outputs": [],
   "source": [
    "from nltk.corpus import stopwords\n",
    "breakers = {'with', 'without', 'comma', 'and', 'or', 'by', 'in', 'due', 'to', 'of', 'causing'}\n",
    "stop_words= (set(stopwords.words(\"english\")) | {'nan', 'unspecified', 'stated', 'other', 'state'})"
   ]
  },
  {
   "cell_type": "code",
   "execution_count": 5,
   "metadata": {},
   "outputs": [],
   "source": [
    "from nltk.stem.wordnet import WordNetLemmatizer\n",
    "lem = WordNetLemmatizer()"
   ]
  },
  {
   "cell_type": "code",
   "execution_count": 6,
   "metadata": {},
   "outputs": [],
   "source": [
    "from sklearn.preprocessing import OneHotEncoder\n",
    "enc = OneHotEncoder()"
   ]
  },
  {
   "cell_type": "code",
   "execution_count": 70,
   "metadata": {},
   "outputs": [],
   "source": [
    "from sklearn.preprocessing import OneHotEncoder\n",
    "import itertools"
   ]
  },
  {
   "cell_type": "code",
   "execution_count": 7,
   "metadata": {},
   "outputs": [],
   "source": [
    "df_train = np.asarray(pd.read_csv(\"data/diabetes/diab_train.csv\", skiprows=1, header=None))\n",
    "df_val = np.asarray(pd.read_csv(\"data/diabetes/diab_validation.csv\", skiprows=1, header=None))\n",
    "df_test = np.asarray(pd.read_csv(\"data/diabetes/diab_test.csv\", skiprows=1, header=None))"
   ]
  },
  {
   "cell_type": "code",
   "execution_count": 8,
   "metadata": {},
   "outputs": [],
   "source": [
    "X = np.hstack([df_train[:,:-4], df_train[:,-3:]])\n",
    "X_val = np.hstack([df_val[:,:-4], df_val[:,-3:]])\n",
    "X_test = np.hstack([df_test[:,:-4], df_test[:,-3:]])\n",
    "Y = df_train[:,-4]\n",
    "Y_val = df_val[:,-4]\n",
    "Y_test = df_test[:,-4]"
   ]
  },
  {
   "cell_type": "code",
   "execution_count": 9,
   "metadata": {},
   "outputs": [],
   "source": [
    "X_all = np.vstack([X, X_val, X_test])"
   ]
  },
  {
   "cell_type": "code",
   "execution_count": 71,
   "metadata": {},
   "outputs": [],
   "source": [
    "def sanitize(doc):\n",
    "    return [lem.lemmatize(w) for w in tokenizer.tokenize(str(doc).replace(\",\", \" comma\").lower())\\\n",
    "                     if w not in (stop_words - breakers)]"
   ]
  },
  {
   "cell_type": "code",
   "execution_count": 72,
   "metadata": {},
   "outputs": [],
   "source": [
    "def sanitize2(doc):\n",
    "    return [lem.lemmatize(w) for w in tokenizer.tokenize(str(doc).replace(\",\", \" comma\").lower())\\\n",
    "                     if w not in stop_words]"
   ]
  },
  {
   "cell_type": "code",
   "execution_count": 92,
   "metadata": {},
   "outputs": [],
   "source": [
    "def onehot(tokens_docs):\n",
    "    # convert list of of token-lists to one flat list of tokens\n",
    "    # and then create a dictionary that maps word to id of word,\n",
    "    all_tokens = itertools.chain.from_iterable(tokens_docs)\n",
    "    word_to_id = {token: idx for idx, token in enumerate(set(all_tokens))}\n",
    "\n",
    "    # convert token lists to token-id lists\n",
    "    token_ids = [[word_to_id[token] for token in tokens_doc] for tokens_doc in tokens_docs]\n",
    "\n",
    "    maxl = 0\n",
    "    maxi = 0\n",
    "    for t in token_ids:\n",
    "        maxl = max(maxl, len(t))\n",
    "        for w in t:\n",
    "            maxi = max(maxi, w)\n",
    "\n",
    "    enc = np.zeros((len(token_ids), maxl, maxi+1))\n",
    "    for i,t in enumerate(token_ids):\n",
    "        for j, w in enumerate(t):\n",
    "            enc[i][j][w] += 1\n",
    "\n",
    "    return enc"
   ]
  },
  {
   "cell_type": "markdown",
   "metadata": {},
   "source": [
    "Race"
   ]
  },
  {
   "cell_type": "code",
   "execution_count": 59,
   "metadata": {},
   "outputs": [
    {
     "name": "stdout",
     "output_type": "stream",
     "text": [
      "{'Other', 'Asian', 'Caucasian', 'Hispanic', 'AfricanAmerican', '?'}\n"
     ]
    }
   ],
   "source": [
    "print(set(X_all[:,1]))"
   ]
  },
  {
   "cell_type": "code",
   "execution_count": 60,
   "metadata": {},
   "outputs": [],
   "source": [
    "race = {'Other': 1, 'Asian':2, 'Caucasian':3, 'Hispanic':4, 'AfricanAmerican':5, '?':0}"
   ]
  },
  {
   "cell_type": "markdown",
   "metadata": {},
   "source": [
    "Gender"
   ]
  },
  {
   "cell_type": "code",
   "execution_count": 61,
   "metadata": {
    "scrolled": true
   },
   "outputs": [
    {
     "name": "stdout",
     "output_type": "stream",
     "text": [
      "{'Male', 'Female'}\n"
     ]
    }
   ],
   "source": [
    "print(set(X_all[:,2]))"
   ]
  },
  {
   "cell_type": "code",
   "execution_count": 62,
   "metadata": {},
   "outputs": [],
   "source": [
    "gender = {'Male': 0, 'Female': 1}"
   ]
  },
  {
   "cell_type": "markdown",
   "metadata": {},
   "source": [
    "Age"
   ]
  },
  {
   "cell_type": "code",
   "execution_count": 63,
   "metadata": {},
   "outputs": [
    {
     "name": "stdout",
     "output_type": "stream",
     "text": [
      "{'[0-10)', '[80-90)', '[60-70)', '[50-60)', '[30-40)', '[20-30)', '[90-100)', '[40-50)', '[70-80)', '[10-20)'}\n"
     ]
    }
   ],
   "source": [
    "print(set(X_all[:,3]))"
   ]
  },
  {
   "cell_type": "code",
   "execution_count": 64,
   "metadata": {},
   "outputs": [],
   "source": [
    "gender = {'[0-10)': 0, '[80-90)': 8, '[60-70)': 6, '[50-60)': 5,\\\n",
    "          '[30-40)': 3, '[20-30)':2, '[90-100)':9, '[40-50)':4, '[70-80)': 7, '[10-20)': 10}"
   ]
  },
  {
   "cell_type": "markdown",
   "metadata": {},
   "source": [
    "Weight"
   ]
  },
  {
   "cell_type": "code",
   "execution_count": 65,
   "metadata": {},
   "outputs": [
    {
     "name": "stdout",
     "output_type": "stream",
     "text": [
      "{'[25-50)', '[150-175)', '[75-100)', '[0-25)', '[125-150)', '[50-75)', '[100-125)', '?'}\n"
     ]
    }
   ],
   "source": [
    "print(set(X_all[:,4]))"
   ]
  },
  {
   "cell_type": "code",
   "execution_count": 66,
   "metadata": {},
   "outputs": [],
   "source": [
    "weight = {'[25-50)': 25, '[150-175)': 150, '[75-100)': 75,\\\n",
    "          '[0-25)': 0, '[125-150)': 125, '[50-75)': 50, '[100-125)':100, '?': 73}"
   ]
  },
  {
   "cell_type": "markdown",
   "metadata": {},
   "source": [
    "Admission Type ID"
   ]
  },
  {
   "cell_type": "code",
   "execution_count": 67,
   "metadata": {},
   "outputs": [
    {
     "name": "stdout",
     "output_type": "stream",
     "text": [
      "{nan, 'Newborn', 'Emergency', 'Not Mapped', 'Not Available', 'Urgent', 'Elective'}\n"
     ]
    }
   ],
   "source": [
    "print(set(X_all[:,5]))"
   ]
  },
  {
   "cell_type": "code",
   "execution_count": 68,
   "metadata": {},
   "outputs": [],
   "source": [
    "admission_type = {'nan': 0, 'Newborn': 2, 'Emergency':4,\\\n",
    "                  'Not Mapped': 0, 'Not Available': 0, 'Urgent': 3, 'Elective': 1}"
   ]
  },
  {
   "cell_type": "markdown",
   "metadata": {},
   "source": [
    "Discharge Disposition ID"
   ]
  },
  {
   "cell_type": "code",
   "execution_count": 99,
   "metadata": {},
   "outputs": [
    {
     "name": "stdout",
     "output_type": "stream",
     "text": [
      "22 Items\n",
      "['Admitted as an inpatient to this hospital', 'Discharged to home', 'Discharged/transferred to ICF', 'Discharged/transferred to SNF', 'Discharged/transferred to a federal health care facility.', 'Discharged/transferred to a long term care hospital.', 'Discharged/transferred to a nursing facility certified under Medicaid but not certified under Medicare', 'Discharged/transferred to another  type of inpatient care institution', 'Discharged/transferred to another rehab fac including rehab units of a hospital.', 'Discharged/transferred to another short term hospital', 'Discharged/transferred to home under care of Home IV provider', 'Discharged/transferred to home with home health service', 'Discharged/transferred within this institution to Medicare approved swing bed', 'Discharged/transferred/referred another institution for outpatient services', 'Discharged/transferred/referred to a psychiatric hospital of a psychiatric distinct part unit of a hospital', 'Discharged/transferred/referred to this institution for outpatient services', 'Expired', 'Hospice / home', 'Hospice / medical facility', 'Left AMA', 'Not Mapped', 'nan']\n"
     ]
    }
   ],
   "source": [
    "print(len(set(X_all[:,6])), 'Items')\n",
    "print(sorted(list(set(X_all[:,6].astype(str)))))"
   ]
  },
  {
   "cell_type": "code",
   "execution_count": 104,
   "metadata": {},
   "outputs": [],
   "source": [
    "discharge_disposition = sorted([sanitize2(s) for s in set(X_all[:,6].astype(str))])\n",
    "discharge_disposition_onehot = onehot(discharge_disposition)"
   ]
  },
  {
   "cell_type": "markdown",
   "metadata": {},
   "source": [
    "Admission Source ID"
   ]
  },
  {
   "cell_type": "code",
   "execution_count": 110,
   "metadata": {},
   "outputs": [
    {
     "name": "stdout",
     "output_type": "stream",
     "text": [
      "['Clinic Referral', 'Court/Law Enforcement', 'Emergency Room', 'HMO Referral', 'Not Available', 'Not Mapped', 'Physician Referral', 'Transfer from a Skilled Nursing Facility (SNF)', 'Transfer from a hospital', 'Transfer from another health care facility', 'nan']\n"
     ]
    }
   ],
   "source": [
    "print(sorted(list(set(X_all[:,7].astype(str)))))"
   ]
  },
  {
   "cell_type": "code",
   "execution_count": 109,
   "metadata": {},
   "outputs": [],
   "source": [
    "admission_src_id = {k: i for i,k in enumerate(sorted(list(set(X_all[:,7].astype(str)))))}"
   ]
  },
  {
   "cell_type": "markdown",
   "metadata": {},
   "source": [
    "Time in Hospital"
   ]
  },
  {
   "cell_type": "code",
   "execution_count": 18,
   "metadata": {},
   "outputs": [
    {
     "name": "stdout",
     "output_type": "stream",
     "text": [
      "{1, 2, 3, 4, 5, 6, 7, 8, 9, 10, 11, 12, 13, 14}\n"
     ]
    }
   ],
   "source": [
    "print(set(X_all[:,8]))"
   ]
  },
  {
   "cell_type": "markdown",
   "metadata": {},
   "source": [
    "Payer Code"
   ]
  },
  {
   "cell_type": "code",
   "execution_count": 19,
   "metadata": {},
   "outputs": [
    {
     "name": "stdout",
     "output_type": "stream",
     "text": [
      "{'DM', 'OT', 'CH', 'CP', 'MD', 'SI', 'WC', 'OG', 'BC', 'UN', 'HM', 'PO', 'MC', 'SP', '?', 'CM'}\n"
     ]
    }
   ],
   "source": [
    "print(set(X_all[:,9]))"
   ]
  },
  {
   "cell_type": "code",
   "execution_count": 106,
   "metadata": {},
   "outputs": [],
   "source": [
    "payer_code = {k:i for i,k in enumerate(set(X_all[:,9]))}"
   ]
  },
  {
   "cell_type": "markdown",
   "metadata": {},
   "source": [
    "Medical Speciality"
   ]
  },
  {
   "cell_type": "code",
   "execution_count": 101,
   "metadata": {},
   "outputs": [
    {
     "name": "stdout",
     "output_type": "stream",
     "text": [
      "['?', 'Anesthesiology-Pediatric', 'Cardiology', 'Cardiology-Pediatric', 'Emergency/Trauma', 'Endocrinology', 'Family/GeneralPractice', 'Gastroenterology', 'Gynecology', 'Hematology', 'Hematology/Oncology', 'Hospitalist', 'InfectiousDiseases', 'InternalMedicine', 'Nephrology', 'Neurology', 'Obsterics&Gynecology-GynecologicOnco', 'Obstetrics', 'ObstetricsandGynecology', 'Oncology', 'Ophthalmology', 'Orthopedics', 'Orthopedics-Reconstructive', 'Osteopath', 'Otolaryngology', 'OutreachServices', 'Pathology', 'Pediatrics', 'Pediatrics-CriticalCare', 'Pediatrics-EmergencyMedicine', 'Pediatrics-Endocrinology', 'Pediatrics-Hematology-Oncology', 'Pediatrics-Pulmonology', 'PhysicalMedicineandRehabilitation', 'PhysicianNotFound', 'Podiatry', 'Psychiatry', 'Psychology', 'Pulmonology', 'Radiologist', 'Radiology', 'Surgeon', 'Surgery-Cardiovascular', 'Surgery-Cardiovascular/Thoracic', 'Surgery-Colon&Rectal', 'Surgery-General', 'Surgery-Neuro', 'Surgery-Pediatric', 'Surgery-Plastic', 'Surgery-PlasticwithinHeadandNeck', 'Surgery-Thoracic', 'Surgery-Vascular', 'Urology']\n"
     ]
    }
   ],
   "source": [
    "print(sorted([s for s in set(X_all[:,10])]))"
   ]
  },
  {
   "cell_type": "code",
   "execution_count": 105,
   "metadata": {},
   "outputs": [
    {
     "name": "stdout",
     "output_type": "stream",
     "text": [
      "(53, 3, 51)\n"
     ]
    }
   ],
   "source": [
    "medical_speciality = sorted([sanitize2(s) for s in set(X_all[:,10])])\n",
    "medical_speciality_onehot = onehot(medical_speciality)\n",
    "print(medical_speciality_onehot.shape)"
   ]
  },
  {
   "cell_type": "markdown",
   "metadata": {},
   "source": [
    "Number of Lab Procedures"
   ]
  },
  {
   "cell_type": "code",
   "execution_count": 21,
   "metadata": {},
   "outputs": [
    {
     "name": "stdout",
     "output_type": "stream",
     "text": [
      "{1, 2, 3, 4, 5, 6, 7, 8, 9, 10, 11, 12, 13, 14, 15, 16, 17, 18, 19, 20, 21, 22, 23, 24, 25, 26, 27, 28, 29, 30, 31, 32, 33, 34, 35, 36, 37, 38, 39, 40, 41, 42, 43, 44, 45, 46, 47, 48, 49, 50, 51, 52, 53, 54, 55, 56, 57, 58, 59, 60, 61, 62, 63, 64, 65, 66, 67, 68, 69, 70, 71, 72, 73, 74, 75, 76, 77, 78, 79, 80, 81, 82, 83, 84, 85, 86, 87, 88, 89, 90, 91, 92, 93, 94, 95, 96, 97, 98, 101, 103, 104, 106, 107, 108, 109, 113, 114, 120}\n"
     ]
    }
   ],
   "source": [
    "print(set(X_all[:,11]))"
   ]
  },
  {
   "cell_type": "markdown",
   "metadata": {},
   "source": [
    "Number of Procedures"
   ]
  },
  {
   "cell_type": "code",
   "execution_count": 22,
   "metadata": {},
   "outputs": [
    {
     "name": "stdout",
     "output_type": "stream",
     "text": [
      "{0, 1, 2, 3, 4, 5, 6}\n"
     ]
    }
   ],
   "source": [
    "print(set(X_all[:,12]))"
   ]
  },
  {
   "cell_type": "markdown",
   "metadata": {},
   "source": [
    "Number of Medications"
   ]
  },
  {
   "cell_type": "code",
   "execution_count": 23,
   "metadata": {},
   "outputs": [
    {
     "name": "stdout",
     "output_type": "stream",
     "text": [
      "{1, 2, 3, 4, 5, 6, 7, 8, 9, 10, 11, 12, 13, 14, 15, 16, 17, 18, 19, 20, 21, 22, 23, 24, 25, 26, 27, 28, 29, 30, 31, 32, 33, 34, 35, 36, 37, 38, 39, 40, 41, 42, 43, 44, 45, 46, 47, 48, 49, 50, 51, 52, 53, 54, 55, 56, 57, 58, 59, 60, 61, 62, 63, 65, 67, 74, 75, 81}\n"
     ]
    }
   ],
   "source": [
    "print(set(X_all[:,13]))"
   ]
  },
  {
   "cell_type": "markdown",
   "metadata": {},
   "source": [
    "Number Outpatient"
   ]
  },
  {
   "cell_type": "code",
   "execution_count": 24,
   "metadata": {},
   "outputs": [
    {
     "name": "stdout",
     "output_type": "stream",
     "text": [
      "{0, 1, 2, 3, 4, 5, 6, 7, 8, 9, 10, 11, 12, 13, 14, 15, 16, 17, 18, 19, 21, 27, 36}\n"
     ]
    }
   ],
   "source": [
    "print(set(X_all[:,14]))"
   ]
  },
  {
   "cell_type": "markdown",
   "metadata": {},
   "source": [
    "Number Emergency"
   ]
  },
  {
   "cell_type": "code",
   "execution_count": 25,
   "metadata": {},
   "outputs": [
    {
     "name": "stdout",
     "output_type": "stream",
     "text": [
      "{0, 1, 2, 3, 4, 5, 6, 7, 8, 9, 42, 13}\n"
     ]
    }
   ],
   "source": [
    "print(set(X_all[:,15]))"
   ]
  },
  {
   "cell_type": "markdown",
   "metadata": {},
   "source": [
    "Number Inpatient"
   ]
  },
  {
   "cell_type": "code",
   "execution_count": 26,
   "metadata": {},
   "outputs": [
    {
     "name": "stdout",
     "output_type": "stream",
     "text": [
      "{0, 1, 2, 3, 4, 5, 6, 7, 8, 9, 10}\n"
     ]
    }
   ],
   "source": [
    "print(set(X_all[:,16]))"
   ]
  },
  {
   "cell_type": "markdown",
   "metadata": {},
   "source": [
    "Diagnoses"
   ]
  },
  {
   "cell_type": "code",
   "execution_count": 27,
   "metadata": {},
   "outputs": [
    {
     "name": "stdout",
     "output_type": "stream",
     "text": [
      "{'847', '619', 'E932', '299', '421', '550', '642', 'V58', '871', '250.2', '397', '745', '318', '272', '475', '991', '591', '751', '598', '429', '288', '512', '296', '295', '462', '464', '836', '967', '78', '345', '420', '303', '622', '355', '473', '966', '530', '82', '381', 'E812', '572', '425', '586', '533', 'V49', '348', '428', '840', '431', '756', '782', '281', '309', '867', '266', '796', '193', '643', '507', '414', '648', '716', '805', '785', '250.11', '824', '250.82', '844', 'E944', '710', '534', '305', '250.8', '416', '714', 'V10', '789', '358', 'V85', '607', '823', '862', '158', '199', '604', '312', '42', '250', '617', '633', '135', '250.7', '791', '557', 'V09', 'V12', '223', '398', '160', '780', '316', '694', 'E934', 'E938', 'V18', 'V27', '480', '715', '661', '280', '413', '294', '741', 'V63', '810', '75', '9', '112', '208', '191', '995', '282', '812', 'E950', '701', '781', '584', '814', '581', '?', '513', '645', '998', '735', '969', '412', '700', '252', '370', '758', '188', '202', '890', '658', '494', '861', '846', '869', '314', '426', '996', '198', '599', '250.6', '698', '250.22', '616', '724', '183', '705', '681', 'E933', '155', '585', '187', '588', '250.4', 'E929', '977', '703', '873', '596', 'V55', '618', '801', '170', '250.01', '310', '304', '189', '790', '433', '792', '180', '53', '457', '261', '136', '718', '564', '238', '164', '156', '151', '746', '396', '253', '483', '384', '357', '600', '374', '307', '784', '851', 'V62', '492', '652', '722', '465', 'E930', 'E887', '250.33', '972', '360', '477', '395', '592', '27', 'E935', '522', '664', 'V46', 'V72', '461', '287', '255', '349', '286', '614', 'V53', 'V25', '924', 'E819', '723', '453', '816', '250.53', 'V16', 'E882', '250.5', '582', '567', '553', '250.9', '583', '415', '11', '138', '344', '593', '331', '627', '646', '250.12', '487', 'V43', '852', '511', '576', '265', 'E888', '733', '660', '669', 'E905', '478', '574', '518', 'E943', '386', '528', '250.52', '843', '728', '921', '481', '590', '250.02', '730', '250.1', '250.93', '571', '306', '271', 'E927', '458', '153', '510', '343', '521', '610', '379', '323', '620', '892', '691', '644', 'V65', '275', '301', 'E942', '514', '958', '250.32', '162', '884', '850', '313', '389', '172', '3', '185', '905', 'E822', '540', '110', '696', '250.43', '611', 'E939', '226', '470', '486', '692', '536', 'E849', '731', '659', '401', '438', '882', 'E885', '601', '552', 'V08', '250.51', '527', '799', '423', '340', '174', '200', '968', '337', '913', '519', '906', '402', '575', '490', '579', '655', '290', '250.3', '54', '466', '865', '440', '197', '753', 'E879', 'V54', 'V44', '866', '910', '230', '454', '920', '388', '935', 'V64', 'V14', '70', '117', '970', '311', '915', '565', '603', '459', 'V42', '556', '491', '605', '989', '734', 'E980', 'E878', '794', '720', '441', '721', '150', '251', '820', '451', '558', '154', 'E880', '625', '382', '795', '335', '682', '822', 'E858', '543', '568', '729', '278', '376', '562', '621', 'E854', '203', '361', '573', '537', '380', '719', '372', '173', '711', '291', '793', '788', '594', 'V45', 'V17', '569', 'E816', '934', '444', '242', '346', '532', '446', '560', '566', '362', '88', '239', '332', '141', '273', 'E941', '727', '250.91', '354', '171', '515', '258', '531', '695', 'V56', '411', '300', 'E928', '802', '227', 'V57', '161', '474', '868', '292', '250.21', '131', '235', '654', '693', '403', '220', '283', '437', '298', '250.42', '250.92', '436', 'V15', '359', '684', '435', '378', '708', '608', '886', '5', '387', '324', '945', 'V70', '447', '908', '825', '826', '179', '918', '923', '738', '430', '452', '353', '595', '250.41', '707', '319', 'E947', '992', '276', '211', '964', '79', '535', '244', '228', '706', '456', 'E884', 'V66', '293', '496', '517', '94', '250.31', '443', '501', '907', '845', '800', '368', '356', '285', '759', '717', '656', '322', '427', '442', '508', '641', '284', 'E916', '250.23', '916', '263', '8', '455', '241', '260', '233', '626', '999', '365', '493', '555', '783', '726', '201', '157', '317', 'E949', '366', '394', '240', '210', '31', '485', 'E917', '922', '853', 'E937', '205', '434', '351', '184', '38', '404', '893', '883', '516', '327', '725', '277', '333', '196', '482', '225', '424', '377', '250.83', 'V11', '369', '432', '274', '350', '578', '410', '965', 'E815', '250.03', '623', '959', '709', '962', '245', '308', '289', '808', '342', '325', '737', '214', '204', '821', '736', '752', '663', '580', '997', '860', 'E915', '250.13', '713', '933', 'V71', '577', '41', '61', '807', '787', '786', '747', '250.81', '813', '34', '182', '246', '680', '647', '218', '405', '262', '385'}\n"
     ]
    }
   ],
   "source": [
    "print(set(X_all[:,17])|set(X_all[:,18])|set(X_all[:,19]))"
   ]
  },
  {
   "cell_type": "markdown",
   "metadata": {},
   "source": [
    "Number of Diagnoses"
   ]
  },
  {
   "cell_type": "code",
   "execution_count": 28,
   "metadata": {},
   "outputs": [
    {
     "name": "stdout",
     "output_type": "stream",
     "text": [
      "{1, 2, 3, 4, 5, 6, 7, 8, 9}\n"
     ]
    }
   ],
   "source": [
    "print(set(X_all[:,20]))"
   ]
  },
  {
   "cell_type": "markdown",
   "metadata": {},
   "source": [
    "Max Glucose Serum"
   ]
  },
  {
   "cell_type": "code",
   "execution_count": 29,
   "metadata": {},
   "outputs": [
    {
     "name": "stdout",
     "output_type": "stream",
     "text": [
      "{'Norm', '>300', 'None', '>200'}\n"
     ]
    }
   ],
   "source": [
    "print(set(X_all[:,21]))"
   ]
  },
  {
   "cell_type": "code",
   "execution_count": 111,
   "metadata": {},
   "outputs": [],
   "source": [
    "max_glu_serum = {'Norm':0, '>300':3, 'None':1, '>200':2}"
   ]
  },
  {
   "cell_type": "markdown",
   "metadata": {},
   "source": [
    "A1Cresult"
   ]
  },
  {
   "cell_type": "code",
   "execution_count": 30,
   "metadata": {},
   "outputs": [
    {
     "name": "stdout",
     "output_type": "stream",
     "text": [
      "{'>7', 'Norm', '>8', 'None'}\n"
     ]
    }
   ],
   "source": [
    "print(set(X_all[:,22]))"
   ]
  },
  {
   "cell_type": "code",
   "execution_count": 112,
   "metadata": {},
   "outputs": [],
   "source": [
    "a1c_res = {'>7': 2, 'Norm': 0, '>8': 3, 'None': 1}"
   ]
  },
  {
   "cell_type": "markdown",
   "metadata": {},
   "source": [
    "Metformin - Metformin Pioglitazone"
   ]
  },
  {
   "cell_type": "code",
   "execution_count": 31,
   "metadata": {},
   "outputs": [
    {
     "name": "stdout",
     "output_type": "stream",
     "text": [
      "{'Steady', 'No', 'Down', 'Up'}\n"
     ]
    }
   ],
   "source": [
    "print(set(X_all[:,23]))"
   ]
  },
  {
   "cell_type": "code",
   "execution_count": 50,
   "metadata": {},
   "outputs": [],
   "source": [
    "drug_change = {'Down': -1, 'No': 0, 'Steady': 0, 'Up': 1}"
   ]
  },
  {
   "cell_type": "markdown",
   "metadata": {},
   "source": [
    "Change"
   ]
  },
  {
   "cell_type": "code",
   "execution_count": 33,
   "metadata": {},
   "outputs": [
    {
     "name": "stdout",
     "output_type": "stream",
     "text": [
      "{'No', 'Ch'}\n"
     ]
    }
   ],
   "source": [
    "print(set(X_all[:,46]))"
   ]
  },
  {
   "cell_type": "code",
   "execution_count": 113,
   "metadata": {},
   "outputs": [],
   "source": [
    "change = {'No': 0, 'Ch': 1}"
   ]
  },
  {
   "cell_type": "markdown",
   "metadata": {},
   "source": [
    "Diabetes Medication"
   ]
  },
  {
   "cell_type": "code",
   "execution_count": 34,
   "metadata": {},
   "outputs": [
    {
     "name": "stdout",
     "output_type": "stream",
     "text": [
      "{'No', 'Yes'}\n"
     ]
    }
   ],
   "source": [
    "print(set(X_all[:,47]))"
   ]
  },
  {
   "cell_type": "code",
   "execution_count": 114,
   "metadata": {},
   "outputs": [],
   "source": [
    "diabetes_med = {'No': 0, 'Yes': 1}"
   ]
  },
  {
   "cell_type": "markdown",
   "metadata": {},
   "source": [
    "Diagnoses Description"
   ]
  },
  {
   "cell_type": "code",
   "execution_count": 35,
   "metadata": {},
   "outputs": [
    {
     "name": "stdout",
     "output_type": "stream",
     "text": [
      "{nan, 'Leukoplakia of penis', 'Nonspecific abnormal findings in cerebrospinal fluid', 'Hypertrophy (benign) of prostate without urinary obstruction and other lower urinary tract symptom (LUTS)', 'Malignant neoplasm of nipple and areola of female breast', 'Urinary-genital tract fistula, female', 'Nausea and vomiting', 'Hereditary spherocytosis', 'Intestinal infection due to E. coli, unspecified', 'Alteration of consciousness', 'Pneumonia due to adenovirus', 'Anorexia', 'Pruritus ani', 'Oligohydramnios, unspecified as to episode of care or not applicable', 'Benign neoplasm of ovary', 'Open wound of hand except finger(s) alone, without mention of complication', 'Tympanosclerosis, unspecified as to involvement', 'Malignant neoplasm of rectosigmoid junction', 'Dermatophytosis of scalp and beard', 'Trigeminal nerve disorders', 'Foreign body in pharynx', 'Late effects of cerebrovascular disease, cognitive deficits', 'Acute appendicitis with generalized peritonitis', 'Acute duodenal ulcer with hemorrhage, without mention of obstruction', 'Urethral stricture due to unspecified infection', 'Chronic kidney disease (ckd)', 'Simple chronic bronchitis', 'Tracheostomy complication, unspecified', 'Pneumonitis due to inhalation of food or vomitus', 'Closed fracture of clavicle, unspecified part', 'Anal fissure', 'Empyema with fistula', 'Candidiasis of mouth', 'Malignant neoplasm of thyroid gland', 'Atrophy of salivary gland', 'Malignant neoplasm of trigone of urinary bladder', 'Cerebral thrombosis without mention of cerebral infarction', 'Acute vascular insufficiency of intestine', 'Paranoid personality disorder', 'Postmastectomy lymphedema syndrome', 'Pneumococcal pneumonia [Streptococcus pneumoniae pneumonia]', 'Diabetes with ketoacidosis, type I [juvenile type], uncontrolled', 'Nontraumatic extradural hemorrhage', 'Unspecified cardiac device in situ', 'Human immunodeficiency virus [HIV] disease', 'Allergic purpura', 'Diabetes with renal manifestations, type I [juvenile type], uncontrolled', 'Nephrotic syndrome with lesion of proliferative glomerulonephritis', 'Malignant essential hypertension', 'Calculus of gallbladder with acute cholecystitis, without mention of obstruction', 'Osteoporosis, unspecified', 'Depressive disorder, not elsewhere classified', 'Articular cartilage disorder, site unspecified', 'Unspecified injury of heart without mention of open wound into thorax', 'Postcholecystectomy syndrome', 'Esotropia, unspecified', 'Pneumonia due to mycoplasma pneumoniae', 'Adhesive capsulitis of shoulder', 'Patent ductus arteriosus', 'Emphysematous bleb', 'Ulcerative (chronic) enterocolitis', 'Diabetes with renal manifestations, type II or unspecified type, uncontrolled', 'Cervical spondylosis without myelopathy', 'Toxic diffuse goiter without mention of thyrotoxic crisis or storm', 'Malignant neoplasm of thymus', 'Disturbance of skin sensation', 'Chronic maxillary sinusitis', 'Migraine with aura, without mention of intractable migraine without mention of status migrainosus', 'Acute cystitis', 'Sprain of lateral collateral ligament of knee', 'Diabetes with other specified manifestations, type I [juvenile type], uncontrolled', 'Toxic erythema', \"Cushing's syndrome\", 'Neoplasm of unspecified nature of digestive system', 'Carcinoma in situ of breast', 'Ingrowing nail', 'Corns and callosities', 'Injury to spleen without mention of open wound into cavity, unspecified injury', 'Sprain of lumbosacral (joint) (ligament)', 'Postoperative shock, unspecified', 'Maternal distress complicating labor and delivery, unspecified as to episode of care or not applicable', 'Benign neoplasm of lip', 'Malnutrition of moderate degree', 'Abscess of anal and rectal regions', 'Acute pancreatitis', 'Disorders of mineral metabolism', 'Malignant neoplasm of hepatic flexure', 'Fitting and adjustment of other device', 'Hematemesis', 'Malignant neoplasm of prostate', 'Acute myeloid leukemia, without mention of having achieved remission', 'Injury to kidney without mention of open wound into cavity, unspecified injury', 'Mitral valve stenosis and aortic valve stenosis', 'Dengue', 'Fracture of medial malleolus, closed', 'Diabetes with ketoacidosis, type II or unspecified type, not stated as uncontrolled', 'Central nervous system malformation in fetus, unspecified as to episode of care or not applicable', 'Systemic lupus erythematosus', 'Fetal-maternal hemorrhage, unspecified as to episode of care or not applicable', 'Acute maxillary sinusitis', 'Peritonsillar abscess', 'First-degree perineal laceration, unspecified as to episode of care or not applicable', 'Anal and rectal polyp', 'Diabetes mellitus without mention of complication, type II or unspecified type, uncontrolled', 'Amnestic disorder in conditions classified elsewhere', 'Acute suppurative otitis media without spontaneous rupture of eardrum', 'Reaction to spinal or lumbar puncture', 'Pneumonia due to Klebsiella pneumoniae', 'Brachial plexus lesions', 'Congestive heart failure, unspecified', 'Corneal ulcer, unspecified', 'Diabetes with ophthalmic manifestations, type II or unspecified type, uncontrolled', 'Benign essential hypertension complicating pregnancy, childbirth, and the puerperium, unspecified as to episode of care or not applicable', 'Closed fracture of patella', 'Extrinsic asthma, unspecified', 'Sprain of ankle, unspecified site', 'Late pregnancy', 'Poisoning by adrenal cortical steroids', 'Multiple sclerosis', 'Malignant neoplasm of head of pancreas', 'Scleritis, unspecified', 'Polyarteritis nodosa', 'Femoral hernia without mention of obstruction of gangrene, unilateral or unspecified(not specified as recurrent)', 'Closed fracture of upper end of forearm, unspecified', 'Seminal vesiculitis', 'Malignant neoplasm of cerebrum, except lobes and ventricles', 'Mitral valve disorders', 'Constipation, unspecified', 'Closed fracture of carpal bone, unspecified', 'Nervous system complication, unspecified', 'Diabetes with hyperosmolarity, type II or unspecified type, uncontrolled', 'Malignant neoplasm of liver, primary', 'Acute gastritis, without mention of hemorrhage', 'Injury to bladder and urethra, without mention of open wound into cavity', 'Abdominal pregnancy without intrauterine pregnancy', 'Acute peptic ulcer of unspecified site with hemorrhage, without mention of obstruction', 'Poisoning by oxazolidine derivatives', 'Closed fracture of acetabulum', 'Malignant neoplasm of kidney, except pelvis', 'Hereditary peripheral neuropathy', 'Aneurysm of artery of upper extremity', 'General counseling and advice on contraceptive management', 'Abdominal pain, unspecified site', 'Portal vein thrombosis', 'Open wound of foot except toe(s) alone, without mention of complication', 'Benign neoplasm of thyroid glands', 'Diabetes with other coma, type I [juvenile type], uncontrolled', 'Anomalies of spleen', 'Polyp of corpus uteri', 'Aplastic anemia and other bone marrow failure syndromes', 'Adult onset fluency disorder', 'Drug withdrawal', 'Encounter for radiotherapy', 'Bladder neck obstruction', 'Diabetes with other specified manifestations, type II or unspecified type, not stated as uncontrolled', 'Diabetes with other specified manifestations, type I [juvenile type], not stated as uncontrolled', 'Gouty arthropathy, unspecified', 'Threatened premature labor, unspecified as to episode of care or not applicable', 'Esophageal varices with bleeding', 'Pressure ulcer, unspecified site', 'Stomatitis and mucositis, unspecified', 'Achlorhydria', 'Malignant neoplasm of vagina', 'Pyogenic arthritis, site unspecified', 'Closed fracture of vault of skull without mention of intracranial injury, unspecified state of consciousness', 'Opioid type dependence, unspecified', 'Congenital abnormalities of uterus, unspecified as to episode of care or not applicable', 'Synovitis and tenosynovitis, unspecified', 'Secondary and unspecified malignant neoplasm of lymph nodes of head, face, and neck', 'Malignant neoplasm of cardia', 'Encephalitis myelitis and encephalomyelitis', 'Pernicious anemia', 'Acquired hypertrophic pyloric stenosis', 'Pleurisy without mention of effusion or current tuberculosis', 'Diabetes with hyperosmolarity, type I [juvenile type], not stated as uncontrolled', 'Flat foot', 'Acute leukemia of unspecified cell type, without mention of having achieved remission', 'Acute salpingitis and oophoritis', 'Diabetes with ketoacidosis, type II or unspecified type, uncontrolled', 'Acute and subacute bacterial endocarditis', 'Abrasion or friction burn of elbow, forearm, and wrist, without mention of infection', 'Neutropenia, unspecified', 'Submucous leiomyoma of uterus', 'Acute pharyngitis', 'Hypoglycemic coma', 'Hypertensive chronic kidney disease, malignant, with chronic kidney disease stage I through stage IV, or unspecified', 'Diabetes with renal manifestations, type I [juvenile type], not stated as uncontrolled', 'Disorders of thyrocalcitonin secretion', \"Bell's palsy\", 'Inguinal hernia, with gangrene, unilateral or unspecified (not specified as recurrent)', 'Hemorrhage, unspecified', 'Acute pericarditis in diseases classified elsewhere', 'Injury other and unspecified', 'Benign neoplasm of adrenal gland', 'Diabetes mellitus without mention of complication, type I [juvenile type], uncontrolled', 'Cerebral atherosclerosis', 'Black eye, not otherwise specified', 'Subarachnoid hemorrhage following injury without mention of open intracranial wound, unspecified state of consciousness', 'Rheumatic myocarditis', 'Common truncus', 'Anhidrosis', 'Papilledema, unspecified', 'Follicular cyst of ovary', 'Acute laryngopharyngitis', 'Closed fracture of unspecified part of femur', 'Poisoning by antidepressant, unspecified', 'Air embolism', 'Obesity, unspecified', 'Rheumatic aortic stenosis', 'Absence of menstruation', 'Diabetes with hyperosmolarity, type II or unspecified type, not stated as uncontrolled', 'Acute osteomyelitis, site unspecified', 'Bartonellosis', 'Chronic passive congestion of liver', 'Dyspareunia', 'Cellulitis and abscess of finger, unspecified', 'Tachycardia, unspecified', 'Encounter for extracorporeal dialysis', 'Diabetes with other coma, type II or unspecified type, uncontrolled', 'Degenerative and vascular disorders, unspecified', 'Iron deficiency anemia secondary to blood loss (chronic)', 'Nontoxic uninodular goiter', 'Bronchopneumonia, organism unspecified', 'Neoplasm of uncertain behavior of bone and articular cartilage', 'Other severe protein-calorie malnutrition', 'Renal agenesis and dysgenesis', 'Goiter, specified as simple', 'Pulpitis', 'Abscess of liver', 'Malignant neoplasm of ovary', 'Secondary malignant neoplasm of lung', 'Acromegaly and gigantism', 'Hyperparathyroidism, unspecified', 'Acute, but ill-defined, cerebrovascular disease', 'Malignant neoplasm of corpus uteri, except isthmus', 'Anomalies of skull and face bones', 'Femoral hernia with obstruction, unilateral or unspecified (not specified as recurrent)', 'Diabetes with other coma, type II or unspecified type, not stated as uncontrolled', 'Contusion of breast', 'Prolapse of cord complicating labor and delivery, unspecified as to episode of care or not applicable', 'Adjustment disorder with depressed mood', 'Herpes zoster with meningitis', 'Abnormal function study of brain and central nervous system, unspecified', 'Chronic tonsillitis', 'Malignant neoplasm of endocervix', 'Myocarditis, unspecified', 'Spotted fevers', 'Celiac disease', 'Bipolar I disorder, single manic episode, unspecified', 'Acute alcoholic intoxication in alcoholism, unspecified', 'Other retinal disorders', 'Hypertensive heart and chronic kidney disease, malignant, without heart failure and with chronic kidney disease stage I through stage IV, or unspecified', 'Malignant neoplasm of trachea', 'Unspecified prolapse of vaginal walls', 'Traumatic amputation of other finger(s) (complete) (partial), without mention of complication', 'Viral hepatitis A with hepatic coma', 'Dissection of aorta, unspecified site', 'Poisoning by opium (alkaloids), unspecified', 'Unstable lie, unspecified as to episode of care or not applicable', 'Malignant neoplasm of glottis', 'Postsurgical hypothyroidism', 'Malignant neoplasm of connective and other soft tissue of head, face, and neck', 'Respiratory abnormality, unspecified', 'Contact dermatitis and other eczema due to detergents', 'Displacement of cervical intervertebral disc without myelopathy', 'Closed fracture of intracapsular section of neck of femur, unspecified', 'Acute gastric ulcer with hemorrhage, without mention of obstruction', 'Orchitis, epididymitis, and epididymo-orchitis, with abscess', 'Paroxysmal supraventricular tachycardia', 'Acquired deformity of nose', 'Effusion of joint, site unspecified', 'Retinal detachment with retinal defect, unspecified', 'Hydronephrosis', 'Malignant neoplasm of penis and other male genital organs', 'Acute lymphoid leukemia, without mention of having achieved remission', 'Failed mechanical induction of labor, unspecified as to episode of care or not applicable', 'Bronchitis, not specified as acute or chronic', 'Disseminated malignant neoplasm without specification of site', 'Arteriovenous fistula, acquired', 'Endomyocardial fibrosis', 'Encysted hydrocele', \"M_ni\\x8fre's disease, unspecified\", 'Depressive type psychosis', 'Diverticulosis of small intestine (without mention of hemorrhage)', 'Diabetes with neurological manifestations, type II or unspecified type, not stated as uncontrolled', 'Autoimmune hemolytic anemias', 'Delirium due to conditions classified elsewhere', 'Salmonella gastroenteritis', 'Inflammatory disease of breast', 'Sideroblastic anemia', 'Diseases of tricuspid valve', 'Frostbite of face', 'Carcinoma in situ of lip, oral cavity, and pharynx', 'Care involving breathing exercises', 'Profound impairment, both eyes, impairment level not further specified', 'Orthostatic hypotension', 'Alcoholic fatty liver', 'Abrasion or friction burn of finger(s), without mention of infection', 'Nonspecific findings on examination of blood', 'Diabetes mellitus without mention of complication, type II or unspecified type, not stated as uncontrolled', 'Spontaneous tension pneumothorax', \"Meckel's diverticulum\", 'Chronic pyelonephritis without lesion of renal medullary necrosis', 'Mild hyperemesis gravidarum, unspecified as to episode of care or not applicable', 'Hemopericardium', 'Headache', 'Acute inflammation of orbit, unspecified', 'Acute infective polyneuritis', 'Residence remote from hospital or other health care facility', 'Burn of unspecified degree of lower limb [leg], unspecified site', 'Other anaphylactic reaction', 'Poisoning by cardiac rhythm regulators', 'Hypertrophy of nasal turbinates', 'Foreign body in mouth', 'Cellulitis and abscess of face', 'Acute thyroiditis', 'Observation and evaluation for suspected conditions not found', 'Diabetes with hyperosmolarity, type I [juvenile type], uncontrolled', 'Malignant hypertensive heart disease without heart failure', 'Molluscum contagiosum', 'Werdnig-Hoffmann disease', 'Cervicitis and endocervicitis', 'Postmyocardial infarction syndrome', 'Ankylosing spondylitis', 'Lipoma of skin and subcutaneous tissue of face', 'Urinary tract infection, site not specified', 'Internal hemorrhoids without mention of complication', 'Osteoarthrosis, generalized, site unspecified', 'Secondary malignant neoplasm of kidney', 'Myasthenia gravis without (acute) exacerbation', 'Allergic urticaria', 'Acute prostatitis', 'Intussusception', 'Kaschin-Beck disease, site unspecified', 'Premenopausal menorrhagia', 'Lesion of sciatic nerve', 'Malignant neoplasm of nasal cavities', 'Diabetes with peripheral circulatory disorders, type II or unspecified type, not stated as uncontrolled', 'Budd-chiari syndrome', 'Neoplasm of uncertain behavior of major salivary glands', 'Renal colic', 'Reticulosarcoma, unspecified site, extranodal and solid organ sites', 'Infectious colitis, enteritis, and gastroenteritis', 'Unspecified deformity of forearm, excluding fingers', 'Undersocialized conduct disorder, aggressive type, unspecified', 'Peritonitis in infectious diseases classified elsewhere', 'Angina decubitus', 'Diabetes mellitus of mother, complicating pregnancy, childbirth, or the puerperium, unspecified as to episode of care or not applicable', 'Endometriosis of uterus', 'Diabetes with other specified manifestations, type II or unspecified type, uncontrolled', 'Diabetes with unspecified complication, type II or unspecified type, uncontrolled', 'Concussion with no loss of consciousness', 'Closed fracture of unspecified part of upper end of humerus', 'Spinal stenosis in cervical region', 'Acute laryngitis without mention of obstruction', 'Idiopathic peripheral autonomic neuropathy, unspecified', 'Peritoneal adhesions (postoperative) (postinfection)', \"Raynaud's syndrome\", 'Poisoning by iron and its compounds', 'Nonsenile cataract, unspecified', 'Malignant neoplasm of gallbladder', 'Malignant neoplasm of base of tongue', 'Diabetes with other coma, type I [juvenile type], not stated as uncontrolled', 'Rheumatism, unspecified and fibrositis', 'Spinal stenosis, unspecified region', 'Subarachnoid hemorrhage', 'Closed fracture of rib(s), unspecified', 'Contusion of thigh', 'Malignant neoplasm of cervical esophagus', 'Abnormal involuntary movements', 'Iliofemoral (ligament) sprain', 'Primary pulmonary hypertension', 'Sprain of neck', 'Closed fracture of nasal bones', 'Atherosclerosis of aorta', 'Benign neoplasm of kidney, except pelvis', 'Poisoning by central nervous system muscle-tone depressants', 'Nephroptosis', 'Arterial embolism and thrombosis', 'Simple type schizophrenia, unspecified', 'Acute myocardial infarction of anterolateral wall, episode of care unspecified', 'Pulmonary congestion and hypostasis', 'Other ill-defined and unknown causes of morbidity and mortality', 'Pneumonia, organism unspecified', 'Closed fracture of base of skull without mention of intra cranial injury, unspecified state of consciousness', 'Closed fracture of upper end of tibia alone', 'Congenital pulmonary valve anomaly, unspecified', 'Senile dementia, uncomplicated', 'Malignant neoplasm of retroperitoneum', 'Pulmonary collapse', 'Hyperosmolality and/or hypernatremia', 'Intracerebral hemorrhage', 'Open wound of toe(s), without mention of complication', 'Tuberculosis of lung, infiltrative, unspecified', 'Attention to tracheostomy', 'Polycythemia, secondary', 'Atrioventricular block, complete', 'Generalized vaccinia as a complication of medical care, not elsewhere classified', 'Diabetes with renal manifestations, type II or unspecified type, not stated as uncontrolled', 'Acute cor pulmonale', 'Ariboflavinosis', 'Paralysis agitans', 'Cortex (cerebral) contusion without mention of open intracranial wound, unspecified state of consciousness', 'Nodular lymphoma, unspecified site, extranodal and solid organ sites', 'Occlusion and stenosis of basilar artery without mention of cerebral infarction', 'Regional enteritis of small intestine', 'Multiple myeloma, without mention of having achieved remission', 'Infective myositis', 'Diabetes mellitus without mention of complication, type I [juvenile type], not stated as uncontrolled', 'Injury to other intra-abdominal organs without mention of open wound into cavity, unspecified intra-abdominal organ', 'Eczema herpeticum', 'Abnormal glandular Papanicolaou smear of cervix', 'Acne varioliformis', 'Adenovirus infection in conditions classified elsewhere and of unspecified site', 'Abscess of lung', 'Mechanical complication of unspecified cardiac device, implant, and graft', 'Postinflammatory pulmonary fibrosis', 'Anxiety state, unspecified', 'Acute kidney failure', 'Closed fracture of cervical vertebra, unspecified level', 'Dyschromia, unspecified', 'Open wound of scalp, without mention of complication', 'Primary uterine inertia, unspecified as to episode of care or not applicable', 'Achalasia and cardiospasm', 'Generalized nonconvulsive epilepsy, without mention of intractable epilepsy', 'Cystic fibrosis without mention of meconium ileus', 'Calculus of kidney', 'Cerebral cysts', 'Calculus in diverticulum of bladder', 'Phlebitis and thrombophlebitis of superficial vessels of lower extremities', 'Acute gastrojejunal ulcer with hemorrhage, without mention of obstruction', 'Acute pulmonary manifestations due to radiation', 'Benign neoplasm of esophagus', \"Alzheimer's disease\", 'Influenza with pneumonia', 'Alcohol withdrawal delirium', 'Benign neoplasm of brain', 'Coronary atherosclerosis of unspecified type of vessel, native or graft', 'Acute myringitis, unspecified', 'Perichondritis of pinna, unspecified', 'Other and unspecified intracranial hemorrhage following injury without mention of open intracranial wound, unspecified state of consciousness', 'Other degenerative diseases of the basal ganglia', 'Acute bronchitis', 'Congenital factor VIII disorder', 'Acute cholecystitis', 'Rheumatoid arthritis', 'Poisoning by dietetics', 'Basilar artery syndrome', 'Other and unspecified noninfectious gastroenteritis and colitis', 'Toxic effect of hydrocyanic acid and cyanides', 'Varicose veins of lower extremities with ulcer', 'Carbuncle and furuncle of face', 'Diabetes with ketoacidosis, type I [juvenile type], not stated as uncontrolled', 'Diabetes with unspecified complication, type I [juvenile type], uncontrolled', 'Streptococcal septicemia', 'Ocular laceration without prolapse of intraocular tissue', 'Other orthopedic aftercare', 'Chronic airway obstruction, not elsewhere classified'}\n"
     ]
    }
   ],
   "source": [
    "print(set(X_all[:,48]))"
   ]
  },
  {
   "cell_type": "code",
   "execution_count": null,
   "metadata": {},
   "outputs": [],
   "source": []
  },
  {
   "cell_type": "code",
   "execution_count": null,
   "metadata": {},
   "outputs": [],
   "source": []
  }
 ],
 "metadata": {
  "kernelspec": {
   "display_name": "Python 3",
   "language": "python",
   "name": "python3"
  },
  "language_info": {
   "codemirror_mode": {
    "name": "ipython",
    "version": 3
   },
   "file_extension": ".py",
   "mimetype": "text/x-python",
   "name": "python",
   "nbconvert_exporter": "python",
   "pygments_lexer": "ipython3",
   "version": "3.7.4"
  }
 },
 "nbformat": 4,
 "nbformat_minor": 2
}
