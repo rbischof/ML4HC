{
 "cells": [
  {
   "cell_type": "code",
   "execution_count": 1,
   "metadata": {},
   "outputs": [
    {
     "name": "stdout",
     "output_type": "stream",
     "text": [
      "showing info https://raw.githubusercontent.com/nltk/nltk_data/gh-pages/index.xml\n"
     ]
    },
    {
     "data": {
      "text/plain": [
       "True"
      ]
     },
     "execution_count": 1,
     "metadata": {},
     "output_type": "execute_result"
    }
   ],
   "source": [
    "import nltk\n",
    "nltk.download()"
   ]
  },
  {
   "cell_type": "code",
   "execution_count": 2,
   "metadata": {},
   "outputs": [],
   "source": [
    "import pandas as pd\n",
    "import numpy as np\n",
    "from nltk.corpus import wordnet as wn\n",
    "import gensim \n",
    "from gensim.models import Word2Vec \n",
    "from gensim.models.doc2vec import Doc2Vec, TaggedDocument\n",
    "import matplotlib.pyplot as plt\n",
    "from sklearn.decomposition import PCA"
   ]
  },
  {
   "cell_type": "code",
   "execution_count": 4,
   "metadata": {},
   "outputs": [],
   "source": [
    "from nltk.tokenize import RegexpTokenizer\n",
    "tokenizer = RegexpTokenizer(r'\\w+')"
   ]
  },
  {
   "cell_type": "code",
   "execution_count": 5,
   "metadata": {},
   "outputs": [],
   "source": [
    "from nltk.corpus import stopwords\n",
    "breakers = {'with', 'without', 'comma', 'and', 'or', 'by', 'in', 'due', 'to', 'of', 'causing'}\n",
    "stop_words= (set(stopwords.words(\"english\")) | {'nan', 'unspecified', 'stated', 'other', 'state'}) - breakers"
   ]
  },
  {
   "cell_type": "code",
   "execution_count": 6,
   "metadata": {},
   "outputs": [],
   "source": [
    "from nltk.stem.wordnet import WordNetLemmatizer\n",
    "lem = WordNetLemmatizer()"
   ]
  },
  {
   "cell_type": "code",
   "execution_count": 7,
   "metadata": {},
   "outputs": [],
   "source": [
    "from sklearn.preprocessing import OneHotEncoder\n",
    "enc = OneHotEncoder()"
   ]
  },
  {
   "cell_type": "code",
   "execution_count": 3,
   "metadata": {},
   "outputs": [],
   "source": [
    "df_train = np.asarray(pd.read_csv(\"data/diabetes/diab_train.csv\", skiprows=1, header=None))\n",
    "df_val = np.asarray(pd.read_csv(\"data/diabetes/diab_validation.csv\", skiprows=1, header=None))\n",
    "df_test = np.asarray(pd.read_csv(\"data/diabetes/diab_test.csv\", skiprows=1, header=None))"
   ]
  },
  {
   "cell_type": "code",
   "execution_count": 8,
   "metadata": {},
   "outputs": [],
   "source": [
    "X = np.hstack([df_train[:,:-4], df_train[:,-3:]])\n",
    "X_val = np.hstack([df_val[:,:-4], df_val[:,-3:]])\n",
    "X_test = np.hstack([df_test[:,:-4], df_test[:,-3:]])\n",
    "Y = df_train[:,-4]\n",
    "Y_val = df_val[:,-4]\n",
    "Y_test = df_test[:,-4]"
   ]
  },
  {
   "cell_type": "code",
   "execution_count": 10,
   "metadata": {},
   "outputs": [],
   "source": [
    "X_all = np.vstack([X, X_val, X_test])"
   ]
  },
  {
   "cell_type": "code",
   "execution_count": 9,
   "metadata": {},
   "outputs": [],
   "source": [
    "def sanitize(doc):\n",
    "    return ' '.join([lem.lemmatize(w) for w in tokenizer.tokenize(str(doc).replace(\",\", \" comma\").lower()) if w not in stop_words])"
   ]
  },
  {
   "cell_type": "markdown",
   "metadata": {},
   "source": [
    "Race"
   ]
  },
  {
   "cell_type": "code",
   "execution_count": 16,
   "metadata": {},
   "outputs": [
    {
     "name": "stdout",
     "output_type": "stream",
     "text": [
      "{'Other', '?', 'Caucasian', 'AfricanAmerican', 'Asian', 'Hispanic'}\n"
     ]
    }
   ],
   "source": [
    "print(set(X_all[:,1]))"
   ]
  },
  {
   "cell_type": "markdown",
   "metadata": {},
   "source": [
    "Gender"
   ]
  },
  {
   "cell_type": "code",
   "execution_count": 17,
   "metadata": {},
   "outputs": [
    {
     "name": "stdout",
     "output_type": "stream",
     "text": [
      "{'Female', 'Male'}\n"
     ]
    }
   ],
   "source": [
    "print(set(X_all[:,2]))"
   ]
  },
  {
   "cell_type": "markdown",
   "metadata": {},
   "source": [
    "Age"
   ]
  },
  {
   "cell_type": "code",
   "execution_count": 18,
   "metadata": {},
   "outputs": [
    {
     "name": "stdout",
     "output_type": "stream",
     "text": [
      "{'[40-50)', '[90-100)', '[20-30)', '[50-60)', '[60-70)', '[10-20)', '[0-10)', '[80-90)', '[70-80)', '[30-40)'}\n"
     ]
    }
   ],
   "source": [
    "print(set(X_all[:,3]))"
   ]
  },
  {
   "cell_type": "markdown",
   "metadata": {},
   "source": [
    "Weight"
   ]
  },
  {
   "cell_type": "code",
   "execution_count": 19,
   "metadata": {},
   "outputs": [
    {
     "name": "stdout",
     "output_type": "stream",
     "text": [
      "{'[125-150)', '[100-125)', '[25-50)', '?', '[150-175)', '[0-25)', '[75-100)', '[50-75)'}\n"
     ]
    }
   ],
   "source": [
    "print(set(X_all[:,4]))"
   ]
  },
  {
   "cell_type": "markdown",
   "metadata": {},
   "source": [
    "Admission Type ID"
   ]
  },
  {
   "cell_type": "code",
   "execution_count": 20,
   "metadata": {},
   "outputs": [
    {
     "name": "stdout",
     "output_type": "stream",
     "text": [
      "{nan, 'Newborn', 'Not Mapped', 'Emergency', 'Urgent', 'Elective', 'Not Available'}\n"
     ]
    }
   ],
   "source": [
    "print(set(X_all[:,5]))"
   ]
  },
  {
   "cell_type": "markdown",
   "metadata": {},
   "source": [
    "Discharge Disposition ID"
   ]
  },
  {
   "cell_type": "code",
   "execution_count": 63,
   "metadata": {},
   "outputs": [
    {
     "name": "stdout",
     "output_type": "stream",
     "text": [
      "22 Items\n",
      "{nan, 'Discharged/transferred to a nursing facility certified under Medicaid but not certified under Medicare', 'Discharged/transferred/referred to this institution for outpatient services', 'Hospice / home', 'Discharged/transferred/referred another institution for outpatient services', 'Discharged/transferred to a federal health care facility.', 'Left AMA', 'Discharged/transferred to another  type of inpatient care institution', 'Expired', 'Discharged/transferred to another short term hospital', 'Discharged/transferred to SNF', 'Hospice / medical facility', 'Not Mapped', 'Discharged/transferred to another rehab fac including rehab units of a hospital.', 'Discharged/transferred/referred to a psychiatric hospital of a psychiatric distinct part unit of a hospital', 'Discharged to home', 'Discharged/transferred to ICF', 'Discharged/transferred to home with home health service', 'Discharged/transferred to home under care of Home IV provider', 'Discharged/transferred to a long term care hospital.', 'Admitted as an inpatient to this hospital', 'Discharged/transferred within this institution to Medicare approved swing bed'}\n"
     ]
    }
   ],
   "source": [
    "print(len(set(X_all[:,6])), 'Items')\n",
    "print(set(X_all[:,6]))"
   ]
  },
  {
   "cell_type": "markdown",
   "metadata": {},
   "source": [
    "Admission Source ID"
   ]
  },
  {
   "cell_type": "code",
   "execution_count": 23,
   "metadata": {},
   "outputs": [
    {
     "name": "stdout",
     "output_type": "stream",
     "text": [
      "{nan, 'Not Available', 'Not Mapped', 'Physician Referral', 'Clinic Referral', 'Transfer from another health care facility', 'Transfer from a hospital', 'HMO Referral', 'Emergency Room', 'Transfer from a Skilled Nursing Facility (SNF)', 'Court/Law Enforcement'}\n"
     ]
    }
   ],
   "source": [
    "print(set(X_all[:,7]))"
   ]
  },
  {
   "cell_type": "markdown",
   "metadata": {},
   "source": [
    "Time in Hospital"
   ]
  },
  {
   "cell_type": "code",
   "execution_count": 24,
   "metadata": {},
   "outputs": [
    {
     "name": "stdout",
     "output_type": "stream",
     "text": [
      "{1, 2, 3, 4, 5, 6, 7, 8, 9, 10, 11, 12, 13, 14}\n"
     ]
    }
   ],
   "source": [
    "print(set(X_all[:,8]))"
   ]
  },
  {
   "cell_type": "markdown",
   "metadata": {},
   "source": [
    "Payer Code"
   ]
  },
  {
   "cell_type": "code",
   "execution_count": 25,
   "metadata": {},
   "outputs": [
    {
     "name": "stdout",
     "output_type": "stream",
     "text": [
      "{'PO', 'SP', 'CP', 'OT', 'MD', 'DM', 'BC', '?', 'MC', 'CH', 'SI', 'OG', 'UN', 'HM', 'CM', 'WC'}\n"
     ]
    }
   ],
   "source": [
    "print(set(X_all[:,9]))"
   ]
  },
  {
   "cell_type": "markdown",
   "metadata": {},
   "source": [
    "Medical Speciality"
   ]
  },
  {
   "cell_type": "code",
   "execution_count": 28,
   "metadata": {},
   "outputs": [
    {
     "name": "stdout",
     "output_type": "stream",
     "text": [
      "['?', 'Anesthesiology-Pediatric', 'Cardiology', 'Cardiology-Pediatric', 'Emergency/Trauma', 'Endocrinology', 'Family/GeneralPractice', 'Gastroenterology', 'Gynecology', 'Hematology', 'Hematology/Oncology', 'Hospitalist', 'InfectiousDiseases', 'InternalMedicine', 'Nephrology', 'Neurology', 'Obsterics&Gynecology-GynecologicOnco', 'Obstetrics', 'ObstetricsandGynecology', 'Oncology', 'Ophthalmology', 'Orthopedics', 'Orthopedics-Reconstructive', 'Osteopath', 'Otolaryngology', 'OutreachServices', 'Pathology', 'Pediatrics', 'Pediatrics-CriticalCare', 'Pediatrics-EmergencyMedicine', 'Pediatrics-Endocrinology', 'Pediatrics-Hematology-Oncology', 'Pediatrics-Pulmonology', 'PhysicalMedicineandRehabilitation', 'PhysicianNotFound', 'Podiatry', 'Psychiatry', 'Psychology', 'Pulmonology', 'Radiologist', 'Radiology', 'Surgeon', 'Surgery-Cardiovascular', 'Surgery-Cardiovascular/Thoracic', 'Surgery-Colon&Rectal', 'Surgery-General', 'Surgery-Neuro', 'Surgery-Pediatric', 'Surgery-Plastic', 'Surgery-PlasticwithinHeadandNeck', 'Surgery-Thoracic', 'Surgery-Vascular', 'Urology']\n"
     ]
    }
   ],
   "source": [
    "print(sorted(list(set(X_all[:,10]))))"
   ]
  },
  {
   "cell_type": "markdown",
   "metadata": {},
   "source": [
    "Number of Lab Procedures"
   ]
  },
  {
   "cell_type": "code",
   "execution_count": 29,
   "metadata": {},
   "outputs": [
    {
     "name": "stdout",
     "output_type": "stream",
     "text": [
      "{1, 2, 3, 4, 5, 6, 7, 8, 9, 10, 11, 12, 13, 14, 15, 16, 17, 18, 19, 20, 21, 22, 23, 24, 25, 26, 27, 28, 29, 30, 31, 32, 33, 34, 35, 36, 37, 38, 39, 40, 41, 42, 43, 44, 45, 46, 47, 48, 49, 50, 51, 52, 53, 54, 55, 56, 57, 58, 59, 60, 61, 62, 63, 64, 65, 66, 67, 68, 69, 70, 71, 72, 73, 74, 75, 76, 77, 78, 79, 80, 81, 82, 83, 84, 85, 86, 87, 88, 89, 90, 91, 92, 93, 94, 95, 96, 97, 98, 101, 103, 104, 106, 107, 108, 109, 113, 114, 120}\n"
     ]
    }
   ],
   "source": [
    "print(set(X_all[:,11]))"
   ]
  },
  {
   "cell_type": "markdown",
   "metadata": {},
   "source": [
    "Number of Procedures"
   ]
  },
  {
   "cell_type": "code",
   "execution_count": 30,
   "metadata": {},
   "outputs": [
    {
     "name": "stdout",
     "output_type": "stream",
     "text": [
      "{0, 1, 2, 3, 4, 5, 6}\n"
     ]
    }
   ],
   "source": [
    "print(set(X_all[:,12]))"
   ]
  },
  {
   "cell_type": "markdown",
   "metadata": {},
   "source": [
    "Number of Medications"
   ]
  },
  {
   "cell_type": "code",
   "execution_count": 31,
   "metadata": {},
   "outputs": [
    {
     "name": "stdout",
     "output_type": "stream",
     "text": [
      "{1, 2, 3, 4, 5, 6, 7, 8, 9, 10, 11, 12, 13, 14, 15, 16, 17, 18, 19, 20, 21, 22, 23, 24, 25, 26, 27, 28, 29, 30, 31, 32, 33, 34, 35, 36, 37, 38, 39, 40, 41, 42, 43, 44, 45, 46, 47, 48, 49, 50, 51, 52, 53, 54, 55, 56, 57, 58, 59, 60, 61, 62, 63, 65, 67, 74, 75, 81}\n"
     ]
    }
   ],
   "source": [
    "print(set(X_all[:,13]))"
   ]
  },
  {
   "cell_type": "markdown",
   "metadata": {},
   "source": [
    "Number Outpatient"
   ]
  },
  {
   "cell_type": "code",
   "execution_count": 32,
   "metadata": {},
   "outputs": [
    {
     "name": "stdout",
     "output_type": "stream",
     "text": [
      "{0, 1, 2, 3, 4, 5, 6, 7, 8, 9, 10, 11, 12, 13, 14, 15, 16, 17, 18, 19, 21, 27, 36}\n"
     ]
    }
   ],
   "source": [
    "print(set(X_all[:,14]))"
   ]
  },
  {
   "cell_type": "markdown",
   "metadata": {},
   "source": [
    "Number Emergency"
   ]
  },
  {
   "cell_type": "code",
   "execution_count": 33,
   "metadata": {},
   "outputs": [
    {
     "name": "stdout",
     "output_type": "stream",
     "text": [
      "{0, 1, 2, 3, 4, 5, 6, 7, 8, 9, 42, 13}\n"
     ]
    }
   ],
   "source": [
    "print(set(X_all[:,15]))"
   ]
  },
  {
   "cell_type": "markdown",
   "metadata": {},
   "source": [
    "Number Inpatient"
   ]
  },
  {
   "cell_type": "code",
   "execution_count": 34,
   "metadata": {},
   "outputs": [
    {
     "name": "stdout",
     "output_type": "stream",
     "text": [
      "{0, 1, 2, 3, 4, 5, 6, 7, 8, 9, 10}\n"
     ]
    }
   ],
   "source": [
    "print(set(X_all[:,16]))"
   ]
  },
  {
   "cell_type": "markdown",
   "metadata": {},
   "source": [
    "Diagnoses"
   ]
  },
  {
   "cell_type": "code",
   "execution_count": 66,
   "metadata": {},
   "outputs": [
    {
     "name": "stdout",
     "output_type": "stream",
     "text": [
      "{'655', 'V85', '323', '583', '438', '230', 'V57', '610', '314', '474', '430', '459', '537', '250.51', '510', '808', '285', '873', 'V65', '250.5', 'E935', '753', '734', '203', '752', '465', '413', '250.33', '682', '277', '485', '372', '261', '723', '490', '867', '429', '262', '527', '915', 'V14', '945', '731', '280', '494', '747', '250.12', '179', '273', '713', '709', '405', '374', '991', 'V49', 'E933', '349', '784', '117', '250.13', '253', '543', 'V71', 'E882', '656', 'E949', '692', '869', '916', '275', '435', '397', '337', '562', '398', '354', '738', 'V08', 'V46', '786', '291', '820', '861', '201', '816', '614', '846', '475', '910', '319', '905', 'E815', '715', '27', '720', '536', '793', '368', '220', 'V63', '785', '200', '795', '411', '250.6', '553', '420', '669', '299', '78', 'V25', '250.02', '571', '796', '493', 'V09', '933', 'E822', '836', '340', '518', '845', '691', '693', '512', '727', '824', '198', '535', '552', '250.91', '184', '250.53', '342', '470', '707', 'E888', '540', '356', '741', '151', '907', '995', '456', '515', '807', '851', '452', 'E819', '567', '233', '886', '642', '573', '250.3', '258', '8', '454', '161', '425', '250.23', '964', '250.92', '193', '361', '652', '156', '532', '274', '997', '346', '557', '333', '708', '812', '300', '736', '295', '801', '416', '170', '756', '521', 'E944', '316', '999', '421', 'E854', '11', 'V27', 'E884', '355', '9', '250.93', '239', '366', '345', '607', '41', '790', '647', 'V66', '441', '138', '595', '576', '660', 'E916', '188', '789', '42', '250.8', '721', '633', '968', '641', '663', '883', 'E858', '379', 'V56', '434', '825', '250.7', '437', '287', '921', '426', '153', '622', '582', '866', '250.42', 'V45', '462', '619', '608', '783', '513', '162', '382', '365', '852', '278', '480', '335', '684', '989', '250.32', '265', '787', '464', '603', '250.83', '481', 'E915', '250', '847', '331', '182', '892', '171', '746', 'E930', '286', '423', '569', '654', '517', '781', '395', 'V70', '457', '358', '158', '730', '289', '996', '357', '309', '79', '370', 'E927', '205', '826', '568', '385', '94', '714', '322', '810', '298', '882', 'V43', '908', '492', '594', '601', '255', '998', '263', '724', '821', 'V12', '661', '378', '38', '410', '318', '716', '718', '61', '522', '172', '223', '920', '303', '250.31', '245', 'E941', '574', '737', '577', '722', '240', '860', '623', '745', '453', '82', '700', '327', '735', '211', '627', '3', '199', '706', '680', '412', '451', '906', '250.11', '308', '351', 'E816', '431', '646', '648', '533', '294', '444', '621', '788', '458', '528', '794', '959', '726', '620', '350', '935', '317', '440', '226', '173', '250.01', '272', 'E943', '593', '135', '157', '174', '585', 'E929', 'V58', '88', '840', '534', '466', '575', '782', 'E917', '868', '414', '394', '477', '288', '922', '250.2', '281', '325', '625', '871', '483', '402', '695', '958', '643', '34', '311', '292', '591', '110', '189', '813', '227', '312', '565', '461', '725', 'V53', '310', '605', '369', '519', '136', '348', '924', '242', '799', '389', '530', '843', '246', '531', '918', 'E885', '865', '250.22', '572', 'E849', '238', '600', '711', '282', '306', '250.9', '728', '555', '496', '733', '578', '250.4', '791', '967', '376', '645', 'E938', '850', '415', 'E934', '344', 'E878', 'E980', '250.43', '387', '792', '596', '751', 'E928', 'E932', '196', '228', '658', '696', '436', '204', '250.52', '155', '590', '664', '805', '514', '54', '250.21', '486', 'V17', '112', '616', '305', '617', '296', '604', '566', '432', '717', '626', '187', '564', '705', '304', '250.41', '844', 'V11', 'V18', '427', '581', '150', '202', '404', '586', '970', '823', '160', 'E937', '276', '225', '388', '241', '701', '893', '584', 'E947', '455', '962', '403', '301', '508', 'E942', '862', '698', '965', '588', '?', '558', '208', '644', '580', '800', '972', '185', '507', '283', '759', '446', 'V42', '719', 'V44', '260', '218', '814', '191', '618', '377', '360', 'E812', '934', '250.1', '579', 'V16', '703', '992', '966', '913', '611', '250.03', '266', '556', '473', '53', '396', '284', '491', '729', '290', 'E880', '482', '332', '324', '802', '210', 'V72', '5', '180', '977', '362', '487', '70', '447', '75', '694', '659', '251', '293', '384', '969', '401', '380', '501', '197', '681', '923', '313', '214', 'V15', 'E939', '31', '154', '141', '428', '343', 'E905', '424', '386', 'V62', '884', '359', '131', '511', 'V10', '183', '442', '550', '443', '822', '244', '271', '560', '353', '235', '433', '381', '250.81', '252', '598', 'E887', '890', '250.82', '758', 'E950', '307', 'E879', '853', 'V55', '780', 'V54', '164', '516', 'V64', '599', '478', '710', '592'}\n"
     ]
    }
   ],
   "source": [
    "print(set(X_all[:,17])|set(X_all[:,18])|set(X_all[:,19]))"
   ]
  },
  {
   "cell_type": "markdown",
   "metadata": {},
   "source": [
    "Number of Diagnoses"
   ]
  },
  {
   "cell_type": "code",
   "execution_count": 37,
   "metadata": {},
   "outputs": [
    {
     "name": "stdout",
     "output_type": "stream",
     "text": [
      "{1, 2, 3, 4, 5, 6, 7, 8, 9}\n"
     ]
    }
   ],
   "source": [
    "print(set(X_all[:,20]))"
   ]
  },
  {
   "cell_type": "markdown",
   "metadata": {},
   "source": [
    "Max Glucose Serum"
   ]
  },
  {
   "cell_type": "code",
   "execution_count": 38,
   "metadata": {},
   "outputs": [
    {
     "name": "stdout",
     "output_type": "stream",
     "text": [
      "{'>200', 'Norm', '>300', 'None'}\n"
     ]
    }
   ],
   "source": [
    "print(set(X_all[:,21]))"
   ]
  },
  {
   "cell_type": "markdown",
   "metadata": {},
   "source": [
    "A1Cresult"
   ]
  },
  {
   "cell_type": "code",
   "execution_count": 39,
   "metadata": {},
   "outputs": [
    {
     "name": "stdout",
     "output_type": "stream",
     "text": [
      "{'>7', 'Norm', '>8', 'None'}\n"
     ]
    }
   ],
   "source": [
    "print(set(X_all[:,22]))"
   ]
  },
  {
   "cell_type": "markdown",
   "metadata": {},
   "source": [
    "Metformin - Metformin Pioglitazone"
   ]
  },
  {
   "cell_type": "code",
   "execution_count": 40,
   "metadata": {},
   "outputs": [
    {
     "name": "stdout",
     "output_type": "stream",
     "text": [
      "{'Up', 'No', 'Steady', 'Down'}\n"
     ]
    }
   ],
   "source": [
    "print(set(X_all[:,23]))"
   ]
  },
  {
   "cell_type": "code",
   "execution_count": 61,
   "metadata": {},
   "outputs": [],
   "source": [
    "drug_change = {'Down': -2, 'No': 0, 'Steady': 1, 'Up': 2}"
   ]
  },
  {
   "cell_type": "markdown",
   "metadata": {},
   "source": [
    "Change"
   ]
  },
  {
   "cell_type": "code",
   "execution_count": 68,
   "metadata": {},
   "outputs": [
    {
     "name": "stdout",
     "output_type": "stream",
     "text": [
      "{'No', 'Ch'}\n"
     ]
    }
   ],
   "source": [
    "print(set(X_all[:,46]))"
   ]
  },
  {
   "cell_type": "markdown",
   "metadata": {},
   "source": [
    "Diabetes Medication"
   ]
  },
  {
   "cell_type": "code",
   "execution_count": 69,
   "metadata": {},
   "outputs": [
    {
     "name": "stdout",
     "output_type": "stream",
     "text": [
      "{'Yes', 'No'}\n"
     ]
    }
   ],
   "source": [
    "print(set(X_all[:,47]))"
   ]
  },
  {
   "cell_type": "markdown",
   "metadata": {},
   "source": [
    "Diagnoses Description"
   ]
  },
  {
   "cell_type": "code",
   "execution_count": 60,
   "metadata": {},
   "outputs": [
    {
     "name": "stdout",
     "output_type": "stream",
     "text": [
      "{nan, 'Osteoporosis, unspecified', 'Generalized nonconvulsive epilepsy, without mention of intractable epilepsy', 'Pneumonia due to mycoplasma pneumoniae', 'Acute vascular insufficiency of intestine', 'Postmyocardial infarction syndrome', 'Dissection of aorta, unspecified site', 'Paranoid personality disorder', 'Diabetes with ketoacidosis, type I [juvenile type], uncontrolled', 'Benign neoplasm of lip', 'Poisoning by adrenal cortical steroids', 'Headache', 'Care involving breathing exercises', 'Diabetes with hyperosmolarity, type I [juvenile type], not stated as uncontrolled', 'Common truncus', 'Sprain of ankle, unspecified site', 'Hypertrophy of nasal turbinates', 'Injury to bladder and urethra, without mention of open wound into cavity', 'Other and unspecified intracranial hemorrhage following injury without mention of open intracranial wound, unspecified state of consciousness', 'First-degree perineal laceration, unspecified as to episode of care or not applicable', 'Myocarditis, unspecified', 'Cellulitis and abscess of finger, unspecified', 'Fetal-maternal hemorrhage, unspecified as to episode of care or not applicable', 'Postinflammatory pulmonary fibrosis', 'Tracheostomy complication, unspecified', 'Obesity, unspecified', 'Acromegaly and gigantism', 'Acute cystitis', \"Bell's palsy\", 'Contusion of thigh', 'Scleritis, unspecified', 'Follicular cyst of ovary', 'Hemopericardium', 'Human immunodeficiency virus [HIV] disease', 'Bipolar I disorder, single manic episode, unspecified', 'Central nervous system malformation in fetus, unspecified as to episode of care or not applicable', 'Acute bronchitis', 'Diabetes with ketoacidosis, type I [juvenile type], not stated as uncontrolled', 'Renal colic', 'Idiopathic peripheral autonomic neuropathy, unspecified', 'Carcinoma in situ of lip, oral cavity, and pharynx', 'Disorders of mineral metabolism', 'Endomyocardial fibrosis', 'Pruritus ani', 'Flat foot', 'Intussusception', 'Paroxysmal supraventricular tachycardia', 'Amnestic disorder in conditions classified elsewhere', 'Contact dermatitis and other eczema due to detergents', 'Rheumatism, unspecified and fibrositis', 'Poisoning by oxazolidine derivatives', 'Urinary tract infection, site not specified', 'Late pregnancy', 'Occlusion and stenosis of basilar artery without mention of cerebral infarction', 'Diabetes with peripheral circulatory disorders, type II or unspecified type, not stated as uncontrolled', 'Chronic airway obstruction, not elsewhere classified', 'Systemic lupus erythematosus', 'Malignant neoplasm of hepatic flexure', 'Empyema with fistula', 'Femoral hernia without mention of obstruction of gangrene, unilateral or unspecified(not specified as recurrent)', 'Corns and callosities', 'Profound impairment, both eyes, impairment level not further specified', 'Neutropenia, unspecified', 'Tympanosclerosis, unspecified as to involvement', 'Contusion of breast', 'Polyp of corpus uteri', 'Pulmonary congestion and hypostasis', 'Malignant neoplasm of corpus uteri, except isthmus', 'Malignant neoplasm of connective and other soft tissue of head, face, and neck', 'Werdnig-Hoffmann disease', 'Postoperative shock, unspecified', 'Anorexia', 'Bartonellosis', 'Diabetes with unspecified complication, type II or unspecified type, uncontrolled', 'Disseminated malignant neoplasm without specification of site', 'Oligohydramnios, unspecified as to episode of care or not applicable', 'Intestinal infection due to E. coli, unspecified', 'Secondary malignant neoplasm of lung', 'Peritonitis in infectious diseases classified elsewhere', 'Diabetes with ophthalmic manifestations, type II or unspecified type, uncontrolled', 'Hypertrophy (benign) of prostate without urinary obstruction and other lower urinary tract symptom (LUTS)', 'Ingrowing nail', 'Simple type schizophrenia, unspecified', 'Closed fracture of acetabulum', 'Allergic purpura', 'Nervous system complication, unspecified', 'Abnormal involuntary movements', 'Diabetes with renal manifestations, type II or unspecified type, uncontrolled', 'Alcoholic fatty liver', 'Acute pericarditis in diseases classified elsewhere', 'Postsurgical hypothyroidism', 'Candidiasis of mouth', 'Diabetes with renal manifestations, type I [juvenile type], uncontrolled', 'Toxic erythema', 'Acute cor pulmonale', 'Acute pulmonary manifestations due to radiation', 'Hypertensive chronic kidney disease, malignant, with chronic kidney disease stage I through stage IV, or unspecified', 'Chronic pyelonephritis without lesion of renal medullary necrosis', 'Reticulosarcoma, unspecified site, extranodal and solid organ sites', 'Open wound of foot except toe(s) alone, without mention of complication', 'Calculus of gallbladder with acute cholecystitis, without mention of obstruction', 'Bladder neck obstruction', 'Closed fracture of base of skull without mention of intra cranial injury, unspecified state of consciousness', 'Retinal detachment with retinal defect, unspecified', 'Extrinsic asthma, unspecified', 'Residence remote from hospital or other health care facility', 'Molluscum contagiosum', 'Atherosclerosis of aorta', 'Diabetes with hyperosmolarity, type I [juvenile type], uncontrolled', 'Benign neoplasm of brain', 'Lesion of sciatic nerve', 'Celiac disease', 'Atrioventricular block, complete', 'Other anaphylactic reaction', 'Postmastectomy lymphedema syndrome', 'Portal vein thrombosis', 'Generalized vaccinia as a complication of medical care, not elsewhere classified', 'Inguinal hernia, with gangrene, unilateral or unspecified (not specified as recurrent)', 'Hemorrhage, unspecified', 'Secondary and unspecified malignant neoplasm of lymph nodes of head, face, and neck', 'Spinal stenosis, unspecified region', 'Infectious colitis, enteritis, and gastroenteritis', 'Open wound of hand except finger(s) alone, without mention of complication', 'Concussion with no loss of consciousness', 'Closed fracture of upper end of forearm, unspecified', 'Undersocialized conduct disorder, aggressive type, unspecified', 'Injury to other intra-abdominal organs without mention of open wound into cavity, unspecified intra-abdominal organ', 'Osteoarthrosis, generalized, site unspecified', 'Orthostatic hypotension', \"Meckel's diverticulum\", 'Myasthenia gravis without (acute) exacerbation', 'Fracture of medial malleolus, closed', 'Tuberculosis of lung, infiltrative, unspecified', 'Achlorhydria', 'Late effects of cerebrovascular disease, cognitive deficits', 'Primary pulmonary hypertension', 'Urethral stricture due to unspecified infection', 'Malignant neoplasm of vagina', 'Diabetes with other specified manifestations, type II or unspecified type, uncontrolled', 'Acute appendicitis with generalized peritonitis', 'Foreign body in pharynx', 'Unspecified injury of heart without mention of open wound into thorax', 'Congenital pulmonary valve anomaly, unspecified', 'Diabetes with other coma, type I [juvenile type], not stated as uncontrolled', 'Acute kidney failure', 'Acute infective polyneuritis', 'Acute gastritis, without mention of hemorrhage', 'Ariboflavinosis', 'Frostbite of face', 'Rheumatic myocarditis', 'Spinal stenosis in cervical region', 'Poisoning by opium (alkaloids), unspecified', 'Cortex (cerebral) contusion without mention of open intracranial wound, unspecified state of consciousness', 'Urinary-genital tract fistula, female', 'Dengue', 'Constipation, unspecified', 'Regional enteritis of small intestine', 'Autoimmune hemolytic anemias', 'Neoplasm of uncertain behavior of major salivary glands', 'Diabetes mellitus of mother, complicating pregnancy, childbirth, or the puerperium, unspecified as to episode of care or not applicable', 'Nephroptosis', 'Malignant neoplasm of penis and other male genital organs', 'Acute gastrojejunal ulcer with hemorrhage, without mention of obstruction', 'Esotropia, unspecified', 'Influenza with pneumonia', 'Spotted fevers', 'Abrasion or friction burn of finger(s), without mention of infection', 'Patent ductus arteriosus', 'Polycythemia, secondary', 'Acute peptic ulcer of unspecified site with hemorrhage, without mention of obstruction', 'Iliofemoral (ligament) sprain', 'Adhesive capsulitis of shoulder', 'Displacement of cervical intervertebral disc without myelopathy', 'Abrasion or friction burn of elbow, forearm, and wrist, without mention of infection', 'Nonspecific findings on examination of blood', 'Seminal vesiculitis', 'Cerebral atherosclerosis', 'Pneumonia due to Klebsiella pneumoniae', 'Malignant neoplasm of trigone of urinary bladder', 'Malignant hypertensive heart disease without heart failure', 'Sideroblastic anemia', 'Corneal ulcer, unspecified', 'Cystic fibrosis without mention of meconium ileus', 'Gouty arthropathy, unspecified', 'Carcinoma in situ of breast', 'Maternal distress complicating labor and delivery, unspecified as to episode of care or not applicable', 'Absence of menstruation', 'Malignant neoplasm of thymus', 'Trigeminal nerve disorders', 'Diabetes with other specified manifestations, type I [juvenile type], not stated as uncontrolled', 'Dermatophytosis of scalp and beard', 'Mild hyperemesis gravidarum, unspecified as to episode of care or not applicable', 'Emphysematous bleb', 'Subarachnoid hemorrhage following injury without mention of open intracranial wound, unspecified state of consciousness', 'Migraine with aura, without mention of intractable migraine without mention of status migrainosus', 'Goiter, specified as simple', 'Iron deficiency anemia secondary to blood loss (chronic)', 'Reaction to spinal or lumbar puncture', 'Traumatic amputation of other finger(s) (complete) (partial), without mention of complication', 'Kaschin-Beck disease, site unspecified', 'Acute leukemia of unspecified cell type, without mention of having achieved remission', 'Arteriovenous fistula, acquired', 'Pulmonary collapse', 'Acute lymphoid leukemia, without mention of having achieved remission', 'Adenovirus infection in conditions classified elsewhere and of unspecified site', 'Injury other and unspecified', 'Diabetes with ketoacidosis, type II or unspecified type, uncontrolled', 'Diabetes with hyperosmolarity, type II or unspecified type, uncontrolled', 'Malignant neoplasm of retroperitoneum', 'Infective myositis', 'Malignant neoplasm of ovary', 'Failed mechanical induction of labor, unspecified as to episode of care or not applicable', 'Acute salpingitis and oophoritis', 'Malnutrition of moderate degree', 'Submucous leiomyoma of uterus', 'Sprain of lateral collateral ligament of knee', 'Achalasia and cardiospasm', 'Malignant neoplasm of cervical esophagus', 'Dyspareunia', 'Malignant essential hypertension', 'Diabetes with renal manifestations, type II or unspecified type, not stated as uncontrolled', 'Diabetes mellitus without mention of complication, type II or unspecified type, uncontrolled', 'Endometriosis of uterus', 'Sprain of neck', 'Acute pharyngitis', 'Salmonella gastroenteritis', 'Closed fracture of cervical vertebra, unspecified level', 'Nonsenile cataract, unspecified', 'Malignant neoplasm of base of tongue', 'Intracerebral hemorrhage', 'Anhidrosis', 'Anal fissure', 'Closed fracture of upper end of tibia alone', 'Malignant neoplasm of cardia', 'Ulcerative (chronic) enterocolitis', 'Burn of unspecified degree of lower limb [leg], unspecified site', 'Acute myocardial infarction of anterolateral wall, episode of care unspecified', 'Respiratory abnormality, unspecified', 'Attention to tracheostomy', 'Diabetes with hyperosmolarity, type II or unspecified type, not stated as uncontrolled', 'Unspecified prolapse of vaginal walls', 'Benign neoplasm of ovary', 'Calculus in diverticulum of bladder', 'Closed fracture of nasal bones', 'Allergic urticaria', 'Disorders of thyrocalcitonin secretion', 'Chronic tonsillitis', 'Disturbance of skin sensation', 'Malignant neoplasm of glottis', 'Poisoning by dietetics', 'Acute suppurative otitis media without spontaneous rupture of eardrum', 'Brachial plexus lesions', 'Malignant neoplasm of rectosigmoid junction', 'Diabetes with unspecified complication, type I [juvenile type], uncontrolled', 'Hereditary peripheral neuropathy', 'Hyperparathyroidism, unspecified', 'Malignant neoplasm of liver, primary', 'Pyogenic arthritis, site unspecified', 'Spontaneous tension pneumothorax', 'Leukoplakia of penis', 'Abdominal pregnancy without intrauterine pregnancy', 'Mechanical complication of unspecified cardiac device, implant, and graft', 'Congenital abnormalities of uterus, unspecified as to episode of care or not applicable', 'Neoplasm of unspecified nature of digestive system', 'Angina decubitus', 'Closed fracture of vault of skull without mention of intracranial injury, unspecified state of consciousness', 'Premenopausal menorrhagia', 'Basilar artery syndrome', 'Diabetes with other specified manifestations, type II or unspecified type, not stated as uncontrolled', 'Unstable lie, unspecified as to episode of care or not applicable', 'Varicose veins of lower extremities with ulcer', 'Rheumatic aortic stenosis', 'Subarachnoid hemorrhage', 'Acute myringitis, unspecified', 'Papilledema, unspecified', 'Closed fracture of intracapsular section of neck of femur, unspecified', 'Ankylosing spondylitis', 'Delirium due to conditions classified elsewhere', 'Other retinal disorders', 'Tachycardia, unspecified', 'Diabetes with other specified manifestations, type I [juvenile type], uncontrolled', 'Nontraumatic extradural hemorrhage', 'Perichondritis of pinna, unspecified', 'Abscess of anal and rectal regions', 'Alcohol withdrawal delirium', 'Nodular lymphoma, unspecified site, extranodal and solid organ sites', 'Abnormal function study of brain and central nervous system, unspecified', 'Chronic kidney disease (ckd)', 'Diabetes mellitus without mention of complication, type II or unspecified type, not stated as uncontrolled', 'Ocular laceration without prolapse of intraocular tissue', 'Sprain of lumbosacral (joint) (ligament)', 'Toxic diffuse goiter without mention of thyrotoxic crisis or storm', 'Pneumonia due to adenovirus', 'Pernicious anemia', 'Malignant neoplasm of head of pancreas', 'Malignant neoplasm of thyroid gland', 'Simple chronic bronchitis', 'Peritonsillar abscess', 'Benign neoplasm of thyroid glands', 'Synovitis and tenosynovitis, unspecified', 'Toxic effect of hydrocyanic acid and cyanides', 'Budd-chiari syndrome', 'Secondary malignant neoplasm of kidney', 'Malignant neoplasm of prostate', 'Cerebral cysts', 'Diabetes with other coma, type II or unspecified type, uncontrolled', 'Unspecified deformity of forearm, excluding fingers', 'Hyperosmolality and/or hypernatremia', 'Pneumococcal pneumonia [Streptococcus pneumoniae pneumonia]', 'Peritoneal adhesions (postoperative) (postinfection)', 'Bronchopneumonia, organism unspecified', 'Acute thyroiditis', 'Other and unspecified noninfectious gastroenteritis and colitis', 'Herpes zoster with meningitis', 'Femoral hernia with obstruction, unilateral or unspecified (not specified as recurrent)', 'Malignant neoplasm of trachea', 'Acute myeloid leukemia, without mention of having achieved remission', 'Cerebral thrombosis without mention of cerebral infarction', 'Diabetes with neurological manifestations, type II or unspecified type, not stated as uncontrolled', 'Primary uterine inertia, unspecified as to episode of care or not applicable', 'Pneumonia, organism unspecified', 'Aplastic anemia and other bone marrow failure syndromes', 'Acute laryngitis without mention of obstruction', 'Diseases of tricuspid valve', 'Abscess of liver', 'Acute maxillary sinusitis', 'Hematemesis', 'Air embolism', 'Diverticulosis of small intestine (without mention of hemorrhage)', 'Malignant neoplasm of nasal cavities', 'Other orthopedic aftercare', 'Acute inflammation of orbit, unspecified', 'Phlebitis and thrombophlebitis of superficial vessels of lower extremities', 'Depressive disorder, not elsewhere classified', 'Cervical spondylosis without myelopathy', 'Benign neoplasm of esophagus', 'Inflammatory disease of breast', 'Acute cholecystitis', 'Effusion of joint, site unspecified', 'Atrophy of salivary gland', 'Adult onset fluency disorder', 'Mitral valve stenosis and aortic valve stenosis', 'Poisoning by cardiac rhythm regulators', 'Acute, but ill-defined, cerebrovascular disease', 'Chronic passive congestion of liver', 'Malignant neoplasm of endocervix', \"M_ni\\x8fre's disease, unspecified\", 'Articular cartilage disorder, site unspecified', 'Esophageal varices with bleeding', 'Drug withdrawal', 'Encephalitis myelitis and encephalomyelitis', 'Coronary atherosclerosis of unspecified type of vessel, native or graft', 'Acute duodenal ulcer with hemorrhage, without mention of obstruction', 'Renal agenesis and dysgenesis', 'Poisoning by central nervous system muscle-tone depressants', 'Hydronephrosis', \"Alzheimer's disease\", 'Mitral valve disorders', 'Black eye, not otherwise specified', 'Chronic maxillary sinusitis', 'Postcholecystectomy syndrome', 'Acute and subacute bacterial endocarditis', 'Other ill-defined and unknown causes of morbidity and mortality', 'Acute pancreatitis', 'Viral hepatitis A with hepatic coma', 'Fitting and adjustment of other device', 'Closed fracture of carpal bone, unspecified', 'Abscess of lung', 'Malignant neoplasm of nipple and areola of female breast', 'Paralysis agitans', 'Alteration of consciousness', \"Raynaud's syndrome\", 'Internal hemorrhoids without mention of complication', 'Diabetes mellitus without mention of complication, type I [juvenile type], not stated as uncontrolled', 'Calculus of kidney', 'Injury to spleen without mention of open wound into cavity, unspecified injury', 'Prolapse of cord complicating labor and delivery, unspecified as to episode of care or not applicable', 'Acquired hypertrophic pyloric stenosis', 'Benign neoplasm of adrenal gland', 'Injury to kidney without mention of open wound into cavity, unspecified injury', 'Adjustment disorder with depressed mood', 'Acute osteomyelitis, site unspecified', 'Malignant neoplasm of cerebrum, except lobes and ventricles', 'Hereditary spherocytosis', 'Dyschromia, unspecified', 'Other severe protein-calorie malnutrition', 'Foreign body in mouth', 'Threatened premature labor, unspecified as to episode of care or not applicable', 'Pleurisy without mention of effusion or current tuberculosis', 'Malignant neoplasm of kidney, except pelvis', 'Lipoma of skin and subcutaneous tissue of face', 'Anxiety state, unspecified', 'Polyarteritis nodosa', 'Orchitis, epididymitis, and epididymo-orchitis, with abscess', 'Poisoning by iron and its compounds', 'Diabetes with other coma, type II or unspecified type, not stated as uncontrolled', 'Acute prostatitis', 'Acute gastric ulcer with hemorrhage, without mention of obstruction', 'Opioid type dependence, unspecified', 'Open wound of toe(s), without mention of complication', 'Acute alcoholic intoxication in alcoholism, unspecified', 'Rheumatoid arthritis', 'Other degenerative diseases of the basal ganglia', 'Poisoning by antidepressant, unspecified', 'Congenital factor VIII disorder', 'Nontoxic uninodular goiter', 'Closed fracture of patella', 'Depressive type psychosis', 'Closed fracture of rib(s), unspecified', 'Multiple myeloma, without mention of having achieved remission', 'Eczema herpeticum', 'Encounter for radiotherapy', 'Pneumonitis due to inhalation of food or vomitus', 'Benign essential hypertension complicating pregnancy, childbirth, and the puerperium, unspecified as to episode of care or not applicable', 'Unspecified cardiac device in situ', 'Diabetes with renal manifestations, type I [juvenile type], not stated as uncontrolled', 'Acute laryngopharyngitis', 'Malignant neoplasm of gallbladder', 'Nephrotic syndrome with lesion of proliferative glomerulonephritis', 'Encysted hydrocele', 'Diabetes with ketoacidosis, type II or unspecified type, not stated as uncontrolled', 'Hypertensive heart and chronic kidney disease, malignant, without heart failure and with chronic kidney disease stage I through stage IV, or unspecified', 'Abnormal glandular Papanicolaou smear of cervix', 'Diabetes mellitus without mention of complication, type I [juvenile type], uncontrolled', 'Cervicitis and endocervicitis', 'Anal and rectal polyp', 'Pressure ulcer, unspecified site', 'Acne varioliformis', 'Closed fracture of unspecified part of upper end of humerus', 'Multiple sclerosis', 'Encounter for extracorporeal dialysis', 'Closed fracture of unspecified part of femur', 'Streptococcal septicemia', 'Stomatitis and mucositis, unspecified', \"Cushing's syndrome\", 'Pulpitis', 'Carbuncle and furuncle of face', 'Acquired deformity of nose', 'Closed fracture of clavicle, unspecified part', 'Nonspecific abnormal findings in cerebrospinal fluid', 'Neoplasm of uncertain behavior of bone and articular cartilage', 'Degenerative and vascular disorders, unspecified', 'Aneurysm of artery of upper extremity', 'Arterial embolism and thrombosis', 'Benign neoplasm of kidney, except pelvis', 'Abdominal pain, unspecified site', 'Observation and evaluation for suspected conditions not found', 'Congestive heart failure, unspecified', 'Open wound of scalp, without mention of complication', 'Diabetes with other coma, type I [juvenile type], uncontrolled', 'Nausea and vomiting', 'Anomalies of spleen', 'Hypoglycemic coma', 'Anomalies of skull and face bones', 'General counseling and advice on contraceptive management', 'Cellulitis and abscess of face', 'Bronchitis, not specified as acute or chronic', 'Senile dementia, uncomplicated'}\n"
     ]
    }
   ],
   "source": [
    "print(set(X_all[:,48]))"
   ]
  },
  {
   "cell_type": "code",
   "execution_count": null,
   "metadata": {},
   "outputs": [],
   "source": []
  }
 ],
 "metadata": {
  "kernelspec": {
   "display_name": "Python 3",
   "language": "python",
   "name": "python3"
  },
  "language_info": {
   "codemirror_mode": {
    "name": "ipython",
    "version": 3
   },
   "file_extension": ".py",
   "mimetype": "text/x-python",
   "name": "python",
   "nbconvert_exporter": "python",
   "pygments_lexer": "ipython3",
   "version": "3.7.4"
  }
 },
 "nbformat": 4,
 "nbformat_minor": 2
}
