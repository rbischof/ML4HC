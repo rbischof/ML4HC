{
 "cells": [
  {
   "cell_type": "code",
   "execution_count": 1,
   "metadata": {},
   "outputs": [
    {
     "name": "stdout",
     "output_type": "stream",
     "text": [
      "showing info https://raw.githubusercontent.com/nltk/nltk_data/gh-pages/index.xml\n"
     ]
    },
    {
     "data": {
      "text/plain": [
       "True"
      ]
     },
     "execution_count": 1,
     "metadata": {},
     "output_type": "execute_result"
    }
   ],
   "source": [
    "import nltk\n",
    "nltk.download()"
   ]
  },
  {
   "cell_type": "code",
   "execution_count": 2,
   "metadata": {},
   "outputs": [],
   "source": [
    "import pandas as pd\n",
    "import numpy as np\n",
    "from nltk.corpus import wordnet as wn\n",
    "import gensim \n",
    "from gensim.models import Word2Vec \n",
    "from gensim.models.doc2vec import Doc2Vec, TaggedDocument\n",
    "import matplotlib.pyplot as plt\n",
    "from sklearn.decomposition import PCA"
   ]
  },
  {
   "cell_type": "code",
   "execution_count": 3,
   "metadata": {},
   "outputs": [],
   "source": [
    "from nltk.tokenize import RegexpTokenizer\n",
    "tokenizer = RegexpTokenizer(r'\\w+')"
   ]
  },
  {
   "cell_type": "code",
   "execution_count": 4,
   "metadata": {},
   "outputs": [],
   "source": [
    "from nltk.corpus import stopwords\n",
    "breakers = {'with', 'without', 'comma', 'and', 'or', 'by', 'in', 'due', 'to', 'of', 'causing'}\n",
    "stop_words= (set(stopwords.words(\"english\")) | {'nan', 'unspecified', 'stated', 'other', 'state'})"
   ]
  },
  {
   "cell_type": "code",
   "execution_count": 5,
   "metadata": {},
   "outputs": [],
   "source": [
    "from nltk.stem.wordnet import WordNetLemmatizer\n",
    "lem = WordNetLemmatizer()"
   ]
  },
  {
   "cell_type": "code",
   "execution_count": 6,
   "metadata": {},
   "outputs": [],
   "source": [
    "from sklearn.preprocessing import OneHotEncoder\n",
    "enc = OneHotEncoder()"
   ]
  },
  {
   "cell_type": "code",
   "execution_count": 7,
   "metadata": {},
   "outputs": [],
   "source": [
    "from sklearn.preprocessing import OneHotEncoder\n",
    "import itertools"
   ]
  },
  {
   "cell_type": "code",
   "execution_count": 8,
   "metadata": {},
   "outputs": [],
   "source": [
    "df_train = np.asarray(pd.read_csv(\"data/diabetes/diab_train.csv\", skiprows=1, header=None))\n",
    "df_val = np.asarray(pd.read_csv(\"data/diabetes/diab_validation.csv\", skiprows=1, header=None))\n",
    "df_test = np.asarray(pd.read_csv(\"data/diabetes/diab_test.csv\", skiprows=1, header=None))"
   ]
  },
  {
   "cell_type": "code",
   "execution_count": 9,
   "metadata": {},
   "outputs": [],
   "source": [
    "X = np.hstack([df_train[:,:-4], df_train[:,-3:]])\n",
    "X_val = np.hstack([df_val[:,:-4], df_val[:,-3:]])\n",
    "X_test = np.hstack([df_test[:,:-4], df_test[:,-3:]])\n",
    "Y = df_train[:,-4]\n",
    "Y_val = df_val[:,-4]\n",
    "Y_test = df_test[:,-4]"
   ]
  },
  {
   "cell_type": "code",
   "execution_count": 10,
   "metadata": {},
   "outputs": [],
   "source": [
    "X_all = np.vstack([X, X_val, X_test])"
   ]
  },
  {
   "cell_type": "code",
   "execution_count": 55,
   "metadata": {},
   "outputs": [],
   "source": [
    "def sanitize(doc, breaks=True):\n",
    "    return [lem.lemmatize(w) for w in tokenizer.tokenize(str(doc).replace(\",\", \" comma\").lower())\\\n",
    "                     if w not in stop_words or (breaks and w in breakers)]"
   ]
  },
  {
   "cell_type": "code",
   "execution_count": 110,
   "metadata": {},
   "outputs": [],
   "source": [
    "def onehot(keys, tokens_docs, truncate=100):\n",
    "    # convert list of of token-lists to one flat list of tokens\n",
    "    # and then create a dictionary that maps word to id of word,\n",
    "    all_tokens = itertools.chain.from_iterable(tokens_docs)\n",
    "    word_to_id = {token: idx for idx, token in enumerate(set(all_tokens))}\n",
    "\n",
    "    # convert token lists to token-id lists\n",
    "    token_ids = [[word_to_id[token] for token in tokens_doc] for tokens_doc in tokens_docs]\n",
    "\n",
    "    maxl = 0\n",
    "    maxi = 0\n",
    "    for t in token_ids:\n",
    "        maxl = max(maxl, len(t))\n",
    "        for w in t:\n",
    "            maxi = max(maxi, w)\n",
    "\n",
    "    mapping = {}\n",
    "    for i,t in enumerate(token_ids):\n",
    "        enc = np.zeros((min(maxl, truncate), maxi+1))\n",
    "        for j in range(min(len(t), truncate)):\n",
    "            enc[j][t[j]] += 1\n",
    "        mapping[keys[i]] = enc\n",
    "    return mapping"
   ]
  },
  {
   "cell_type": "code",
   "execution_count": 572,
   "metadata": {},
   "outputs": [],
   "source": [
    "def encode(index, mapping, force_string=False):\n",
    "    Xp = X_all[:,index]\n",
    "    \n",
    "    if force_string:\n",
    "        Xp = Xp.astype(str)\n",
    "\n",
    "    return np.asarray([mapping[x] for x in Xp])"
   ]
  },
  {
   "cell_type": "code",
   "execution_count": 573,
   "metadata": {},
   "outputs": [],
   "source": [
    "def identity_map(data):\n",
    "    return {x:x for x in set(data)}"
   ]
  },
  {
   "cell_type": "code",
   "execution_count": 574,
   "metadata": {},
   "outputs": [],
   "source": [
    "encodings = []"
   ]
  },
  {
   "cell_type": "markdown",
   "metadata": {},
   "source": [
    "Race"
   ]
  },
  {
   "cell_type": "code",
   "execution_count": 575,
   "metadata": {},
   "outputs": [
    {
     "name": "stdout",
     "output_type": "stream",
     "text": [
      "{'Hispanic', 'Other', 'Asian', 'Caucasian', '?', 'AfricanAmerican'}\n"
     ]
    }
   ],
   "source": [
    "print(set(X_all[:,1]))"
   ]
  },
  {
   "cell_type": "code",
   "execution_count": 576,
   "metadata": {},
   "outputs": [],
   "source": [
    "race = {'Other': 1, 'Asian':2, 'Caucasian':3, 'Hispanic':4, 'AfricanAmerican':5, '?':0}"
   ]
  },
  {
   "cell_type": "code",
   "execution_count": 577,
   "metadata": {},
   "outputs": [],
   "source": [
    "encodings.append(race)"
   ]
  },
  {
   "cell_type": "markdown",
   "metadata": {},
   "source": [
    "Gender"
   ]
  },
  {
   "cell_type": "code",
   "execution_count": 578,
   "metadata": {
    "scrolled": true
   },
   "outputs": [
    {
     "name": "stdout",
     "output_type": "stream",
     "text": [
      "{'Female', 'Male'}\n"
     ]
    }
   ],
   "source": [
    "print(set(X_all[:,2]))"
   ]
  },
  {
   "cell_type": "code",
   "execution_count": 579,
   "metadata": {},
   "outputs": [],
   "source": [
    "gender = {'Male': 0, 'Female': 1}"
   ]
  },
  {
   "cell_type": "code",
   "execution_count": 580,
   "metadata": {},
   "outputs": [],
   "source": [
    "encodings.append(gender)"
   ]
  },
  {
   "cell_type": "markdown",
   "metadata": {},
   "source": [
    "Age"
   ]
  },
  {
   "cell_type": "code",
   "execution_count": 581,
   "metadata": {},
   "outputs": [
    {
     "name": "stdout",
     "output_type": "stream",
     "text": [
      "{'[50-60)', '[80-90)', '[10-20)', '[20-30)', '[30-40)', '[90-100)', '[0-10)', '[70-80)', '[40-50)', '[60-70)'}\n"
     ]
    }
   ],
   "source": [
    "print(set(X_all[:,3]))"
   ]
  },
  {
   "cell_type": "code",
   "execution_count": 582,
   "metadata": {},
   "outputs": [],
   "source": [
    "age = {'[0-10)': 0, '[80-90)': 8, '[60-70)': 6, '[50-60)': 5,\\\n",
    "          '[30-40)': 3, '[20-30)':2, '[90-100)':9, '[40-50)':4, '[70-80)': 7, '[10-20)': 10}"
   ]
  },
  {
   "cell_type": "code",
   "execution_count": 583,
   "metadata": {},
   "outputs": [],
   "source": [
    "encodings.append(age)"
   ]
  },
  {
   "cell_type": "markdown",
   "metadata": {},
   "source": [
    "Weight"
   ]
  },
  {
   "cell_type": "code",
   "execution_count": 584,
   "metadata": {},
   "outputs": [
    {
     "name": "stdout",
     "output_type": "stream",
     "text": [
      "{'[100-125)', '[0-25)', '[75-100)', '[125-150)', '?', '[25-50)', '[150-175)', '[50-75)'}\n"
     ]
    }
   ],
   "source": [
    "print(set(X_all[:,4]))"
   ]
  },
  {
   "cell_type": "code",
   "execution_count": 585,
   "metadata": {},
   "outputs": [],
   "source": [
    "weight = {'[25-50)': 25, '[150-175)': 150, '[75-100)': 75,\\\n",
    "          '[0-25)': 0, '[125-150)': 125, '[50-75)': 50, '[100-125)':100, '?': 73}"
   ]
  },
  {
   "cell_type": "code",
   "execution_count": 586,
   "metadata": {},
   "outputs": [],
   "source": [
    "encodings.append(weight)"
   ]
  },
  {
   "cell_type": "markdown",
   "metadata": {},
   "source": [
    "Admission Type ID"
   ]
  },
  {
   "cell_type": "code",
   "execution_count": 587,
   "metadata": {},
   "outputs": [
    {
     "name": "stdout",
     "output_type": "stream",
     "text": [
      "{nan, 'Urgent', 'Elective', 'Newborn', 'Not Mapped', 'Not Available', 'Emergency'}\n"
     ]
    }
   ],
   "source": [
    "print(set(X_all[:,5]))"
   ]
  },
  {
   "cell_type": "code",
   "execution_count": 588,
   "metadata": {},
   "outputs": [],
   "source": [
    "admission_type = {'nan': 0, 'Newborn': 2, 'Emergency':4,\\\n",
    "                  'Not Mapped': 0, 'Not Available': 0, 'Urgent': 3, 'Elective': 1}"
   ]
  },
  {
   "cell_type": "code",
   "execution_count": 643,
   "metadata": {},
   "outputs": [],
   "source": [
    "X_all[:,5] = X_all[:,5].astype(str)"
   ]
  },
  {
   "cell_type": "code",
   "execution_count": 590,
   "metadata": {},
   "outputs": [],
   "source": [
    "encodings.append(admission_type)"
   ]
  },
  {
   "cell_type": "markdown",
   "metadata": {},
   "source": [
    "Discharge Disposition ID"
   ]
  },
  {
   "cell_type": "code",
   "execution_count": 591,
   "metadata": {},
   "outputs": [
    {
     "name": "stdout",
     "output_type": "stream",
     "text": [
      "22 Items\n",
      "['Admitted as an inpatient to this hospital', 'Discharged to home', 'Discharged/transferred to ICF', 'Discharged/transferred to SNF', 'Discharged/transferred to a federal health care facility.', 'Discharged/transferred to a long term care hospital.', 'Discharged/transferred to a nursing facility certified under Medicaid but not certified under Medicare', 'Discharged/transferred to another  type of inpatient care institution', 'Discharged/transferred to another rehab fac including rehab units of a hospital.', 'Discharged/transferred to another short term hospital', 'Discharged/transferred to home under care of Home IV provider', 'Discharged/transferred to home with home health service', 'Discharged/transferred within this institution to Medicare approved swing bed', 'Discharged/transferred/referred another institution for outpatient services', 'Discharged/transferred/referred to a psychiatric hospital of a psychiatric distinct part unit of a hospital', 'Discharged/transferred/referred to this institution for outpatient services', 'Expired', 'Hospice / home', 'Hospice / medical facility', 'Left AMA', 'Not Mapped', 'nan']\n"
     ]
    }
   ],
   "source": [
    "print(len(set(X_all[:,6])), 'Items')\n",
    "print(sorted(list(set(X_all[:,6].astype(str)))))"
   ]
  },
  {
   "cell_type": "code",
   "execution_count": 592,
   "metadata": {},
   "outputs": [],
   "source": [
    "discharge_disposition = sorted([sanitize(s, breaks=False) for s in set(X_all[:,6].astype(str))])\n",
    "discharge_disposition_onehot = onehot([s for s in set(X_all[:,6].astype(str))], discharge_disposition, truncate=4)"
   ]
  },
  {
   "cell_type": "code",
   "execution_count": 593,
   "metadata": {},
   "outputs": [
    {
     "ename": "ValueError",
     "evalue": "too many values to unpack (expected 3)",
     "output_type": "error",
     "traceback": [
      "\u001b[0;31m---------------------------------------------------------------------------\u001b[0m",
      "\u001b[0;31mValueError\u001b[0m                                Traceback (most recent call last)",
      "\u001b[0;32m<ipython-input-593-a33a2a773e36>\u001b[0m in \u001b[0;36m<module>\u001b[0;34m\u001b[0m\n\u001b[0;32m----> 1\u001b[0;31m \u001b[0mX_6\u001b[0m\u001b[0;34m,\u001b[0m \u001b[0mX_val_6\u001b[0m\u001b[0;34m,\u001b[0m \u001b[0mX_test_6\u001b[0m \u001b[0;34m=\u001b[0m \u001b[0mencode\u001b[0m\u001b[0;34m(\u001b[0m\u001b[0;36m6\u001b[0m\u001b[0;34m,\u001b[0m \u001b[0mdischarge_disposition_onehot\u001b[0m\u001b[0;34m,\u001b[0m \u001b[0mforce_string\u001b[0m\u001b[0;34m=\u001b[0m\u001b[0;32mTrue\u001b[0m\u001b[0;34m)\u001b[0m\u001b[0;34m\u001b[0m\u001b[0;34m\u001b[0m\u001b[0m\n\u001b[0m",
      "\u001b[0;31mValueError\u001b[0m: too many values to unpack (expected 3)"
     ]
    }
   ],
   "source": [
    "X_6, X_val_6, X_test_6 = encode(6, discharge_disposition_onehot, force_string=True)"
   ]
  },
  {
   "cell_type": "markdown",
   "metadata": {},
   "source": [
    "Admission Source ID"
   ]
  },
  {
   "cell_type": "code",
   "execution_count": 594,
   "metadata": {},
   "outputs": [
    {
     "name": "stdout",
     "output_type": "stream",
     "text": [
      "['Clinic Referral', 'Court/Law Enforcement', 'Emergency Room', 'HMO Referral', 'Not Available', 'Not Mapped', 'Physician Referral', 'Transfer from a Skilled Nursing Facility (SNF)', 'Transfer from a hospital', 'Transfer from another health care facility', 'nan']\n"
     ]
    }
   ],
   "source": [
    "print(sorted(list(set(X_all[:,7].astype(str)))))"
   ]
  },
  {
   "cell_type": "code",
   "execution_count": 656,
   "metadata": {},
   "outputs": [],
   "source": [
    "admission_src_id = {'Clinic Referral':np.asarray([1,0,0,0,0,0,0,0,0]), \\\n",
    "                    'Court/Law Enforcement':np.asarray([0,1,0,0,0,0,0,0,0]), \\\n",
    "                    'Emergency Room':np.asarray([0,0,1,0,0,0,0,0,0]), \\\n",
    "                    'HMO Referral':np.asarray([0,0,0,1,0,0,0,0,0]), \\\n",
    "                    'Not Available':np.asarray([0,0,0,0,1,0,0,0,0]), \\\n",
    "                    'Not Mapped':np.asarray([0,0,0,0,1,0,0,0,0]), \\\n",
    "                    'Physician Referral':np.asarray([0,0,0,0,0,1,0,0,0]), \\\n",
    "                    'Transfer from a Skilled Nursing Facility (SNF)':np.asarray([0,0,0,0,0,0,1,0,0]), \\\n",
    "                    'Transfer from a hospital':np.asarray([0,0,0,0,0,0,0,1,0]), \\\n",
    "                    'Transfer from another health care facility':np.asarray([0,0,0,0,0,0,0,0,1])}"
   ]
  },
  {
   "cell_type": "code",
   "execution_count": 657,
   "metadata": {},
   "outputs": [],
   "source": [
    "X_all[:,7] = X_all[:,7].astype(str)"
   ]
  },
  {
   "cell_type": "code",
   "execution_count": 658,
   "metadata": {},
   "outputs": [],
   "source": [
    "encodings.append(admission_src_id)"
   ]
  },
  {
   "cell_type": "markdown",
   "metadata": {},
   "source": [
    "Time in Hospital"
   ]
  },
  {
   "cell_type": "code",
   "execution_count": 598,
   "metadata": {},
   "outputs": [
    {
     "name": "stdout",
     "output_type": "stream",
     "text": [
      "{1, 2, 3, 4, 5, 6, 7, 8, 9, 10, 11, 12, 13, 14}\n"
     ]
    }
   ],
   "source": [
    "print(set(X_all[:,8]))"
   ]
  },
  {
   "cell_type": "code",
   "execution_count": 599,
   "metadata": {},
   "outputs": [],
   "source": [
    "encodings.append(identity_map(X_all[:,8]))"
   ]
  },
  {
   "cell_type": "markdown",
   "metadata": {},
   "source": [
    "Payer Code"
   ]
  },
  {
   "cell_type": "code",
   "execution_count": 600,
   "metadata": {},
   "outputs": [
    {
     "name": "stdout",
     "output_type": "stream",
     "text": [
      "{'DM', 'CP', 'CM', 'SI', 'CH', 'OG', 'PO', 'OT', 'MC', '?', 'UN', 'BC', 'WC', 'HM', 'SP', 'MD'}\n"
     ]
    }
   ],
   "source": [
    "print(set(X_all[:,9]))"
   ]
  },
  {
   "cell_type": "code",
   "execution_count": 601,
   "metadata": {},
   "outputs": [],
   "source": [
    "payer_code = {k:i for i,k in enumerate(set(X_all[:,9]))}"
   ]
  },
  {
   "cell_type": "code",
   "execution_count": 602,
   "metadata": {},
   "outputs": [],
   "source": [
    "encodings.append(payer_code)"
   ]
  },
  {
   "cell_type": "markdown",
   "metadata": {},
   "source": [
    "Medical Speciality"
   ]
  },
  {
   "cell_type": "code",
   "execution_count": 603,
   "metadata": {},
   "outputs": [
    {
     "name": "stdout",
     "output_type": "stream",
     "text": [
      "['?', 'Anesthesiology-Pediatric', 'Cardiology', 'Cardiology-Pediatric', 'Emergency/Trauma', 'Endocrinology', 'Family/GeneralPractice', 'Gastroenterology', 'Gynecology', 'Hematology', 'Hematology/Oncology', 'Hospitalist', 'InfectiousDiseases', 'InternalMedicine', 'Nephrology', 'Neurology', 'Obsterics&Gynecology-GynecologicOnco', 'Obstetrics', 'ObstetricsandGynecology', 'Oncology', 'Ophthalmology', 'Orthopedics', 'Orthopedics-Reconstructive', 'Osteopath', 'Otolaryngology', 'OutreachServices', 'Pathology', 'Pediatrics', 'Pediatrics-CriticalCare', 'Pediatrics-EmergencyMedicine', 'Pediatrics-Endocrinology', 'Pediatrics-Hematology-Oncology', 'Pediatrics-Pulmonology', 'PhysicalMedicineandRehabilitation', 'PhysicianNotFound', 'Podiatry', 'Psychiatry', 'Psychology', 'Pulmonology', 'Radiologist', 'Radiology', 'Surgeon', 'Surgery-Cardiovascular', 'Surgery-Cardiovascular/Thoracic', 'Surgery-Colon&Rectal', 'Surgery-General', 'Surgery-Neuro', 'Surgery-Pediatric', 'Surgery-Plastic', 'Surgery-PlasticwithinHeadandNeck', 'Surgery-Thoracic', 'Surgery-Vascular', 'Urology']\n"
     ]
    }
   ],
   "source": [
    "print(sorted([s for s in set(X_all[:,10])]))"
   ]
  },
  {
   "cell_type": "code",
   "execution_count": 604,
   "metadata": {},
   "outputs": [],
   "source": [
    "medical_speciality = sorted([sanitize(s, breaks=False) for s in set(X_all[:,10])])\n",
    "medical_speciality_onehot = onehot([s for s in set(X_all[:,10])], medical_speciality)"
   ]
  },
  {
   "cell_type": "code",
   "execution_count": 605,
   "metadata": {},
   "outputs": [
    {
     "ename": "ValueError",
     "evalue": "too many values to unpack (expected 3)",
     "output_type": "error",
     "traceback": [
      "\u001b[0;31m---------------------------------------------------------------------------\u001b[0m",
      "\u001b[0;31mValueError\u001b[0m                                Traceback (most recent call last)",
      "\u001b[0;32m<ipython-input-605-07bd44216b20>\u001b[0m in \u001b[0;36m<module>\u001b[0;34m\u001b[0m\n\u001b[0;32m----> 1\u001b[0;31m \u001b[0mX_10\u001b[0m\u001b[0;34m,\u001b[0m \u001b[0mX_val_10\u001b[0m\u001b[0;34m,\u001b[0m \u001b[0mX_test_10\u001b[0m \u001b[0;34m=\u001b[0m \u001b[0mencode\u001b[0m\u001b[0;34m(\u001b[0m\u001b[0;36m10\u001b[0m\u001b[0;34m,\u001b[0m \u001b[0mmedical_speciality_onehot\u001b[0m\u001b[0;34m)\u001b[0m\u001b[0;34m\u001b[0m\u001b[0;34m\u001b[0m\u001b[0m\n\u001b[0m",
      "\u001b[0;31mValueError\u001b[0m: too many values to unpack (expected 3)"
     ]
    }
   ],
   "source": [
    "X_10, X_val_10, X_test_10 = encode(10, medical_speciality_onehot)"
   ]
  },
  {
   "cell_type": "markdown",
   "metadata": {},
   "source": [
    "Number of Lab Procedures"
   ]
  },
  {
   "cell_type": "code",
   "execution_count": 606,
   "metadata": {},
   "outputs": [
    {
     "name": "stdout",
     "output_type": "stream",
     "text": [
      "{1, 2, 3, 4, 5, 6, 7, 8, 9, 10, 11, 12, 13, 14, 15, 16, 17, 18, 19, 20, 21, 22, 23, 24, 25, 26, 27, 28, 29, 30, 31, 32, 33, 34, 35, 36, 37, 38, 39, 40, 41, 42, 43, 44, 45, 46, 47, 48, 49, 50, 51, 52, 53, 54, 55, 56, 57, 58, 59, 60, 61, 62, 63, 64, 65, 66, 67, 68, 69, 70, 71, 72, 73, 74, 75, 76, 77, 78, 79, 80, 81, 82, 83, 84, 85, 86, 87, 88, 89, 90, 91, 92, 93, 94, 95, 96, 97, 98, 101, 103, 104, 106, 107, 108, 109, 113, 114, 120}\n"
     ]
    }
   ],
   "source": [
    "print(set(X_all[:,11]))"
   ]
  },
  {
   "cell_type": "code",
   "execution_count": 607,
   "metadata": {},
   "outputs": [],
   "source": [
    "encodings.append(identity_map(X_all[:,11]))"
   ]
  },
  {
   "cell_type": "markdown",
   "metadata": {},
   "source": [
    "Number of Procedures"
   ]
  },
  {
   "cell_type": "code",
   "execution_count": 608,
   "metadata": {},
   "outputs": [
    {
     "name": "stdout",
     "output_type": "stream",
     "text": [
      "{0, 1, 2, 3, 4, 5, 6}\n"
     ]
    }
   ],
   "source": [
    "print(set(X_all[:,12]))"
   ]
  },
  {
   "cell_type": "code",
   "execution_count": 609,
   "metadata": {},
   "outputs": [],
   "source": [
    "encodings.append(identity_map(X_all[:,12]))"
   ]
  },
  {
   "cell_type": "markdown",
   "metadata": {},
   "source": [
    "Number of Medications"
   ]
  },
  {
   "cell_type": "code",
   "execution_count": 610,
   "metadata": {},
   "outputs": [
    {
     "name": "stdout",
     "output_type": "stream",
     "text": [
      "{1, 2, 3, 4, 5, 6, 7, 8, 9, 10, 11, 12, 13, 14, 15, 16, 17, 18, 19, 20, 21, 22, 23, 24, 25, 26, 27, 28, 29, 30, 31, 32, 33, 34, 35, 36, 37, 38, 39, 40, 41, 42, 43, 44, 45, 46, 47, 48, 49, 50, 51, 52, 53, 54, 55, 56, 57, 58, 59, 60, 61, 62, 63, 65, 67, 74, 75, 81}\n"
     ]
    }
   ],
   "source": [
    "print(set(X_all[:,13]))"
   ]
  },
  {
   "cell_type": "code",
   "execution_count": 611,
   "metadata": {},
   "outputs": [],
   "source": [
    "encodings.append(identity_map(X_all[:,13]))"
   ]
  },
  {
   "cell_type": "markdown",
   "metadata": {},
   "source": [
    "Number Outpatient"
   ]
  },
  {
   "cell_type": "code",
   "execution_count": 612,
   "metadata": {},
   "outputs": [
    {
     "name": "stdout",
     "output_type": "stream",
     "text": [
      "{0, 1, 2, 3, 4, 5, 6, 7, 8, 9, 10, 11, 12, 13, 14, 15, 16, 17, 18, 19, 21, 27, 36}\n"
     ]
    }
   ],
   "source": [
    "print(set(X_all[:,14]))"
   ]
  },
  {
   "cell_type": "code",
   "execution_count": 613,
   "metadata": {},
   "outputs": [],
   "source": [
    "encodings.append(identity_map(X_all[:,14]))"
   ]
  },
  {
   "cell_type": "markdown",
   "metadata": {},
   "source": [
    "Number Emergency"
   ]
  },
  {
   "cell_type": "code",
   "execution_count": 614,
   "metadata": {},
   "outputs": [
    {
     "name": "stdout",
     "output_type": "stream",
     "text": [
      "{0, 1, 2, 3, 4, 5, 6, 7, 8, 9, 42, 13}\n"
     ]
    }
   ],
   "source": [
    "print(set(X_all[:,15]))"
   ]
  },
  {
   "cell_type": "code",
   "execution_count": 615,
   "metadata": {},
   "outputs": [],
   "source": [
    "encodings.append(identity_map(X_all[:,15]))"
   ]
  },
  {
   "cell_type": "markdown",
   "metadata": {},
   "source": [
    "Number Inpatient"
   ]
  },
  {
   "cell_type": "code",
   "execution_count": 616,
   "metadata": {},
   "outputs": [
    {
     "name": "stdout",
     "output_type": "stream",
     "text": [
      "{0, 1, 2, 3, 4, 5, 6, 7, 8, 9, 10}\n"
     ]
    }
   ],
   "source": [
    "print(set(X_all[:,16]))"
   ]
  },
  {
   "cell_type": "code",
   "execution_count": 617,
   "metadata": {},
   "outputs": [],
   "source": [
    "encodings.append(identity_map(X_all[:,16]))"
   ]
  },
  {
   "cell_type": "markdown",
   "metadata": {},
   "source": [
    "Diagnoses"
   ]
  },
  {
   "cell_type": "code",
   "execution_count": 618,
   "metadata": {},
   "outputs": [
    {
     "name": "stdout",
     "output_type": "stream",
     "text": [
      "{'31', '860', '618', '920', '906', '977', '42', '218', '258', '890', '70', '995', '442', '307', '716', 'V43', 'E949', 'V53', '720', '344', '416', '822', '351', '656', '246', '250.7', '183', '519', '250.82', '459', 'E929', '389', '161', '923', '317', '201', 'V63', '527', '582', '250.5', '440', '935', '?', '714', '308', 'E980', '242', '669', '537', '813', '455', '263', 'E937', '82', '751', '713', 'V25', '458', 'V18', '197', '969', '372', '200', '999', '376', '210', '427', '198', '591', '388', '594', '759', '536', '274', '966', '682', '918', '292', '481', 'E927', 'V12', '530', '736', 'E816', '965', '301', 'V14', '533', '88', '250.43', '991', '385', 'E932', '199', 'E878', 'V56', '691', '250.4', '160', '567', '155', '245', '239', 'V27', '745', '470', 'E939', '214', 'V65', '574', '250.12', '620', '711', '350', '365', 'V58', '185', '741', '614', '374', 'E934', '171', '706', '595', '456', '611', '581', '868', '275', '189', '695', '436', '723', '187', '309', '203', '627', '173', '781', '394', '501', '180', '401', '8', '707', '821', '382', '517', '728', '908', 'E880', '510', '789', '873', '846', 'V72', '314', '250.11', '202', 'V11', '867', '660', '633', 'E815', '402', '905', 'E930', '250.22', 'V54', 'E933', '285', '534', 'V46', '607', '655', '962', 'V10', '205', '922', '110', '792', '958', '53', '708', '746', '997', '543', '816', '319', '446', 'V71', 'E822', 'E885', '485', 'V55', '353', '861', '596', '276', '621', '426', '684', '421', '532', '238', '3', '535', '970', '429', '893', '795', '718', '337', '869', '555', '381', 'V42', '157', '362', '717', '435', '398', '734', '915', '282', '250.8', '474', '306', '583', '866', '623', '396', '626', '5', '250.83', '727', '182', '483', '522', '250.51', '240', '573', '278', '580', '466', '807', '617', '577', '304', '658', '610', 'V62', '265', '557', '354', '170', '756', '79', '553', '151', '158', '27', '204', '592', '645', 'E888', '850', '703', '387', '277', '288', '289', '225', '453', '599', 'E879', '550', 'V08', 'E854', '916', '295', '220', '698', '153', '454', '515', '783', '327', '38', '349', '250.3', 'E944', '796', '340', '244', '989', '786', '808', '230', '250.91', '432', '810', 'V45', '117', '565', '913', '359', '250.21', '907', '747', '9', '227', '600', '731', '11', '342', '255', '164', '737', '141', '492', '410', '840', '972', '250.03', '823', '558', '430', '260', '208', '447', '892', '131', '482', '884', '793', '346', '514', '61', '967', 'E812', '291', '477', '518', '921', '964', '331', 'E819', '934', '280', '250.31', '959', '303', '605', '345', '179', '805', '513', 'V16', '886', '283', '784', '579', '616', '250.6', '787', '598', 'E882', '475', '138', '250.93', '540', '603', '664', '250.53', '380', '729', '368', '883', '348', 'E916', '968', '845', '272', '785', 'E849', 'E858', '414', '172', '491', '910', '193', '945', '377', '619', 'E941', '696', '788', '357', '411', '443', '250.01', '851', '462', '358', '566', '464', '700', '434', '871', '473', '78', '196', '423', '294', '738', '996', '355', 'E887', '865', '286', '709', '250.52', 'E947', '575', 'E943', '722', '424', '441', '94', '641', '361', '560', '572', '847', '752', '343', '162', '826', '150', '791', '335', '496', '608', '271', '569', '465', '250.41', '487', '75', '298', '296', '332', '725', '564', '397', '799', 'E942', '576', '428', '593', '486', '701', '184', '251', '490', '604', '223', '324', '556', '211', '451', 'E950', '322', '654', '512', '403', 'V57', '659', '41', '719', '438', '584', '724', '836', '590', '571', '413', '705', '425', '647', '992', '305', '780', '356', '250.81', '370', '233', '812', '693', '405', '250.33', '378', '824', '586', '290', '825', '135', 'V17', '369', '228', '692', '250.13', '154', '433', '924', '250.23', '753', '507', '852', '261', '412', 'V09', '820', '318', '313', '644', 'V44', 'E935', '578', '933', '625', '801', '721', '642', '710', '250.1', '253', '444', '493', '794', '643', '694', '853', '478', '226', '386', '404', '273', '681', '461', 'V85', '112', '782', '395', 'V64', '437', '191', '715', '800', '790', '384', '299', '250.92', '266', '663', '379', '843', '521', '250.32', 'V70', 'E915', '310', '156', '293', '431', 'E917', '528', '735', '511', 'E938', '250.02', '284', '250', '568', '325', '415', '494', '680', '862', '250.2', '646', '281', '648', '34', '661', '585', '311', '366', 'E905', '262', '844', '652', '136', 'E884', '300', '531', '323', '241', '174', '188', '552', '802', '480', '601', '316', '758', 'V66', '360', '420', '730', '562', '882', '814', '287', '235', '588', '516', '252', '457', '333', '54', 'E928', '508', '726', '733', '250.42', '312', '998', 'V49', '250.9', '452', '622', 'V15'}\n"
     ]
    }
   ],
   "source": [
    "print(set(X_all[:,17])|set(X_all[:,18])|set(X_all[:,19]))"
   ]
  },
  {
   "cell_type": "markdown",
   "metadata": {},
   "source": [
    "Number of Diagnoses"
   ]
  },
  {
   "cell_type": "code",
   "execution_count": 619,
   "metadata": {},
   "outputs": [
    {
     "name": "stdout",
     "output_type": "stream",
     "text": [
      "{1, 2, 3, 4, 5, 6, 7, 8, 9}\n"
     ]
    }
   ],
   "source": [
    "print(set(X_all[:,20]))"
   ]
  },
  {
   "cell_type": "code",
   "execution_count": 620,
   "metadata": {},
   "outputs": [],
   "source": [
    "encodings.append(identity_map(X_all[:,20]))"
   ]
  },
  {
   "cell_type": "markdown",
   "metadata": {},
   "source": [
    "Max Glucose Serum"
   ]
  },
  {
   "cell_type": "code",
   "execution_count": 621,
   "metadata": {},
   "outputs": [
    {
     "name": "stdout",
     "output_type": "stream",
     "text": [
      "{'Norm', '>200', '>300', 'None'}\n"
     ]
    }
   ],
   "source": [
    "print(set(X_all[:,21]))"
   ]
  },
  {
   "cell_type": "code",
   "execution_count": 622,
   "metadata": {},
   "outputs": [],
   "source": [
    "max_glu_serum = {'Norm':0, '>300':3, 'None':1, '>200':2}"
   ]
  },
  {
   "cell_type": "code",
   "execution_count": 623,
   "metadata": {},
   "outputs": [],
   "source": [
    "encodings.append(max_glu_serum)"
   ]
  },
  {
   "cell_type": "markdown",
   "metadata": {},
   "source": [
    "A1Cresult"
   ]
  },
  {
   "cell_type": "code",
   "execution_count": 624,
   "metadata": {},
   "outputs": [
    {
     "name": "stdout",
     "output_type": "stream",
     "text": [
      "{'Norm', '>8', '>7', 'None'}\n"
     ]
    }
   ],
   "source": [
    "print(set(X_all[:,22]))"
   ]
  },
  {
   "cell_type": "code",
   "execution_count": 625,
   "metadata": {},
   "outputs": [],
   "source": [
    "a1c_res = {'>7': 2, 'Norm': 0, '>8': 3, 'None': 1}"
   ]
  },
  {
   "cell_type": "code",
   "execution_count": 626,
   "metadata": {},
   "outputs": [],
   "source": [
    "encodings.append(a1c_res)"
   ]
  },
  {
   "cell_type": "markdown",
   "metadata": {},
   "source": [
    "Metformin - Metformin Pioglitazone"
   ]
  },
  {
   "cell_type": "code",
   "execution_count": 627,
   "metadata": {},
   "outputs": [
    {
     "name": "stdout",
     "output_type": "stream",
     "text": [
      "{'Down', 'Steady', 'No', 'Up'}\n"
     ]
    }
   ],
   "source": [
    "print(set(X_all[:,23]))"
   ]
  },
  {
   "cell_type": "code",
   "execution_count": 628,
   "metadata": {},
   "outputs": [],
   "source": [
    "drug_change = {'Down': 1, 'No': 0, 'Steady': 2, 'Up': 3}"
   ]
  },
  {
   "cell_type": "code",
   "execution_count": 629,
   "metadata": {},
   "outputs": [],
   "source": [
    "encodings += [drug_change] * 23"
   ]
  },
  {
   "cell_type": "markdown",
   "metadata": {},
   "source": [
    "Change"
   ]
  },
  {
   "cell_type": "code",
   "execution_count": 630,
   "metadata": {},
   "outputs": [
    {
     "name": "stdout",
     "output_type": "stream",
     "text": [
      "{'No', 'Ch'}\n"
     ]
    }
   ],
   "source": [
    "print(set(X_all[:,46]))"
   ]
  },
  {
   "cell_type": "code",
   "execution_count": 631,
   "metadata": {},
   "outputs": [],
   "source": [
    "change = {'No': 0, 'Ch': 1}"
   ]
  },
  {
   "cell_type": "code",
   "execution_count": 632,
   "metadata": {},
   "outputs": [],
   "source": [
    "encodings.append(change)"
   ]
  },
  {
   "cell_type": "markdown",
   "metadata": {},
   "source": [
    "Diabetes Medication"
   ]
  },
  {
   "cell_type": "code",
   "execution_count": 633,
   "metadata": {},
   "outputs": [
    {
     "name": "stdout",
     "output_type": "stream",
     "text": [
      "{'No', 'Yes'}\n"
     ]
    }
   ],
   "source": [
    "print(set(X_all[:,47]))"
   ]
  },
  {
   "cell_type": "code",
   "execution_count": 634,
   "metadata": {},
   "outputs": [],
   "source": [
    "diabetes_med = {'No': 0, 'Yes': 1}"
   ]
  },
  {
   "cell_type": "code",
   "execution_count": 635,
   "metadata": {},
   "outputs": [],
   "source": [
    "encodings.append(diabetes_med)"
   ]
  },
  {
   "cell_type": "markdown",
   "metadata": {},
   "source": [
    "Diagnoses Description"
   ]
  },
  {
   "cell_type": "code",
   "execution_count": 636,
   "metadata": {},
   "outputs": [
    {
     "name": "stdout",
     "output_type": "stream",
     "text": [
      "{nan, 'Closed fracture of upper end of forearm, unspecified', 'Postmastectomy lymphedema syndrome', 'Hereditary peripheral neuropathy', 'Chronic tonsillitis', 'Chronic pyelonephritis without lesion of renal medullary necrosis', 'Anal and rectal polyp', 'Closed fracture of vault of skull without mention of intracranial injury, unspecified state of consciousness', 'Autoimmune hemolytic anemias', 'Unspecified cardiac device in situ', 'Internal hemorrhoids without mention of complication', 'Cellulitis and abscess of finger, unspecified', 'Allergic urticaria', 'Gouty arthropathy, unspecified', 'Regional enteritis of small intestine', 'Spontaneous tension pneumothorax', 'Other degenerative diseases of the basal ganglia', 'Diabetes mellitus of mother, complicating pregnancy, childbirth, or the puerperium, unspecified as to episode of care or not applicable', 'Dyschromia, unspecified', 'Maternal distress complicating labor and delivery, unspecified as to episode of care or not applicable', 'Cervical spondylosis without myelopathy', 'Benign neoplasm of esophagus', 'Anorexia', 'Malignant neoplasm of hepatic flexure', 'Diabetes with ketoacidosis, type II or unspecified type, uncontrolled', 'Peritoneal adhesions (postoperative) (postinfection)', 'Achlorhydria', 'Bronchopneumonia, organism unspecified', 'Benign essential hypertension complicating pregnancy, childbirth, and the puerperium, unspecified as to episode of care or not applicable', 'Malignant neoplasm of cardia', 'Secondary and unspecified malignant neoplasm of lymph nodes of head, face, and neck', 'Rheumatic aortic stenosis', 'Depressive type psychosis', 'Encephalitis myelitis and encephalomyelitis', 'Care involving breathing exercises', 'Malignant neoplasm of base of tongue', 'Abnormal glandular Papanicolaou smear of cervix', 'Occlusion and stenosis of basilar artery without mention of cerebral infarction', 'Malignant neoplasm of vagina', 'Peritonitis in infectious diseases classified elsewhere', 'Diabetes with neurological manifestations, type II or unspecified type, not stated as uncontrolled', 'Malignant neoplasm of glottis', 'Nephrotic syndrome with lesion of proliferative glomerulonephritis', 'Renal agenesis and dysgenesis', 'Malignant neoplasm of cervical esophagus', \"Cushing's syndrome\", 'Pneumonia due to Klebsiella pneumoniae', 'Other and unspecified noninfectious gastroenteritis and colitis', 'Hemopericardium', 'Candidiasis of mouth', 'Chronic passive congestion of liver', 'Closed fracture of upper end of tibia alone', 'Primary uterine inertia, unspecified as to episode of care or not applicable', 'Unspecified prolapse of vaginal walls', 'Neoplasm of unspecified nature of digestive system', 'Fitting and adjustment of other device', 'Iliofemoral (ligament) sprain', 'Respiratory abnormality, unspecified', 'Other and unspecified intracranial hemorrhage following injury without mention of open intracranial wound, unspecified state of consciousness', 'Constipation, unspecified', 'Acne varioliformis', 'Articular cartilage disorder, site unspecified', 'Nonsenile cataract, unspecified', 'Hematemesis', 'Portal vein thrombosis', 'Diabetes with other specified manifestations, type I [juvenile type], uncontrolled', 'Unspecified deformity of forearm, excluding fingers', 'Leukoplakia of penis', 'Late pregnancy', \"Meckel's diverticulum\", 'Synovitis and tenosynovitis, unspecified', 'Acute vascular insufficiency of intestine', 'Ankylosing spondylitis', 'Hypertensive chronic kidney disease, malignant, with chronic kidney disease stage I through stage IV, or unspecified', 'Malignant neoplasm of thyroid gland', 'Air embolism', 'Diabetes mellitus without mention of complication, type I [juvenile type], uncontrolled', 'Attention to tracheostomy', 'Concussion with no loss of consciousness', 'Acute maxillary sinusitis', 'Central nervous system malformation in fetus, unspecified as to episode of care or not applicable', 'Malignant neoplasm of endocervix', 'Sideroblastic anemia', 'Burn of unspecified degree of lower limb [leg], unspecified site', 'Carcinoma in situ of breast', 'Endometriosis of uterus', 'Delirium due to conditions classified elsewhere', 'Brachial plexus lesions', 'Urinary tract infection, site not specified', 'Idiopathic peripheral autonomic neuropathy, unspecified', 'Toxic effect of hydrocyanic acid and cyanides', 'Nodular lymphoma, unspecified site, extranodal and solid organ sites', 'First-degree perineal laceration, unspecified as to episode of care or not applicable', 'Acute pericarditis in diseases classified elsewhere', 'Congestive heart failure, unspecified', 'Inguinal hernia, with gangrene, unilateral or unspecified (not specified as recurrent)', 'Generalized vaccinia as a complication of medical care, not elsewhere classified', 'Pleurisy without mention of effusion or current tuberculosis', 'Oligohydramnios, unspecified as to episode of care or not applicable', 'Influenza with pneumonia', 'Malignant neoplasm of retroperitoneum', 'Werdnig-Hoffmann disease', 'Nervous system complication, unspecified', 'Spinal stenosis in cervical region', 'Abscess of lung', 'Benign neoplasm of thyroid glands', 'Dengue', 'Closed fracture of intracapsular section of neck of femur, unspecified', 'Observation and evaluation for suspected conditions not found', 'Cellulitis and abscess of face', 'Polyarteritis nodosa', 'Acute kidney failure', 'Secondary malignant neoplasm of lung', 'Orchitis, epididymitis, and epididymo-orchitis, with abscess', 'Arteriovenous fistula, acquired', 'Headache', 'Adjustment disorder with depressed mood', 'Adenovirus infection in conditions classified elsewhere and of unspecified site', 'Hemorrhage, unspecified', 'Acute laryngopharyngitis', 'Residence remote from hospital or other health care facility', 'Ingrowing nail', 'Malignant neoplasm of rectosigmoid junction', 'Rheumatic myocarditis', 'Acquired hypertrophic pyloric stenosis', 'Postcholecystectomy syndrome', 'Myocarditis, unspecified', 'Malignant neoplasm of thymus', 'Infective myositis', 'Simple type schizophrenia, unspecified', 'Injury to bladder and urethra, without mention of open wound into cavity', 'Pulpitis', 'Abrasion or friction burn of finger(s), without mention of infection', 'Pernicious anemia', 'Diabetes with peripheral circulatory disorders, type II or unspecified type, not stated as uncontrolled', 'Diabetes with unspecified complication, type II or unspecified type, uncontrolled', 'Open wound of scalp, without mention of complication', 'Alcohol withdrawal delirium', 'Diseases of tricuspid valve', 'Malignant neoplasm of nasal cavities', 'Fracture of medial malleolus, closed', 'Eczema herpeticum', 'Papilledema, unspecified', 'Peritonsillar abscess', 'Acromegaly and gigantism', 'Carcinoma in situ of lip, oral cavity, and pharynx', 'Bipolar I disorder, single manic episode, unspecified', 'Closed fracture of acetabulum', 'Diabetes with renal manifestations, type II or unspecified type, not stated as uncontrolled', 'Postsurgical hypothyroidism', 'Cervicitis and endocervicitis', 'Goiter, specified as simple', 'Acute gastrojejunal ulcer with hemorrhage, without mention of obstruction', 'Neoplasm of uncertain behavior of major salivary glands', 'Pulmonary collapse', 'Acute cor pulmonale', 'Acute pulmonary manifestations due to radiation', 'Migraine with aura, without mention of intractable migraine without mention of status migrainosus', 'Polycythemia, secondary', 'Traumatic amputation of other finger(s) (complete) (partial), without mention of complication', 'Drug withdrawal', 'Acute salpingitis and oophoritis', 'Ocular laceration without prolapse of intraocular tissue', 'Contact dermatitis and other eczema due to detergents', 'Acute suppurative otitis media without spontaneous rupture of eardrum', 'Nephroptosis', 'Diverticulosis of small intestine (without mention of hemorrhage)', 'Acute thyroiditis', 'Femoral hernia without mention of obstruction of gangrene, unilateral or unspecified(not specified as recurrent)', 'Acute pharyngitis', 'Phlebitis and thrombophlebitis of superficial vessels of lower extremities', 'Basilar artery syndrome', 'Spotted fevers', 'Sprain of neck', 'Lesion of sciatic nerve', 'Diabetes with renal manifestations, type I [juvenile type], not stated as uncontrolled', 'Dermatophytosis of scalp and beard', 'Human immunodeficiency virus [HIV] disease', 'Displacement of cervical intervertebral disc without myelopathy', 'Tracheostomy complication, unspecified', 'Malignant essential hypertension', 'Patent ductus arteriosus', 'Malignant neoplasm of liver, primary', 'Abdominal pain, unspecified site', 'Abnormal function study of brain and central nervous system, unspecified', 'Pneumonia due to mycoplasma pneumoniae', 'Absence of menstruation', 'Acquired deformity of nose', 'Degenerative and vascular disorders, unspecified', 'Hereditary spherocytosis', 'Abdominal pregnancy without intrauterine pregnancy', 'Injury to other intra-abdominal organs without mention of open wound into cavity, unspecified intra-abdominal organ', 'Hypertensive heart and chronic kidney disease, malignant, without heart failure and with chronic kidney disease stage I through stage IV, or unspecified', 'Acute infective polyneuritis', 'Hypertrophy of nasal turbinates', 'Diabetes mellitus without mention of complication, type II or unspecified type, not stated as uncontrolled', 'Bartonellosis', 'Calculus of gallbladder with acute cholecystitis, without mention of obstruction', 'Paranoid personality disorder', 'Subarachnoid hemorrhage following injury without mention of open intracranial wound, unspecified state of consciousness', 'Cerebral cysts', 'Diabetes with renal manifestations, type II or unspecified type, uncontrolled', 'Acute myocardial infarction of anterolateral wall, episode of care unspecified', 'Malignant neoplasm of trigone of urinary bladder', 'Diabetes with unspecified complication, type I [juvenile type], uncontrolled', 'Herpes zoster with meningitis', 'Simple chronic bronchitis', 'Unspecified injury of heart without mention of open wound into thorax', 'Premenopausal menorrhagia', 'Viral hepatitis A with hepatic coma', 'Foreign body in mouth', 'Infectious colitis, enteritis, and gastroenteritis', 'Paroxysmal supraventricular tachycardia', 'Mitral valve disorders', 'Encounter for radiotherapy', 'Ulcerative (chronic) enterocolitis', 'Malignant neoplasm of head of pancreas', 'Acute pancreatitis', 'Other retinal disorders', 'Congenital pulmonary valve anomaly, unspecified', 'Poisoning by iron and its compounds', 'Reticulosarcoma, unspecified site, extranodal and solid organ sites', 'Chronic kidney disease (ckd)', 'Other orthopedic aftercare', 'Sprain of lateral collateral ligament of knee', 'Polyp of corpus uteri', 'Disseminated malignant neoplasm without specification of site', 'Retinal detachment with retinal defect, unspecified', 'Hyperparathyroidism, unspecified', 'Follicular cyst of ovary', 'Diabetes mellitus without mention of complication, type II or unspecified type, uncontrolled', 'Alteration of consciousness', 'Obesity, unspecified', 'Seminal vesiculitis', 'Fetal-maternal hemorrhage, unspecified as to episode of care or not applicable', 'Mitral valve stenosis and aortic valve stenosis', 'Nontraumatic extradural hemorrhage', 'Esotropia, unspecified', 'Nonspecific abnormal findings in cerebrospinal fluid', 'Acute peptic ulcer of unspecified site with hemorrhage, without mention of obstruction', 'Encysted hydrocele', 'Acute inflammation of orbit, unspecified', \"Alzheimer's disease\", 'Diabetes with hyperosmolarity, type II or unspecified type, uncontrolled', 'Closed fracture of clavicle, unspecified part', 'Acute bronchitis', 'Acute duodenal ulcer with hemorrhage, without mention of obstruction', 'Poisoning by opium (alkaloids), unspecified', 'Hypertrophy (benign) of prostate without urinary obstruction and other lower urinary tract symptom (LUTS)', 'Pressure ulcer, unspecified site', 'Toxic diffuse goiter without mention of thyrotoxic crisis or storm', 'Submucous leiomyoma of uterus', 'Malignant neoplasm of ovary', 'Diabetes with ketoacidosis, type I [juvenile type], not stated as uncontrolled', 'Open wound of hand except finger(s) alone, without mention of complication', 'Empyema with fistula', 'Late effects of cerebrovascular disease, cognitive deficits', 'Threatened premature labor, unspecified as to episode of care or not applicable', 'Rheumatoid arthritis', 'Other ill-defined and unknown causes of morbidity and mortality', 'Ariboflavinosis', 'Disorders of thyrocalcitonin secretion', 'Diabetes with ketoacidosis, type II or unspecified type, not stated as uncontrolled', 'Poisoning by oxazolidine derivatives', 'Tachycardia, unspecified', 'Systemic lupus erythematosus', 'Acute appendicitis with generalized peritonitis', 'Aneurysm of artery of upper extremity', 'Benign neoplasm of lip', 'Orthostatic hypotension', 'Cerebral atherosclerosis', 'Angina decubitus', 'Allergic purpura', 'Reaction to spinal or lumbar puncture', 'Adult onset fluency disorder', 'Chronic airway obstruction, not elsewhere classified', 'Pneumonia, organism unspecified', 'Postoperative shock, unspecified', 'Disturbance of skin sensation', 'Poisoning by adrenal cortical steroids', 'Acute prostatitis', 'Malnutrition of moderate degree', 'Closed fracture of base of skull without mention of intra cranial injury, unspecified state of consciousness', 'Hypoglycemic coma', 'Other anaphylactic reaction', 'Malignant neoplasm of kidney, except pelvis', 'Pneumonia due to adenovirus', 'Injury other and unspecified', 'Corneal ulcer, unspecified', 'Diabetes with other specified manifestations, type II or unspecified type, uncontrolled', 'Pneumonitis due to inhalation of food or vomitus', 'Varicose veins of lower extremities with ulcer', 'Frostbite of face', 'Malignant neoplasm of connective and other soft tissue of head, face, and neck', 'Cystic fibrosis without mention of meconium ileus', 'Sprain of ankle, unspecified site', 'Perichondritis of pinna, unspecified', 'Stomatitis and mucositis, unspecified', 'Mechanical complication of unspecified cardiac device, implant, and graft', 'Open wound of toe(s), without mention of complication', 'Abscess of anal and rectal regions', 'Abscess of liver', 'Acute cholecystitis', 'Atherosclerosis of aorta', 'Failed mechanical induction of labor, unspecified as to episode of care or not applicable', 'Closed fracture of rib(s), unspecified', 'Opioid type dependence, unspecified', 'Disorders of mineral metabolism', 'Poisoning by cardiac rhythm regulators', 'Closed fracture of unspecified part of upper end of humerus', 'Toxic erythema', 'Malignant neoplasm of cerebrum, except lobes and ventricles', 'Effusion of joint, site unspecified', 'Acute laryngitis without mention of obstruction', 'Chronic maxillary sinusitis', 'Streptococcal septicemia', 'Hydronephrosis', 'Aplastic anemia and other bone marrow failure syndromes', 'Benign neoplasm of ovary', 'Kaschin-Beck disease, site unspecified', 'Intussusception', 'Malignant neoplasm of gallbladder', 'Unstable lie, unspecified as to episode of care or not applicable', 'Diabetes with hyperosmolarity, type II or unspecified type, not stated as uncontrolled', 'Emphysematous bleb', 'Diabetes mellitus without mention of complication, type I [juvenile type], not stated as uncontrolled', 'Intracerebral hemorrhage', \"Raynaud's syndrome\", 'Osteoarthrosis, generalized, site unspecified', 'Malignant neoplasm of penis and other male genital organs', 'Endomyocardial fibrosis', 'Budd-chiari syndrome', 'Profound impairment, both eyes, impairment level not further specified', 'Poisoning by dietetics', 'Closed fracture of patella', 'Foreign body in pharynx', 'Encounter for extracorporeal dialysis', 'Malignant neoplasm of corpus uteri, except isthmus', 'Depressive disorder, not elsewhere classified', 'Scleritis, unspecified', 'Postinflammatory pulmonary fibrosis', 'Anhidrosis', 'Primary pulmonary hypertension', 'Black eye, not otherwise specified', 'Diabetes with other coma, type I [juvenile type], not stated as uncontrolled', 'Acute osteomyelitis, site unspecified', 'Acute alcoholic intoxication in alcoholism, unspecified', 'Calculus of kidney', 'Congenital factor VIII disorder', 'Acute, but ill-defined, cerebrovascular disease', 'Generalized nonconvulsive epilepsy, without mention of intractable epilepsy', 'General counseling and advice on contraceptive management', 'Anal fissure', 'Abnormal involuntary movements', 'Hyperosmolality and/or hypernatremia', 'Benign neoplasm of brain', 'Diabetes with hyperosmolarity, type I [juvenile type], uncontrolled', \"M_ni\\x8fre's disease, unspecified\", 'Other severe protein-calorie malnutrition', 'Alcoholic fatty liver', 'Diabetes with renal manifestations, type I [juvenile type], uncontrolled', 'Inflammatory disease of breast', 'Tuberculosis of lung, infiltrative, unspecified', 'Poisoning by antidepressant, unspecified', 'Anomalies of spleen', 'Acute gastric ulcer with hemorrhage, without mention of obstruction', 'Adhesive capsulitis of shoulder', 'Atrioventricular block, complete', 'Molluscum contagiosum', 'Multiple sclerosis', 'Malignant neoplasm of nipple and areola of female breast', 'Contusion of breast', 'Injury to spleen without mention of open wound into cavity, unspecified injury', 'Cerebral thrombosis without mention of cerebral infarction', 'Diabetes with other coma, type II or unspecified type, not stated as uncontrolled', 'Postmyocardial infarction syndrome', 'Common truncus', \"Bell's palsy\", 'Sprain of lumbosacral (joint) (ligament)', 'Lipoma of skin and subcutaneous tissue of face', 'Contusion of thigh', 'Acute myringitis, unspecified', 'Open wound of foot except toe(s) alone, without mention of complication', 'Dissection of aorta, unspecified site', 'Calculus in diverticulum of bladder', 'Intestinal infection due to E. coli, unspecified', 'Benign neoplasm of adrenal gland', 'Bladder neck obstruction', 'Osteoporosis, unspecified', 'Diabetes with ketoacidosis, type I [juvenile type], uncontrolled', 'Iron deficiency anemia secondary to blood loss (chronic)', 'Flat foot', 'Malignant neoplasm of prostate', 'Spinal stenosis, unspecified region', 'Mild hyperemesis gravidarum, unspecified as to episode of care or not applicable', 'Dyspareunia', 'Acute cystitis', 'Benign neoplasm of kidney, except pelvis', 'Rheumatism, unspecified and fibrositis', 'Acute gastritis, without mention of hemorrhage', 'Subarachnoid hemorrhage', 'Celiac disease', 'Carbuncle and furuncle of face', 'Nonspecific findings on examination of blood', 'Prolapse of cord complicating labor and delivery, unspecified as to episode of care or not applicable', 'Salmonella gastroenteritis', 'Acute and subacute bacterial endocarditis', 'Pruritus ani', 'Cortex (cerebral) contusion without mention of open intracranial wound, unspecified state of consciousness', 'Pyogenic arthritis, site unspecified', 'Diabetes with other specified manifestations, type I [juvenile type], not stated as uncontrolled', 'Closed fracture of carpal bone, unspecified', 'Anxiety state, unspecified', 'Diabetes with other coma, type II or unspecified type, uncontrolled', 'Amnestic disorder in conditions classified elsewhere', 'Corns and callosities', 'Acute leukemia of unspecified cell type, without mention of having achieved remission', 'Esophageal varices with bleeding', 'Renal colic', 'Femoral hernia with obstruction, unilateral or unspecified (not specified as recurrent)', 'Neoplasm of uncertain behavior of bone and articular cartilage', 'Congenital abnormalities of uterus, unspecified as to episode of care or not applicable', 'Diabetes with other specified manifestations, type II or unspecified type, not stated as uncontrolled', 'Paralysis agitans', 'Nontoxic uninodular goiter', 'Malignant hypertensive heart disease without heart failure', 'Acute lymphoid leukemia, without mention of having achieved remission', 'Diabetes with ophthalmic manifestations, type II or unspecified type, uncontrolled', 'Bronchitis, not specified as acute or chronic', 'Pneumococcal pneumonia [Streptococcus pneumoniae pneumonia]', 'Urethral stricture due to unspecified infection', 'Injury to kidney without mention of open wound into cavity, unspecified injury', 'Anomalies of skull and face bones', 'Multiple myeloma, without mention of having achieved remission', 'Secondary malignant neoplasm of kidney', 'Myasthenia gravis without (acute) exacerbation', 'Undersocialized conduct disorder, aggressive type, unspecified', 'Nausea and vomiting', 'Closed fracture of cervical vertebra, unspecified level', 'Atrophy of salivary gland', 'Neutropenia, unspecified', 'Tympanosclerosis, unspecified as to involvement', 'Trigeminal nerve disorders', 'Poisoning by central nervous system muscle-tone depressants', 'Closed fracture of nasal bones', 'Coronary atherosclerosis of unspecified type of vessel, native or graft', 'Abrasion or friction burn of elbow, forearm, and wrist, without mention of infection', 'Urinary-genital tract fistula, female', 'Malignant neoplasm of trachea', 'Achalasia and cardiospasm', 'Diabetes with other coma, type I [juvenile type], uncontrolled', 'Diabetes with hyperosmolarity, type I [juvenile type], not stated as uncontrolled', 'Extrinsic asthma, unspecified', 'Pulmonary congestion and hypostasis', 'Senile dementia, uncomplicated', 'Acute myeloid leukemia, without mention of having achieved remission', 'Closed fracture of unspecified part of femur', 'Arterial embolism and thrombosis'}\n"
     ]
    }
   ],
   "source": [
    "print(set(X_all[:,48]))"
   ]
  },
  {
   "cell_type": "code",
   "execution_count": 637,
   "metadata": {},
   "outputs": [],
   "source": [
    "diagnoses1 = sorted([sanitize(s) for s in set(X_all[:,48])])\n",
    "diagnoses1_onehot = onehot([str(s) for s in set(X_all[:,48])], diagnoses1, truncate=10)"
   ]
  },
  {
   "cell_type": "code",
   "execution_count": 638,
   "metadata": {},
   "outputs": [],
   "source": [
    "diagnoses2 = sorted([sanitize(s) for s in set(X_all[:,49])])\n",
    "diagnoses2_onehot = onehot([str(s) for s in set(X_all[:,49])], diagnoses2, truncate=10)"
   ]
  },
  {
   "cell_type": "code",
   "execution_count": 639,
   "metadata": {},
   "outputs": [],
   "source": [
    "diagnoses3 = sorted([sanitize(s) for s in set(X_all[:,50])])\n",
    "diagnoses3_onehot = onehot([str(s) for s in set(X_all[:,50])], diagnoses3, truncate=10)"
   ]
  },
  {
   "cell_type": "code",
   "execution_count": null,
   "metadata": {},
   "outputs": [],
   "source": []
  },
  {
   "cell_type": "code",
   "execution_count": 640,
   "metadata": {},
   "outputs": [],
   "source": [
    "X_all_enc = np.zeros((len(X_all), 42))"
   ]
  },
  {
   "cell_type": "code",
   "execution_count": 641,
   "metadata": {},
   "outputs": [
    {
     "data": {
      "text/plain": [
       "42"
      ]
     },
     "execution_count": 641,
     "metadata": {},
     "output_type": "execute_result"
    }
   ],
   "source": [
    "len(encodings)"
   ]
  },
  {
   "cell_type": "code",
   "execution_count": 645,
   "metadata": {},
   "outputs": [
    {
     "name": "stdout",
     "output_type": "stream",
     "text": [
      "0 {'Other': 1, 'Asian': 2, 'Caucasian': 3, 'Hispanic': 4, 'AfricanAmerican': 5, '?': 0}\n",
      "1 {'Male': 0, 'Female': 1}\n",
      "2 {'[0-10)': 0, '[80-90)': 8, '[60-70)': 6, '[50-60)': 5, '[30-40)': 3, '[20-30)': 2, '[90-100)': 9, '[40-50)': 4, '[70-80)': 7, '[10-20)': 10}\n",
      "3 {'[25-50)': 25, '[150-175)': 150, '[75-100)': 75, '[0-25)': 0, '[125-150)': 125, '[50-75)': 50, '[100-125)': 100, '?': 73}\n",
      "4 {'nan': 0, 'Newborn': 2, 'Emergency': 4, 'Not Mapped': 0, 'Not Available': 0, 'Urgent': 3, 'Elective': 1}\n"
     ]
    }
   ],
   "source": [
    "for i in range(5):\n",
    "    print(i, encodings[i])\n",
    "    X_all_enc[:,i] = encode(1+i, encodings[i])"
   ]
  },
  {
   "cell_type": "code",
   "execution_count": 646,
   "metadata": {},
   "outputs": [
    {
     "name": "stdout",
     "output_type": "stream",
     "text": [
      "5 {'Clinic Referral': 0, 'Court/Law Enforcement': 1, 'Emergency Room': 2, 'HMO Referral': 3, 'Not Available': 4, 'Not Mapped': 5, 'Physician Referral': 6, 'Transfer from a Skilled Nursing Facility (SNF)': 7, 'Transfer from a hospital': 8, 'Transfer from another health care facility': 9, 'nan': 10} ['Emergency Room' 'Physician Referral' 'Emergency Room' 'Emergency Room'\n",
      " 'Physician Referral']\n",
      "6 {1: 1, 2: 2, 3: 3, 4: 4, 5: 5, 6: 6, 7: 7, 8: 8, 9: 9, 10: 10, 11: 11, 12: 12, 13: 13, 14: 14} [4 1 2 4 13]\n",
      "7 {'DM': 0, 'CP': 1, 'CM': 2, 'SI': 3, 'CH': 4, 'OG': 5, 'PO': 6, 'OT': 7, 'MC': 8, '?': 9, 'UN': 10, 'BC': 11, 'WC': 12, 'HM': 13, 'SP': 14, 'MD': 15} ['MC' '?' 'MC' 'DM' '?']\n"
     ]
    }
   ],
   "source": [
    "for i in range(3):\n",
    "    print(5+i, encodings[5+i], X[:,7+i][:5])\n",
    "    X_all_enc[:,5+i] = encode(7+i, encodings[5+i])"
   ]
  },
  {
   "cell_type": "code",
   "execution_count": 647,
   "metadata": {},
   "outputs": [
    {
     "name": "stdout",
     "output_type": "stream",
     "text": [
      "8 {1: 1, 2: 2, 3: 3, 4: 4, 5: 5, 6: 6, 7: 7, 8: 8, 9: 9, 10: 10, 11: 11, 12: 12, 13: 13, 14: 14, 15: 15, 16: 16, 17: 17, 18: 18, 19: 19, 20: 20, 21: 21, 22: 22, 23: 23, 24: 24, 25: 25, 26: 26, 27: 27, 28: 28, 29: 29, 30: 30, 31: 31, 32: 32, 33: 33, 34: 34, 35: 35, 36: 36, 37: 37, 38: 38, 39: 39, 40: 40, 41: 41, 42: 42, 43: 43, 44: 44, 45: 45, 46: 46, 47: 47, 48: 48, 49: 49, 50: 50, 51: 51, 52: 52, 53: 53, 54: 54, 55: 55, 56: 56, 57: 57, 58: 58, 59: 59, 60: 60, 61: 61, 62: 62, 63: 63, 64: 64, 65: 65, 66: 66, 67: 67, 68: 68, 69: 69, 70: 70, 71: 71, 72: 72, 73: 73, 74: 74, 75: 75, 76: 76, 77: 77, 78: 78, 79: 79, 80: 80, 81: 81, 82: 82, 83: 83, 84: 84, 85: 85, 86: 86, 87: 87, 88: 88, 89: 89, 90: 90, 91: 91, 92: 92, 93: 93, 94: 94, 95: 95, 96: 96, 97: 97, 98: 98, 101: 101, 103: 103, 104: 104, 106: 106, 107: 107, 108: 108, 109: 109, 113: 113, 114: 114, 120: 120} [40 24 59 60 54]\n",
      "9 {0: 0, 1: 1, 2: 2, 3: 3, 4: 4, 5: 5, 6: 6} [4 1 0 1 6]\n",
      "10 {1: 1, 2: 2, 3: 3, 4: 4, 5: 5, 6: 6, 7: 7, 8: 8, 9: 9, 10: 10, 11: 11, 12: 12, 13: 13, 14: 14, 15: 15, 16: 16, 17: 17, 18: 18, 19: 19, 20: 20, 21: 21, 22: 22, 23: 23, 24: 24, 25: 25, 26: 26, 27: 27, 28: 28, 29: 29, 30: 30, 31: 31, 32: 32, 33: 33, 34: 34, 35: 35, 36: 36, 37: 37, 38: 38, 39: 39, 40: 40, 41: 41, 42: 42, 43: 43, 44: 44, 45: 45, 46: 46, 47: 47, 48: 48, 49: 49, 50: 50, 51: 51, 52: 52, 53: 53, 54: 54, 55: 55, 56: 56, 57: 57, 58: 58, 59: 59, 60: 60, 61: 61, 62: 62, 63: 63, 65: 65, 67: 67, 74: 74, 75: 75, 81: 81} [10 5 12 14 49]\n",
      "11 {0: 0, 1: 1, 2: 2, 3: 3, 4: 4, 5: 5, 6: 6, 7: 7, 8: 8, 9: 9, 10: 10, 11: 11, 12: 12, 13: 13, 14: 14, 15: 15, 16: 16, 17: 17, 18: 18, 19: 19, 21: 21, 27: 27, 36: 36} [0 0 0 0 0]\n",
      "12 {0: 0, 1: 1, 2: 2, 3: 3, 4: 4, 5: 5, 6: 6, 7: 7, 8: 8, 9: 9, 42: 42, 13: 13} [0 0 0 0 0]\n",
      "13 {0: 0, 1: 1, 2: 2, 3: 3, 4: 4, 5: 5, 6: 6, 7: 7, 8: 8, 9: 9, 10: 10} [0 0 0 1 0]\n"
     ]
    }
   ],
   "source": [
    "for i in range(6):\n",
    "    print(8+i, encodings[8+i], X[:,11+i][:5])\n",
    "    X_all_enc[:,8+i] = encode(11+i, encodings[8+i])"
   ]
  },
  {
   "cell_type": "code",
   "execution_count": 648,
   "metadata": {},
   "outputs": [
    {
     "name": "stdout",
     "output_type": "stream",
     "text": [
      "14 {1: 1, 2: 2, 3: 3, 4: 4, 5: 5, 6: 6, 7: 7, 8: 8, 9: 9} [9 3 8 5 6]\n",
      "15 {'Norm': 0, '>300': 3, 'None': 1, '>200': 2} ['None' 'None' 'None' 'None' 'None']\n",
      "16 {'>7': 2, 'Norm': 0, '>8': 3, 'None': 1} ['None' 'None' 'None' 'None' 'None']\n",
      "17 {'Down': 1, 'No': 0, 'Steady': 2, 'Up': 3} ['No' 'Steady' 'No' 'No' 'No']\n",
      "18 {'Down': 1, 'No': 0, 'Steady': 2, 'Up': 3} ['No' 'No' 'No' 'No' 'No']\n",
      "19 {'Down': 1, 'No': 0, 'Steady': 2, 'Up': 3} ['No' 'No' 'No' 'No' 'No']\n",
      "20 {'Down': 1, 'No': 0, 'Steady': 2, 'Up': 3} ['No' 'No' 'No' 'No' 'No']\n",
      "21 {'Down': 1, 'No': 0, 'Steady': 2, 'Up': 3} ['No' 'No' 'No' 'No' 'No']\n",
      "22 {'Down': 1, 'No': 0, 'Steady': 2, 'Up': 3} ['No' 'No' 'No' 'No' 'No']\n",
      "23 {'Down': 1, 'No': 0, 'Steady': 2, 'Up': 3} ['No' 'No' 'No' 'No' 'No']\n",
      "24 {'Down': 1, 'No': 0, 'Steady': 2, 'Up': 3} ['No' 'Steady' 'No' 'No' 'Down']\n",
      "25 {'Down': 1, 'No': 0, 'Steady': 2, 'Up': 3} ['No' 'No' 'No' 'No' 'No']\n",
      "26 {'Down': 1, 'No': 0, 'Steady': 2, 'Up': 3} ['No' 'Steady' 'No' 'No' 'No']\n",
      "27 {'Down': 1, 'No': 0, 'Steady': 2, 'Up': 3} ['No' 'No' 'No' 'No' 'Steady']\n",
      "28 {'Down': 1, 'No': 0, 'Steady': 2, 'Up': 3} ['No' 'No' 'No' 'No' 'No']\n",
      "29 {'Down': 1, 'No': 0, 'Steady': 2, 'Up': 3} ['No' 'No' 'No' 'No' 'No']\n",
      "30 {'Down': 1, 'No': 0, 'Steady': 2, 'Up': 3} ['No' 'No' 'No' 'No' 'No']\n",
      "31 {'Down': 1, 'No': 0, 'Steady': 2, 'Up': 3} ['No' 'No' 'No' 'No' 'No']\n",
      "32 {'Down': 1, 'No': 0, 'Steady': 2, 'Up': 3} ['No' 'No' 'No' 'No' 'No']\n",
      "33 {'Down': 1, 'No': 0, 'Steady': 2, 'Up': 3} ['No' 'No' 'No' 'No' 'No']\n",
      "34 {'Down': 1, 'No': 0, 'Steady': 2, 'Up': 3} ['No' 'No' 'Down' 'Up' 'No']\n",
      "35 {'Down': 1, 'No': 0, 'Steady': 2, 'Up': 3} ['No' 'No' 'No' 'No' 'No']\n",
      "36 {'Down': 1, 'No': 0, 'Steady': 2, 'Up': 3} ['No' 'No' 'No' 'No' 'No']\n",
      "37 {'Down': 1, 'No': 0, 'Steady': 2, 'Up': 3} ['No' 'No' 'No' 'No' 'No']\n",
      "38 {'Down': 1, 'No': 0, 'Steady': 2, 'Up': 3} ['No' 'No' 'No' 'No' 'No']\n",
      "39 {'Down': 1, 'No': 0, 'Steady': 2, 'Up': 3} ['No' 'No' 'No' 'No' 'No']\n",
      "40 {'No': 0, 'Ch': 1} ['No' 'Ch' 'Ch' 'Ch' 'Ch']\n",
      "41 {'No': 0, 'Yes': 1} ['No' 'Yes' 'Yes' 'Yes' 'Yes']\n"
     ]
    }
   ],
   "source": [
    "for i in range(28):\n",
    "    print(14+i, encodings[14+i], X[:,20+i][:5])\n",
    "    X_all_enc[:,14+i] = encode(20+i, encodings[14+i])"
   ]
  },
  {
   "cell_type": "code",
   "execution_count": 569,
   "metadata": {},
   "outputs": [
    {
     "data": {
      "text/plain": [
       "(6000, 42)"
      ]
     },
     "execution_count": 569,
     "metadata": {},
     "output_type": "execute_result"
    }
   ],
   "source": [
    "X_enc.shape"
   ]
  },
  {
   "cell_type": "code",
   "execution_count": 570,
   "metadata": {},
   "outputs": [
    {
     "data": {
      "text/plain": [
       "42"
      ]
     },
     "execution_count": 570,
     "metadata": {},
     "output_type": "execute_result"
    }
   ],
   "source": [
    "len(encodings)"
   ]
  },
  {
   "cell_type": "code",
   "execution_count": 651,
   "metadata": {},
   "outputs": [],
   "source": [
    "from sklearn.preprocessing import Normalizer\n",
    "X_all_enc = Normalizer().fit_transform(X_all_enc)"
   ]
  },
  {
   "cell_type": "code",
   "execution_count": 652,
   "metadata": {},
   "outputs": [],
   "source": [
    "X_enc = X_all_enc[:len(X)]\n",
    "X_val_enc = X_all_enc[len(X):len(X)+len(X_val)]\n",
    "X_test_enc = X_all_enc[len(X)+len(X_val):]"
   ]
  },
  {
   "cell_type": "code",
   "execution_count": 655,
   "metadata": {},
   "outputs": [],
   "source": [
    "np.savetxt(\"data/diabetes/X_enc.csv\", X_enc, delimiter=\",\")\n",
    "np.savetxt(\"data/diabetes/X_val_enc.csv\", X_val_enc, delimiter=\",\")\n",
    "np.savetxt(\"data/diabetes/X_test_enc.csv\", X_test_enc, delimiter=\",\")"
   ]
  },
  {
   "cell_type": "code",
   "execution_count": null,
   "metadata": {},
   "outputs": [],
   "source": []
  }
 ],
 "metadata": {
  "kernelspec": {
   "display_name": "Python 3",
   "language": "python",
   "name": "python3"
  },
  "language_info": {
   "codemirror_mode": {
    "name": "ipython",
    "version": 3
   },
   "file_extension": ".py",
   "mimetype": "text/x-python",
   "name": "python",
   "nbconvert_exporter": "python",
   "pygments_lexer": "ipython3",
   "version": "3.7.4"
  }
 },
 "nbformat": 4,
 "nbformat_minor": 2
}
