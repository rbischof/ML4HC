{
 "cells": [
  {
   "cell_type": "code",
   "execution_count": 1,
   "metadata": {},
   "outputs": [
    {
     "name": "stdout",
     "output_type": "stream",
     "text": [
      "showing info https://raw.githubusercontent.com/nltk/nltk_data/gh-pages/index.xml\n"
     ]
    },
    {
     "data": {
      "text/plain": [
       "True"
      ]
     },
     "execution_count": 1,
     "metadata": {},
     "output_type": "execute_result"
    }
   ],
   "source": [
    "import nltk\n",
    "nltk.download()"
   ]
  },
  {
   "cell_type": "code",
   "execution_count": 2,
   "metadata": {},
   "outputs": [],
   "source": [
    "import numpy as np\n",
    "import pickle\n",
    "import itertools\n",
    "import pandas as pd\n",
    "from matplotlib import pyplot as plt"
   ]
  },
  {
   "cell_type": "code",
   "execution_count": 3,
   "metadata": {},
   "outputs": [],
   "source": [
    "from nltk.tokenize import RegexpTokenizer\n",
    "tokenizer = RegexpTokenizer(r'\\w+')"
   ]
  },
  {
   "cell_type": "code",
   "execution_count": 4,
   "metadata": {},
   "outputs": [],
   "source": [
    "from nltk.corpus import stopwords\n",
    "breakers = {'with', 'without', 'comma', 'and', 'or', 'by', 'in', 'due', 'to', 'of', 'causing'}\n",
    "stop_words= (set(stopwords.words(\"english\")) | {'nan', 'unspecified', 'stated', 'other', 'state'})"
   ]
  },
  {
   "cell_type": "code",
   "execution_count": 5,
   "metadata": {},
   "outputs": [],
   "source": [
    "from nltk.stem.wordnet import WordNetLemmatizer\n",
    "lem = WordNetLemmatizer()"
   ]
  },
  {
   "cell_type": "code",
   "execution_count": 6,
   "metadata": {},
   "outputs": [],
   "source": [
    "df_train = np.asarray(pd.read_csv(\"data/diabetes/diab_train.csv\"))\n",
    "df_val = np.asarray(pd.read_csv(\"data/diabetes/diab_validation.csv\"))\n",
    "df_test = np.asarray(pd.read_csv(\"data/diabetes/diab_test.csv\"))"
   ]
  },
  {
   "cell_type": "code",
   "execution_count": 7,
   "metadata": {},
   "outputs": [],
   "source": [
    "X = np.hstack([df_train[:,:-4], df_train[:,-3:]])\n",
    "X_val = np.hstack([df_val[:,:-4], df_val[:,-3:]])\n",
    "X_test = np.hstack([df_test[:,:-4], df_test[:,-3:]])\n",
    "Y = df_train[:,-4]\n",
    "Y_val = df_val[:,-4]\n",
    "Y_test = df_test[:,-4]"
   ]
  },
  {
   "cell_type": "code",
   "execution_count": 8,
   "metadata": {},
   "outputs": [],
   "source": [
    "X_all = np.vstack([X, X_val, X_test])"
   ]
  },
  {
   "cell_type": "code",
   "execution_count": 9,
   "metadata": {},
   "outputs": [],
   "source": [
    "def sanitize(doc, breaks=True):\n",
    "    return ' '.join([lem.lemmatize(w) for w in tokenizer.tokenize(str(doc).replace(\",\", \" comma\").lower())\\\n",
    "                     if w not in stop_words or (breaks and w in breakers)])"
   ]
  },
  {
   "cell_type": "code",
   "execution_count": 10,
   "metadata": {},
   "outputs": [],
   "source": [
    "def onehot(keys, tokens_docs, truncate=100):\n",
    "    # convert list of of token-lists to one flat list of tokens\n",
    "    # and then create a dictionary that maps word to id of word,\n",
    "    all_tokens = itertools.chain.from_iterable(tokens_docs)\n",
    "    word_to_id = {token: idx for idx, token in enumerate(set(all_tokens))}\n",
    "\n",
    "    # convert token lists to token-id lists\n",
    "    token_ids = [[word_to_id[token] for token in tokens_doc] for tokens_doc in tokens_docs]\n",
    "\n",
    "    maxl = 0\n",
    "    maxi = 0\n",
    "    for t in token_ids:\n",
    "        maxl = max(maxl, len(t))\n",
    "        for w in t:\n",
    "            maxi = max(maxi, w)\n",
    "\n",
    "    mapping = {}\n",
    "    for i,t in enumerate(token_ids):\n",
    "        enc = np.zeros((min(maxl, truncate), maxi+1))\n",
    "        for j in range(min(len(t), truncate)):\n",
    "            enc[j][t[j]] += 1\n",
    "        mapping[keys[i]] = enc\n",
    "    return mapping"
   ]
  },
  {
   "cell_type": "code",
   "execution_count": 11,
   "metadata": {},
   "outputs": [],
   "source": [
    "def encode(index, mapping, force_string=False):\n",
    "    Xp = X_all[:,index]\n",
    "    \n",
    "    if force_string:\n",
    "        Xp = Xp.astype(str)\n",
    "\n",
    "    return np.asarray([mapping[x] for x in Xp])"
   ]
  },
  {
   "cell_type": "code",
   "execution_count": 12,
   "metadata": {},
   "outputs": [],
   "source": [
    "def identity_map(data):\n",
    "    return {x:x for x in set(data)}"
   ]
  },
  {
   "cell_type": "code",
   "execution_count": 13,
   "metadata": {},
   "outputs": [],
   "source": [
    "encodings = []"
   ]
  },
  {
   "cell_type": "markdown",
   "metadata": {},
   "source": [
    "Race"
   ]
  },
  {
   "cell_type": "code",
   "execution_count": 14,
   "metadata": {},
   "outputs": [
    {
     "name": "stdout",
     "output_type": "stream",
     "text": [
      "{'Asian', 'Hispanic', '?', 'Other', 'Caucasian', 'AfricanAmerican'}\n"
     ]
    }
   ],
   "source": [
    "print(set(X_all[:,1]))"
   ]
  },
  {
   "cell_type": "code",
   "execution_count": 15,
   "metadata": {},
   "outputs": [],
   "source": [
    "race = {'Other': 1, 'Asian':2, 'Caucasian':3, 'Hispanic':4, 'AfricanAmerican':5, '?':0}"
   ]
  },
  {
   "cell_type": "code",
   "execution_count": 16,
   "metadata": {},
   "outputs": [],
   "source": [
    "encodings.append(race)"
   ]
  },
  {
   "cell_type": "markdown",
   "metadata": {},
   "source": [
    "Gender"
   ]
  },
  {
   "cell_type": "code",
   "execution_count": 17,
   "metadata": {
    "scrolled": true
   },
   "outputs": [
    {
     "name": "stdout",
     "output_type": "stream",
     "text": [
      "{'Female', 'Male'}\n"
     ]
    }
   ],
   "source": [
    "print(set(X_all[:,2]))"
   ]
  },
  {
   "cell_type": "code",
   "execution_count": 18,
   "metadata": {},
   "outputs": [],
   "source": [
    "gender = {'Male': 0, 'Female': 1}"
   ]
  },
  {
   "cell_type": "code",
   "execution_count": 19,
   "metadata": {},
   "outputs": [],
   "source": [
    "encodings.append(gender)"
   ]
  },
  {
   "cell_type": "markdown",
   "metadata": {},
   "source": [
    "Age"
   ]
  },
  {
   "cell_type": "code",
   "execution_count": 20,
   "metadata": {},
   "outputs": [
    {
     "name": "stdout",
     "output_type": "stream",
     "text": [
      "{'[10-20)', '[0-10)', '[40-50)', '[30-40)', '[20-30)', '[80-90)', '[70-80)', '[90-100)', '[50-60)', '[60-70)'}\n"
     ]
    }
   ],
   "source": [
    "print(set(X_all[:,3]))"
   ]
  },
  {
   "cell_type": "code",
   "execution_count": 21,
   "metadata": {},
   "outputs": [],
   "source": [
    "age = {'[0-10)': 0, '[80-90)': 8, '[60-70)': 6, '[50-60)': 5,\\\n",
    "          '[30-40)': 3, '[20-30)':2, '[90-100)':9, '[40-50)':4, '[70-80)': 7, '[10-20)': 10}"
   ]
  },
  {
   "cell_type": "code",
   "execution_count": 22,
   "metadata": {},
   "outputs": [],
   "source": [
    "encodings.append(age)"
   ]
  },
  {
   "cell_type": "markdown",
   "metadata": {},
   "source": [
    "Weight"
   ]
  },
  {
   "cell_type": "code",
   "execution_count": 23,
   "metadata": {},
   "outputs": [
    {
     "name": "stdout",
     "output_type": "stream",
     "text": [
      "{'[0-25)', '[150-175)', '[25-50)', '[50-75)', '[100-125)', '?', '[75-100)', '[125-150)'}\n"
     ]
    }
   ],
   "source": [
    "print(set(X_all[:,4]))"
   ]
  },
  {
   "cell_type": "code",
   "execution_count": 24,
   "metadata": {},
   "outputs": [],
   "source": [
    "weight = {'[25-50)': 25, '[150-175)': 150, '[75-100)': 75,\\\n",
    "          '[0-25)': 0, '[125-150)': 125, '[50-75)': 50, '[100-125)':100, '?': 73}"
   ]
  },
  {
   "cell_type": "code",
   "execution_count": 25,
   "metadata": {},
   "outputs": [],
   "source": [
    "encodings.append(weight)"
   ]
  },
  {
   "cell_type": "markdown",
   "metadata": {},
   "source": [
    "Admission Type ID"
   ]
  },
  {
   "cell_type": "code",
   "execution_count": 26,
   "metadata": {},
   "outputs": [
    {
     "name": "stdout",
     "output_type": "stream",
     "text": [
      "{nan, 'Emergency', 'Not Mapped', 'Elective', 'Newborn', 'Urgent', 'Not Available'}\n"
     ]
    }
   ],
   "source": [
    "print(set(X_all[:,5]))"
   ]
  },
  {
   "cell_type": "code",
   "execution_count": 27,
   "metadata": {},
   "outputs": [],
   "source": [
    "admission_type = {'nan': 0, 'Newborn': 2, 'Emergency':4,\\\n",
    "                  'Not Mapped': 0, 'Not Available': 0, 'Urgent': 3, 'Elective': 1}"
   ]
  },
  {
   "cell_type": "code",
   "execution_count": 28,
   "metadata": {},
   "outputs": [],
   "source": [
    "X_all[:,5] = X_all[:,5].astype(str)"
   ]
  },
  {
   "cell_type": "code",
   "execution_count": 29,
   "metadata": {},
   "outputs": [],
   "source": [
    "encodings.append(admission_type)"
   ]
  },
  {
   "cell_type": "markdown",
   "metadata": {},
   "source": [
    "Discharge Disposition ID"
   ]
  },
  {
   "cell_type": "code",
   "execution_count": null,
   "metadata": {},
   "outputs": [],
   "source": []
  },
  {
   "cell_type": "code",
   "execution_count": 30,
   "metadata": {},
   "outputs": [
    {
     "name": "stdout",
     "output_type": "stream",
     "text": [
      "22 Items\n",
      "['Admitted as an inpatient to this hospital', 'Discharged to home', 'Discharged/transferred to ICF', 'Discharged/transferred to SNF', 'Discharged/transferred to a federal health care facility.', 'Discharged/transferred to a long term care hospital.', 'Discharged/transferred to a nursing facility certified under Medicaid but not certified under Medicare', 'Discharged/transferred to another  type of inpatient care institution', 'Discharged/transferred to another rehab fac including rehab units of a hospital.', 'Discharged/transferred to another short term hospital', 'Discharged/transferred to home under care of Home IV provider', 'Discharged/transferred to home with home health service', 'Discharged/transferred within this institution to Medicare approved swing bed', 'Discharged/transferred/referred another institution for outpatient services', 'Discharged/transferred/referred to a psychiatric hospital of a psychiatric distinct part unit of a hospital', 'Discharged/transferred/referred to this institution for outpatient services', 'Expired', 'Hospice / home', 'Hospice / medical facility', 'Left AMA', 'Not Mapped', 'nan']\n"
     ]
    }
   ],
   "source": [
    "print(len(set(X_all[:,6])), 'Items')\n",
    "print(sorted(list(set(X_all[:,6].astype(str)))))"
   ]
  },
  {
   "cell_type": "code",
   "execution_count": 31,
   "metadata": {},
   "outputs": [],
   "source": [
    "discharge_disposition = sorted([sanitize(s, breaks=False) for s in set(X_all[:,6].astype(str))])\n",
    "discharge_disposition_onehot = onehot([s for s in set(X_all[:,6].astype(str))], discharge_disposition, truncate=4)"
   ]
  },
  {
   "cell_type": "markdown",
   "metadata": {},
   "source": [
    "Admission Source ID"
   ]
  },
  {
   "cell_type": "code",
   "execution_count": null,
   "metadata": {},
   "outputs": [],
   "source": []
  },
  {
   "cell_type": "code",
   "execution_count": 32,
   "metadata": {},
   "outputs": [
    {
     "name": "stdout",
     "output_type": "stream",
     "text": [
      "['Clinic Referral', 'Court/Law Enforcement', 'Emergency Room', 'HMO Referral', 'Not Available', 'Not Mapped', 'Physician Referral', 'Transfer from a Skilled Nursing Facility (SNF)', 'Transfer from a hospital', 'Transfer from another health care facility', 'nan']\n"
     ]
    }
   ],
   "source": [
    "print(sorted(list(set(X_all[:,7].astype(str)))))"
   ]
  },
  {
   "cell_type": "code",
   "execution_count": 33,
   "metadata": {},
   "outputs": [],
   "source": [
    "admission_src_id = {'Clinic Referral':np.asarray([1,0,0,0,0,0,0]), \\\n",
    "                    'Court/Law Enforcement':np.asarray([0,1,0,0,0,0,0]), \\\n",
    "                    'Emergency Room':np.asarray([0,0,1,0,0,0,0]), \\\n",
    "                    'HMO Referral':np.asarray([0,0,0,1,0,0,0]), \\\n",
    "                    'Not Available':np.asarray([0,0,0,0,1,0,0]), \\\n",
    "                    'Not Mapped':np.asarray([0,0,0,0,1,0,0]), \\\n",
    "                    'nan':np.asarray([0,0,0,0,1,0,0]), \\\n",
    "                    'Physician Referral':np.asarray([0,0,0,0,0,1,0]), \\\n",
    "                    'Transfer from a Skilled Nursing Facility (SNF)':np.asarray([0,0,0,0,0,0,1]), \\\n",
    "                    'Transfer from a hospital':np.asarray([0,0,0,0,0,0,1]), \\\n",
    "                    'Transfer from another health care facility':np.asarray([0,0,0,0,0,0,1])}"
   ]
  },
  {
   "cell_type": "markdown",
   "metadata": {},
   "source": [
    "Time in Hospital"
   ]
  },
  {
   "cell_type": "code",
   "execution_count": 34,
   "metadata": {},
   "outputs": [
    {
     "name": "stdout",
     "output_type": "stream",
     "text": [
      "{1, 2, 3, 4, 5, 6, 7, 8, 9, 10, 11, 12, 13, 14}\n"
     ]
    }
   ],
   "source": [
    "print(set(X_all[:,8]))"
   ]
  },
  {
   "cell_type": "code",
   "execution_count": 35,
   "metadata": {},
   "outputs": [],
   "source": [
    "encodings.append(identity_map(X_all[:,8]))"
   ]
  },
  {
   "cell_type": "markdown",
   "metadata": {},
   "source": [
    "Payer Code"
   ]
  },
  {
   "cell_type": "code",
   "execution_count": 36,
   "metadata": {},
   "outputs": [
    {
     "name": "stdout",
     "output_type": "stream",
     "text": [
      "{'PO', 'SI', 'SP', 'MC', 'BC', 'OG', 'MD', 'CP', '?', 'HM', 'CM', 'UN', 'OT', 'WC', 'DM', 'CH'}\n"
     ]
    }
   ],
   "source": [
    "print(set(X_all[:,9]))"
   ]
  },
  {
   "cell_type": "code",
   "execution_count": 37,
   "metadata": {},
   "outputs": [],
   "source": [
    "payer_code = {k:np.eye(len(set(X_all[:,9])))[i] for i,k in enumerate(set(X_all[:,9]))}"
   ]
  },
  {
   "cell_type": "markdown",
   "metadata": {},
   "source": [
    "Medical Speciality"
   ]
  },
  {
   "cell_type": "code",
   "execution_count": 180,
   "metadata": {},
   "outputs": [
    {
     "name": "stdout",
     "output_type": "stream",
     "text": [
      "0.41\n"
     ]
    }
   ],
   "source": [
    "print(len(X_all[:,10][X_all[:,10] == '?'])/len(X_all[:,10]))"
   ]
  },
  {
   "cell_type": "code",
   "execution_count": 38,
   "metadata": {},
   "outputs": [
    {
     "name": "stdout",
     "output_type": "stream",
     "text": [
      "['?', 'Anesthesiology-Pediatric', 'Cardiology', 'Cardiology-Pediatric', 'Emergency/Trauma', 'Endocrinology', 'Family/GeneralPractice', 'Gastroenterology', 'Gynecology', 'Hematology', 'Hematology/Oncology', 'Hospitalist', 'InfectiousDiseases', 'InternalMedicine', 'Nephrology', 'Neurology', 'Obsterics&Gynecology-GynecologicOnco', 'Obstetrics', 'ObstetricsandGynecology', 'Oncology', 'Ophthalmology', 'Orthopedics', 'Orthopedics-Reconstructive', 'Osteopath', 'Otolaryngology', 'OutreachServices', 'Pathology', 'Pediatrics', 'Pediatrics-CriticalCare', 'Pediatrics-EmergencyMedicine', 'Pediatrics-Endocrinology', 'Pediatrics-Hematology-Oncology', 'Pediatrics-Pulmonology', 'PhysicalMedicineandRehabilitation', 'PhysicianNotFound', 'Podiatry', 'Psychiatry', 'Psychology', 'Pulmonology', 'Radiologist', 'Radiology', 'Surgeon', 'Surgery-Cardiovascular', 'Surgery-Cardiovascular/Thoracic', 'Surgery-Colon&Rectal', 'Surgery-General', 'Surgery-Neuro', 'Surgery-Pediatric', 'Surgery-Plastic', 'Surgery-PlasticwithinHeadandNeck', 'Surgery-Thoracic', 'Surgery-Vascular', 'Urology']\n"
     ]
    }
   ],
   "source": [
    "print(sorted([s for s in set(X_all[:,10])]))"
   ]
  },
  {
   "cell_type": "code",
   "execution_count": 39,
   "metadata": {},
   "outputs": [],
   "source": [
    "medical_speciality = sorted([sanitize(s, breaks=False) for s in set(X_all[:,10])])\n",
    "medical_speciality_onehot = onehot([s for s in set(X_all[:,10])], medical_speciality)"
   ]
  },
  {
   "cell_type": "markdown",
   "metadata": {},
   "source": [
    "Number of Lab Procedures"
   ]
  },
  {
   "cell_type": "code",
   "execution_count": 40,
   "metadata": {},
   "outputs": [
    {
     "name": "stdout",
     "output_type": "stream",
     "text": [
      "{1, 2, 3, 4, 5, 6, 7, 8, 9, 10, 11, 12, 13, 14, 15, 16, 17, 18, 19, 20, 21, 22, 23, 24, 25, 26, 27, 28, 29, 30, 31, 32, 33, 34, 35, 36, 37, 38, 39, 40, 41, 42, 43, 44, 45, 46, 47, 48, 49, 50, 51, 52, 53, 54, 55, 56, 57, 58, 59, 60, 61, 62, 63, 64, 65, 66, 67, 68, 69, 70, 71, 72, 73, 74, 75, 76, 77, 78, 79, 80, 81, 82, 83, 84, 85, 86, 87, 88, 89, 90, 91, 92, 93, 94, 95, 96, 97, 98, 101, 103, 104, 106, 107, 108, 109, 113, 114, 120}\n"
     ]
    }
   ],
   "source": [
    "print(set(X_all[:,11]))"
   ]
  },
  {
   "cell_type": "code",
   "execution_count": 41,
   "metadata": {},
   "outputs": [],
   "source": [
    "encodings.append(identity_map(X_all[:,11]))"
   ]
  },
  {
   "cell_type": "markdown",
   "metadata": {},
   "source": [
    "Number of Procedures"
   ]
  },
  {
   "cell_type": "code",
   "execution_count": 42,
   "metadata": {},
   "outputs": [
    {
     "name": "stdout",
     "output_type": "stream",
     "text": [
      "{0, 1, 2, 3, 4, 5, 6}\n"
     ]
    }
   ],
   "source": [
    "print(set(X_all[:,12]))"
   ]
  },
  {
   "cell_type": "code",
   "execution_count": 43,
   "metadata": {},
   "outputs": [],
   "source": [
    "encodings.append(identity_map(X_all[:,12]))"
   ]
  },
  {
   "cell_type": "markdown",
   "metadata": {},
   "source": [
    "Number of Medications"
   ]
  },
  {
   "cell_type": "code",
   "execution_count": 44,
   "metadata": {},
   "outputs": [
    {
     "name": "stdout",
     "output_type": "stream",
     "text": [
      "{1, 2, 3, 4, 5, 6, 7, 8, 9, 10, 11, 12, 13, 14, 15, 16, 17, 18, 19, 20, 21, 22, 23, 24, 25, 26, 27, 28, 29, 30, 31, 32, 33, 34, 35, 36, 37, 38, 39, 40, 41, 42, 43, 44, 45, 46, 47, 48, 49, 50, 51, 52, 53, 54, 55, 56, 57, 58, 59, 60, 61, 62, 63, 65, 67, 74, 75, 81}\n"
     ]
    }
   ],
   "source": [
    "print(set(X_all[:,13]))"
   ]
  },
  {
   "cell_type": "code",
   "execution_count": 45,
   "metadata": {},
   "outputs": [],
   "source": [
    "encodings.append(identity_map(X_all[:,13]))"
   ]
  },
  {
   "cell_type": "markdown",
   "metadata": {},
   "source": [
    "Number Outpatient"
   ]
  },
  {
   "cell_type": "code",
   "execution_count": 46,
   "metadata": {},
   "outputs": [
    {
     "name": "stdout",
     "output_type": "stream",
     "text": [
      "{0, 1, 2, 3, 4, 5, 6, 7, 8, 9, 10, 11, 12, 13, 14, 15, 16, 17, 18, 19, 21, 27, 36}\n"
     ]
    }
   ],
   "source": [
    "print(set(X_all[:,14]))"
   ]
  },
  {
   "cell_type": "code",
   "execution_count": 187,
   "metadata": {},
   "outputs": [],
   "source": [
    "n_outpatient = {0:0, 1:1, 2:2, 3:2, 4:2, 5:2, 6:2, 7:2, 8:2, 9:2, 10:2, 11:2,\n",
    "                12:2, 13:2, 14:2, 15:2, 16:2, 17:2, 18:2, 19:2, 21:2, 27:2, 36:2}"
   ]
  },
  {
   "cell_type": "code",
   "execution_count": 47,
   "metadata": {},
   "outputs": [],
   "source": [
    "encodings.append(n_outpatient)"
   ]
  },
  {
   "cell_type": "markdown",
   "metadata": {},
   "source": [
    "Number Emergency"
   ]
  },
  {
   "cell_type": "code",
   "execution_count": 185,
   "metadata": {},
   "outputs": [
    {
     "name": "stdout",
     "output_type": "stream",
     "text": [
      "{0, 1, 2, 3, 4, 5, 6, 7, 8, 9, 42, 13}\n"
     ]
    }
   ],
   "source": [
    "print(set(X_all[:,15]))"
   ]
  },
  {
   "cell_type": "code",
   "execution_count": 186,
   "metadata": {},
   "outputs": [],
   "source": [
    "n_emergency = {0: 0, 1: 1, 2:2, 3:2, 4:2, 5:2, 6:2, 7:2, 8:2, 9:2, 42:2, 13:2}"
   ]
  },
  {
   "cell_type": "code",
   "execution_count": 49,
   "metadata": {},
   "outputs": [],
   "source": [
    "encodings.append(n_emergency)"
   ]
  },
  {
   "cell_type": "markdown",
   "metadata": {},
   "source": [
    "Number Inpatient"
   ]
  },
  {
   "cell_type": "code",
   "execution_count": 50,
   "metadata": {},
   "outputs": [
    {
     "name": "stdout",
     "output_type": "stream",
     "text": [
      "{0, 1, 2, 3, 4, 5, 6, 7, 8, 9, 10}\n"
     ]
    }
   ],
   "source": [
    "print(set(X_all[:,16]))"
   ]
  },
  {
   "cell_type": "code",
   "execution_count": 188,
   "metadata": {},
   "outputs": [],
   "source": [
    "n_inpatient = {0:0, 1:1, 2:2, 3:3, 4:4, 5:5, 6:6, 7:6, 8:6, 9:6, 10:6}"
   ]
  },
  {
   "cell_type": "code",
   "execution_count": 51,
   "metadata": {},
   "outputs": [],
   "source": [
    "encodings.append(n_inpatient)"
   ]
  },
  {
   "cell_type": "markdown",
   "metadata": {},
   "source": [
    "Diagnoses<br>\n",
    "Since one major task of this project was to embed the diagnoses using NLP, we will deliberately not make use of these already embedded representations of the diagnoses."
   ]
  },
  {
   "cell_type": "markdown",
   "metadata": {},
   "source": [
    "Number of Diagnoses"
   ]
  },
  {
   "cell_type": "code",
   "execution_count": 53,
   "metadata": {},
   "outputs": [
    {
     "name": "stdout",
     "output_type": "stream",
     "text": [
      "{1, 2, 3, 4, 5, 6, 7, 8, 9}\n"
     ]
    }
   ],
   "source": [
    "print(set(X_all[:,20]))"
   ]
  },
  {
   "cell_type": "code",
   "execution_count": null,
   "metadata": {},
   "outputs": [],
   "source": [
    "n_diagnoses = {1:0, 2:0, 3:0, 4:1, 5:2, 6:3, 7:4, 8:5, 9:6}"
   ]
  },
  {
   "cell_type": "code",
   "execution_count": 54,
   "metadata": {},
   "outputs": [],
   "source": [
    "encodings.append(n_diagnoses)"
   ]
  },
  {
   "cell_type": "markdown",
   "metadata": {},
   "source": [
    "Max Glucose Serum"
   ]
  },
  {
   "cell_type": "code",
   "execution_count": 55,
   "metadata": {},
   "outputs": [
    {
     "name": "stdout",
     "output_type": "stream",
     "text": [
      "{'>300', 'None', '>200', 'Norm'}\n"
     ]
    }
   ],
   "source": [
    "print(set(X_all[:,21]))"
   ]
  },
  {
   "cell_type": "code",
   "execution_count": 189,
   "metadata": {},
   "outputs": [],
   "source": [
    "max_glu_serum = {'Norm':0, '>300':2, 'None':1, '>200':0}"
   ]
  },
  {
   "cell_type": "code",
   "execution_count": 57,
   "metadata": {},
   "outputs": [],
   "source": [
    "encodings.append(max_glu_serum)"
   ]
  },
  {
   "cell_type": "markdown",
   "metadata": {},
   "source": [
    "A1Cresult"
   ]
  },
  {
   "cell_type": "code",
   "execution_count": 58,
   "metadata": {},
   "outputs": [
    {
     "name": "stdout",
     "output_type": "stream",
     "text": [
      "{'>7', 'None', '>8', 'Norm'}\n"
     ]
    }
   ],
   "source": [
    "print(set(X_all[:,22]))"
   ]
  },
  {
   "cell_type": "code",
   "execution_count": 59,
   "metadata": {},
   "outputs": [],
   "source": [
    "a1c_res = {'>7': 1, 'Norm': 1, '>8': 1, 'None': 0}"
   ]
  },
  {
   "cell_type": "code",
   "execution_count": 60,
   "metadata": {},
   "outputs": [],
   "source": [
    "encodings.append(a1c_res)"
   ]
  },
  {
   "cell_type": "markdown",
   "metadata": {},
   "source": [
    "Metformin - Metformin Pioglitazone"
   ]
  },
  {
   "cell_type": "code",
   "execution_count": 61,
   "metadata": {},
   "outputs": [
    {
     "name": "stdout",
     "output_type": "stream",
     "text": [
      "{'Steady', 'Up', 'No', 'Down'}\n"
     ]
    }
   ],
   "source": [
    "print(set(X_all[:,23]))"
   ]
  },
  {
   "cell_type": "code",
   "execution_count": 62,
   "metadata": {},
   "outputs": [],
   "source": [
    "drug_change = {'Down': 1, 'No': 0, 'Steady': 2, 'Up': 3}"
   ]
  },
  {
   "cell_type": "code",
   "execution_count": 63,
   "metadata": {},
   "outputs": [],
   "source": [
    "encodings += [drug_change] * 23"
   ]
  },
  {
   "cell_type": "markdown",
   "metadata": {},
   "source": [
    "Change"
   ]
  },
  {
   "cell_type": "code",
   "execution_count": 64,
   "metadata": {},
   "outputs": [
    {
     "name": "stdout",
     "output_type": "stream",
     "text": [
      "{'No', 'Ch'}\n"
     ]
    }
   ],
   "source": [
    "print(set(X_all[:,46]))"
   ]
  },
  {
   "cell_type": "code",
   "execution_count": 65,
   "metadata": {},
   "outputs": [],
   "source": [
    "change = {'No': 0, 'Ch': 1}"
   ]
  },
  {
   "cell_type": "code",
   "execution_count": 66,
   "metadata": {},
   "outputs": [],
   "source": [
    "encodings.append(change)"
   ]
  },
  {
   "cell_type": "markdown",
   "metadata": {},
   "source": [
    "Diabetes Medication"
   ]
  },
  {
   "cell_type": "code",
   "execution_count": 67,
   "metadata": {},
   "outputs": [
    {
     "name": "stdout",
     "output_type": "stream",
     "text": [
      "{'No', 'Yes'}\n"
     ]
    }
   ],
   "source": [
    "print(set(X_all[:,47]))"
   ]
  },
  {
   "cell_type": "code",
   "execution_count": 68,
   "metadata": {},
   "outputs": [],
   "source": [
    "diabetes_med = {'No': 0, 'Yes': 1}"
   ]
  },
  {
   "cell_type": "code",
   "execution_count": 69,
   "metadata": {},
   "outputs": [],
   "source": [
    "encodings.append(diabetes_med)"
   ]
  },
  {
   "cell_type": "markdown",
   "metadata": {},
   "source": [
    "Diagnoses Description"
   ]
  },
  {
   "cell_type": "code",
   "execution_count": 70,
   "metadata": {},
   "outputs": [
    {
     "name": "stdout",
     "output_type": "stream",
     "text": [
      "{nan, 'Diseases of tricuspid valve', 'Diabetes mellitus without mention of complication, type I [juvenile type], uncontrolled', 'Closed fracture of upper end of forearm, unspecified', 'Urethral stricture due to unspecified infection', 'Intracerebral hemorrhage', 'Basilar artery syndrome', 'Depressive disorder, not elsewhere classified', 'Diabetes with unspecified complication, type II or unspecified type, uncontrolled', 'Corns and callosities', 'Peritoneal adhesions (postoperative) (postinfection)', 'Adjustment disorder with depressed mood', 'Malignant neoplasm of head of pancreas', 'Diabetes with other specified manifestations, type II or unspecified type, not stated as uncontrolled', 'Diabetes with other coma, type II or unspecified type, uncontrolled', 'Poisoning by adrenal cortical steroids', 'Undersocialized conduct disorder, aggressive type, unspecified', 'Abnormal involuntary movements', 'Poisoning by oxazolidine derivatives', 'Occlusion and stenosis of basilar artery without mention of cerebral infarction', 'Closed fracture of carpal bone, unspecified', 'Anomalies of skull and face bones', 'Achalasia and cardiospasm', 'Aplastic anemia and other bone marrow failure syndromes', 'Disorders of thyrocalcitonin secretion', 'Cystic fibrosis without mention of meconium ileus', 'Rheumatic myocarditis', 'Hyperosmolality and/or hypernatremia', 'Diabetes with hyperosmolarity, type I [juvenile type], not stated as uncontrolled', 'Cerebral thrombosis without mention of cerebral infarction', 'Neoplasm of uncertain behavior of bone and articular cartilage', 'Chronic kidney disease (ckd)', 'Ankylosing spondylitis', 'Chronic airway obstruction, not elsewhere classified', 'Femoral hernia without mention of obstruction of gangrene, unilateral or unspecified(not specified as recurrent)', 'Acute duodenal ulcer with hemorrhage, without mention of obstruction', 'Perichondritis of pinna, unspecified', 'Adhesive capsulitis of shoulder', 'Nontraumatic extradural hemorrhage', 'Seminal vesiculitis', 'Dissection of aorta, unspecified site', 'Alcohol withdrawal delirium', 'Toxic erythema', 'Acute myocardial infarction of anterolateral wall, episode of care unspecified', 'Cervicitis and endocervicitis', 'Kaschin-Beck disease, site unspecified', \"Bell's palsy\", 'Closed fracture of intracapsular section of neck of femur, unspecified', 'Diverticulosis of small intestine (without mention of hemorrhage)', 'Sideroblastic anemia', 'Acromegaly and gigantism', 'Pyogenic arthritis, site unspecified', 'Pneumonia due to adenovirus', 'Influenza with pneumonia', 'Abnormal function study of brain and central nervous system, unspecified', 'Acute osteomyelitis, site unspecified', 'Diabetes with neurological manifestations, type II or unspecified type, not stated as uncontrolled', 'Late pregnancy', 'Benign neoplasm of thyroid glands', 'Fitting and adjustment of other device', 'Articular cartilage disorder, site unspecified', 'Dermatophytosis of scalp and beard', 'Mitral valve stenosis and aortic valve stenosis', 'Orthostatic hypotension', 'Acute laryngitis without mention of obstruction', 'Poisoning by opium (alkaloids), unspecified', 'Amnestic disorder in conditions classified elsewhere', 'Ingrowing nail', 'Malignant neoplasm of trachea', 'Hypoglycemic coma', 'Closed fracture of upper end of tibia alone', 'Secondary malignant neoplasm of kidney', 'Congenital factor VIII disorder', 'Submucous leiomyoma of uterus', 'Abnormal glandular Papanicolaou smear of cervix', 'Acute bronchitis', 'Rheumatism, unspecified and fibrositis', 'Benign neoplasm of adrenal gland', 'Acute prostatitis', 'Sprain of neck', 'Cellulitis and abscess of face', 'Postmyocardial infarction syndrome', 'Pneumonia, organism unspecified', 'Alteration of consciousness', 'Acute gastric ulcer with hemorrhage, without mention of obstruction', 'Cerebral cysts', 'Patent ductus arteriosus', 'Fracture of medial malleolus, closed', 'Primary uterine inertia, unspecified as to episode of care or not applicable', 'Anorexia', 'Inflammatory disease of breast', 'Corneal ulcer, unspecified', 'Mild hyperemesis gravidarum, unspecified as to episode of care or not applicable', 'Angina decubitus', 'Cervical spondylosis without myelopathy', 'Nephrotic syndrome with lesion of proliferative glomerulonephritis', 'Cortex (cerebral) contusion without mention of open intracranial wound, unspecified state of consciousness', 'Malignant neoplasm of prostate', 'Respiratory abnormality, unspecified', 'Sprain of lateral collateral ligament of knee', 'Acute gastrojejunal ulcer with hemorrhage, without mention of obstruction', 'Aneurysm of artery of upper extremity', 'Closed fracture of rib(s), unspecified', 'Benign neoplasm of ovary', 'Open wound of hand except finger(s) alone, without mention of complication', 'Malignant neoplasm of thymus', 'Migraine with aura, without mention of intractable migraine without mention of status migrainosus', 'Acute pharyngitis', 'Systemic lupus erythematosus', 'Reaction to spinal or lumbar puncture', 'Threatened premature labor, unspecified as to episode of care or not applicable', 'Injury to spleen without mention of open wound into cavity, unspecified injury', 'Pruritus ani', 'Spinal stenosis in cervical region', 'Pernicious anemia', 'Unspecified injury of heart without mention of open wound into thorax', \"Cushing's syndrome\", 'Benign neoplasm of brain', 'Closed fracture of nasal bones', 'Nausea and vomiting', 'Malignant neoplasm of thyroid gland', 'Diabetes with other specified manifestations, type I [juvenile type], uncontrolled', 'Acute infective polyneuritis', 'Malignant neoplasm of connective and other soft tissue of head, face, and neck', 'Malnutrition of moderate degree', 'Hereditary peripheral neuropathy', 'Internal hemorrhoids without mention of complication', 'Injury to other intra-abdominal organs without mention of open wound into cavity, unspecified intra-abdominal organ', 'Premenopausal menorrhagia', 'Orchitis, epididymitis, and epididymo-orchitis, with abscess', 'Encounter for extracorporeal dialysis', 'Polycythemia, secondary', 'Emphysematous bleb', 'Alcoholic fatty liver', 'Open wound of foot except toe(s) alone, without mention of complication', 'Open wound of toe(s), without mention of complication', 'Air embolism', 'Sprain of lumbosacral (joint) (ligament)', 'Malignant neoplasm of penis and other male genital organs', 'Allergic urticaria', 'Calculus in diverticulum of bladder', 'Headache', 'Contusion of breast', 'Polyp of corpus uteri', 'Opioid type dependence, unspecified', 'Neoplasm of uncertain behavior of major salivary glands', 'Unspecified deformity of forearm, excluding fingers', 'Abscess of lung', \"Meckel's diverticulum\", 'Intussusception', 'Lesion of sciatic nerve', 'Unspecified cardiac device in situ', 'Endometriosis of uterus', 'Bronchopneumonia, organism unspecified', 'Poisoning by dietetics', 'Poisoning by antidepressant, unspecified', 'Anal and rectal polyp', 'Renal agenesis and dysgenesis', 'Abrasion or friction burn of finger(s), without mention of infection', 'Other degenerative diseases of the basal ganglia', 'Diabetes with ketoacidosis, type I [juvenile type], not stated as uncontrolled', 'Extrinsic asthma, unspecified', 'Acute peptic ulcer of unspecified site with hemorrhage, without mention of obstruction', 'Subarachnoid hemorrhage', 'Hypertensive heart and chronic kidney disease, malignant, without heart failure and with chronic kidney disease stage I through stage IV, or unspecified', 'Injury to kidney without mention of open wound into cavity, unspecified injury', 'Leukoplakia of penis', 'Generalized vaccinia as a complication of medical care, not elsewhere classified', 'Observation and evaluation for suspected conditions not found', 'Hemopericardium', 'Anxiety state, unspecified', 'Urinary tract infection, site not specified', 'Coronary atherosclerosis of unspecified type of vessel, native or graft', 'Primary pulmonary hypertension', 'Depressive type psychosis', 'Esophageal varices with bleeding', \"M_ni\\x8fre's disease, unspecified\", 'Encounter for radiotherapy', 'Tympanosclerosis, unspecified as to involvement', 'Atrioventricular block, complete', 'Malignant essential hypertension', 'Scleritis, unspecified', 'Residence remote from hospital or other health care facility', 'Acute, but ill-defined, cerebrovascular disease', 'Hydronephrosis', 'Acute leukemia of unspecified cell type, without mention of having achieved remission', 'Acquired deformity of nose', 'Other severe protein-calorie malnutrition', 'Peritonsillar abscess', 'Central nervous system malformation in fetus, unspecified as to episode of care or not applicable', 'Rheumatic aortic stenosis', 'Postmastectomy lymphedema syndrome', 'Calculus of gallbladder with acute cholecystitis, without mention of obstruction', 'Adenovirus infection in conditions classified elsewhere and of unspecified site', \"Raynaud's syndrome\", 'Osteoarthrosis, generalized, site unspecified', 'Congestive heart failure, unspecified', 'Acute cor pulmonale', 'Secondary and unspecified malignant neoplasm of lymph nodes of head, face, and neck', 'Generalized nonconvulsive epilepsy, without mention of intractable epilepsy', 'Closed fracture of clavicle, unspecified part', 'Hemorrhage, unspecified', 'Acute alcoholic intoxication in alcoholism, unspecified', 'Degenerative and vascular disorders, unspecified', 'Drug withdrawal', 'Acute cystitis', 'Arteriovenous fistula, acquired', 'Diabetes with hyperosmolarity, type II or unspecified type, not stated as uncontrolled', 'Diabetes with hyperosmolarity, type II or unspecified type, uncontrolled', 'Carcinoma in situ of breast', 'Trigeminal nerve disorders', 'Budd-chiari syndrome', 'Simple chronic bronchitis', 'Myasthenia gravis without (acute) exacerbation', 'Other and unspecified noninfectious gastroenteritis and colitis', 'Acute appendicitis with generalized peritonitis', 'Malignant hypertensive heart disease without heart failure', 'Paroxysmal supraventricular tachycardia', 'Malignant neoplasm of cervical esophagus', 'Cellulitis and abscess of finger, unspecified', 'Hypertrophy (benign) of prostate without urinary obstruction and other lower urinary tract symptom (LUTS)', 'Gouty arthropathy, unspecified', 'Nonspecific abnormal findings in cerebrospinal fluid', 'Acute lymphoid leukemia, without mention of having achieved remission', 'Diabetes mellitus without mention of complication, type I [juvenile type], not stated as uncontrolled', 'Chronic maxillary sinusitis', 'Acute pancreatitis', 'Burn of unspecified degree of lower limb [leg], unspecified site', 'Foreign body in pharynx', 'Portal vein thrombosis', 'Bipolar I disorder, single manic episode, unspecified', 'Dyspareunia', 'Varicose veins of lower extremities with ulcer', 'Nodular lymphoma, unspecified site, extranodal and solid organ sites', 'Tracheostomy complication, unspecified', 'Adult onset fluency disorder', 'Mitral valve disorders', 'Nonspecific findings on examination of blood', 'Viral hepatitis A with hepatic coma', 'Malignant neoplasm of liver, primary', 'Ariboflavinosis', 'Delirium due to conditions classified elsewhere', 'Regional enteritis of small intestine', 'Nephroptosis', 'Malignant neoplasm of glottis', 'Acute myeloid leukemia, without mention of having achieved remission', 'Traumatic amputation of other finger(s) (complete) (partial), without mention of complication', 'Anhidrosis', 'Disorders of mineral metabolism', 'Acute vascular insufficiency of intestine', 'Pneumonitis due to inhalation of food or vomitus', 'Follicular cyst of ovary', 'Hematemesis', 'Benign neoplasm of lip', 'Unspecified prolapse of vaginal walls', 'Other and unspecified intracranial hemorrhage following injury without mention of open intracranial wound, unspecified state of consciousness', 'Foreign body in mouth', 'Acute inflammation of orbit, unspecified', 'Herpes zoster with meningitis', 'Failed mechanical induction of labor, unspecified as to episode of care or not applicable', 'Stomatitis and mucositis, unspecified', 'Unstable lie, unspecified as to episode of care or not applicable', 'Malignant neoplasm of ovary', 'Retinal detachment with retinal defect, unspecified', 'Bladder neck obstruction', 'Bartonellosis', 'Closed fracture of patella', 'Abrasion or friction burn of elbow, forearm, and wrist, without mention of infection', 'Nonsenile cataract, unspecified', 'Late effects of cerebrovascular disease, cognitive deficits', 'Benign neoplasm of esophagus', 'Endomyocardial fibrosis', 'Renal colic', 'Chronic tonsillitis', 'Abscess of anal and rectal regions', 'Diabetes with renal manifestations, type II or unspecified type, not stated as uncontrolled', 'Obesity, unspecified', 'Femoral hernia with obstruction, unilateral or unspecified (not specified as recurrent)', 'Acute thyroiditis', 'Hypertrophy of nasal turbinates', 'Malignant neoplasm of hepatic flexure', 'Common truncus', 'Poisoning by cardiac rhythm regulators', 'Injury to bladder and urethra, without mention of open wound into cavity', 'Secondary malignant neoplasm of lung', 'Chronic pyelonephritis without lesion of renal medullary necrosis', 'Acute and subacute bacterial endocarditis', 'Hypertensive chronic kidney disease, malignant, with chronic kidney disease stage I through stage IV, or unspecified', 'Diabetes with other coma, type II or unspecified type, not stated as uncontrolled', 'Arterial embolism and thrombosis', 'Closed fracture of acetabulum', 'Displacement of cervical intervertebral disc without myelopathy', 'Effusion of joint, site unspecified', 'Malignant neoplasm of base of tongue', 'Spontaneous tension pneumothorax', 'Diabetes with unspecified complication, type I [juvenile type], uncontrolled', 'Malignant neoplasm of nipple and areola of female breast', 'Fetal-maternal hemorrhage, unspecified as to episode of care or not applicable', 'Diabetes with peripheral circulatory disorders, type II or unspecified type, not stated as uncontrolled', 'Attention to tracheostomy', 'Abscess of liver', 'Diabetes with ketoacidosis, type II or unspecified type, uncontrolled', 'Oligohydramnios, unspecified as to episode of care or not applicable', 'Encephalitis myelitis and encephalomyelitis', 'Malignant neoplasm of trigone of urinary bladder', 'Hereditary spherocytosis', 'Pressure ulcer, unspecified site', 'Diabetes with other coma, type I [juvenile type], not stated as uncontrolled', 'Contact dermatitis and other eczema due to detergents', 'Acute cholecystitis', 'Anomalies of spleen', 'Diabetes with ketoacidosis, type II or unspecified type, not stated as uncontrolled', 'First-degree perineal laceration, unspecified as to episode of care or not applicable', 'Candidiasis of mouth', 'Congenital pulmonary valve anomaly, unspecified', 'Toxic diffuse goiter without mention of thyrotoxic crisis or storm', 'Pulpitis', 'Poisoning by iron and its compounds', 'Closed fracture of unspecified part of upper end of humerus', 'Acute suppurative otitis media without spontaneous rupture of eardrum', 'Benign essential hypertension complicating pregnancy, childbirth, and the puerperium, unspecified as to episode of care or not applicable', 'Idiopathic peripheral autonomic neuropathy, unspecified', 'Diabetes with ophthalmic manifestations, type II or unspecified type, uncontrolled', 'Malignant neoplasm of cerebrum, except lobes and ventricles', 'Flat foot', 'Infectious colitis, enteritis, and gastroenteritis', 'Poisoning by central nervous system muscle-tone depressants', 'Diabetes with other coma, type I [juvenile type], uncontrolled', 'Profound impairment, both eyes, impairment level not further specified', 'Acute kidney failure', 'Other retinal disorders', 'Ulcerative (chronic) enterocolitis', 'Lipoma of skin and subcutaneous tissue of face', 'Acute maxillary sinusitis', 'Carcinoma in situ of lip, oral cavity, and pharynx', 'Sprain of ankle, unspecified site', 'Neoplasm of unspecified nature of digestive system', 'Multiple myeloma, without mention of having achieved remission', 'Abdominal pregnancy without intrauterine pregnancy', 'Acute gastritis, without mention of hemorrhage', 'Calculus of kidney', 'Diabetes with hyperosmolarity, type I [juvenile type], uncontrolled', 'Closed fracture of vault of skull without mention of intracranial injury, unspecified state of consciousness', 'Acute pulmonary manifestations due to radiation', 'Care involving breathing exercises', 'Tachycardia, unspecified', 'Myocarditis, unspecified', 'Papilledema, unspecified', 'Infective myositis', 'Pulmonary congestion and hypostasis', 'Streptococcal septicemia', \"Alzheimer's disease\", 'Acquired hypertrophic pyloric stenosis', 'Senile dementia, uncomplicated', 'Contusion of thigh', 'Absence of menstruation', 'Diabetes with renal manifestations, type I [juvenile type], not stated as uncontrolled', 'Eczema herpeticum', 'Acute pericarditis in diseases classified elsewhere', 'Abdominal pain, unspecified site', 'Osteoporosis, unspecified', 'Closed fracture of unspecified part of femur', 'Polyarteritis nodosa', 'Human immunodeficiency virus [HIV] disease', 'Ocular laceration without prolapse of intraocular tissue', 'Salmonella gastroenteritis', 'Pulmonary collapse', 'Celiac disease', 'Phlebitis and thrombophlebitis of superficial vessels of lower extremities', 'Malignant neoplasm of endocervix', 'Synovitis and tenosynovitis, unspecified', 'Malignant neoplasm of gallbladder', 'Allergic purpura', 'Paralysis agitans', 'Tuberculosis of lung, infiltrative, unspecified', 'Nontoxic uninodular goiter', 'Malignant neoplasm of cardia', 'General counseling and advice on contraceptive management', 'Pneumococcal pneumonia [Streptococcus pneumoniae pneumonia]', 'Paranoid personality disorder', 'Diabetes with ketoacidosis, type I [juvenile type], uncontrolled', 'Atherosclerosis of aorta', 'Nervous system complication, unspecified', 'Congenital abnormalities of uterus, unspecified as to episode of care or not applicable', 'Chronic passive congestion of liver', 'Frostbite of face', 'Pleurisy without mention of effusion or current tuberculosis', 'Postinflammatory pulmonary fibrosis', 'Reticulosarcoma, unspecified site, extranodal and solid organ sites', 'Other orthopedic aftercare', 'Subarachnoid hemorrhage following injury without mention of open intracranial wound, unspecified state of consciousness', 'Constipation, unspecified', 'Mechanical complication of unspecified cardiac device, implant, and graft', 'Closed fracture of cervical vertebra, unspecified level', 'Achlorhydria', 'Encysted hydrocele', 'Disturbance of skin sensation', 'Dyschromia, unspecified', 'Autoimmune hemolytic anemias', 'Diabetes mellitus of mother, complicating pregnancy, childbirth, or the puerperium, unspecified as to episode of care or not applicable', 'Anal fissure', 'Multiple sclerosis', 'Iliofemoral (ligament) sprain', 'Malignant neoplasm of vagina', 'Postoperative shock, unspecified', 'Pneumonia due to Klebsiella pneumoniae', 'Prolapse of cord complicating labor and delivery, unspecified as to episode of care or not applicable', 'Inguinal hernia, with gangrene, unilateral or unspecified (not specified as recurrent)', 'Injury other and unspecified', 'Neutropenia, unspecified', 'Postsurgical hypothyroidism', 'Goiter, specified as simple', 'Other anaphylactic reaction', 'Molluscum contagiosum', 'Intestinal infection due to E. coli, unspecified', 'Benign neoplasm of kidney, except pelvis', 'Empyema with fistula', 'Closed fracture of base of skull without mention of intra cranial injury, unspecified state of consciousness', 'Maternal distress complicating labor and delivery, unspecified as to episode of care or not applicable', 'Diabetes with renal manifestations, type I [juvenile type], uncontrolled', 'Toxic effect of hydrocyanic acid and cyanides', 'Disseminated malignant neoplasm without specification of site', 'Diabetes with renal manifestations, type II or unspecified type, uncontrolled', 'Concussion with no loss of consciousness', 'Spotted fevers', 'Malignant neoplasm of kidney, except pelvis', 'Hyperparathyroidism, unspecified', 'Urinary-genital tract fistula, female', 'Diabetes mellitus without mention of complication, type II or unspecified type, not stated as uncontrolled', 'Spinal stenosis, unspecified region', 'Atrophy of salivary gland', 'Acne varioliformis', 'Acute myringitis, unspecified', 'Diabetes mellitus without mention of complication, type II or unspecified type, uncontrolled', 'Simple type schizophrenia, unspecified', 'Acute laryngopharyngitis', 'Dengue', 'Diabetes with other specified manifestations, type II or unspecified type, uncontrolled', 'Cerebral atherosclerosis', 'Peritonitis in infectious diseases classified elsewhere', 'Malignant neoplasm of rectosigmoid junction', 'Rheumatoid arthritis', 'Brachial plexus lesions', 'Open wound of scalp, without mention of complication', 'Carbuncle and furuncle of face', 'Postcholecystectomy syndrome', 'Other ill-defined and unknown causes of morbidity and mortality', 'Iron deficiency anemia secondary to blood loss (chronic)', 'Esotropia, unspecified', 'Black eye, not otherwise specified', 'Pneumonia due to mycoplasma pneumoniae', 'Malignant neoplasm of nasal cavities', 'Malignant neoplasm of retroperitoneum', 'Diabetes with other specified manifestations, type I [juvenile type], not stated as uncontrolled', 'Acute salpingitis and oophoritis', 'Werdnig-Hoffmann disease', 'Bronchitis, not specified as acute or chronic', 'Malignant neoplasm of corpus uteri, except isthmus'}\n"
     ]
    }
   ],
   "source": [
    "print(set(X_all[:,48]))"
   ]
  },
  {
   "cell_type": "code",
   "execution_count": 157,
   "metadata": {},
   "outputs": [],
   "source": [
    "diagnoses = sorted([sanitize(s) for s in set(X_all[:,48])|set(X_all[:,49])|set(X_all[:,50])])\n",
    "#diagnoses_onehot = onehot([str(s) for s in set(X_all[:,48])|set(X_all[:,49])|set(X_all[:,50])], diagnoses, truncate=10)"
   ]
  },
  {
   "cell_type": "code",
   "execution_count": 158,
   "metadata": {},
   "outputs": [
    {
     "data": {
      "text/plain": [
       "'diabetes with specified manifestation comma type ii or type comma uncontrolled'"
      ]
     },
     "execution_count": 158,
     "metadata": {},
     "output_type": "execute_result"
    }
   ],
   "source": [
    "diagnoses[250]"
   ]
  },
  {
   "cell_type": "code",
   "execution_count": 159,
   "metadata": {},
   "outputs": [],
   "source": [
    "from sklearn.decomposition import LatentDirichletAllocation\n",
    "from sklearn.feature_extraction.text import CountVectorizer"
   ]
  },
  {
   "cell_type": "code",
   "execution_count": 160,
   "metadata": {},
   "outputs": [],
   "source": [
    "cvec = CountVectorizer(ngram_range=(1,3))"
   ]
  },
  {
   "cell_type": "code",
   "execution_count": 161,
   "metadata": {},
   "outputs": [],
   "source": [
    "occmat = cvec.fit_transform(diagnoses).toarray()"
   ]
  },
  {
   "cell_type": "code",
   "execution_count": 162,
   "metadata": {},
   "outputs": [],
   "source": [
    "lda = LatentDirichletAllocation(n_components=10)"
   ]
  },
  {
   "cell_type": "code",
   "execution_count": 163,
   "metadata": {},
   "outputs": [],
   "source": [
    "lda = lda.fit(occmat)"
   ]
  },
  {
   "cell_type": "code",
   "execution_count": 164,
   "metadata": {},
   "outputs": [],
   "source": [
    "from sklearn.decomposition import PCA"
   ]
  },
  {
   "cell_type": "code",
   "execution_count": 165,
   "metadata": {},
   "outputs": [],
   "source": [
    "pca = PCA(n_components=10)"
   ]
  },
  {
   "cell_type": "code",
   "execution_count": 166,
   "metadata": {},
   "outputs": [],
   "source": [
    "pca = pca.fit(occmat)"
   ]
  },
  {
   "cell_type": "code",
   "execution_count": 110,
   "metadata": {},
   "outputs": [
    {
     "data": {
      "text/plain": [
       "array([[ 2.14397699, -2.16139624, -1.03667735, -0.45697702,  0.04197052]])"
      ]
     },
     "execution_count": 110,
     "metadata": {},
     "output_type": "execute_result"
    }
   ],
   "source": [
    "pca.transform(cvec.transform([diagnoses[250]]).toarray())"
   ]
  },
  {
   "cell_type": "code",
   "execution_count": 111,
   "metadata": {},
   "outputs": [
    {
     "data": {
      "text/plain": [
       "array([[ 1.92756661, -2.11056592, -1.12475125, -0.17033708,  0.41657061]])"
      ]
     },
     "execution_count": 111,
     "metadata": {},
     "output_type": "execute_result"
    }
   ],
   "source": [
    "pca.transform(cvec.transform([diagnoses[251]]).toarray())"
   ]
  },
  {
   "cell_type": "code",
   "execution_count": 112,
   "metadata": {},
   "outputs": [
    {
     "data": {
      "text/plain": [
       "array([[ 0.04423506, -0.52042471,  0.34910216,  0.27582229, -0.1376241 ]])"
      ]
     },
     "execution_count": 112,
     "metadata": {},
     "output_type": "execute_result"
    }
   ],
   "source": [
    "pca.transform(cvec.transform([diagnoses[50]]).toarray())"
   ]
  },
  {
   "cell_type": "code",
   "execution_count": 84,
   "metadata": {},
   "outputs": [],
   "source": [
    "X_all_enc = np.zeros((len(X_all), 40))"
   ]
  },
  {
   "cell_type": "code",
   "execution_count": 85,
   "metadata": {},
   "outputs": [
    {
     "data": {
      "text/plain": [
       "40"
      ]
     },
     "execution_count": 85,
     "metadata": {},
     "output_type": "execute_result"
    }
   ],
   "source": [
    "len(encodings)"
   ]
  },
  {
   "cell_type": "code",
   "execution_count": 86,
   "metadata": {},
   "outputs": [
    {
     "name": "stdout",
     "output_type": "stream",
     "text": [
      "0 {'Other': 1, 'Asian': 2, 'Caucasian': 3, 'Hispanic': 4, 'AfricanAmerican': 5, '?': 0} ['AfricanAmerican' 'Caucasian' 'Caucasian' 'AfricanAmerican' 'Caucasian']\n",
      "1 {'Male': 0, 'Female': 1} ['Male' 'Female' 'Female' 'Female' 'Male']\n",
      "2 {'[0-10)': 0, '[80-90)': 8, '[60-70)': 6, '[50-60)': 5, '[30-40)': 3, '[20-30)': 2, '[90-100)': 9, '[40-50)': 4, '[70-80)': 7, '[10-20)': 10} ['[60-70)' '[70-80)' '[80-90)' '[50-60)' '[80-90)']\n",
      "3 {'[25-50)': 25, '[150-175)': 150, '[75-100)': 75, '[0-25)': 0, '[125-150)': 125, '[50-75)': 50, '[100-125)': 100, '?': 73} ['?' '?' '?' '?' '?']\n",
      "4 {'nan': 0, 'Newborn': 2, 'Emergency': 4, 'Not Mapped': 0, 'Not Available': 0, 'Urgent': 3, 'Elective': 1} ['Emergency' 'Elective' 'Urgent' 'Emergency' 'Elective']\n"
     ]
    }
   ],
   "source": [
    "for i in range(5):\n",
    "    print(i, encodings[i], X[:,1+i][:5])\n",
    "    X_all_enc[:,i] = encode(1+i, encodings[i])"
   ]
  },
  {
   "cell_type": "code",
   "execution_count": 87,
   "metadata": {},
   "outputs": [
    {
     "name": "stdout",
     "output_type": "stream",
     "text": [
      "5 {1: 1, 2: 2, 3: 3, 4: 4, 5: 5, 6: 6, 7: 7, 8: 8, 9: 9, 10: 10, 11: 11, 12: 12, 13: 13, 14: 14} [4 1 2 4 13]\n"
     ]
    }
   ],
   "source": [
    "print(5, encodings[5], X[:,8][:5])\n",
    "X_all_enc[:,5] = encode(8, encodings[5])"
   ]
  },
  {
   "cell_type": "code",
   "execution_count": 88,
   "metadata": {},
   "outputs": [
    {
     "name": "stdout",
     "output_type": "stream",
     "text": [
      "6 {1: 1, 2: 2, 3: 3, 4: 4, 5: 5, 6: 6, 7: 7, 8: 8, 9: 9, 10: 10, 11: 11, 12: 12, 13: 13, 14: 14, 15: 15, 16: 16, 17: 17, 18: 18, 19: 19, 20: 20, 21: 21, 22: 22, 23: 23, 24: 24, 25: 25, 26: 26, 27: 27, 28: 28, 29: 29, 30: 30, 31: 31, 32: 32, 33: 33, 34: 34, 35: 35, 36: 36, 37: 37, 38: 38, 39: 39, 40: 40, 41: 41, 42: 42, 43: 43, 44: 44, 45: 45, 46: 46, 47: 47, 48: 48, 49: 49, 50: 50, 51: 51, 52: 52, 53: 53, 54: 54, 55: 55, 56: 56, 57: 57, 58: 58, 59: 59, 60: 60, 61: 61, 62: 62, 63: 63, 64: 64, 65: 65, 66: 66, 67: 67, 68: 68, 69: 69, 70: 70, 71: 71, 72: 72, 73: 73, 74: 74, 75: 75, 76: 76, 77: 77, 78: 78, 79: 79, 80: 80, 81: 81, 82: 82, 83: 83, 84: 84, 85: 85, 86: 86, 87: 87, 88: 88, 89: 89, 90: 90, 91: 91, 92: 92, 93: 93, 94: 94, 95: 95, 96: 96, 97: 97, 98: 98, 101: 101, 103: 103, 104: 104, 106: 106, 107: 107, 108: 108, 109: 109, 113: 113, 114: 114, 120: 120} [40 24 59 60 54]\n",
      "7 {0: 0, 1: 1, 2: 2, 3: 3, 4: 4, 5: 5, 6: 6} [4 1 0 1 6]\n",
      "8 {1: 1, 2: 2, 3: 3, 4: 4, 5: 5, 6: 6, 7: 7, 8: 8, 9: 9, 10: 10, 11: 11, 12: 12, 13: 13, 14: 14, 15: 15, 16: 16, 17: 17, 18: 18, 19: 19, 20: 20, 21: 21, 22: 22, 23: 23, 24: 24, 25: 25, 26: 26, 27: 27, 28: 28, 29: 29, 30: 30, 31: 31, 32: 32, 33: 33, 34: 34, 35: 35, 36: 36, 37: 37, 38: 38, 39: 39, 40: 40, 41: 41, 42: 42, 43: 43, 44: 44, 45: 45, 46: 46, 47: 47, 48: 48, 49: 49, 50: 50, 51: 51, 52: 52, 53: 53, 54: 54, 55: 55, 56: 56, 57: 57, 58: 58, 59: 59, 60: 60, 61: 61, 62: 62, 63: 63, 65: 65, 67: 67, 74: 74, 75: 75, 81: 81} [10 5 12 14 49]\n",
      "9 {0: 0, 1: 1, 2: 2, 3: 3, 4: 4, 5: 5, 6: 6, 7: 7, 8: 8, 9: 9, 10: 10, 11: 11, 12: 12, 13: 13, 14: 14, 15: 15, 16: 16, 17: 17, 18: 18, 19: 19, 21: 21, 27: 27, 36: 36} [0 0 0 0 0]\n",
      "10 {0: 0, 1: 1, 2: 2, 3: 3, 4: 4, 5: 5, 6: 6, 7: 7, 8: 8, 9: 9, 42: 42, 13: 13} [0 0 0 0 0]\n",
      "11 {0: 0, 1: 1, 2: 2, 3: 3, 4: 4, 5: 5, 6: 6, 7: 7, 8: 8, 9: 9, 10: 10} [0 0 0 1 0]\n"
     ]
    }
   ],
   "source": [
    "for i in range(6):\n",
    "    print(6+i, encodings[6+i], X[:,11+i][:5])\n",
    "    X_all_enc[:,6+i] = encode(11+i, encodings[6+i])"
   ]
  },
  {
   "cell_type": "code",
   "execution_count": 89,
   "metadata": {},
   "outputs": [
    {
     "name": "stdout",
     "output_type": "stream",
     "text": [
      "12 {1: 1, 2: 2, 3: 3, 4: 4, 5: 5, 6: 6, 7: 7, 8: 8, 9: 9} [9 3 8 5 6]\n",
      "13 {'Norm': 0, '>300': 3, 'None': 1, '>200': 2} ['None' 'None' 'None' 'None' 'None']\n",
      "14 {'>7': 2, 'Norm': 0, '>8': 3, 'None': 1} ['None' 'None' 'None' 'None' 'None']\n",
      "15 {'Down': 1, 'No': 0, 'Steady': 2, 'Up': 3} ['No' 'Steady' 'No' 'No' 'No']\n",
      "16 {'Down': 1, 'No': 0, 'Steady': 2, 'Up': 3} ['No' 'No' 'No' 'No' 'No']\n",
      "17 {'Down': 1, 'No': 0, 'Steady': 2, 'Up': 3} ['No' 'No' 'No' 'No' 'No']\n",
      "18 {'Down': 1, 'No': 0, 'Steady': 2, 'Up': 3} ['No' 'No' 'No' 'No' 'No']\n",
      "19 {'Down': 1, 'No': 0, 'Steady': 2, 'Up': 3} ['No' 'No' 'No' 'No' 'No']\n",
      "20 {'Down': 1, 'No': 0, 'Steady': 2, 'Up': 3} ['No' 'No' 'No' 'No' 'No']\n",
      "21 {'Down': 1, 'No': 0, 'Steady': 2, 'Up': 3} ['No' 'No' 'No' 'No' 'No']\n",
      "22 {'Down': 1, 'No': 0, 'Steady': 2, 'Up': 3} ['No' 'Steady' 'No' 'No' 'Down']\n",
      "23 {'Down': 1, 'No': 0, 'Steady': 2, 'Up': 3} ['No' 'No' 'No' 'No' 'No']\n",
      "24 {'Down': 1, 'No': 0, 'Steady': 2, 'Up': 3} ['No' 'Steady' 'No' 'No' 'No']\n",
      "25 {'Down': 1, 'No': 0, 'Steady': 2, 'Up': 3} ['No' 'No' 'No' 'No' 'Steady']\n",
      "26 {'Down': 1, 'No': 0, 'Steady': 2, 'Up': 3} ['No' 'No' 'No' 'No' 'No']\n",
      "27 {'Down': 1, 'No': 0, 'Steady': 2, 'Up': 3} ['No' 'No' 'No' 'No' 'No']\n",
      "28 {'Down': 1, 'No': 0, 'Steady': 2, 'Up': 3} ['No' 'No' 'No' 'No' 'No']\n",
      "29 {'Down': 1, 'No': 0, 'Steady': 2, 'Up': 3} ['No' 'No' 'No' 'No' 'No']\n",
      "30 {'Down': 1, 'No': 0, 'Steady': 2, 'Up': 3} ['No' 'No' 'No' 'No' 'No']\n",
      "31 {'Down': 1, 'No': 0, 'Steady': 2, 'Up': 3} ['No' 'No' 'No' 'No' 'No']\n",
      "32 {'Down': 1, 'No': 0, 'Steady': 2, 'Up': 3} ['No' 'No' 'Down' 'Up' 'No']\n",
      "33 {'Down': 1, 'No': 0, 'Steady': 2, 'Up': 3} ['No' 'No' 'No' 'No' 'No']\n",
      "34 {'Down': 1, 'No': 0, 'Steady': 2, 'Up': 3} ['No' 'No' 'No' 'No' 'No']\n",
      "35 {'Down': 1, 'No': 0, 'Steady': 2, 'Up': 3} ['No' 'No' 'No' 'No' 'No']\n",
      "36 {'Down': 1, 'No': 0, 'Steady': 2, 'Up': 3} ['No' 'No' 'No' 'No' 'No']\n",
      "37 {'Down': 1, 'No': 0, 'Steady': 2, 'Up': 3} ['No' 'No' 'No' 'No' 'No']\n",
      "38 {'No': 0, 'Ch': 1} ['No' 'Ch' 'Ch' 'Ch' 'Ch']\n",
      "39 {'No': 0, 'Yes': 1} ['No' 'Yes' 'Yes' 'Yes' 'Yes']\n"
     ]
    }
   ],
   "source": [
    "for i in range(28):\n",
    "    print(12+i, encodings[12+i], X[:,20+i][:5])\n",
    "    X_all_enc[:,12+i] = encode(20+i, encodings[12+i])"
   ]
  },
  {
   "cell_type": "code",
   "execution_count": 90,
   "metadata": {},
   "outputs": [
    {
     "data": {
      "text/plain": [
       "array([ 5.,  0.,  6., 73.,  4.,  4., 40.,  4., 10.,  0.,  0.,  0.,  9.,\n",
       "        1.,  1.,  0.,  0.,  0.,  0.,  0.,  0.,  0.,  0.,  0.,  0.,  0.,\n",
       "        0.,  0.,  0.,  0.,  0.,  0.,  0.,  0.,  0.,  0.,  0.,  0.,  0.,\n",
       "        0.])"
      ]
     },
     "execution_count": 90,
     "metadata": {},
     "output_type": "execute_result"
    }
   ],
   "source": [
    "X_all_enc[0]"
   ]
  },
  {
   "cell_type": "code",
   "execution_count": 91,
   "metadata": {},
   "outputs": [],
   "source": [
    "X_all_enc = np.hstack([X_all_enc, encode(7, admission_src_id, force_string=True), encode(9, payer_code)])"
   ]
  },
  {
   "cell_type": "code",
   "execution_count": 92,
   "metadata": {},
   "outputs": [
    {
     "data": {
      "text/plain": [
       "array([[ 5.,  0.,  6., 73.,  4.,  4., 40.,  4., 10.,  0.,  0.,  0.,  9.,\n",
       "         1.,  1.,  0.,  0.,  0.,  0.,  0.,  0.,  0.,  0.,  0.,  0.,  0.,\n",
       "         0.,  0.,  0.,  0.,  0.,  0.,  0.,  0.,  0.,  0.,  0.,  0.,  0.,\n",
       "         0.,  0.,  0.,  1.,  0.,  0.,  0.,  0.,  0.,  0.,  0.,  0.,  0.,\n",
       "         1.,  0.,  0.,  0.,  0.,  0.,  0.,  0.,  0.,  0.,  0.,  0.,  0.],\n",
       "       [ 3.,  1.,  7., 73.,  1.,  1., 24.,  1.,  5.,  0.,  0.,  0.,  3.,\n",
       "         1.,  1.,  2.,  0.,  0.,  0.,  0.,  0.,  0.,  2.,  0.,  2.,  0.,\n",
       "         0.,  0.,  0.,  0.,  0.,  0.,  0.,  0.,  0.,  0.,  0.,  0.,  1.,\n",
       "         1.,  0.,  0.,  0.,  0.,  0.,  1.,  0.,  0.,  0.,  0.,  0.,  0.,\n",
       "         0.,  0.,  0.,  0.,  0.,  1.,  0.,  0.,  0.,  0.,  0.,  0.,  0.]])"
      ]
     },
     "execution_count": 92,
     "metadata": {},
     "output_type": "execute_result"
    }
   ],
   "source": [
    "X_all_enc[:2]"
   ]
  },
  {
   "cell_type": "code",
   "execution_count": 93,
   "metadata": {},
   "outputs": [],
   "source": [
    "from sklearn.preprocessing import Normalizer\n",
    "X_all_enc = Normalizer().fit_transform(X_all_enc)"
   ]
  },
  {
   "cell_type": "code",
   "execution_count": 94,
   "metadata": {},
   "outputs": [],
   "source": [
    "X_enc = X_all_enc[:len(X)]\n",
    "X_val_enc = X_all_enc[len(X):len(X)+len(X_val)]\n",
    "X_test_enc = X_all_enc[len(X)+len(X_val):]"
   ]
  },
  {
   "cell_type": "code",
   "execution_count": 95,
   "metadata": {},
   "outputs": [
    {
     "name": "stdout",
     "output_type": "stream",
     "text": [
      "(6000, 65) (2000, 65) (2000, 65) (6000,)\n"
     ]
    }
   ],
   "source": [
    "print(X_enc.shape, X_val_enc.shape, X_test_enc.shape, Y.shape)"
   ]
  },
  {
   "cell_type": "code",
   "execution_count": 96,
   "metadata": {},
   "outputs": [],
   "source": [
    "np.savetxt(\"data/diabetes/X_enc.csv\", X_enc, delimiter=\",\")\n",
    "np.savetxt(\"data/diabetes/X_val_enc.csv\", X_val_enc, delimiter=\",\")\n",
    "np.savetxt(\"data/diabetes/X_test_enc.csv\", X_test_enc, delimiter=\",\")\n",
    "np.savetxt(\"data/diabetes/Y.csv\", Y, delimiter=\",\")\n",
    "np.savetxt(\"data/diabetes/Y_val.csv\", Y_val, delimiter=\",\")\n",
    "np.savetxt(\"data/diabetes/Y_test.csv\", Y_test, delimiter=\",\")"
   ]
  },
  {
   "cell_type": "code",
   "execution_count": 150,
   "metadata": {},
   "outputs": [],
   "source": [
    "discharge_disposition = [sanitize(str(d), breaks=True) for d in set(X_all[:,6])]\n",
    "cvec_dis = CountVectorizer()\n",
    "occmat_dis = cvec_dis.fit_transform(discharge_disposition).toarray()\n",
    "lda_dis = LatentDirichletAllocation(n_components=3)\n",
    "lda_dis = lda_dis.fit(occmat_dis)"
   ]
  },
  {
   "cell_type": "code",
   "execution_count": 151,
   "metadata": {},
   "outputs": [],
   "source": [
    "X_discharge_disposition = np.asarray([lda_dis.transform(cvec_dis.transform([sanitize(d)]).toarray()) \n",
    "                                      for d in X_all[:,6]]).reshape(10000, -1)\n",
    "X_discharge_disposition = Normalizer().fit_transform(X_discharge_disposition)"
   ]
  },
  {
   "cell_type": "code",
   "execution_count": 152,
   "metadata": {},
   "outputs": [],
   "source": [
    "pickle.dump(X_discharge_disposition[:len(X)], open(\"data/diabetes/X_discharge_disposition_enc.csv\", \"wb\"))\n",
    "pickle.dump(X_discharge_disposition[len(X):len(X)+len(X_val)], open(\"data/diabetes/X_val_discharge_disposition_enc.csv\", \"wb\"))\n",
    "pickle.dump(X_discharge_disposition[len(X)+len(X_val):], open(\"data/diabetes/X_test_discharge_disposition_enc.csv\", \"wb\"))"
   ]
  },
  {
   "cell_type": "code",
   "execution_count": 173,
   "metadata": {},
   "outputs": [],
   "source": [
    "X_diagnoses1_pca = np.asarray([pca.transform(cvec.transform([sanitize(d)]).toarray()) for d in X_all[:,48]])\\\n",
    "    .reshape(10000, -1)\n",
    "X_diagnoses1_lda = np.asarray([lda.transform(cvec.transform([sanitize(d)]).toarray()) for d in X_all[:,48]])\\\n",
    "    .reshape(10000, -1)"
   ]
  },
  {
   "cell_type": "code",
   "execution_count": 175,
   "metadata": {},
   "outputs": [],
   "source": [
    "X_diagnoses2_pca = np.asarray([pca.transform(cvec.transform([sanitize(d)]).toarray()) for d in X_all[:,49]])\\\n",
    "    .reshape(10000, -1)\n",
    "X_diagnoses2_lda = np.asarray([lda.transform(cvec.transform([sanitize(d)]).toarray()) for d in X_all[:,49]])\\\n",
    "    .reshape(10000, -1)"
   ]
  },
  {
   "cell_type": "code",
   "execution_count": 176,
   "metadata": {},
   "outputs": [],
   "source": [
    "X_diagnoses3_pca = np.asarray([pca.transform(cvec.transform([sanitize(d)]).toarray()) for d in X_all[:,50]])\\\n",
    "    .reshape(10000, -1)\n",
    "X_diagnoses3_lda = np.asarray([lda.transform(cvec.transform([sanitize(d)]).toarray()) for d in X_all[:,50]])\\\n",
    "    .reshape(10000, -1)"
   ]
  },
  {
   "cell_type": "code",
   "execution_count": 177,
   "metadata": {},
   "outputs": [],
   "source": [
    "X_diagnoses_pca = np.concatenate([X_diagnoses1_pca, X_diagnoses2_pca, X_diagnoses3_pca], axis=1)\n",
    "X_diagnoses_lda = np.concatenate([X_diagnoses1_lda, X_diagnoses2_lda, X_diagnoses3_lda], axis=1)\n",
    "X_diagnoses_pca = Normalizer().fit_transform(X_diagnoses_pca)\n",
    "X_diagnoses_lda = Normalizer().fit_transform(X_diagnoses_lda)"
   ]
  },
  {
   "cell_type": "code",
   "execution_count": 178,
   "metadata": {},
   "outputs": [],
   "source": [
    "pickle.dump(X_diagnoses_pca[:len(X)], open(\"data/diabetes/X_diagnoses_pca.csv\", \"wb\"))\n",
    "pickle.dump(X_diagnoses_pca[len(X):len(X)+len(X_val)], open(\"data/diabetes/X_val_diagnoses_pca.csv\", \"wb\"))\n",
    "pickle.dump(X_diagnoses_pca[len(X)+len(X_val):], open(\"data/diabetes/X_test_diagnoses_pca.csv\", \"wb\"))\n",
    "pickle.dump(X_diagnoses_lda[:len(X)], open(\"data/diabetes/X_diagnoses_lda.csv\", \"wb\"))\n",
    "pickle.dump(X_diagnoses_lda[len(X):len(X)+len(X_val)], open(\"data/diabetes/X_val_diagnoses_lda.csv\", \"wb\"))\n",
    "pickle.dump(X_diagnoses_lda[len(X)+len(X_val):], open(\"data/diabetes/X_test_diagnoses_lda.csv\", \"wb\"))"
   ]
  },
  {
   "cell_type": "code",
   "execution_count": null,
   "metadata": {},
   "outputs": [],
   "source": []
  }
 ],
 "metadata": {
  "kernelspec": {
   "display_name": "Python 3",
   "language": "python",
   "name": "python3"
  },
  "language_info": {
   "codemirror_mode": {
    "name": "ipython",
    "version": 3
   },
   "file_extension": ".py",
   "mimetype": "text/x-python",
   "name": "python",
   "nbconvert_exporter": "python",
   "pygments_lexer": "ipython3",
   "version": "3.7.4"
  }
 },
 "nbformat": 4,
 "nbformat_minor": 2
}
