{
 "cells": [
  {
   "cell_type": "code",
   "execution_count": 1,
   "metadata": {},
   "outputs": [
    {
     "name": "stdout",
     "output_type": "stream",
     "text": [
      "showing info https://raw.githubusercontent.com/nltk/nltk_data/gh-pages/index.xml\n"
     ]
    },
    {
     "data": {
      "text/plain": [
       "True"
      ]
     },
     "execution_count": 1,
     "metadata": {},
     "output_type": "execute_result"
    }
   ],
   "source": [
    "import nltk\n",
    "nltk.download()"
   ]
  },
  {
   "cell_type": "code",
   "execution_count": 200,
   "metadata": {},
   "outputs": [],
   "source": [
    "import numpy as np\n",
    "import pickle\n",
    "import itertools\n",
    "import pandas as pd"
   ]
  },
  {
   "cell_type": "code",
   "execution_count": 3,
   "metadata": {},
   "outputs": [],
   "source": [
    "from nltk.tokenize import RegexpTokenizer\n",
    "tokenizer = RegexpTokenizer(r'\\w+')"
   ]
  },
  {
   "cell_type": "code",
   "execution_count": 4,
   "metadata": {},
   "outputs": [],
   "source": [
    "from nltk.corpus import stopwords\n",
    "breakers = {'with', 'without', 'comma', 'and', 'or', 'by', 'in', 'due', 'to', 'of', 'causing'}\n",
    "stop_words= (set(stopwords.words(\"english\")) | {'nan', 'unspecified', 'stated', 'other', 'state'})"
   ]
  },
  {
   "cell_type": "code",
   "execution_count": 5,
   "metadata": {},
   "outputs": [],
   "source": [
    "from nltk.stem.wordnet import WordNetLemmatizer\n",
    "lem = WordNetLemmatizer()"
   ]
  },
  {
   "cell_type": "code",
   "execution_count": 8,
   "metadata": {},
   "outputs": [],
   "source": [
    "df_train = np.asarray(pd.read_csv(\"data/diabetes/diab_train.csv\"))\n",
    "df_val = np.asarray(pd.read_csv(\"data/diabetes/diab_validation.csv\"))\n",
    "df_test = np.asarray(pd.read_csv(\"data/diabetes/diab_test.csv\"))"
   ]
  },
  {
   "cell_type": "code",
   "execution_count": 208,
   "metadata": {},
   "outputs": [],
   "source": [
    "X = np.hstack([df_train[:,:-4], df_train[:,-3:]])\n",
    "X_val = np.hstack([df_val[:,:-4], df_val[:,-3:]])\n",
    "X_test = np.hstack([df_test[:,:-4], df_test[:,-3:]])\n",
    "Y = df_train[:,-4]\n",
    "Y_val = df_val[:,-4]\n",
    "Y_test = df_test[:,-4]"
   ]
  },
  {
   "cell_type": "code",
   "execution_count": 10,
   "metadata": {},
   "outputs": [],
   "source": [
    "X_all = np.vstack([X, X_val, X_test])"
   ]
  },
  {
   "cell_type": "code",
   "execution_count": 11,
   "metadata": {},
   "outputs": [],
   "source": [
    "def sanitize(doc, breaks=True):\n",
    "    return [lem.lemmatize(w) for w in tokenizer.tokenize(str(doc).replace(\",\", \" comma\").lower())\\\n",
    "                     if w not in stop_words or (breaks and w in breakers)]"
   ]
  },
  {
   "cell_type": "code",
   "execution_count": 159,
   "metadata": {},
   "outputs": [],
   "source": [
    "def onehot(keys, tokens_docs, truncate=100):\n",
    "    # convert list of of token-lists to one flat list of tokens\n",
    "    # and then create a dictionary that maps word to id of word,\n",
    "    all_tokens = itertools.chain.from_iterable(tokens_docs)\n",
    "    word_to_id = {token: idx for idx, token in enumerate(set(all_tokens))}\n",
    "\n",
    "    # convert token lists to token-id lists\n",
    "    token_ids = [[word_to_id[token] for token in tokens_doc] for tokens_doc in tokens_docs]\n",
    "\n",
    "    maxl = 0\n",
    "    maxi = 0\n",
    "    for t in token_ids:\n",
    "        maxl = max(maxl, len(t))\n",
    "        for w in t:\n",
    "            maxi = max(maxi, w)\n",
    "\n",
    "    mapping = {}\n",
    "    for i,t in enumerate(token_ids):\n",
    "        enc = np.zeros((min(maxl, truncate), maxi+1))\n",
    "        for j in range(min(len(t), truncate)):\n",
    "            enc[j][t[j]] += 1\n",
    "        mapping[keys[i]] = enc\n",
    "    return mapping"
   ]
  },
  {
   "cell_type": "code",
   "execution_count": 13,
   "metadata": {},
   "outputs": [],
   "source": [
    "def encode(index, mapping, force_string=False):\n",
    "    Xp = X_all[:,index]\n",
    "    \n",
    "    if force_string:\n",
    "        Xp = Xp.astype(str)\n",
    "\n",
    "    return np.asarray([mapping[x] for x in Xp])"
   ]
  },
  {
   "cell_type": "code",
   "execution_count": 14,
   "metadata": {},
   "outputs": [],
   "source": [
    "def identity_map(data):\n",
    "    return {x:x for x in set(data)}"
   ]
  },
  {
   "cell_type": "code",
   "execution_count": 70,
   "metadata": {},
   "outputs": [],
   "source": [
    "encodings = []"
   ]
  },
  {
   "cell_type": "markdown",
   "metadata": {},
   "source": [
    "Race"
   ]
  },
  {
   "cell_type": "code",
   "execution_count": 71,
   "metadata": {},
   "outputs": [
    {
     "name": "stdout",
     "output_type": "stream",
     "text": [
      "{'Asian', 'Caucasian', 'AfricanAmerican', '?', 'Hispanic', 'Other'}\n"
     ]
    }
   ],
   "source": [
    "print(set(X_all[:,1]))"
   ]
  },
  {
   "cell_type": "code",
   "execution_count": 72,
   "metadata": {},
   "outputs": [],
   "source": [
    "race = {'Other': 1, 'Asian':2, 'Caucasian':3, 'Hispanic':4, 'AfricanAmerican':5, '?':0}"
   ]
  },
  {
   "cell_type": "code",
   "execution_count": 73,
   "metadata": {},
   "outputs": [],
   "source": [
    "encodings.append(race)"
   ]
  },
  {
   "cell_type": "markdown",
   "metadata": {},
   "source": [
    "Gender"
   ]
  },
  {
   "cell_type": "code",
   "execution_count": 74,
   "metadata": {
    "scrolled": true
   },
   "outputs": [
    {
     "name": "stdout",
     "output_type": "stream",
     "text": [
      "{'Female', 'Male'}\n"
     ]
    }
   ],
   "source": [
    "print(set(X_all[:,2]))"
   ]
  },
  {
   "cell_type": "code",
   "execution_count": 75,
   "metadata": {},
   "outputs": [],
   "source": [
    "gender = {'Male': 0, 'Female': 1}"
   ]
  },
  {
   "cell_type": "code",
   "execution_count": 76,
   "metadata": {},
   "outputs": [],
   "source": [
    "encodings.append(gender)"
   ]
  },
  {
   "cell_type": "markdown",
   "metadata": {},
   "source": [
    "Age"
   ]
  },
  {
   "cell_type": "code",
   "execution_count": 77,
   "metadata": {},
   "outputs": [
    {
     "name": "stdout",
     "output_type": "stream",
     "text": [
      "{'[30-40)', '[60-70)', '[40-50)', '[70-80)', '[0-10)', '[50-60)', '[80-90)', '[90-100)', '[10-20)', '[20-30)'}\n"
     ]
    }
   ],
   "source": [
    "print(set(X_all[:,3]))"
   ]
  },
  {
   "cell_type": "code",
   "execution_count": 78,
   "metadata": {},
   "outputs": [],
   "source": [
    "age = {'[0-10)': 0, '[80-90)': 8, '[60-70)': 6, '[50-60)': 5,\\\n",
    "          '[30-40)': 3, '[20-30)':2, '[90-100)':9, '[40-50)':4, '[70-80)': 7, '[10-20)': 10}"
   ]
  },
  {
   "cell_type": "code",
   "execution_count": 79,
   "metadata": {},
   "outputs": [],
   "source": [
    "encodings.append(age)"
   ]
  },
  {
   "cell_type": "markdown",
   "metadata": {},
   "source": [
    "Weight"
   ]
  },
  {
   "cell_type": "code",
   "execution_count": 80,
   "metadata": {},
   "outputs": [
    {
     "name": "stdout",
     "output_type": "stream",
     "text": [
      "{'[75-100)', '[0-25)', '[125-150)', '[25-50)', '[50-75)', '?', '[150-175)', '[100-125)'}\n"
     ]
    }
   ],
   "source": [
    "print(set(X_all[:,4]))"
   ]
  },
  {
   "cell_type": "code",
   "execution_count": 81,
   "metadata": {},
   "outputs": [],
   "source": [
    "weight = {'[25-50)': 25, '[150-175)': 150, '[75-100)': 75,\\\n",
    "          '[0-25)': 0, '[125-150)': 125, '[50-75)': 50, '[100-125)':100, '?': 73}"
   ]
  },
  {
   "cell_type": "code",
   "execution_count": 82,
   "metadata": {},
   "outputs": [],
   "source": [
    "encodings.append(weight)"
   ]
  },
  {
   "cell_type": "markdown",
   "metadata": {},
   "source": [
    "Admission Type ID"
   ]
  },
  {
   "cell_type": "code",
   "execution_count": 83,
   "metadata": {},
   "outputs": [
    {
     "name": "stdout",
     "output_type": "stream",
     "text": [
      "{'Not Available', 'Emergency', 'Newborn', 'Elective', 'Urgent', 'nan', 'Not Mapped'}\n"
     ]
    }
   ],
   "source": [
    "print(set(X_all[:,5]))"
   ]
  },
  {
   "cell_type": "code",
   "execution_count": 84,
   "metadata": {},
   "outputs": [],
   "source": [
    "admission_type = {'nan': 0, 'Newborn': 2, 'Emergency':4,\\\n",
    "                  'Not Mapped': 0, 'Not Available': 0, 'Urgent': 3, 'Elective': 1}"
   ]
  },
  {
   "cell_type": "code",
   "execution_count": 85,
   "metadata": {},
   "outputs": [],
   "source": [
    "X_all[:,5] = X_all[:,5].astype(str)"
   ]
  },
  {
   "cell_type": "code",
   "execution_count": 86,
   "metadata": {},
   "outputs": [],
   "source": [
    "encodings.append(admission_type)"
   ]
  },
  {
   "cell_type": "markdown",
   "metadata": {},
   "source": [
    "Discharge Disposition ID"
   ]
  },
  {
   "cell_type": "code",
   "execution_count": 160,
   "metadata": {},
   "outputs": [
    {
     "name": "stdout",
     "output_type": "stream",
     "text": [
      "22 Items\n",
      "['Admitted as an inpatient to this hospital', 'Discharged to home', 'Discharged/transferred to ICF', 'Discharged/transferred to SNF', 'Discharged/transferred to a federal health care facility.', 'Discharged/transferred to a long term care hospital.', 'Discharged/transferred to a nursing facility certified under Medicaid but not certified under Medicare', 'Discharged/transferred to another  type of inpatient care institution', 'Discharged/transferred to another rehab fac including rehab units of a hospital.', 'Discharged/transferred to another short term hospital', 'Discharged/transferred to home under care of Home IV provider', 'Discharged/transferred to home with home health service', 'Discharged/transferred within this institution to Medicare approved swing bed', 'Discharged/transferred/referred another institution for outpatient services', 'Discharged/transferred/referred to a psychiatric hospital of a psychiatric distinct part unit of a hospital', 'Discharged/transferred/referred to this institution for outpatient services', 'Expired', 'Hospice / home', 'Hospice / medical facility', 'Left AMA', 'Not Mapped', 'nan']\n"
     ]
    }
   ],
   "source": [
    "print(len(set(X_all[:,6])), 'Items')\n",
    "print(sorted(list(set(X_all[:,6].astype(str)))))"
   ]
  },
  {
   "cell_type": "code",
   "execution_count": 161,
   "metadata": {},
   "outputs": [],
   "source": [
    "discharge_disposition = sorted([sanitize(s, breaks=False) for s in set(X_all[:,6].astype(str))])\n",
    "discharge_disposition_onehot = onehot([s for s in set(X_all[:,6].astype(str))], discharge_disposition, truncate=4)"
   ]
  },
  {
   "cell_type": "markdown",
   "metadata": {},
   "source": [
    "Admission Source ID"
   ]
  },
  {
   "cell_type": "code",
   "execution_count": 90,
   "metadata": {},
   "outputs": [
    {
     "name": "stdout",
     "output_type": "stream",
     "text": [
      "['Clinic Referral', 'Court/Law Enforcement', 'Emergency Room', 'HMO Referral', 'Not Available', 'Not Mapped', 'Physician Referral', 'Transfer from a Skilled Nursing Facility (SNF)', 'Transfer from a hospital', 'Transfer from another health care facility', 'nan']\n"
     ]
    }
   ],
   "source": [
    "print(sorted(list(set(X_all[:,7].astype(str)))))"
   ]
  },
  {
   "cell_type": "code",
   "execution_count": 91,
   "metadata": {},
   "outputs": [],
   "source": [
    "admission_src_id = {'Clinic Referral':np.asarray([1,0,0,0,0,0,0,0,0]), \\\n",
    "                    'Court/Law Enforcement':np.asarray([0,1,0,0,0,0,0,0,0]), \\\n",
    "                    'Emergency Room':np.asarray([0,0,1,0,0,0,0,0,0]), \\\n",
    "                    'HMO Referral':np.asarray([0,0,0,1,0,0,0,0,0]), \\\n",
    "                    'Not Available':np.asarray([0,0,0,0,1,0,0,0,0]), \\\n",
    "                    'Not Mapped':np.asarray([0,0,0,0,1,0,0,0,0]), \\\n",
    "                    'nan':np.asarray([0,0,0,0,1,0,0,0,0]), \\\n",
    "                    'Physician Referral':np.asarray([0,0,0,0,0,1,0,0,0]), \\\n",
    "                    'Transfer from a Skilled Nursing Facility (SNF)':np.asarray([0,0,0,0,0,0,1,0,0]), \\\n",
    "                    'Transfer from a hospital':np.asarray([0,0,0,0,0,0,0,1,0]), \\\n",
    "                    'Transfer from another health care facility':np.asarray([0,0,0,0,0,0,0,0,1])}"
   ]
  },
  {
   "cell_type": "markdown",
   "metadata": {},
   "source": [
    "Time in Hospital"
   ]
  },
  {
   "cell_type": "code",
   "execution_count": 92,
   "metadata": {},
   "outputs": [
    {
     "name": "stdout",
     "output_type": "stream",
     "text": [
      "{1, 2, 3, 4, 5, 6, 7, 8, 9, 10, 11, 12, 13, 14}\n"
     ]
    }
   ],
   "source": [
    "print(set(X_all[:,8]))"
   ]
  },
  {
   "cell_type": "code",
   "execution_count": 93,
   "metadata": {},
   "outputs": [],
   "source": [
    "encodings.append(identity_map(X_all[:,8]))"
   ]
  },
  {
   "cell_type": "markdown",
   "metadata": {},
   "source": [
    "Payer Code"
   ]
  },
  {
   "cell_type": "code",
   "execution_count": 94,
   "metadata": {},
   "outputs": [
    {
     "name": "stdout",
     "output_type": "stream",
     "text": [
      "{'DM', 'MC', 'OG', 'HM', 'CP', 'SI', 'CM', 'BC', 'WC', '?', 'UN', 'SP', 'CH', 'MD', 'PO', 'OT'}\n"
     ]
    }
   ],
   "source": [
    "print(set(X_all[:,9]))"
   ]
  },
  {
   "cell_type": "code",
   "execution_count": 95,
   "metadata": {},
   "outputs": [],
   "source": [
    "payer_code = {k:np.eye(len(set(X_all[:,9])))[i] for i,k in enumerate(set(X_all[:,9]))}"
   ]
  },
  {
   "cell_type": "markdown",
   "metadata": {},
   "source": [
    "Medical Speciality"
   ]
  },
  {
   "cell_type": "code",
   "execution_count": 162,
   "metadata": {},
   "outputs": [
    {
     "name": "stdout",
     "output_type": "stream",
     "text": [
      "['?', 'Anesthesiology-Pediatric', 'Cardiology', 'Cardiology-Pediatric', 'Emergency/Trauma', 'Endocrinology', 'Family/GeneralPractice', 'Gastroenterology', 'Gynecology', 'Hematology', 'Hematology/Oncology', 'Hospitalist', 'InfectiousDiseases', 'InternalMedicine', 'Nephrology', 'Neurology', 'Obsterics&Gynecology-GynecologicOnco', 'Obstetrics', 'ObstetricsandGynecology', 'Oncology', 'Ophthalmology', 'Orthopedics', 'Orthopedics-Reconstructive', 'Osteopath', 'Otolaryngology', 'OutreachServices', 'Pathology', 'Pediatrics', 'Pediatrics-CriticalCare', 'Pediatrics-EmergencyMedicine', 'Pediatrics-Endocrinology', 'Pediatrics-Hematology-Oncology', 'Pediatrics-Pulmonology', 'PhysicalMedicineandRehabilitation', 'PhysicianNotFound', 'Podiatry', 'Psychiatry', 'Psychology', 'Pulmonology', 'Radiologist', 'Radiology', 'Surgeon', 'Surgery-Cardiovascular', 'Surgery-Cardiovascular/Thoracic', 'Surgery-Colon&Rectal', 'Surgery-General', 'Surgery-Neuro', 'Surgery-Pediatric', 'Surgery-Plastic', 'Surgery-PlasticwithinHeadandNeck', 'Surgery-Thoracic', 'Surgery-Vascular', 'Urology']\n"
     ]
    }
   ],
   "source": [
    "print(sorted([s for s in set(X_all[:,10])]))"
   ]
  },
  {
   "cell_type": "code",
   "execution_count": 163,
   "metadata": {},
   "outputs": [],
   "source": [
    "medical_speciality = sorted([sanitize(s, breaks=False) for s in set(X_all[:,10])])\n",
    "medical_speciality_onehot = onehot([s for s in set(X_all[:,10])], medical_speciality)"
   ]
  },
  {
   "cell_type": "markdown",
   "metadata": {},
   "source": [
    "Number of Lab Procedures"
   ]
  },
  {
   "cell_type": "code",
   "execution_count": 99,
   "metadata": {},
   "outputs": [
    {
     "name": "stdout",
     "output_type": "stream",
     "text": [
      "{1, 2, 3, 4, 5, 6, 7, 8, 9, 10, 11, 12, 13, 14, 15, 16, 17, 18, 19, 20, 21, 22, 23, 24, 25, 26, 27, 28, 29, 30, 31, 32, 33, 34, 35, 36, 37, 38, 39, 40, 41, 42, 43, 44, 45, 46, 47, 48, 49, 50, 51, 52, 53, 54, 55, 56, 57, 58, 59, 60, 61, 62, 63, 64, 65, 66, 67, 68, 69, 70, 71, 72, 73, 74, 75, 76, 77, 78, 79, 80, 81, 82, 83, 84, 85, 86, 87, 88, 89, 90, 91, 92, 93, 94, 95, 96, 97, 98, 101, 103, 104, 106, 107, 108, 109, 113, 114, 120}\n"
     ]
    }
   ],
   "source": [
    "print(set(X_all[:,11]))"
   ]
  },
  {
   "cell_type": "code",
   "execution_count": 100,
   "metadata": {},
   "outputs": [],
   "source": [
    "encodings.append(identity_map(X_all[:,11]))"
   ]
  },
  {
   "cell_type": "markdown",
   "metadata": {},
   "source": [
    "Number of Procedures"
   ]
  },
  {
   "cell_type": "code",
   "execution_count": 101,
   "metadata": {},
   "outputs": [
    {
     "name": "stdout",
     "output_type": "stream",
     "text": [
      "{0, 1, 2, 3, 4, 5, 6}\n"
     ]
    }
   ],
   "source": [
    "print(set(X_all[:,12]))"
   ]
  },
  {
   "cell_type": "code",
   "execution_count": 102,
   "metadata": {},
   "outputs": [],
   "source": [
    "encodings.append(identity_map(X_all[:,12]))"
   ]
  },
  {
   "cell_type": "markdown",
   "metadata": {},
   "source": [
    "Number of Medications"
   ]
  },
  {
   "cell_type": "code",
   "execution_count": 103,
   "metadata": {},
   "outputs": [
    {
     "name": "stdout",
     "output_type": "stream",
     "text": [
      "{1, 2, 3, 4, 5, 6, 7, 8, 9, 10, 11, 12, 13, 14, 15, 16, 17, 18, 19, 20, 21, 22, 23, 24, 25, 26, 27, 28, 29, 30, 31, 32, 33, 34, 35, 36, 37, 38, 39, 40, 41, 42, 43, 44, 45, 46, 47, 48, 49, 50, 51, 52, 53, 54, 55, 56, 57, 58, 59, 60, 61, 62, 63, 65, 67, 74, 75, 81}\n"
     ]
    }
   ],
   "source": [
    "print(set(X_all[:,13]))"
   ]
  },
  {
   "cell_type": "code",
   "execution_count": 104,
   "metadata": {},
   "outputs": [],
   "source": [
    "encodings.append(identity_map(X_all[:,13]))"
   ]
  },
  {
   "cell_type": "markdown",
   "metadata": {},
   "source": [
    "Number Outpatient"
   ]
  },
  {
   "cell_type": "code",
   "execution_count": 105,
   "metadata": {},
   "outputs": [
    {
     "name": "stdout",
     "output_type": "stream",
     "text": [
      "{0, 1, 2, 3, 4, 5, 6, 7, 8, 9, 10, 11, 12, 13, 14, 15, 16, 17, 18, 19, 21, 27, 36}\n"
     ]
    }
   ],
   "source": [
    "print(set(X_all[:,14]))"
   ]
  },
  {
   "cell_type": "code",
   "execution_count": 106,
   "metadata": {},
   "outputs": [],
   "source": [
    "encodings.append(identity_map(X_all[:,14]))"
   ]
  },
  {
   "cell_type": "markdown",
   "metadata": {},
   "source": [
    "Number Emergency"
   ]
  },
  {
   "cell_type": "code",
   "execution_count": 107,
   "metadata": {},
   "outputs": [
    {
     "name": "stdout",
     "output_type": "stream",
     "text": [
      "{0, 1, 2, 3, 4, 5, 6, 7, 8, 9, 42, 13}\n"
     ]
    }
   ],
   "source": [
    "print(set(X_all[:,15]))"
   ]
  },
  {
   "cell_type": "code",
   "execution_count": 108,
   "metadata": {},
   "outputs": [],
   "source": [
    "encodings.append(identity_map(X_all[:,15]))"
   ]
  },
  {
   "cell_type": "markdown",
   "metadata": {},
   "source": [
    "Number Inpatient"
   ]
  },
  {
   "cell_type": "code",
   "execution_count": 109,
   "metadata": {},
   "outputs": [
    {
     "name": "stdout",
     "output_type": "stream",
     "text": [
      "{0, 1, 2, 3, 4, 5, 6, 7, 8, 9, 10}\n"
     ]
    }
   ],
   "source": [
    "print(set(X_all[:,16]))"
   ]
  },
  {
   "cell_type": "code",
   "execution_count": 110,
   "metadata": {},
   "outputs": [],
   "source": [
    "encodings.append(identity_map(X_all[:,16]))"
   ]
  },
  {
   "cell_type": "markdown",
   "metadata": {},
   "source": [
    "Diagnoses"
   ]
  },
  {
   "cell_type": "code",
   "execution_count": 111,
   "metadata": {},
   "outputs": [
    {
     "name": "stdout",
     "output_type": "stream",
     "text": [
      "{'319', '443', '193', 'V62', '335', '250.2', 'V08', 'V45', '989', '382', 'V18', '437', '752', '201', '250.22', '965', '411', '867', '189', '496', 'E854', '398', '317', '250.5', '295', '726', '735', '255', '736', '377', '286', '61', '836', '438', '720', '996', 'V17', '745', 'V49', '785', '694', '250.31', '253', '429', 'E858', '136', '532', '486', '924', '218', '205', '345', '284', '252', '301', 'V53', '882', '581', '530', '385', '240', '534', '250.82', 'V56', '250.91', '641', '884', '560', '800', '487', '223', '150', '655', '633', '313', '280', '250.41', '459', '356', '203', '327', '709', '536', '591', '351', 'E882', '349', '477', '493', '158', '619', '715', '595', 'E917', '303', '866', '862', 'V64', 'E938', '731', 'E878', '645', '358', '871', '293', '795', '312', '910', '290', 'V43', '161', '907', '812', '535', '583', '892', '396', 'V14', 'E884', '227', '370', '204', '759', '211', 'E933', '860', '430', '620', '265', '966', '562', 'E915', '783', '387', '781', '621', '160', '380', '250.53', '404', '27', '964', '304', '695', '851', '275', '285', '853', '814', '782', '969', '968', '700', '652', '378', 'V85', '922', '566', '415', '250.32', '605', 'E928', '250.9', '322', '369', '540', '710', '246', '747', '669', '865', '991', '31', '893', '444', '291', 'E812', '921', 'E934', '88', '112', '41', '333', 'E880', 'V70', '692', 'E939', '282', '451', '54', '648', '311', '550', '262', '908', '366', '244', '970', '199', '272', '843', '521', '663', '646', '307', '786', '935', '705', '401', '756', '70', 'V55', '453', '725', '250.93', '197', '182', '405', '508', '599', '847', '680', '997', '555', 'E941', '283', '348', '527', '481', '614', '850', '300', '577', '717', '324', '416', '579', '714', '250.33', 'E885', '618', '436', '564', '607', '682', 'E980', '958', '250.51', '433', '386', '9', '138', 'V10', '154', '585', '258', '314', '519', '693', '475', 'E888', '661', '533', '261', '594', '933', '604', '250.12', '11', 'V72', '250.1', '266', '235', '365', '794', 'E947', '174', '250.13', '920', 'V09', '574', '156', '171', '510', '214', '397', 'E930', '179', '202', '918', '452', '485', '442', '354', '784', '913', '788', '787', '886', 'E927', '8', '250.6', '251', '464', '191', '729', '741', '323', '518', '362', '869', '701', '384', '299', '934', '183', '805', 'V12', '277', '728', '250.8', '287', 'E943', '972', '995', 'E935', '723', '576', '151', '558', '250.4', 'E942', '157', '278', '923', '999', '228', '355', '421', '873', '153', '713', '821', '790', '807', '473', '474', '840', '162', '325', '722', 'V44', '580', '491', '250.81', '601', '569', '513', '793', 'E929', '883', '310', '274', '346', '780', '791', '331', '707', '962', '250.3', 'E815', '691', '441', 'E937', '374', '?', '711', '822', '5', '309', '480', '410', '825', '586', '289', '868', 'V11', '461', '360', '425', '734', '721', '403', '977', '703', '627', 'E819', '584', '250.92', '440', '572', '813', '250.11', 'E949', 'V63', '239', '890', '916', '516', 'V16', '79', '155', '565', '413', '751', '388', '719', '718', '698', '340', '967', '567', '372', '656', '543', '611', '260', '423', '250.42', '626', '660', '250.83', '906', '230', '276', '593', '242', '737', '180', '733', 'V71', '381', '135', 'E816', '820', '298', '250.43', '75', '998', '3', '250.21', '578', '173', '905', '590', '342', 'V66', '412', 'E950', '117', '187', '220', '238', '435', '292', '318', '801', '575', '681', '250.7', '616', '643', '432', '198', '789', '427', '250.01', '250.03', '684', '658', '110', '78', '296', '446', '38', '492', '945', '470', '82', 'E944', 'E822', '428', '537', '34', '250', '796', 'E932', '455', '915', '94', '434', '271', 'V58', 'E887', '226', '357', '808', 'V46', '431', '361', '625', '465', '263', '131', '241', '552', '512', 'V25', '343', '308', 'V54', '225', '553', '531', '466', '170', '642', '852', '245', '515', '738', '571', '457', '617', '305', '141', '456', '478', '306', '514', '730', 'V57', '501', '846', '600', '992', '402', '250.52', '622', '376', '696', '568', '598', '792', '281', '810', 'E879', '337', '273', '588', 'E905', '659', '394', '462', '557', '353', '185', '556', '395', '389', '420', '53', '482', '511', '188', '172', 'V42', '200', '844', '250.23', '959', '623', '359', '164', '608', '753', '490', '507', '196', '727', '644', '447', 'E916', '316', '454', '647', '528', '824', '826', '42', '716', '344', '458', '573', '368', '233', '210', '426', '250.02', '288', '802', '379', '596', '758', 'V65', '184', 'V27', '350', '517', '414', '603', '746', '816', '582', '708', '861', '424', '706', '522', '823', '592', '664', '483', '208', '799', '494', '845', 'V15', '332', '724', 'E849', '294', '610', '654'}\n"
     ]
    }
   ],
   "source": [
    "print(set(X_all[:,17])|set(X_all[:,18])|set(X_all[:,19]))"
   ]
  },
  {
   "cell_type": "markdown",
   "metadata": {},
   "source": [
    "Number of Diagnoses"
   ]
  },
  {
   "cell_type": "code",
   "execution_count": 112,
   "metadata": {},
   "outputs": [
    {
     "name": "stdout",
     "output_type": "stream",
     "text": [
      "{1, 2, 3, 4, 5, 6, 7, 8, 9}\n"
     ]
    }
   ],
   "source": [
    "print(set(X_all[:,20]))"
   ]
  },
  {
   "cell_type": "code",
   "execution_count": 113,
   "metadata": {},
   "outputs": [],
   "source": [
    "encodings.append(identity_map(X_all[:,20]))"
   ]
  },
  {
   "cell_type": "markdown",
   "metadata": {},
   "source": [
    "Max Glucose Serum"
   ]
  },
  {
   "cell_type": "code",
   "execution_count": 114,
   "metadata": {},
   "outputs": [
    {
     "name": "stdout",
     "output_type": "stream",
     "text": [
      "{'None', '>300', '>200', 'Norm'}\n"
     ]
    }
   ],
   "source": [
    "print(set(X_all[:,21]))"
   ]
  },
  {
   "cell_type": "code",
   "execution_count": 115,
   "metadata": {},
   "outputs": [],
   "source": [
    "max_glu_serum = {'Norm':0, '>300':3, 'None':1, '>200':2}"
   ]
  },
  {
   "cell_type": "code",
   "execution_count": 116,
   "metadata": {},
   "outputs": [],
   "source": [
    "encodings.append(max_glu_serum)"
   ]
  },
  {
   "cell_type": "markdown",
   "metadata": {},
   "source": [
    "A1Cresult"
   ]
  },
  {
   "cell_type": "code",
   "execution_count": 117,
   "metadata": {},
   "outputs": [
    {
     "name": "stdout",
     "output_type": "stream",
     "text": [
      "{'>7', '>8', 'None', 'Norm'}\n"
     ]
    }
   ],
   "source": [
    "print(set(X_all[:,22]))"
   ]
  },
  {
   "cell_type": "code",
   "execution_count": 118,
   "metadata": {},
   "outputs": [],
   "source": [
    "a1c_res = {'>7': 2, 'Norm': 0, '>8': 3, 'None': 1}"
   ]
  },
  {
   "cell_type": "code",
   "execution_count": 119,
   "metadata": {},
   "outputs": [],
   "source": [
    "encodings.append(a1c_res)"
   ]
  },
  {
   "cell_type": "markdown",
   "metadata": {},
   "source": [
    "Metformin - Metformin Pioglitazone"
   ]
  },
  {
   "cell_type": "code",
   "execution_count": 120,
   "metadata": {},
   "outputs": [
    {
     "name": "stdout",
     "output_type": "stream",
     "text": [
      "{'Steady', 'Up', 'Down', 'No'}\n"
     ]
    }
   ],
   "source": [
    "print(set(X_all[:,23]))"
   ]
  },
  {
   "cell_type": "code",
   "execution_count": 121,
   "metadata": {},
   "outputs": [],
   "source": [
    "drug_change = {'Down': 1, 'No': 0, 'Steady': 2, 'Up': 3}"
   ]
  },
  {
   "cell_type": "code",
   "execution_count": 122,
   "metadata": {},
   "outputs": [],
   "source": [
    "encodings += [drug_change] * 23"
   ]
  },
  {
   "cell_type": "markdown",
   "metadata": {},
   "source": [
    "Change"
   ]
  },
  {
   "cell_type": "code",
   "execution_count": 123,
   "metadata": {},
   "outputs": [
    {
     "name": "stdout",
     "output_type": "stream",
     "text": [
      "{'Ch', 'No'}\n"
     ]
    }
   ],
   "source": [
    "print(set(X_all[:,46]))"
   ]
  },
  {
   "cell_type": "code",
   "execution_count": 124,
   "metadata": {},
   "outputs": [],
   "source": [
    "change = {'No': 0, 'Ch': 1}"
   ]
  },
  {
   "cell_type": "code",
   "execution_count": 125,
   "metadata": {},
   "outputs": [],
   "source": [
    "encodings.append(change)"
   ]
  },
  {
   "cell_type": "markdown",
   "metadata": {},
   "source": [
    "Diabetes Medication"
   ]
  },
  {
   "cell_type": "code",
   "execution_count": 126,
   "metadata": {},
   "outputs": [
    {
     "name": "stdout",
     "output_type": "stream",
     "text": [
      "{'Yes', 'No'}\n"
     ]
    }
   ],
   "source": [
    "print(set(X_all[:,47]))"
   ]
  },
  {
   "cell_type": "code",
   "execution_count": 127,
   "metadata": {},
   "outputs": [],
   "source": [
    "diabetes_med = {'No': 0, 'Yes': 1}"
   ]
  },
  {
   "cell_type": "code",
   "execution_count": 128,
   "metadata": {},
   "outputs": [],
   "source": [
    "encodings.append(diabetes_med)"
   ]
  },
  {
   "cell_type": "markdown",
   "metadata": {},
   "source": [
    "Diagnoses Description"
   ]
  },
  {
   "cell_type": "code",
   "execution_count": 129,
   "metadata": {},
   "outputs": [
    {
     "name": "stdout",
     "output_type": "stream",
     "text": [
      "{nan, 'Bipolar I disorder, single manic episode, unspecified', 'Encounter for extracorporeal dialysis', 'Closed fracture of cervical vertebra, unspecified level', 'Acute lymphoid leukemia, without mention of having achieved remission', 'Renal agenesis and dysgenesis', 'Other and unspecified noninfectious gastroenteritis and colitis', 'Malignant neoplasm of liver, primary', 'Chronic airway obstruction, not elsewhere classified', 'Trigeminal nerve disorders', 'Closed fracture of vault of skull without mention of intracranial injury, unspecified state of consciousness', 'Closed fracture of acetabulum', 'Ankylosing spondylitis', 'Drug withdrawal', 'Viral hepatitis A with hepatic coma', 'Alcoholic fatty liver', 'Disorders of thyrocalcitonin secretion', \"M_ni\\x8fre's disease, unspecified\", 'Anhidrosis', 'Cellulitis and abscess of finger, unspecified', 'Polyp of corpus uteri', 'Pulpitis', 'Nervous system complication, unspecified', 'Chronic pyelonephritis without lesion of renal medullary necrosis', 'Herpes zoster with meningitis', 'Malignant neoplasm of base of tongue', 'Neoplasm of unspecified nature of digestive system', 'Malignant neoplasm of nasal cavities', 'Closed fracture of clavicle, unspecified part', 'Acute and subacute bacterial endocarditis', 'Diabetes with peripheral circulatory disorders, type II or unspecified type, not stated as uncontrolled', 'Follicular cyst of ovary', 'Closed fracture of unspecified part of femur', 'Hydronephrosis', 'Postinflammatory pulmonary fibrosis', 'Maternal distress complicating labor and delivery, unspecified as to episode of care or not applicable', 'Anal fissure', 'Acute osteomyelitis, site unspecified', 'Myocarditis, unspecified', 'Closed fracture of upper end of forearm, unspecified', 'Benign neoplasm of kidney, except pelvis', 'Other severe protein-calorie malnutrition', 'Depressive disorder, not elsewhere classified', 'Rheumatism, unspecified and fibrositis', 'Degenerative and vascular disorders, unspecified', 'Injury to spleen without mention of open wound into cavity, unspecified injury', 'Chronic maxillary sinusitis', 'Hemorrhage, unspecified', 'Ocular laceration without prolapse of intraocular tissue', 'Pneumonia due to Klebsiella pneumoniae', 'Hereditary spherocytosis', 'Malignant neoplasm of glottis', 'Endometriosis of uterus', 'Gouty arthropathy, unspecified', 'Contusion of thigh', 'Intussusception', 'Closed fracture of nasal bones', 'Acute gastric ulcer with hemorrhage, without mention of obstruction', 'Acute appendicitis with generalized peritonitis', 'Femoral hernia without mention of obstruction of gangrene, unilateral or unspecified(not specified as recurrent)', 'Secondary and unspecified malignant neoplasm of lymph nodes of head, face, and neck', 'Pleurisy without mention of effusion or current tuberculosis', 'Other and unspecified intracranial hemorrhage following injury without mention of open intracranial wound, unspecified state of consciousness', 'Acute kidney failure', 'Peritonitis in infectious diseases classified elsewhere', 'Osteoporosis, unspecified', 'Carbuncle and furuncle of face', 'Diabetes with other coma, type II or unspecified type, not stated as uncontrolled', 'Bronchitis, not specified as acute or chronic', 'Leukoplakia of penis', 'Diabetes with other specified manifestations, type I [juvenile type], uncontrolled', 'Inguinal hernia, with gangrene, unilateral or unspecified (not specified as recurrent)', 'Poisoning by oxazolidine derivatives', 'Diabetes with ketoacidosis, type II or unspecified type, uncontrolled', 'Patent ductus arteriosus', 'Benign essential hypertension complicating pregnancy, childbirth, and the puerperium, unspecified as to episode of care or not applicable', 'Atherosclerosis of aorta', 'Diabetes with neurological manifestations, type II or unspecified type, not stated as uncontrolled', 'Open wound of toe(s), without mention of complication', 'Dermatophytosis of scalp and beard', 'Papilledema, unspecified', 'Abrasion or friction burn of elbow, forearm, and wrist, without mention of infection', 'Spinal stenosis in cervical region', \"Bell's palsy\", 'Poisoning by opium (alkaloids), unspecified', 'Pressure ulcer, unspecified site', 'Aplastic anemia and other bone marrow failure syndromes', 'Opioid type dependence, unspecified', 'Sprain of ankle, unspecified site', 'Multiple myeloma, without mention of having achieved remission', 'Delirium due to conditions classified elsewhere', 'Open wound of foot except toe(s) alone, without mention of complication', 'Cerebral cysts', 'Peritoneal adhesions (postoperative) (postinfection)', 'Attention to tracheostomy', 'Malignant neoplasm of trigone of urinary bladder', 'Injury to bladder and urethra, without mention of open wound into cavity', 'Intestinal infection due to E. coli, unspecified', 'Closed fracture of intracapsular section of neck of femur, unspecified', 'Diabetes mellitus without mention of complication, type II or unspecified type, not stated as uncontrolled', 'Nonsenile cataract, unspecified', 'Hypertensive heart and chronic kidney disease, malignant, without heart failure and with chronic kidney disease stage I through stage IV, or unspecified', 'Closed fracture of patella', 'Poisoning by adrenal cortical steroids', 'Allergic urticaria', 'Dengue', 'Sprain of lateral collateral ligament of knee', 'Acute, but ill-defined, cerebrovascular disease', 'Poisoning by dietetics', 'Nodular lymphoma, unspecified site, extranodal and solid organ sites', 'Closed fracture of rib(s), unspecified', 'Influenza with pneumonia', 'Diabetes with hyperosmolarity, type II or unspecified type, uncontrolled', 'Foreign body in pharynx', 'Goiter, specified as simple', 'Cervical spondylosis without myelopathy', 'Cerebral atherosclerosis', 'Abrasion or friction burn of finger(s), without mention of infection', 'Benign neoplasm of thyroid glands', 'Spinal stenosis, unspecified region', 'Anomalies of skull and face bones', 'Unspecified deformity of forearm, excluding fingers', 'Malignant neoplasm of endocervix', 'Spotted fevers', 'Poisoning by iron and its compounds', 'Orchitis, epididymitis, and epididymo-orchitis, with abscess', 'Retinal detachment with retinal defect, unspecified', 'Esotropia, unspecified', 'Traumatic amputation of other finger(s) (complete) (partial), without mention of complication', 'Premenopausal menorrhagia', 'Pulmonary collapse', 'Diabetes mellitus without mention of complication, type I [juvenile type], uncontrolled', 'Hemopericardium', 'Abscess of lung', 'Acquired deformity of nose', 'Calculus in diverticulum of bladder', 'Polycythemia, secondary', 'Urethral stricture due to unspecified infection', 'Articular cartilage disorder, site unspecified', 'Submucous leiomyoma of uterus', 'Acute gastrojejunal ulcer with hemorrhage, without mention of obstruction', 'Werdnig-Hoffmann disease', 'Nonspecific findings on examination of blood', 'Observation and evaluation for suspected conditions not found', 'Rheumatic myocarditis', 'Displacement of cervical intervertebral disc without myelopathy', 'Benign neoplasm of lip', 'Diverticulosis of small intestine (without mention of hemorrhage)', 'Failed mechanical induction of labor, unspecified as to episode of care or not applicable', 'Hypertensive chronic kidney disease, malignant, with chronic kidney disease stage I through stage IV, or unspecified', 'Synovitis and tenosynovitis, unspecified', 'Systemic lupus erythematosus', 'Neoplasm of uncertain behavior of bone and articular cartilage', 'Nephroptosis', 'Internal hemorrhoids without mention of complication', 'Diabetes with other coma, type I [juvenile type], uncontrolled', 'Corneal ulcer, unspecified', 'Diabetes mellitus without mention of complication, type I [juvenile type], not stated as uncontrolled', 'Nausea and vomiting', 'Neoplasm of uncertain behavior of major salivary glands', \"Alzheimer's disease\", 'Malignant neoplasm of thymus', 'Generalized vaccinia as a complication of medical care, not elsewhere classified', 'Iliofemoral (ligament) sprain', 'Perichondritis of pinna, unspecified', 'Acne varioliformis', 'Malignant neoplasm of head of pancreas', 'Other retinal disorders', 'Pneumonia due to mycoplasma pneumoniae', 'Malignant neoplasm of hepatic flexure', 'Postsurgical hypothyroidism', 'Care involving breathing exercises', 'Urinary-genital tract fistula, female', 'Residence remote from hospital or other health care facility', 'Reaction to spinal or lumbar puncture', 'Diabetes with renal manifestations, type I [juvenile type], uncontrolled', 'Diabetes with other specified manifestations, type II or unspecified type, uncontrolled', 'Headache', 'Adenovirus infection in conditions classified elsewhere and of unspecified site', 'Diabetes with ketoacidosis, type II or unspecified type, not stated as uncontrolled', 'Acute alcoholic intoxication in alcoholism, unspecified', 'Atrioventricular block, complete', 'Malignant neoplasm of cervical esophagus', 'Abdominal pregnancy without intrauterine pregnancy', 'Postoperative shock, unspecified', 'Simple type schizophrenia, unspecified', 'Cerebral thrombosis without mention of cerebral infarction', 'Alcohol withdrawal delirium', 'Polyarteritis nodosa', 'Infectious colitis, enteritis, and gastroenteritis', 'Toxic diffuse goiter without mention of thyrotoxic crisis or storm', 'Osteoarthrosis, generalized, site unspecified', 'Malignant neoplasm of rectosigmoid junction', 'Coronary atherosclerosis of unspecified type of vessel, native or graft', 'Abdominal pain, unspecified site', 'Poisoning by antidepressant, unspecified', 'Inflammatory disease of breast', 'Abnormal function study of brain and central nervous system, unspecified', 'Tracheostomy complication, unspecified', 'Acute cystitis', 'Diabetes with hyperosmolarity, type I [juvenile type], uncontrolled', 'Acute laryngopharyngitis', 'Diabetes with ketoacidosis, type I [juvenile type], not stated as uncontrolled', 'Secondary malignant neoplasm of kidney', 'Malignant neoplasm of ovary', 'Sprain of neck', 'Reticulosarcoma, unspecified site, extranodal and solid organ sites', 'Spontaneous tension pneumothorax', 'Tympanosclerosis, unspecified as to involvement', 'Dyspareunia', 'Diabetes with unspecified complication, type II or unspecified type, uncontrolled', 'Other ill-defined and unknown causes of morbidity and mortality', 'Injury other and unspecified', 'Adhesive capsulitis of shoulder', 'Angina decubitus', 'Adjustment disorder with depressed mood', 'Acute leukemia of unspecified cell type, without mention of having achieved remission', 'Diabetes with hyperosmolarity, type II or unspecified type, not stated as uncontrolled', 'Toxic effect of hydrocyanic acid and cyanides', 'Diabetes with renal manifestations, type II or unspecified type, uncontrolled', 'Contact dermatitis and other eczema due to detergents', 'Acute gastritis, without mention of hemorrhage', 'Ulcerative (chronic) enterocolitis', 'Pulmonary congestion and hypostasis', 'Central nervous system malformation in fetus, unspecified as to episode of care or not applicable', 'Other orthopedic aftercare', 'Constipation, unspecified', 'Hypertrophy of nasal turbinates', 'Diabetes with other specified manifestations, type I [juvenile type], not stated as uncontrolled', 'Malignant neoplasm of connective and other soft tissue of head, face, and neck', 'Rheumatic aortic stenosis', 'Malignant neoplasm of prostate', 'Depressive type psychosis', 'Diabetes with other coma, type II or unspecified type, uncontrolled', 'Respiratory abnormality, unspecified', 'Paroxysmal supraventricular tachycardia', 'Encysted hydrocele', 'Diabetes with renal manifestations, type I [juvenile type], not stated as uncontrolled', 'Acromegaly and gigantism', 'Air embolism', 'Benign neoplasm of esophagus', 'Postmyocardial infarction syndrome', 'Cervicitis and endocervicitis', 'Closed fracture of unspecified part of upper end of humerus', 'Carcinoma in situ of breast', 'Malignant neoplasm of thyroid gland', \"Cushing's syndrome\", 'Malignant neoplasm of cardia', 'Adult onset fluency disorder', 'Urinary tract infection, site not specified', 'Acute bronchitis', 'Cystic fibrosis without mention of meconium ileus', 'Nephrotic syndrome with lesion of proliferative glomerulonephritis', 'Congestive heart failure, unspecified', 'Basilar artery syndrome', 'Allergic purpura', 'Simple chronic bronchitis', 'Orthostatic hypotension', 'Stomatitis and mucositis, unspecified', 'Benign neoplasm of adrenal gland', 'Endomyocardial fibrosis', 'Black eye, not otherwise specified', 'Eczema herpeticum', 'Postcholecystectomy syndrome', 'Diabetes with other coma, type I [juvenile type], not stated as uncontrolled', 'Paralysis agitans', 'Acute cor pulmonale', 'Rheumatoid arthritis', 'Pyogenic arthritis, site unspecified', 'Carcinoma in situ of lip, oral cavity, and pharynx', 'Esophageal varices with bleeding', 'Injury to kidney without mention of open wound into cavity, unspecified injury', 'Scleritis, unspecified', 'Acute pulmonary manifestations due to radiation', 'Bronchopneumonia, organism unspecified', 'Abscess of anal and rectal regions', 'Candidiasis of mouth', 'Mechanical complication of unspecified cardiac device, implant, and graft', 'Open wound of hand except finger(s) alone, without mention of complication', 'Threatened premature labor, unspecified as to episode of care or not applicable', 'Malignant neoplasm of corpus uteri, except isthmus', 'Intracerebral hemorrhage', 'Postmastectomy lymphedema syndrome', 'Absence of menstruation', 'Malignant neoplasm of kidney, except pelvis', 'Dyschromia, unspecified', 'Late effects of cerebrovascular disease, cognitive deficits', 'Acute prostatitis', 'Diabetes mellitus without mention of complication, type II or unspecified type, uncontrolled', 'Profound impairment, both eyes, impairment level not further specified', 'Pneumonitis due to inhalation of food or vomitus', 'Cortex (cerebral) contusion without mention of open intracranial wound, unspecified state of consciousness', 'Late pregnancy', 'Multiple sclerosis', 'Occlusion and stenosis of basilar artery without mention of cerebral infarction', 'Lipoma of skin and subcutaneous tissue of face', 'Paranoid personality disorder', 'Achlorhydria', 'Nontraumatic extradural hemorrhage', 'Myasthenia gravis without (acute) exacerbation', 'Other anaphylactic reaction', 'Malignant neoplasm of nipple and areola of female breast', 'Anomalies of spleen', 'Extrinsic asthma, unspecified', 'Idiopathic peripheral autonomic neuropathy, unspecified', 'Arterial embolism and thrombosis', 'Human immunodeficiency virus [HIV] disease', 'Migraine with aura, without mention of intractable migraine without mention of status migrainosus', 'Malignant neoplasm of retroperitoneum', 'Hematemesis', 'Poisoning by central nervous system muscle-tone depressants', 'Injury to other intra-abdominal organs without mention of open wound into cavity, unspecified intra-abdominal organ', 'Streptococcal septicemia', \"Raynaud's syndrome\", 'Malignant neoplasm of vagina', 'Diabetes with ophthalmic manifestations, type II or unspecified type, uncontrolled', 'Mild hyperemesis gravidarum, unspecified as to episode of care or not applicable', 'Anal and rectal polyp', 'Varicose veins of lower extremities with ulcer', 'Dissection of aorta, unspecified site', 'Acute myeloid leukemia, without mention of having achieved remission', 'Femoral hernia with obstruction, unilateral or unspecified (not specified as recurrent)', 'Acute inflammation of orbit, unspecified', 'Pneumonia, organism unspecified', 'Effusion of joint, site unspecified', 'Primary pulmonary hypertension', 'Kaschin-Beck disease, site unspecified', 'Congenital pulmonary valve anomaly, unspecified', 'Closed fracture of base of skull without mention of intra cranial injury, unspecified state of consciousness', 'Acute maxillary sinusitis', 'Brachial plexus lesions', 'Corns and callosities', 'Disturbance of skin sensation', 'Tachycardia, unspecified', 'General counseling and advice on contraceptive management', 'Hereditary peripheral neuropathy', 'Abnormal involuntary movements', 'Acute peptic ulcer of unspecified site with hemorrhage, without mention of obstruction', 'Calculus of gallbladder with acute cholecystitis, without mention of obstruction', 'Abnormal glandular Papanicolaou smear of cervix', 'Autoimmune hemolytic anemias', 'Celiac disease', 'Acute vascular insufficiency of intestine', 'Acute myringitis, unspecified', 'Mitral valve stenosis and aortic valve stenosis', 'Benign neoplasm of ovary', 'Foreign body in mouth', 'Hyperosmolality and/or hypernatremia', 'Encephalitis myelitis and encephalomyelitis', 'Atrophy of salivary gland', 'Pneumonia due to adenovirus', 'Nontoxic uninodular goiter', 'Unstable lie, unspecified as to episode of care or not applicable', 'Fitting and adjustment of other device', 'Iron deficiency anemia secondary to blood loss (chronic)', 'Congenital abnormalities of uterus, unspecified as to episode of care or not applicable', 'Acute cholecystitis', 'Chronic kidney disease (ckd)', 'Acute pancreatitis', 'Poisoning by cardiac rhythm regulators', 'Senile dementia, uncomplicated', 'Anxiety state, unspecified', 'Malignant neoplasm of penis and other male genital organs', 'Achalasia and cardiospasm', 'Acute pharyngitis', 'Infective myositis', 'Mitral valve disorders', 'Renal colic', 'Benign neoplasm of brain', 'Anorexia', 'Toxic erythema', 'Concussion with no loss of consciousness', 'Contusion of breast', 'Emphysematous bleb', 'Other degenerative diseases of the basal ganglia', 'Sideroblastic anemia', 'Diabetes with renal manifestations, type II or unspecified type, not stated as uncontrolled', 'Burn of unspecified degree of lower limb [leg], unspecified site', 'First-degree perineal laceration, unspecified as to episode of care or not applicable', 'Portal vein thrombosis', 'Disseminated malignant neoplasm without specification of site', 'Unspecified cardiac device in situ', \"Meckel's diverticulum\", 'Prolapse of cord complicating labor and delivery, unspecified as to episode of care or not applicable', 'Nonspecific abnormal findings in cerebrospinal fluid', 'Pneumococcal pneumonia [Streptococcus pneumoniae pneumonia]', 'Pruritus ani', 'Flat foot', 'Disorders of mineral metabolism', 'Ingrowing nail', 'Arteriovenous fistula, acquired', 'Phlebitis and thrombophlebitis of superficial vessels of lower extremities', 'Encounter for radiotherapy', 'Molluscum contagiosum', 'Fracture of medial malleolus, closed', 'Subarachnoid hemorrhage', 'Diseases of tricuspid valve', 'Primary uterine inertia, unspecified as to episode of care or not applicable', 'Malignant neoplasm of cerebrum, except lobes and ventricles', 'Open wound of scalp, without mention of complication', 'Chronic passive congestion of liver', 'Calculus of kidney', 'Hyperparathyroidism, unspecified', 'Closed fracture of upper end of tibia alone', 'Tuberculosis of lung, infiltrative, unspecified', 'Undersocialized conduct disorder, aggressive type, unspecified', 'Malignant neoplasm of gallbladder', 'Acute myocardial infarction of anterolateral wall, episode of care unspecified', 'Secondary malignant neoplasm of lung', 'Generalized nonconvulsive epilepsy, without mention of intractable epilepsy', 'Pernicious anemia', 'Acquired hypertrophic pyloric stenosis', 'Seminal vesiculitis', 'Closed fracture of carpal bone, unspecified', 'Sprain of lumbosacral (joint) (ligament)', 'Peritonsillar abscess', 'Neutropenia, unspecified', 'Hypoglycemic coma', 'Cellulitis and abscess of face', 'Malnutrition of moderate degree', 'Unspecified injury of heart without mention of open wound into thorax', 'Diabetes with hyperosmolarity, type I [juvenile type], not stated as uncontrolled', 'Diabetes with unspecified complication, type I [juvenile type], uncontrolled', 'Unspecified prolapse of vaginal walls', 'Lesion of sciatic nerve', 'Diabetes with other specified manifestations, type II or unspecified type, not stated as uncontrolled', 'Frostbite of face', 'Acute laryngitis without mention of obstruction', 'Bartonellosis', 'Acute pericarditis in diseases classified elsewhere', 'Malignant hypertensive heart disease without heart failure', 'Ariboflavinosis', 'Empyema with fistula', 'Amnestic disorder in conditions classified elsewhere', 'Acute salpingitis and oophoritis', 'Common truncus', 'Malignant neoplasm of trachea', 'Salmonella gastroenteritis', 'Acute suppurative otitis media without spontaneous rupture of eardrum', 'Hypertrophy (benign) of prostate without urinary obstruction and other lower urinary tract symptom (LUTS)', 'Chronic tonsillitis', 'Regional enteritis of small intestine', 'Alteration of consciousness', 'Diabetes mellitus of mother, complicating pregnancy, childbirth, or the puerperium, unspecified as to episode of care or not applicable', 'Oligohydramnios, unspecified as to episode of care or not applicable', 'Fetal-maternal hemorrhage, unspecified as to episode of care or not applicable', 'Abscess of liver', 'Bladder neck obstruction', 'Congenital factor VIII disorder', 'Malignant essential hypertension', 'Diabetes with ketoacidosis, type I [juvenile type], uncontrolled', 'Acute infective polyneuritis', 'Aneurysm of artery of upper extremity', 'Obesity, unspecified', 'Acute thyroiditis', 'Subarachnoid hemorrhage following injury without mention of open intracranial wound, unspecified state of consciousness', 'Budd-chiari syndrome', 'Acute duodenal ulcer with hemorrhage, without mention of obstruction'}\n"
     ]
    }
   ],
   "source": [
    "print(set(X_all[:,48]))"
   ]
  },
  {
   "cell_type": "code",
   "execution_count": 173,
   "metadata": {},
   "outputs": [],
   "source": [
    "diagnoses = sorted([sanitize(s) for s in set(X_all[:,48])|set(X_all[:,49])|set(X_all[:,50])])\n",
    "diagnoses_onehot = onehot([str(s) for s in set(X_all[:,48])|set(X_all[:,49])|set(X_all[:,50])], diagnoses, truncate=10)"
   ]
  },
  {
   "cell_type": "code",
   "execution_count": null,
   "metadata": {},
   "outputs": [],
   "source": []
  },
  {
   "cell_type": "code",
   "execution_count": 133,
   "metadata": {},
   "outputs": [],
   "source": [
    "X_all_enc = np.zeros((len(X_all), 40))"
   ]
  },
  {
   "cell_type": "code",
   "execution_count": 134,
   "metadata": {},
   "outputs": [
    {
     "data": {
      "text/plain": [
       "40"
      ]
     },
     "execution_count": 134,
     "metadata": {},
     "output_type": "execute_result"
    }
   ],
   "source": [
    "len(encodings)"
   ]
  },
  {
   "cell_type": "code",
   "execution_count": 135,
   "metadata": {},
   "outputs": [
    {
     "name": "stdout",
     "output_type": "stream",
     "text": [
      "0 {'Other': 1, 'Asian': 2, 'Caucasian': 3, 'Hispanic': 4, 'AfricanAmerican': 5, '?': 0} ['AfricanAmerican' 'Caucasian' 'Caucasian' 'AfricanAmerican' 'Caucasian']\n",
      "1 {'Male': 0, 'Female': 1} ['Male' 'Female' 'Female' 'Female' 'Male']\n",
      "2 {'[0-10)': 0, '[80-90)': 8, '[60-70)': 6, '[50-60)': 5, '[30-40)': 3, '[20-30)': 2, '[90-100)': 9, '[40-50)': 4, '[70-80)': 7, '[10-20)': 10} ['[60-70)' '[70-80)' '[80-90)' '[50-60)' '[80-90)']\n",
      "3 {'[25-50)': 25, '[150-175)': 150, '[75-100)': 75, '[0-25)': 0, '[125-150)': 125, '[50-75)': 50, '[100-125)': 100, '?': 73} ['?' '?' '?' '?' '?']\n",
      "4 {'nan': 0, 'Newborn': 2, 'Emergency': 4, 'Not Mapped': 0, 'Not Available': 0, 'Urgent': 3, 'Elective': 1} ['Emergency' 'Elective' 'Urgent' 'Emergency' 'Elective']\n"
     ]
    }
   ],
   "source": [
    "for i in range(5):\n",
    "    print(i, encodings[i], X[:,1+i][:5])\n",
    "    X_all_enc[:,i] = encode(1+i, encodings[i])"
   ]
  },
  {
   "cell_type": "code",
   "execution_count": 136,
   "metadata": {},
   "outputs": [
    {
     "name": "stdout",
     "output_type": "stream",
     "text": [
      "5 {1: 1, 2: 2, 3: 3, 4: 4, 5: 5, 6: 6, 7: 7, 8: 8, 9: 9, 10: 10, 11: 11, 12: 12, 13: 13, 14: 14} [4 1 2 4 13]\n"
     ]
    }
   ],
   "source": [
    "print(5, encodings[5], X[:,8][:5])\n",
    "X_all_enc[:,5] = encode(8, encodings[5])"
   ]
  },
  {
   "cell_type": "code",
   "execution_count": 137,
   "metadata": {},
   "outputs": [
    {
     "name": "stdout",
     "output_type": "stream",
     "text": [
      "6 {1: 1, 2: 2, 3: 3, 4: 4, 5: 5, 6: 6, 7: 7, 8: 8, 9: 9, 10: 10, 11: 11, 12: 12, 13: 13, 14: 14, 15: 15, 16: 16, 17: 17, 18: 18, 19: 19, 20: 20, 21: 21, 22: 22, 23: 23, 24: 24, 25: 25, 26: 26, 27: 27, 28: 28, 29: 29, 30: 30, 31: 31, 32: 32, 33: 33, 34: 34, 35: 35, 36: 36, 37: 37, 38: 38, 39: 39, 40: 40, 41: 41, 42: 42, 43: 43, 44: 44, 45: 45, 46: 46, 47: 47, 48: 48, 49: 49, 50: 50, 51: 51, 52: 52, 53: 53, 54: 54, 55: 55, 56: 56, 57: 57, 58: 58, 59: 59, 60: 60, 61: 61, 62: 62, 63: 63, 64: 64, 65: 65, 66: 66, 67: 67, 68: 68, 69: 69, 70: 70, 71: 71, 72: 72, 73: 73, 74: 74, 75: 75, 76: 76, 77: 77, 78: 78, 79: 79, 80: 80, 81: 81, 82: 82, 83: 83, 84: 84, 85: 85, 86: 86, 87: 87, 88: 88, 89: 89, 90: 90, 91: 91, 92: 92, 93: 93, 94: 94, 95: 95, 96: 96, 97: 97, 98: 98, 101: 101, 103: 103, 104: 104, 106: 106, 107: 107, 108: 108, 109: 109, 113: 113, 114: 114, 120: 120} [40 24 59 60 54]\n",
      "7 {0: 0, 1: 1, 2: 2, 3: 3, 4: 4, 5: 5, 6: 6} [4 1 0 1 6]\n",
      "8 {1: 1, 2: 2, 3: 3, 4: 4, 5: 5, 6: 6, 7: 7, 8: 8, 9: 9, 10: 10, 11: 11, 12: 12, 13: 13, 14: 14, 15: 15, 16: 16, 17: 17, 18: 18, 19: 19, 20: 20, 21: 21, 22: 22, 23: 23, 24: 24, 25: 25, 26: 26, 27: 27, 28: 28, 29: 29, 30: 30, 31: 31, 32: 32, 33: 33, 34: 34, 35: 35, 36: 36, 37: 37, 38: 38, 39: 39, 40: 40, 41: 41, 42: 42, 43: 43, 44: 44, 45: 45, 46: 46, 47: 47, 48: 48, 49: 49, 50: 50, 51: 51, 52: 52, 53: 53, 54: 54, 55: 55, 56: 56, 57: 57, 58: 58, 59: 59, 60: 60, 61: 61, 62: 62, 63: 63, 65: 65, 67: 67, 74: 74, 75: 75, 81: 81} [10 5 12 14 49]\n",
      "9 {0: 0, 1: 1, 2: 2, 3: 3, 4: 4, 5: 5, 6: 6, 7: 7, 8: 8, 9: 9, 10: 10, 11: 11, 12: 12, 13: 13, 14: 14, 15: 15, 16: 16, 17: 17, 18: 18, 19: 19, 21: 21, 27: 27, 36: 36} [0 0 0 0 0]\n",
      "10 {0: 0, 1: 1, 2: 2, 3: 3, 4: 4, 5: 5, 6: 6, 7: 7, 8: 8, 9: 9, 42: 42, 13: 13} [0 0 0 0 0]\n",
      "11 {0: 0, 1: 1, 2: 2, 3: 3, 4: 4, 5: 5, 6: 6, 7: 7, 8: 8, 9: 9, 10: 10} [0 0 0 1 0]\n"
     ]
    }
   ],
   "source": [
    "for i in range(6):\n",
    "    print(6+i, encodings[6+i], X[:,11+i][:5])\n",
    "    X_all_enc[:,6+i] = encode(11+i, encodings[6+i])"
   ]
  },
  {
   "cell_type": "code",
   "execution_count": 138,
   "metadata": {},
   "outputs": [
    {
     "name": "stdout",
     "output_type": "stream",
     "text": [
      "12 {1: 1, 2: 2, 3: 3, 4: 4, 5: 5, 6: 6, 7: 7, 8: 8, 9: 9} [9 3 8 5 6]\n",
      "13 {'Norm': 0, '>300': 3, 'None': 1, '>200': 2} ['None' 'None' 'None' 'None' 'None']\n",
      "14 {'>7': 2, 'Norm': 0, '>8': 3, 'None': 1} ['None' 'None' 'None' 'None' 'None']\n",
      "15 {'Down': 1, 'No': 0, 'Steady': 2, 'Up': 3} ['No' 'Steady' 'No' 'No' 'No']\n",
      "16 {'Down': 1, 'No': 0, 'Steady': 2, 'Up': 3} ['No' 'No' 'No' 'No' 'No']\n",
      "17 {'Down': 1, 'No': 0, 'Steady': 2, 'Up': 3} ['No' 'No' 'No' 'No' 'No']\n",
      "18 {'Down': 1, 'No': 0, 'Steady': 2, 'Up': 3} ['No' 'No' 'No' 'No' 'No']\n",
      "19 {'Down': 1, 'No': 0, 'Steady': 2, 'Up': 3} ['No' 'No' 'No' 'No' 'No']\n",
      "20 {'Down': 1, 'No': 0, 'Steady': 2, 'Up': 3} ['No' 'No' 'No' 'No' 'No']\n",
      "21 {'Down': 1, 'No': 0, 'Steady': 2, 'Up': 3} ['No' 'No' 'No' 'No' 'No']\n",
      "22 {'Down': 1, 'No': 0, 'Steady': 2, 'Up': 3} ['No' 'Steady' 'No' 'No' 'Down']\n",
      "23 {'Down': 1, 'No': 0, 'Steady': 2, 'Up': 3} ['No' 'No' 'No' 'No' 'No']\n",
      "24 {'Down': 1, 'No': 0, 'Steady': 2, 'Up': 3} ['No' 'Steady' 'No' 'No' 'No']\n",
      "25 {'Down': 1, 'No': 0, 'Steady': 2, 'Up': 3} ['No' 'No' 'No' 'No' 'Steady']\n",
      "26 {'Down': 1, 'No': 0, 'Steady': 2, 'Up': 3} ['No' 'No' 'No' 'No' 'No']\n",
      "27 {'Down': 1, 'No': 0, 'Steady': 2, 'Up': 3} ['No' 'No' 'No' 'No' 'No']\n",
      "28 {'Down': 1, 'No': 0, 'Steady': 2, 'Up': 3} ['No' 'No' 'No' 'No' 'No']\n",
      "29 {'Down': 1, 'No': 0, 'Steady': 2, 'Up': 3} ['No' 'No' 'No' 'No' 'No']\n",
      "30 {'Down': 1, 'No': 0, 'Steady': 2, 'Up': 3} ['No' 'No' 'No' 'No' 'No']\n",
      "31 {'Down': 1, 'No': 0, 'Steady': 2, 'Up': 3} ['No' 'No' 'No' 'No' 'No']\n",
      "32 {'Down': 1, 'No': 0, 'Steady': 2, 'Up': 3} ['No' 'No' 'Down' 'Up' 'No']\n",
      "33 {'Down': 1, 'No': 0, 'Steady': 2, 'Up': 3} ['No' 'No' 'No' 'No' 'No']\n",
      "34 {'Down': 1, 'No': 0, 'Steady': 2, 'Up': 3} ['No' 'No' 'No' 'No' 'No']\n",
      "35 {'Down': 1, 'No': 0, 'Steady': 2, 'Up': 3} ['No' 'No' 'No' 'No' 'No']\n",
      "36 {'Down': 1, 'No': 0, 'Steady': 2, 'Up': 3} ['No' 'No' 'No' 'No' 'No']\n",
      "37 {'Down': 1, 'No': 0, 'Steady': 2, 'Up': 3} ['No' 'No' 'No' 'No' 'No']\n",
      "38 {'No': 0, 'Ch': 1} ['No' 'Ch' 'Ch' 'Ch' 'Ch']\n",
      "39 {'No': 0, 'Yes': 1} ['No' 'Yes' 'Yes' 'Yes' 'Yes']\n"
     ]
    }
   ],
   "source": [
    "for i in range(28):\n",
    "    print(12+i, encodings[12+i], X[:,20+i][:5])\n",
    "    X_all_enc[:,12+i] = encode(20+i, encodings[12+i])"
   ]
  },
  {
   "cell_type": "code",
   "execution_count": 139,
   "metadata": {},
   "outputs": [
    {
     "data": {
      "text/plain": [
       "array([ 5.,  0.,  6., 73.,  4.,  4., 40.,  4., 10.,  0.,  0.,  0.,  9.,\n",
       "        1.,  1.,  0.,  0.,  0.,  0.,  0.,  0.,  0.,  0.,  0.,  0.,  0.,\n",
       "        0.,  0.,  0.,  0.,  0.,  0.,  0.,  0.,  0.,  0.,  0.,  0.,  0.,\n",
       "        0.])"
      ]
     },
     "execution_count": 139,
     "metadata": {},
     "output_type": "execute_result"
    }
   ],
   "source": [
    "X_all_enc[0]"
   ]
  },
  {
   "cell_type": "code",
   "execution_count": 140,
   "metadata": {},
   "outputs": [],
   "source": [
    "X_all_enc = np.hstack([X_all_enc, encode(7, admission_src_id, force_string=True), encode(9, payer_code)])"
   ]
  },
  {
   "cell_type": "code",
   "execution_count": 141,
   "metadata": {},
   "outputs": [
    {
     "data": {
      "text/plain": [
       "array([ 5.,  0.,  6., 73.,  4.,  4., 40.,  4., 10.,  0.,  0.,  0.,  9.,\n",
       "        1.,  1.,  0.,  0.,  0.,  0.,  0.,  0.,  0.,  0.,  0.,  0.,  0.,\n",
       "        0.,  0.,  0.,  0.,  0.,  0.,  0.,  0.,  0.,  0.,  0.,  0.,  0.,\n",
       "        0.,  0.,  0.,  1.,  0.,  0.,  0.,  0.,  0.,  0.,  0.,  1.,  0.,\n",
       "        0.,  0.,  0.,  0.,  0.,  0.,  0.,  0.,  0.,  0.,  0.,  0.,  0.])"
      ]
     },
     "execution_count": 141,
     "metadata": {},
     "output_type": "execute_result"
    }
   ],
   "source": [
    "X_all_enc[0]"
   ]
  },
  {
   "cell_type": "code",
   "execution_count": 142,
   "metadata": {},
   "outputs": [],
   "source": [
    "from sklearn.preprocessing import Normalizer\n",
    "X_all_enc = Normalizer().fit_transform(X_all_enc)"
   ]
  },
  {
   "cell_type": "code",
   "execution_count": 143,
   "metadata": {},
   "outputs": [],
   "source": [
    "X_enc = X_all_enc[:len(X)]\n",
    "X_val_enc = X_all_enc[len(X):len(X)+len(X_val)]\n",
    "X_test_enc = X_all_enc[len(X)+len(X_val):]"
   ]
  },
  {
   "cell_type": "code",
   "execution_count": 211,
   "metadata": {},
   "outputs": [
    {
     "name": "stdout",
     "output_type": "stream",
     "text": [
      "(6000, 65) (2000, 65) (2000, 65) (6000,)\n"
     ]
    }
   ],
   "source": [
    "print(X_enc.shape, X_val_enc.shape, X_test_enc.shape, Y.shape)"
   ]
  },
  {
   "cell_type": "code",
   "execution_count": 210,
   "metadata": {},
   "outputs": [],
   "source": [
    "np.savetxt(\"data/diabetes/X_enc.csv\", X_enc, delimiter=\",\")\n",
    "np.savetxt(\"data/diabetes/X_val_enc.csv\", X_val_enc, delimiter=\",\")\n",
    "np.savetxt(\"data/diabetes/X_test_enc.csv\", X_test_enc, delimiter=\",\")\n",
    "np.savetxt(\"data/diabetes/Y.csv\", Y, delimiter=\",\")\n",
    "np.savetxt(\"data/diabetes/Y_val.csv\", Y_val, delimiter=\",\")\n",
    "np.savetxt(\"data/diabetes/Y_test.csv\", Y_test, delimiter=\",\")"
   ]
  },
  {
   "cell_type": "code",
   "execution_count": 157,
   "metadata": {},
   "outputs": [],
   "source": [
    "X_discharge_disposition = encode(6, discharge_disposition_onehot, force_string=True)"
   ]
  },
  {
   "cell_type": "code",
   "execution_count": 191,
   "metadata": {},
   "outputs": [
    {
     "data": {
      "text/plain": [
       "(6000, 5, 44)"
      ]
     },
     "execution_count": 191,
     "metadata": {},
     "output_type": "execute_result"
    }
   ],
   "source": [
    "X_discharge_disposition[:len(X)].shape"
   ]
  },
  {
   "cell_type": "code",
   "execution_count": 194,
   "metadata": {},
   "outputs": [],
   "source": [
    "pickle.dump(X_discharge_disposition[:len(X)], open(\"data/diabetes/X_discharge_disposition_enc.csv\", \"wb\"))\n",
    "pickle.dump(X_discharge_disposition[len(X):len(X)+len(X_val)], open(\"data/diabetes/X_val_discharge_disposition_enc.csv\", \"wb\"))\n",
    "pickle.dump(X_discharge_disposition[len(X)+len(X_val):], open(\"data/diabetes/X_test_discharge_disposition_enc.csv\", \"wb\"))"
   ]
  },
  {
   "cell_type": "code",
   "execution_count": 152,
   "metadata": {},
   "outputs": [],
   "source": [
    "X_medical_speciality = encode(10, medical_speciality_onehot)"
   ]
  },
  {
   "cell_type": "code",
   "execution_count": 201,
   "metadata": {},
   "outputs": [],
   "source": [
    "pickle.dump(X_medical_speciality[:len(X)], open(\"data/diabetes/X_medical_speciality_enc.csv\", \"wb\"))\n",
    "pickle.dump(X_medical_speciality[len(X):len(X)+len(X_val)], open(\"data/diabetes/X_val_medical_speciality_enc.csv\", \"wb\"))\n",
    "pickle.dump(X_medical_speciality[len(X)+len(X_val):], open(\"data/diabetes/X_test_medical_speciality_enc.csv\", \"wb\"))"
   ]
  },
  {
   "cell_type": "code",
   "execution_count": 203,
   "metadata": {},
   "outputs": [],
   "source": [
    "X_diagnoses1_onehot = encode(48, diagnoses_onehot, force_string=True).reshape((-1, 10, 1, 1058))"
   ]
  },
  {
   "cell_type": "code",
   "execution_count": 204,
   "metadata": {},
   "outputs": [],
   "source": [
    "X_diagnoses2_onehot = encode(49, diagnoses_onehot, force_string=True).reshape((-1, 10, 1, 1058))"
   ]
  },
  {
   "cell_type": "code",
   "execution_count": 205,
   "metadata": {},
   "outputs": [],
   "source": [
    "X_diagnoses3_onehot = encode(50, diagnoses_onehot, force_string=True).reshape((-1, 10, 1, 1058))"
   ]
  },
  {
   "cell_type": "code",
   "execution_count": 206,
   "metadata": {},
   "outputs": [],
   "source": [
    "X_diagnoses = np.concatenate([X_diagnoses1_onehot, X_diagnoses2_onehot, X_diagnoses3_onehot], axis=2)"
   ]
  },
  {
   "cell_type": "code",
   "execution_count": 207,
   "metadata": {},
   "outputs": [],
   "source": [
    "pickle.dump(X_diagnoses[:len(X)], open(\"data/diabetes/X_diagnoses_enc.csv\", \"wb\"))\n",
    "pickle.dump(X_diagnoses[len(X):len(X)+len(X_val)], open(\"data/diabetes/X_val_diagnoses_enc.csv\", \"wb\"))\n",
    "pickle.dump(X_diagnoses[len(X)+len(X_val):], open(\"data/diabetes/X_test_diagnoses_enc.csv\", \"wb\"))"
   ]
  },
  {
   "cell_type": "code",
   "execution_count": null,
   "metadata": {},
   "outputs": [],
   "source": []
  }
 ],
 "metadata": {
  "kernelspec": {
   "display_name": "Python 3",
   "language": "python",
   "name": "python3"
  },
  "language_info": {
   "codemirror_mode": {
    "name": "ipython",
    "version": 3
   },
   "file_extension": ".py",
   "mimetype": "text/x-python",
   "name": "python",
   "nbconvert_exporter": "python",
   "pygments_lexer": "ipython3",
   "version": "3.7.4"
  }
 },
 "nbformat": 4,
 "nbformat_minor": 2
}
