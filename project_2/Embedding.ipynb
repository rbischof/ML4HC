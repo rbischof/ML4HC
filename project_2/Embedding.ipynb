{
 "cells": [
  {
   "cell_type": "code",
   "execution_count": 95,
   "metadata": {},
   "outputs": [
    {
     "name": "stdout",
     "output_type": "stream",
     "text": [
      "showing info https://raw.githubusercontent.com/nltk/nltk_data/gh-pages/index.xml\n"
     ]
    },
    {
     "data": {
      "text/plain": [
       "True"
      ]
     },
     "execution_count": 95,
     "metadata": {},
     "output_type": "execute_result"
    }
   ],
   "source": [
    "import nltk\n",
    "nltk.download()"
   ]
  },
  {
   "cell_type": "code",
   "execution_count": 96,
   "metadata": {},
   "outputs": [],
   "source": [
    "import numpy as np\n",
    "import pickle\n",
    "import itertools\n",
    "import pandas as pd"
   ]
  },
  {
   "cell_type": "code",
   "execution_count": 97,
   "metadata": {},
   "outputs": [],
   "source": [
    "from nltk.tokenize import RegexpTokenizer\n",
    "tokenizer = RegexpTokenizer(r'\\w+')"
   ]
  },
  {
   "cell_type": "code",
   "execution_count": 98,
   "metadata": {},
   "outputs": [],
   "source": [
    "from nltk.corpus import stopwords\n",
    "breakers = {'with', 'without', 'comma', 'and', 'or', 'by', 'in', 'due', 'to', 'of', 'causing'}\n",
    "stop_words= (set(stopwords.words(\"english\")) | {'nan', 'unspecified', 'stated', 'other', 'state'})"
   ]
  },
  {
   "cell_type": "code",
   "execution_count": 99,
   "metadata": {},
   "outputs": [],
   "source": [
    "from nltk.stem.wordnet import WordNetLemmatizer\n",
    "lem = WordNetLemmatizer()"
   ]
  },
  {
   "cell_type": "code",
   "execution_count": 100,
   "metadata": {},
   "outputs": [],
   "source": [
    "df_train = np.asarray(pd.read_csv(\"data/diabetes/diab_train.csv\"))\n",
    "df_val = np.asarray(pd.read_csv(\"data/diabetes/diab_validation.csv\"))\n",
    "df_test = np.asarray(pd.read_csv(\"data/diabetes/diab_test.csv\"))"
   ]
  },
  {
   "cell_type": "code",
   "execution_count": 101,
   "metadata": {},
   "outputs": [],
   "source": [
    "X = np.hstack([df_train[:,:-4], df_train[:,-3:]])\n",
    "X_val = np.hstack([df_val[:,:-4], df_val[:,-3:]])\n",
    "X_test = np.hstack([df_test[:,:-4], df_test[:,-3:]])\n",
    "Y = df_train[:,-4]\n",
    "Y_val = df_val[:,-4]\n",
    "Y_test = df_test[:,-4]"
   ]
  },
  {
   "cell_type": "code",
   "execution_count": 102,
   "metadata": {},
   "outputs": [],
   "source": [
    "X_all = np.vstack([X, X_val, X_test])"
   ]
  },
  {
   "cell_type": "code",
   "execution_count": 103,
   "metadata": {},
   "outputs": [],
   "source": [
    "def sanitize(doc, breaks=True):\n",
    "    return [lem.lemmatize(w) for w in tokenizer.tokenize(str(doc).replace(\",\", \" comma\").lower())\\\n",
    "                     if w not in stop_words or (breaks and w in breakers)]"
   ]
  },
  {
   "cell_type": "code",
   "execution_count": 104,
   "metadata": {},
   "outputs": [],
   "source": [
    "def onehot(keys, tokens_docs, truncate=100):\n",
    "    # convert list of of token-lists to one flat list of tokens\n",
    "    # and then create a dictionary that maps word to id of word,\n",
    "    all_tokens = itertools.chain.from_iterable(tokens_docs)\n",
    "    word_to_id = {token: idx for idx, token in enumerate(set(all_tokens))}\n",
    "\n",
    "    # convert token lists to token-id lists\n",
    "    token_ids = [[word_to_id[token] for token in tokens_doc] for tokens_doc in tokens_docs]\n",
    "\n",
    "    maxl = 0\n",
    "    maxi = 0\n",
    "    for t in token_ids:\n",
    "        maxl = max(maxl, len(t))\n",
    "        for w in t:\n",
    "            maxi = max(maxi, w)\n",
    "\n",
    "    mapping = {}\n",
    "    for i,t in enumerate(token_ids):\n",
    "        enc = np.zeros((min(maxl, truncate), maxi+1))\n",
    "        for j in range(min(len(t), truncate)):\n",
    "            enc[j][t[j]] += 1\n",
    "        mapping[keys[i]] = enc\n",
    "    return mapping"
   ]
  },
  {
   "cell_type": "code",
   "execution_count": 105,
   "metadata": {},
   "outputs": [],
   "source": [
    "def encode(index, mapping, force_string=False):\n",
    "    Xp = X_all[:,index]\n",
    "    \n",
    "    if force_string:\n",
    "        Xp = Xp.astype(str)\n",
    "\n",
    "    return np.asarray([mapping[x] for x in Xp])"
   ]
  },
  {
   "cell_type": "code",
   "execution_count": 106,
   "metadata": {},
   "outputs": [],
   "source": [
    "def identity_map(data):\n",
    "    return {x:x for x in set(data)}"
   ]
  },
  {
   "cell_type": "code",
   "execution_count": 107,
   "metadata": {},
   "outputs": [],
   "source": [
    "encodings = []"
   ]
  },
  {
   "cell_type": "markdown",
   "metadata": {},
   "source": [
    "Race"
   ]
  },
  {
   "cell_type": "code",
   "execution_count": 108,
   "metadata": {},
   "outputs": [
    {
     "name": "stdout",
     "output_type": "stream",
     "text": [
      "{'Hispanic', 'AfricanAmerican', '?', 'Other', 'Caucasian', 'Asian'}\n"
     ]
    }
   ],
   "source": [
    "print(set(X_all[:,1]))"
   ]
  },
  {
   "cell_type": "code",
   "execution_count": 109,
   "metadata": {},
   "outputs": [],
   "source": [
    "race = {'Other': 1, 'Asian':2, 'Caucasian':3, 'Hispanic':4, 'AfricanAmerican':5, '?':0}"
   ]
  },
  {
   "cell_type": "code",
   "execution_count": 110,
   "metadata": {},
   "outputs": [],
   "source": [
    "encodings.append(race)"
   ]
  },
  {
   "cell_type": "markdown",
   "metadata": {},
   "source": [
    "Gender"
   ]
  },
  {
   "cell_type": "code",
   "execution_count": 111,
   "metadata": {
    "scrolled": true
   },
   "outputs": [
    {
     "name": "stdout",
     "output_type": "stream",
     "text": [
      "{'Female', 'Male'}\n"
     ]
    }
   ],
   "source": [
    "print(set(X_all[:,2]))"
   ]
  },
  {
   "cell_type": "code",
   "execution_count": 112,
   "metadata": {},
   "outputs": [],
   "source": [
    "gender = {'Male': 0, 'Female': 1}"
   ]
  },
  {
   "cell_type": "code",
   "execution_count": 113,
   "metadata": {},
   "outputs": [],
   "source": [
    "encodings.append(gender)"
   ]
  },
  {
   "cell_type": "markdown",
   "metadata": {},
   "source": [
    "Age"
   ]
  },
  {
   "cell_type": "code",
   "execution_count": 114,
   "metadata": {},
   "outputs": [
    {
     "name": "stdout",
     "output_type": "stream",
     "text": [
      "{'[20-30)', '[30-40)', '[90-100)', '[50-60)', '[40-50)', '[60-70)', '[80-90)', '[10-20)', '[70-80)', '[0-10)'}\n"
     ]
    }
   ],
   "source": [
    "print(set(X_all[:,3]))"
   ]
  },
  {
   "cell_type": "code",
   "execution_count": 115,
   "metadata": {},
   "outputs": [],
   "source": [
    "age = {'[0-10)': 0, '[80-90)': 8, '[60-70)': 6, '[50-60)': 5,\\\n",
    "          '[30-40)': 3, '[20-30)':2, '[90-100)':9, '[40-50)':4, '[70-80)': 7, '[10-20)': 10}"
   ]
  },
  {
   "cell_type": "code",
   "execution_count": 116,
   "metadata": {},
   "outputs": [],
   "source": [
    "encodings.append(age)"
   ]
  },
  {
   "cell_type": "markdown",
   "metadata": {},
   "source": [
    "Weight"
   ]
  },
  {
   "cell_type": "code",
   "execution_count": 117,
   "metadata": {},
   "outputs": [
    {
     "name": "stdout",
     "output_type": "stream",
     "text": [
      "{'[150-175)', '[125-150)', '?', '[0-25)', '[50-75)', '[25-50)', '[100-125)', '[75-100)'}\n"
     ]
    }
   ],
   "source": [
    "print(set(X_all[:,4]))"
   ]
  },
  {
   "cell_type": "code",
   "execution_count": 118,
   "metadata": {},
   "outputs": [],
   "source": [
    "weight = {'[25-50)': 25, '[150-175)': 150, '[75-100)': 75,\\\n",
    "          '[0-25)': 0, '[125-150)': 125, '[50-75)': 50, '[100-125)':100, '?': 73}"
   ]
  },
  {
   "cell_type": "code",
   "execution_count": 119,
   "metadata": {},
   "outputs": [],
   "source": [
    "encodings.append(weight)"
   ]
  },
  {
   "cell_type": "markdown",
   "metadata": {},
   "source": [
    "Admission Type ID"
   ]
  },
  {
   "cell_type": "code",
   "execution_count": 120,
   "metadata": {},
   "outputs": [
    {
     "name": "stdout",
     "output_type": "stream",
     "text": [
      "{nan, 'Not Mapped', 'Not Available', 'Elective', 'Urgent', 'Newborn', 'Emergency'}\n"
     ]
    }
   ],
   "source": [
    "print(set(X_all[:,5]))"
   ]
  },
  {
   "cell_type": "code",
   "execution_count": 121,
   "metadata": {},
   "outputs": [],
   "source": [
    "admission_type = {'nan': 0, 'Newborn': 2, 'Emergency':4,\\\n",
    "                  'Not Mapped': 0, 'Not Available': 0, 'Urgent': 3, 'Elective': 1}"
   ]
  },
  {
   "cell_type": "code",
   "execution_count": 122,
   "metadata": {},
   "outputs": [],
   "source": [
    "X_all[:,5] = X_all[:,5].astype(str)"
   ]
  },
  {
   "cell_type": "code",
   "execution_count": 123,
   "metadata": {},
   "outputs": [],
   "source": [
    "encodings.append(admission_type)"
   ]
  },
  {
   "cell_type": "markdown",
   "metadata": {},
   "source": [
    "Discharge Disposition ID"
   ]
  },
  {
   "cell_type": "code",
   "execution_count": 124,
   "metadata": {},
   "outputs": [
    {
     "name": "stdout",
     "output_type": "stream",
     "text": [
      "22 Items\n",
      "['Admitted as an inpatient to this hospital', 'Discharged to home', 'Discharged/transferred to ICF', 'Discharged/transferred to SNF', 'Discharged/transferred to a federal health care facility.', 'Discharged/transferred to a long term care hospital.', 'Discharged/transferred to a nursing facility certified under Medicaid but not certified under Medicare', 'Discharged/transferred to another  type of inpatient care institution', 'Discharged/transferred to another rehab fac including rehab units of a hospital.', 'Discharged/transferred to another short term hospital', 'Discharged/transferred to home under care of Home IV provider', 'Discharged/transferred to home with home health service', 'Discharged/transferred within this institution to Medicare approved swing bed', 'Discharged/transferred/referred another institution for outpatient services', 'Discharged/transferred/referred to a psychiatric hospital of a psychiatric distinct part unit of a hospital', 'Discharged/transferred/referred to this institution for outpatient services', 'Expired', 'Hospice / home', 'Hospice / medical facility', 'Left AMA', 'Not Mapped', 'nan']\n"
     ]
    }
   ],
   "source": [
    "print(len(set(X_all[:,6])), 'Items')\n",
    "print(sorted(list(set(X_all[:,6].astype(str)))))"
   ]
  },
  {
   "cell_type": "code",
   "execution_count": 125,
   "metadata": {},
   "outputs": [],
   "source": [
    "discharge_disposition = sorted([sanitize(s, breaks=False) for s in set(X_all[:,6].astype(str))])\n",
    "discharge_disposition_onehot = onehot([s for s in set(X_all[:,6].astype(str))], discharge_disposition, truncate=4)"
   ]
  },
  {
   "cell_type": "markdown",
   "metadata": {},
   "source": [
    "Admission Source ID"
   ]
  },
  {
   "cell_type": "code",
   "execution_count": 126,
   "metadata": {},
   "outputs": [
    {
     "name": "stdout",
     "output_type": "stream",
     "text": [
      "['Clinic Referral', 'Court/Law Enforcement', 'Emergency Room', 'HMO Referral', 'Not Available', 'Not Mapped', 'Physician Referral', 'Transfer from a Skilled Nursing Facility (SNF)', 'Transfer from a hospital', 'Transfer from another health care facility', 'nan']\n"
     ]
    }
   ],
   "source": [
    "print(sorted(list(set(X_all[:,7].astype(str)))))"
   ]
  },
  {
   "cell_type": "code",
   "execution_count": 127,
   "metadata": {},
   "outputs": [],
   "source": [
    "admission_src_id = {'Clinic Referral':np.asarray([1,0,0,0,0,0,0,0,0]), \\\n",
    "                    'Court/Law Enforcement':np.asarray([0,1,0,0,0,0,0,0,0]), \\\n",
    "                    'Emergency Room':np.asarray([0,0,1,0,0,0,0,0,0]), \\\n",
    "                    'HMO Referral':np.asarray([0,0,0,1,0,0,0,0,0]), \\\n",
    "                    'Not Available':np.asarray([0,0,0,0,1,0,0,0,0]), \\\n",
    "                    'Not Mapped':np.asarray([0,0,0,0,1,0,0,0,0]), \\\n",
    "                    'nan':np.asarray([0,0,0,0,1,0,0,0,0]), \\\n",
    "                    'Physician Referral':np.asarray([0,0,0,0,0,1,0,0,0]), \\\n",
    "                    'Transfer from a Skilled Nursing Facility (SNF)':np.asarray([0,0,0,0,0,0,1,0,0]), \\\n",
    "                    'Transfer from a hospital':np.asarray([0,0,0,0,0,0,0,1,0]), \\\n",
    "                    'Transfer from another health care facility':np.asarray([0,0,0,0,0,0,0,0,1])}"
   ]
  },
  {
   "cell_type": "markdown",
   "metadata": {},
   "source": [
    "Time in Hospital"
   ]
  },
  {
   "cell_type": "code",
   "execution_count": 128,
   "metadata": {},
   "outputs": [
    {
     "name": "stdout",
     "output_type": "stream",
     "text": [
      "{1, 2, 3, 4, 5, 6, 7, 8, 9, 10, 11, 12, 13, 14}\n"
     ]
    }
   ],
   "source": [
    "print(set(X_all[:,8]))"
   ]
  },
  {
   "cell_type": "code",
   "execution_count": 129,
   "metadata": {},
   "outputs": [],
   "source": [
    "encodings.append(identity_map(X_all[:,8]))"
   ]
  },
  {
   "cell_type": "markdown",
   "metadata": {},
   "source": [
    "Payer Code"
   ]
  },
  {
   "cell_type": "code",
   "execution_count": 130,
   "metadata": {},
   "outputs": [
    {
     "name": "stdout",
     "output_type": "stream",
     "text": [
      "{'CM', '?', 'UN', 'CH', 'SI', 'MC', 'PO', 'DM', 'WC', 'SP', 'OG', 'HM', 'CP', 'MD', 'OT', 'BC'}\n"
     ]
    }
   ],
   "source": [
    "print(set(X_all[:,9]))"
   ]
  },
  {
   "cell_type": "code",
   "execution_count": 131,
   "metadata": {},
   "outputs": [],
   "source": [
    "payer_code = {k:np.eye(len(set(X_all[:,9])))[i] for i,k in enumerate(set(X_all[:,9]))}"
   ]
  },
  {
   "cell_type": "markdown",
   "metadata": {},
   "source": [
    "Medical Speciality"
   ]
  },
  {
   "cell_type": "code",
   "execution_count": 132,
   "metadata": {},
   "outputs": [
    {
     "name": "stdout",
     "output_type": "stream",
     "text": [
      "['?', 'Anesthesiology-Pediatric', 'Cardiology', 'Cardiology-Pediatric', 'Emergency/Trauma', 'Endocrinology', 'Family/GeneralPractice', 'Gastroenterology', 'Gynecology', 'Hematology', 'Hematology/Oncology', 'Hospitalist', 'InfectiousDiseases', 'InternalMedicine', 'Nephrology', 'Neurology', 'Obsterics&Gynecology-GynecologicOnco', 'Obstetrics', 'ObstetricsandGynecology', 'Oncology', 'Ophthalmology', 'Orthopedics', 'Orthopedics-Reconstructive', 'Osteopath', 'Otolaryngology', 'OutreachServices', 'Pathology', 'Pediatrics', 'Pediatrics-CriticalCare', 'Pediatrics-EmergencyMedicine', 'Pediatrics-Endocrinology', 'Pediatrics-Hematology-Oncology', 'Pediatrics-Pulmonology', 'PhysicalMedicineandRehabilitation', 'PhysicianNotFound', 'Podiatry', 'Psychiatry', 'Psychology', 'Pulmonology', 'Radiologist', 'Radiology', 'Surgeon', 'Surgery-Cardiovascular', 'Surgery-Cardiovascular/Thoracic', 'Surgery-Colon&Rectal', 'Surgery-General', 'Surgery-Neuro', 'Surgery-Pediatric', 'Surgery-Plastic', 'Surgery-PlasticwithinHeadandNeck', 'Surgery-Thoracic', 'Surgery-Vascular', 'Urology']\n"
     ]
    }
   ],
   "source": [
    "print(sorted([s for s in set(X_all[:,10])]))"
   ]
  },
  {
   "cell_type": "code",
   "execution_count": 133,
   "metadata": {},
   "outputs": [],
   "source": [
    "medical_speciality = sorted([sanitize(s, breaks=False) for s in set(X_all[:,10])])\n",
    "medical_speciality_onehot = onehot([s for s in set(X_all[:,10])], medical_speciality)"
   ]
  },
  {
   "cell_type": "markdown",
   "metadata": {},
   "source": [
    "Number of Lab Procedures"
   ]
  },
  {
   "cell_type": "code",
   "execution_count": 134,
   "metadata": {},
   "outputs": [
    {
     "name": "stdout",
     "output_type": "stream",
     "text": [
      "{1, 2, 3, 4, 5, 6, 7, 8, 9, 10, 11, 12, 13, 14, 15, 16, 17, 18, 19, 20, 21, 22, 23, 24, 25, 26, 27, 28, 29, 30, 31, 32, 33, 34, 35, 36, 37, 38, 39, 40, 41, 42, 43, 44, 45, 46, 47, 48, 49, 50, 51, 52, 53, 54, 55, 56, 57, 58, 59, 60, 61, 62, 63, 64, 65, 66, 67, 68, 69, 70, 71, 72, 73, 74, 75, 76, 77, 78, 79, 80, 81, 82, 83, 84, 85, 86, 87, 88, 89, 90, 91, 92, 93, 94, 95, 96, 97, 98, 101, 103, 104, 106, 107, 108, 109, 113, 114, 120}\n"
     ]
    }
   ],
   "source": [
    "print(set(X_all[:,11]))"
   ]
  },
  {
   "cell_type": "code",
   "execution_count": 135,
   "metadata": {},
   "outputs": [],
   "source": [
    "encodings.append(identity_map(X_all[:,11]))"
   ]
  },
  {
   "cell_type": "markdown",
   "metadata": {},
   "source": [
    "Number of Procedures"
   ]
  },
  {
   "cell_type": "code",
   "execution_count": 136,
   "metadata": {},
   "outputs": [
    {
     "name": "stdout",
     "output_type": "stream",
     "text": [
      "{0, 1, 2, 3, 4, 5, 6}\n"
     ]
    }
   ],
   "source": [
    "print(set(X_all[:,12]))"
   ]
  },
  {
   "cell_type": "code",
   "execution_count": 137,
   "metadata": {},
   "outputs": [],
   "source": [
    "encodings.append(identity_map(X_all[:,12]))"
   ]
  },
  {
   "cell_type": "markdown",
   "metadata": {},
   "source": [
    "Number of Medications"
   ]
  },
  {
   "cell_type": "code",
   "execution_count": 138,
   "metadata": {},
   "outputs": [
    {
     "name": "stdout",
     "output_type": "stream",
     "text": [
      "{1, 2, 3, 4, 5, 6, 7, 8, 9, 10, 11, 12, 13, 14, 15, 16, 17, 18, 19, 20, 21, 22, 23, 24, 25, 26, 27, 28, 29, 30, 31, 32, 33, 34, 35, 36, 37, 38, 39, 40, 41, 42, 43, 44, 45, 46, 47, 48, 49, 50, 51, 52, 53, 54, 55, 56, 57, 58, 59, 60, 61, 62, 63, 65, 67, 74, 75, 81}\n"
     ]
    }
   ],
   "source": [
    "print(set(X_all[:,13]))"
   ]
  },
  {
   "cell_type": "code",
   "execution_count": 139,
   "metadata": {},
   "outputs": [],
   "source": [
    "encodings.append(identity_map(X_all[:,13]))"
   ]
  },
  {
   "cell_type": "markdown",
   "metadata": {},
   "source": [
    "Number Outpatient"
   ]
  },
  {
   "cell_type": "code",
   "execution_count": 140,
   "metadata": {},
   "outputs": [
    {
     "name": "stdout",
     "output_type": "stream",
     "text": [
      "{0, 1, 2, 3, 4, 5, 6, 7, 8, 9, 10, 11, 12, 13, 14, 15, 16, 17, 18, 19, 21, 27, 36}\n"
     ]
    }
   ],
   "source": [
    "print(set(X_all[:,14]))"
   ]
  },
  {
   "cell_type": "code",
   "execution_count": 141,
   "metadata": {},
   "outputs": [],
   "source": [
    "encodings.append(identity_map(X_all[:,14]))"
   ]
  },
  {
   "cell_type": "markdown",
   "metadata": {},
   "source": [
    "Number Emergency"
   ]
  },
  {
   "cell_type": "code",
   "execution_count": 142,
   "metadata": {},
   "outputs": [
    {
     "name": "stdout",
     "output_type": "stream",
     "text": [
      "{0, 1, 2, 3, 4, 5, 6, 7, 8, 9, 42, 13}\n"
     ]
    }
   ],
   "source": [
    "print(set(X_all[:,15]))"
   ]
  },
  {
   "cell_type": "code",
   "execution_count": 143,
   "metadata": {},
   "outputs": [],
   "source": [
    "encodings.append(identity_map(X_all[:,15]))"
   ]
  },
  {
   "cell_type": "markdown",
   "metadata": {},
   "source": [
    "Number Inpatient"
   ]
  },
  {
   "cell_type": "code",
   "execution_count": 144,
   "metadata": {},
   "outputs": [
    {
     "name": "stdout",
     "output_type": "stream",
     "text": [
      "{0, 1, 2, 3, 4, 5, 6, 7, 8, 9, 10}\n"
     ]
    }
   ],
   "source": [
    "print(set(X_all[:,16]))"
   ]
  },
  {
   "cell_type": "code",
   "execution_count": 145,
   "metadata": {},
   "outputs": [],
   "source": [
    "encodings.append(identity_map(X_all[:,16]))"
   ]
  },
  {
   "cell_type": "markdown",
   "metadata": {},
   "source": [
    "Diagnoses"
   ]
  },
  {
   "cell_type": "code",
   "execution_count": 146,
   "metadata": {},
   "outputs": [
    {
     "name": "stdout",
     "output_type": "stream",
     "text": [
      "{'153', '356', '572', 'V16', '288', '303', 'E941', '183', '552', '555', '253', '350', '727', '720', '866', '358', '968', '135', '38', '250.01', '41', '532', '345', '921', 'V09', '654', '847', '250.23', 'E935', '588', '513', 'V12', '759', '920', '298', '557', '846', '716', '276', '621', '368', '608', '374', '510', '967', '282', 'E930', '281', 'V64', '706', '265', '250.43', '580', '278', '414', '214', '823', 'E819', '996', '791', '669', '250.42', '250.31', '110', '813', '623', '250.5', '223', '173', '451', '317', 'E815', '966', '193', '262', '300', '410', '486', '210', '661', '646', '372', '287', '402', 'E816', '573', '999', '225', '361', '164', '244', '53', '340', '250.82', '752', '611', '972', '199', '474', '873', '514', '112', '620', '626', '360', '?', '156', 'V53', '862', '251', '600', '868', '491', 'E947', 'V17', '250.52', 'E937', '442', '642', '381', '655', 'E880', '516', 'V66', '432', '154', '786', '644', '355', '435', '250.12', 'E849', '906', '814', '599', '277', '88', '9', '781', '905', 'E933', '746', '291', '160', '533', '79', '556', '233', '462', '431', '273', '182', '633', '908', '723', '185', '197', '421', '853', '250', '444', 'V71', '718', '289', '250.7', 'E938', '780', 'E812', '698', '741', '641', '569', '519', '412', '313', '550', '131', '184', 'E932', '70', '314', '198', '997', 'E927', 'E854', 'E905', '208', '227', 'E884', '250.11', '553', '824', '457', '427', '246', '397', '388', '594', '293', '380', '745', 'E917', '394', 'V11', '42', '998', '359', '989', '710', '378', '331', '645', '805', '443', '376', '379', '693', '922', '566', '349', '283', '585', '286', '485', '647', '260', 'V55', '271', '501', '843', '652', '924', '437', '34', 'E949', '290', 'V54', '461', '625', '5', '477', '387', '332', '577', '574', '436', '733', '180', 'E879', 'V58', 'E858', '789', 'E928', '261', '735', '187', '242', '737', '918', '455', '366', '138', '94', '250.22', '714', '816', '250.51', '284', '564', '701', '794', '136', '11', 'V45', '324', 'V65', '892', '933', '404', '721', '235', '788', '584', '725', '934', '747', '705', '346', '923', '893', 'E944', '593', '141', '311', '802', '518', '250.2', '241', '965', '867', '416', '151', '473', '8', '560', '305', 'E915', '969', '211', '796', '977', '150', '808', '992', 'E885', '54', '700', '312', '201', 'V18', '238', '308', '792', '203', '722', '228', '709', '871', '354', '643', '512', '464', '309', 'V70', '155', '385', '715', '117', '196', '935', '616', '753', '517', '307', '736', '200', '618', '327', '598', '860', '801', '420', '294', '362', '292', '370', '272', '659', 'V15', '578', '369', '456', '845', '751', '426', '172', '648', '883', '680', '790', '386', '250.92', '75', '250.6', '433', '82', '348', '970', '684', '528', '157', '480', '441', '614', '482', '913', '579', '250.9', '991', '807', '3', '696', '962', '440', '296', '783', '415', '285', 'E939', '191', '342', '826', '681', 'E934', 'V08', '487', '170', '401', '703', '800', '884', '430', '531', 'E980', '825', '301', '605', '717', '619', '250.13', '729', '882', '724', '263', '179', '915', '728', '481', '31', '318', '603', '452', '713', '274', '250.3', '343', '916', '478', '575', '543', '583', '78', '493', 'E942', '204', 'E878', '784', '255', '537', '836', '250.4', '534', '604', '425', '319', '226', '250.32', 'E916', '239', '734', '250.33', '382', '692', '458', '582', '820', '250.8', '428', '240', 'E882', '403', '230', '333', '795', '174', 'V25', '995', '852', '810', '530', '344', '508', '535', '738', '446', '958', '787', '189', '571', '521', '596', 'E888', '250.41', '275', '664', 'E929', '785', '310', '353', '250.53', '730', '682', '782', 'V63', '821', '250.02', '295', '304', '429', '202', 'V44', '691', '851', '250.91', '607', '586', 'V57', '423', '886', '844', '252', '475', '822', '245', 'V49', '316', '660', '536', '280', '490', '395', '567', '959', '840', '27', '663', '907', '694', '322', 'V43', '250.81', '511', '424', '540', 'V42', '617', '470', '250.21', '365', '565', '731', '377', '258', '591', '576', '61', '337', '799', '627', '581', '351', '964', '398', '188', '384', 'V72', '483', '522', '527', '492', '592', '162', '558', '945', 'E887', 'V62', '434', '707', '496', '453', '250.93', '658', '562', '335', '205', '447', '459', '323', '465', '396', 'V10', '861', '171', '220', '610', '413', 'V46', 'V27', '708', 'E943', '869', '250.03', '299', '890', 'V14', '656', '601', '595', 'E822', '507', '695', '250.83', '306', '515', '438', '266', '793', '590', 'V56', '250.1', '357', '405', '758', '325', '161', 'E950', '568', '411', '726', '389', '158', '466', '850', '494', '910', '719', '756', 'V85', '454', '622', '812', '865', '711', '218'}\n"
     ]
    }
   ],
   "source": [
    "print(set(X_all[:,17])|set(X_all[:,18])|set(X_all[:,19]))"
   ]
  },
  {
   "cell_type": "markdown",
   "metadata": {},
   "source": [
    "Number of Diagnoses"
   ]
  },
  {
   "cell_type": "code",
   "execution_count": 147,
   "metadata": {},
   "outputs": [
    {
     "name": "stdout",
     "output_type": "stream",
     "text": [
      "{1, 2, 3, 4, 5, 6, 7, 8, 9}\n"
     ]
    }
   ],
   "source": [
    "print(set(X_all[:,20]))"
   ]
  },
  {
   "cell_type": "code",
   "execution_count": 148,
   "metadata": {},
   "outputs": [],
   "source": [
    "encodings.append(identity_map(X_all[:,20]))"
   ]
  },
  {
   "cell_type": "markdown",
   "metadata": {},
   "source": [
    "Max Glucose Serum"
   ]
  },
  {
   "cell_type": "code",
   "execution_count": 149,
   "metadata": {},
   "outputs": [
    {
     "name": "stdout",
     "output_type": "stream",
     "text": [
      "{'>200', 'Norm', '>300', 'None'}\n"
     ]
    }
   ],
   "source": [
    "print(set(X_all[:,21]))"
   ]
  },
  {
   "cell_type": "code",
   "execution_count": 150,
   "metadata": {},
   "outputs": [],
   "source": [
    "max_glu_serum = {'Norm':0, '>300':3, 'None':1, '>200':2}"
   ]
  },
  {
   "cell_type": "code",
   "execution_count": 151,
   "metadata": {},
   "outputs": [],
   "source": [
    "encodings.append(max_glu_serum)"
   ]
  },
  {
   "cell_type": "markdown",
   "metadata": {},
   "source": [
    "A1Cresult"
   ]
  },
  {
   "cell_type": "code",
   "execution_count": 152,
   "metadata": {},
   "outputs": [
    {
     "name": "stdout",
     "output_type": "stream",
     "text": [
      "{'>8', 'Norm', '>7', 'None'}\n"
     ]
    }
   ],
   "source": [
    "print(set(X_all[:,22]))"
   ]
  },
  {
   "cell_type": "code",
   "execution_count": 153,
   "metadata": {},
   "outputs": [],
   "source": [
    "a1c_res = {'>7': 2, 'Norm': 0, '>8': 3, 'None': 1}"
   ]
  },
  {
   "cell_type": "code",
   "execution_count": 154,
   "metadata": {},
   "outputs": [],
   "source": [
    "encodings.append(a1c_res)"
   ]
  },
  {
   "cell_type": "markdown",
   "metadata": {},
   "source": [
    "Metformin - Metformin Pioglitazone"
   ]
  },
  {
   "cell_type": "code",
   "execution_count": 155,
   "metadata": {},
   "outputs": [
    {
     "name": "stdout",
     "output_type": "stream",
     "text": [
      "{'Up', 'Down', 'Steady', 'No'}\n"
     ]
    }
   ],
   "source": [
    "print(set(X_all[:,23]))"
   ]
  },
  {
   "cell_type": "code",
   "execution_count": 156,
   "metadata": {},
   "outputs": [],
   "source": [
    "drug_change = {'Down': 1, 'No': 0, 'Steady': 2, 'Up': 3}"
   ]
  },
  {
   "cell_type": "code",
   "execution_count": 157,
   "metadata": {},
   "outputs": [],
   "source": [
    "encodings += [drug_change] * 23"
   ]
  },
  {
   "cell_type": "markdown",
   "metadata": {},
   "source": [
    "Change"
   ]
  },
  {
   "cell_type": "code",
   "execution_count": 158,
   "metadata": {},
   "outputs": [
    {
     "name": "stdout",
     "output_type": "stream",
     "text": [
      "{'Ch', 'No'}\n"
     ]
    }
   ],
   "source": [
    "print(set(X_all[:,46]))"
   ]
  },
  {
   "cell_type": "code",
   "execution_count": 159,
   "metadata": {},
   "outputs": [],
   "source": [
    "change = {'No': 0, 'Ch': 1}"
   ]
  },
  {
   "cell_type": "code",
   "execution_count": 160,
   "metadata": {},
   "outputs": [],
   "source": [
    "encodings.append(change)"
   ]
  },
  {
   "cell_type": "markdown",
   "metadata": {},
   "source": [
    "Diabetes Medication"
   ]
  },
  {
   "cell_type": "code",
   "execution_count": 161,
   "metadata": {},
   "outputs": [
    {
     "name": "stdout",
     "output_type": "stream",
     "text": [
      "{'Yes', 'No'}\n"
     ]
    }
   ],
   "source": [
    "print(set(X_all[:,47]))"
   ]
  },
  {
   "cell_type": "code",
   "execution_count": 162,
   "metadata": {},
   "outputs": [],
   "source": [
    "diabetes_med = {'No': 0, 'Yes': 1}"
   ]
  },
  {
   "cell_type": "code",
   "execution_count": 163,
   "metadata": {},
   "outputs": [],
   "source": [
    "encodings.append(diabetes_med)"
   ]
  },
  {
   "cell_type": "markdown",
   "metadata": {},
   "source": [
    "Diagnoses Description"
   ]
  },
  {
   "cell_type": "code",
   "execution_count": 164,
   "metadata": {},
   "outputs": [
    {
     "name": "stdout",
     "output_type": "stream",
     "text": [
      "{'Seminal vesiculitis', 'Follicular cyst of ovary', nan, 'Acute laryngopharyngitis', 'Lipoma of skin and subcutaneous tissue of face', 'Malignant neoplasm of vagina', 'Closed fracture of unspecified part of femur', 'Unstable lie, unspecified as to episode of care or not applicable', 'Inflammatory disease of breast', 'Central nervous system malformation in fetus, unspecified as to episode of care or not applicable', 'First-degree perineal laceration, unspecified as to episode of care or not applicable', 'Delirium due to conditions classified elsewhere', 'Mechanical complication of unspecified cardiac device, implant, and graft', 'Disseminated malignant neoplasm without specification of site', 'Malignant neoplasm of trachea', 'Anomalies of skull and face bones', 'Cervical spondylosis without myelopathy', 'Paroxysmal supraventricular tachycardia', 'Intussusception', 'Malignant essential hypertension', 'Adenovirus infection in conditions classified elsewhere and of unspecified site', 'Benign neoplasm of adrenal gland', 'Influenza with pneumonia', 'Abnormal involuntary movements', 'Foreign body in pharynx', 'Poisoning by central nervous system muscle-tone depressants', 'Anal fissure', 'Pernicious anemia', 'Concussion with no loss of consciousness', 'Ingrowing nail', 'Calculus in diverticulum of bladder', 'Acute vascular insufficiency of intestine', 'Pulmonary collapse', 'Diabetes with neurological manifestations, type II or unspecified type, not stated as uncontrolled', 'Encounter for radiotherapy', 'Paralysis agitans', 'Other and unspecified intracranial hemorrhage following injury without mention of open intracranial wound, unspecified state of consciousness', 'Closed fracture of upper end of tibia alone', 'Encephalitis myelitis and encephalomyelitis', 'Diabetes with hyperosmolarity, type II or unspecified type, not stated as uncontrolled', 'Urethral stricture due to unspecified infection', 'Acute thyroiditis', 'Nephrotic syndrome with lesion of proliferative glomerulonephritis', 'Alteration of consciousness', 'Atrioventricular block, complete', 'Diabetes with renal manifestations, type I [juvenile type], uncontrolled', 'Hypoglycemic coma', 'Acute laryngitis without mention of obstruction', 'Acute pulmonary manifestations due to radiation', 'Multiple sclerosis', 'Acute infective polyneuritis', 'Achlorhydria', 'Spinal stenosis in cervical region', 'Primary uterine inertia, unspecified as to episode of care or not applicable', 'Failed mechanical induction of labor, unspecified as to episode of care or not applicable', 'Other severe protein-calorie malnutrition', \"Bell's palsy\", 'Senile dementia, uncomplicated', 'Burn of unspecified degree of lower limb [leg], unspecified site', 'Malignant neoplasm of cervical esophagus', 'Injury to other intra-abdominal organs without mention of open wound into cavity, unspecified intra-abdominal organ', 'Diabetes with hyperosmolarity, type I [juvenile type], uncontrolled', 'Esophageal varices with bleeding', 'Chronic tonsillitis', 'Dermatophytosis of scalp and beard', 'Spinal stenosis, unspecified region', 'Intracerebral hemorrhage', 'Renal colic', 'Residence remote from hospital or other health care facility', 'Retinal detachment with retinal defect, unspecified', 'Submucous leiomyoma of uterus', 'Pneumococcal pneumonia [Streptococcus pneumoniae pneumonia]', 'Systemic lupus erythematosus', 'Prolapse of cord complicating labor and delivery, unspecified as to episode of care or not applicable', 'Encounter for extracorporeal dialysis', 'Absence of menstruation', 'Secondary and unspecified malignant neoplasm of lymph nodes of head, face, and neck', 'Abrasion or friction burn of finger(s), without mention of infection', 'Closed fracture of cervical vertebra, unspecified level', 'Tachycardia, unspecified', 'Depressive disorder, not elsewhere classified', 'Bartonellosis', 'Arteriovenous fistula, acquired', 'Autoimmune hemolytic anemias', 'Migraine with aura, without mention of intractable migraine without mention of status migrainosus', 'Acute pancreatitis', 'Postcholecystectomy syndrome', 'Acute bronchitis', 'Primary pulmonary hypertension', 'Other degenerative diseases of the basal ganglia', 'Alcoholic fatty liver', 'Acute pericarditis in diseases classified elsewhere', 'Simple type schizophrenia, unspecified', 'Abnormal glandular Papanicolaou smear of cervix', 'Pruritus ani', 'Malignant neoplasm of thymus', 'Acute inflammation of orbit, unspecified', 'Disorders of thyrocalcitonin secretion', 'Neoplasm of uncertain behavior of bone and articular cartilage', 'Poisoning by oxazolidine derivatives', 'Dyschromia, unspecified', 'Polyarteritis nodosa', 'Malignant neoplasm of cardia', 'Closed fracture of base of skull without mention of intra cranial injury, unspecified state of consciousness', 'Mitral valve stenosis and aortic valve stenosis', 'Pyogenic arthritis, site unspecified', 'Coronary atherosclerosis of unspecified type of vessel, native or graft', 'Malnutrition of moderate degree', 'Simple chronic bronchitis', 'Occlusion and stenosis of basilar artery without mention of cerebral infarction', 'Effusion of joint, site unspecified', 'Undersocialized conduct disorder, aggressive type, unspecified', 'Drug withdrawal', 'Acromegaly and gigantism', 'Diabetes with renal manifestations, type II or unspecified type, uncontrolled', 'Unspecified deformity of forearm, excluding fingers', 'Candidiasis of mouth', 'Acute pharyngitis', 'Diabetes with ketoacidosis, type II or unspecified type, not stated as uncontrolled', 'Extrinsic asthma, unspecified', 'Werdnig-Hoffmann disease', \"M_ni\\x8fre's disease, unspecified\", 'Black eye, not otherwise specified', 'Malignant neoplasm of head of pancreas', 'Contusion of breast', 'Endomyocardial fibrosis', 'Subarachnoid hemorrhage', 'Dengue', 'Profound impairment, both eyes, impairment level not further specified', 'Osteoarthrosis, generalized, site unspecified', 'Malignant neoplasm of connective and other soft tissue of head, face, and neck', 'Acute alcoholic intoxication in alcoholism, unspecified', 'Acute maxillary sinusitis', 'Care involving breathing exercises', 'Closed fracture of carpal bone, unspecified', 'Unspecified injury of heart without mention of open wound into thorax', 'Acute duodenal ulcer with hemorrhage, without mention of obstruction', 'Spontaneous tension pneumothorax', 'Carbuncle and furuncle of face', 'Stomatitis and mucositis, unspecified', 'Nausea and vomiting', 'Sprain of neck', 'Abrasion or friction burn of elbow, forearm, and wrist, without mention of infection', 'Varicose veins of lower extremities with ulcer', 'Sideroblastic anemia', 'Malignant neoplasm of liver, primary', 'Dissection of aorta, unspecified site', 'Aneurysm of artery of upper extremity', 'Malignant neoplasm of gallbladder', 'Acute osteomyelitis, site unspecified', 'Acute and subacute bacterial endocarditis', 'Acute peptic ulcer of unspecified site with hemorrhage, without mention of obstruction', 'Acute myeloid leukemia, without mention of having achieved remission', 'Malignant neoplasm of nasal cavities', 'Scleritis, unspecified', 'Congenital pulmonary valve anomaly, unspecified', 'Acute lymphoid leukemia, without mention of having achieved remission', 'Calculus of kidney', 'Bronchopneumonia, organism unspecified', 'Abdominal pain, unspecified site', 'Benign neoplasm of kidney, except pelvis', 'Corns and callosities', 'Observation and evaluation for suspected conditions not found', 'Closed fracture of nasal bones', 'Urinary tract infection, site not specified', 'Gouty arthropathy, unspecified', 'Abscess of lung', 'Hyperparathyroidism, unspecified', 'Closed fracture of clavicle, unspecified part', 'Maternal distress complicating labor and delivery, unspecified as to episode of care or not applicable', 'Tympanosclerosis, unspecified as to involvement', 'Unspecified cardiac device in situ', 'Disorders of mineral metabolism', 'Diabetes mellitus without mention of complication, type II or unspecified type, not stated as uncontrolled', \"Meckel's diverticulum\", 'Pneumonia due to adenovirus', 'Amnestic disorder in conditions classified elsewhere', 'Calculus of gallbladder with acute cholecystitis, without mention of obstruction', 'Acute salpingitis and oophoritis', 'Acute appendicitis with generalized peritonitis', 'Poisoning by adrenal cortical steroids', 'Diabetes mellitus without mention of complication, type I [juvenile type], not stated as uncontrolled', 'Toxic diffuse goiter without mention of thyrotoxic crisis or storm', 'Hypertrophy of nasal turbinates', 'Infectious colitis, enteritis, and gastroenteritis', 'Acute gastritis, without mention of hemorrhage', 'Endometriosis of uterus', 'Premenopausal menorrhagia', 'Fetal-maternal hemorrhage, unspecified as to episode of care or not applicable', 'Respiratory abnormality, unspecified', 'Peritoneal adhesions (postoperative) (postinfection)', 'Malignant neoplasm of nipple and areola of female breast', 'Hereditary peripheral neuropathy', 'Angina decubitus', 'Cortex (cerebral) contusion without mention of open intracranial wound, unspecified state of consciousness', 'Anhidrosis', 'Atrophy of salivary gland', 'Viral hepatitis A with hepatic coma', 'Obesity, unspecified', 'Adjustment disorder with depressed mood', 'Diabetes with unspecified complication, type II or unspecified type, uncontrolled', 'Hyperosmolality and/or hypernatremia', 'Renal agenesis and dysgenesis', 'Malignant neoplasm of retroperitoneum', 'Acute gastrojejunal ulcer with hemorrhage, without mention of obstruction', 'Hemopericardium', 'Orchitis, epididymitis, and epididymo-orchitis, with abscess', 'Esotropia, unspecified', 'Malignant neoplasm of corpus uteri, except isthmus', 'Alcohol withdrawal delirium', 'Diseases of tricuspid valve', 'Lesion of sciatic nerve', 'Malignant neoplasm of glottis', 'Postoperative shock, unspecified', 'Infective myositis', 'Diabetes with ketoacidosis, type I [juvenile type], uncontrolled', 'Closed fracture of patella', 'Congenital factor VIII disorder', 'Depressive type psychosis', 'Bladder neck obstruction', 'Sprain of lumbosacral (joint) (ligament)', 'Malignant neoplasm of rectosigmoid junction', 'Acquired deformity of nose', 'Displacement of cervical intervertebral disc without myelopathy', 'Inguinal hernia, with gangrene, unilateral or unspecified (not specified as recurrent)', 'Injury other and unspecified', 'Malignant neoplasm of prostate', 'Contact dermatitis and other eczema due to detergents', 'Subarachnoid hemorrhage following injury without mention of open intracranial wound, unspecified state of consciousness', 'Benign essential hypertension complicating pregnancy, childbirth, and the puerperium, unspecified as to episode of care or not applicable', 'Fracture of medial malleolus, closed', 'Aplastic anemia and other bone marrow failure syndromes', 'Streptococcal septicemia', 'Bronchitis, not specified as acute or chronic', 'Closed fracture of acetabulum', 'Sprain of ankle, unspecified site', 'Anal and rectal polyp', 'Open wound of scalp, without mention of complication', 'Diabetes with other coma, type I [juvenile type], not stated as uncontrolled', 'Basilar artery syndrome', 'Acute kidney failure', 'General counseling and advice on contraceptive management', 'Ariboflavinosis', 'Open wound of foot except toe(s) alone, without mention of complication', 'Secondary malignant neoplasm of lung', 'Poisoning by antidepressant, unspecified', 'Neoplasm of uncertain behavior of major salivary glands', 'Secondary malignant neoplasm of kidney', 'Malignant neoplasm of ovary', 'Foreign body in mouth', 'Benign neoplasm of ovary', 'Myasthenia gravis without (acute) exacerbation', 'Regional enteritis of small intestine', 'Closed fracture of intracapsular section of neck of femur, unspecified', 'Cellulitis and abscess of finger, unspecified', 'Abscess of anal and rectal regions', 'Other ill-defined and unknown causes of morbidity and mortality', 'Chronic maxillary sinusitis', 'Salmonella gastroenteritis', 'Malignant neoplasm of kidney, except pelvis', 'Leukoplakia of penis', 'Chronic pyelonephritis without lesion of renal medullary necrosis', 'Budd-chiari syndrome', 'Open wound of hand except finger(s) alone, without mention of complication', 'Fitting and adjustment of other device', 'Internal hemorrhoids without mention of complication', 'Unspecified prolapse of vaginal walls', 'Femoral hernia without mention of obstruction of gangrene, unilateral or unspecified(not specified as recurrent)', 'Threatened premature labor, unspecified as to episode of care or not applicable', 'Nonspecific findings on examination of blood', 'Goiter, specified as simple', 'Hemorrhage, unspecified', 'Malignant neoplasm of trigone of urinary bladder', 'Diabetes with hyperosmolarity, type II or unspecified type, uncontrolled', 'Malignant neoplasm of endocervix', 'Nontraumatic extradural hemorrhage', 'Rheumatoid arthritis', 'Hematemesis', \"Cushing's syndrome\", 'Diabetes with other specified manifestations, type I [juvenile type], uncontrolled', 'Malignant neoplasm of base of tongue', 'Diabetes with ketoacidosis, type II or unspecified type, uncontrolled', 'Cellulitis and abscess of face', 'Congestive heart failure, unspecified', 'Molluscum contagiosum', 'Patent ductus arteriosus', 'Urinary-genital tract fistula, female', 'Empyema with fistula', 'Chronic airway obstruction, not elsewhere classified', 'Diabetes with ketoacidosis, type I [juvenile type], not stated as uncontrolled', 'Pneumonia, organism unspecified', 'Emphysematous bleb', 'Cervicitis and endocervicitis', 'Diabetes with other specified manifestations, type II or unspecified type, uncontrolled', 'Diabetes with other specified manifestations, type II or unspecified type, not stated as uncontrolled', 'Adhesive capsulitis of shoulder', 'Allergic purpura', 'Phlebitis and thrombophlebitis of superficial vessels of lower extremities', 'Portal vein thrombosis', 'Poisoning by dietetics', 'Atherosclerosis of aorta', 'Diabetes with renal manifestations, type I [juvenile type], not stated as uncontrolled', 'Acquired hypertrophic pyloric stenosis', 'Arterial embolism and thrombosis', 'Congenital abnormalities of uterus, unspecified as to episode of care or not applicable', 'Acute myocardial infarction of anterolateral wall, episode of care unspecified', 'Myocarditis, unspecified', 'Pleurisy without mention of effusion or current tuberculosis', 'Acute leukemia of unspecified cell type, without mention of having achieved remission', 'Diabetes mellitus without mention of complication, type I [juvenile type], uncontrolled', 'Diabetes with unspecified complication, type I [juvenile type], uncontrolled', 'Acne varioliformis', 'Paranoid personality disorder', 'Anorexia', 'Hypertrophy (benign) of prostate without urinary obstruction and other lower urinary tract symptom (LUTS)', 'Kaschin-Beck disease, site unspecified', 'Diabetes with other coma, type II or unspecified type, not stated as uncontrolled', 'Other orthopedic aftercare', 'Abscess of liver', 'Tracheostomy complication, unspecified', 'Other and unspecified noninfectious gastroenteritis and colitis', 'Synovitis and tenosynovitis, unspecified', 'Adult onset fluency disorder', 'Chronic passive congestion of liver', 'Bipolar I disorder, single manic episode, unspecified', 'Disturbance of skin sensation', 'Diabetes with other coma, type I [juvenile type], uncontrolled', \"Raynaud's syndrome\", 'Reaction to spinal or lumbar puncture', 'Late effects of cerebrovascular disease, cognitive deficits', 'Poisoning by opium (alkaloids), unspecified', 'Injury to bladder and urethra, without mention of open wound into cavity', 'Common truncus', 'Polyp of corpus uteri', 'Eczema herpeticum', 'Cerebral cysts', 'Carcinoma in situ of lip, oral cavity, and pharynx', 'Acute, but ill-defined, cerebrovascular disease', 'Neoplasm of unspecified nature of digestive system', 'Air embolism', 'Postinflammatory pulmonary fibrosis', 'Pressure ulcer, unspecified site', 'Generalized nonconvulsive epilepsy, without mention of intractable epilepsy', 'Flat foot', 'Postmyocardial infarction syndrome', 'Acute suppurative otitis media without spontaneous rupture of eardrum', 'Frostbite of face', 'Iliofemoral (ligament) sprain', 'Diverticulosis of small intestine (without mention of hemorrhage)', 'Pneumonia due to Klebsiella pneumoniae', 'Diabetes with hyperosmolarity, type I [juvenile type], not stated as uncontrolled', 'Acute myringitis, unspecified', 'Late pregnancy', 'Hypertensive chronic kidney disease, malignant, with chronic kidney disease stage I through stage IV, or unspecified', 'Trigeminal nerve disorders', 'Nodular lymphoma, unspecified site, extranodal and solid organ sites', 'Open wound of toe(s), without mention of complication', 'Anomalies of spleen', 'Diabetes with other specified manifestations, type I [juvenile type], not stated as uncontrolled', 'Diabetes mellitus of mother, complicating pregnancy, childbirth, or the puerperium, unspecified as to episode of care or not applicable', 'Peritonsillar abscess', 'Malignant neoplasm of thyroid gland', 'Allergic urticaria', 'Pulpitis', 'Diabetes with renal manifestations, type II or unspecified type, not stated as uncontrolled', 'Other retinal disorders', 'Sprain of lateral collateral ligament of knee', 'Ulcerative (chronic) enterocolitis', 'Celiac disease', 'Benign neoplasm of thyroid glands', 'Hereditary spherocytosis', 'Corneal ulcer, unspecified', 'Acute cor pulmonale', 'Acute gastric ulcer with hemorrhage, without mention of obstruction', 'Cerebral thrombosis without mention of cerebral infarction', 'Acute cystitis', 'Reticulosarcoma, unspecified site, extranodal and solid organ sites', 'Oligohydramnios, unspecified as to episode of care or not applicable', 'Mild hyperemesis gravidarum, unspecified as to episode of care or not applicable', 'Diabetes with peripheral circulatory disorders, type II or unspecified type, not stated as uncontrolled', 'Nervous system complication, unspecified', 'Benign neoplasm of lip', 'Human immunodeficiency virus [HIV] disease', 'Generalized vaccinia as a complication of medical care, not elsewhere classified', 'Rheumatism, unspecified and fibrositis', 'Papilledema, unspecified', 'Cerebral atherosclerosis', 'Acute cholecystitis', 'Injury to spleen without mention of open wound into cavity, unspecified injury', 'Closed fracture of unspecified part of upper end of humerus', 'Hydronephrosis', 'Diabetes mellitus without mention of complication, type II or unspecified type, uncontrolled', 'Malignant neoplasm of hepatic flexure', 'Rheumatic myocarditis', 'Closed fracture of rib(s), unspecified', 'Benign neoplasm of esophagus', 'Ankylosing spondylitis', 'Orthostatic hypotension', 'Headache', 'Pneumonia due to mycoplasma pneumoniae', 'Idiopathic peripheral autonomic neuropathy, unspecified', 'Poisoning by iron and its compounds', 'Cystic fibrosis without mention of meconium ileus', 'Toxic erythema', 'Poisoning by cardiac rhythm regulators', 'Diabetes with other coma, type II or unspecified type, uncontrolled', 'Nonsenile cataract, unspecified', 'Femoral hernia with obstruction, unilateral or unspecified (not specified as recurrent)', 'Brachial plexus lesions', 'Malignant neoplasm of penis and other male genital organs', 'Closed fracture of vault of skull without mention of intracranial injury, unspecified state of consciousness', 'Postsurgical hypothyroidism', 'Spotted fevers', 'Pulmonary congestion and hypostasis', 'Rheumatic aortic stenosis', 'Ocular laceration without prolapse of intraocular tissue', 'Osteoporosis, unspecified', 'Nephroptosis', 'Chronic kidney disease (ckd)', 'Pneumonitis due to inhalation of food or vomitus', 'Hypertensive heart and chronic kidney disease, malignant, without heart failure and with chronic kidney disease stage I through stage IV, or unspecified', 'Attention to tracheostomy', 'Intestinal infection due to E. coli, unspecified', 'Herpes zoster with meningitis', 'Tuberculosis of lung, infiltrative, unspecified', 'Opioid type dependence, unspecified', 'Closed fracture of upper end of forearm, unspecified', 'Malignant hypertensive heart disease without heart failure', 'Acute prostatitis', 'Polycythemia, secondary', 'Postmastectomy lymphedema syndrome', 'Diabetes with ophthalmic manifestations, type II or unspecified type, uncontrolled', 'Multiple myeloma, without mention of having achieved remission', 'Articular cartilage disorder, site unspecified', 'Degenerative and vascular disorders, unspecified', 'Carcinoma in situ of breast', 'Achalasia and cardiospasm', 'Benign neoplasm of brain', 'Other anaphylactic reaction', 'Toxic effect of hydrocyanic acid and cyanides', 'Perichondritis of pinna, unspecified', 'Malignant neoplasm of cerebrum, except lobes and ventricles', 'Constipation, unspecified', 'Dyspareunia', 'Nontoxic uninodular goiter', 'Traumatic amputation of other finger(s) (complete) (partial), without mention of complication', 'Encysted hydrocele', 'Neutropenia, unspecified', 'Nonspecific abnormal findings in cerebrospinal fluid', \"Alzheimer's disease\", 'Abnormal function study of brain and central nervous system, unspecified', 'Anxiety state, unspecified', 'Contusion of thigh', 'Injury to kidney without mention of open wound into cavity, unspecified injury', 'Iron deficiency anemia secondary to blood loss (chronic)', 'Mitral valve disorders', 'Peritonitis in infectious diseases classified elsewhere', 'Abdominal pregnancy without intrauterine pregnancy'}\n"
     ]
    }
   ],
   "source": [
    "print(set(X_all[:,48]))"
   ]
  },
  {
   "cell_type": "code",
   "execution_count": 165,
   "metadata": {},
   "outputs": [],
   "source": [
    "diagnoses = sorted([sanitize(s) for s in set(X_all[:,48])|set(X_all[:,49])|set(X_all[:,50])])\n",
    "diagnoses_onehot = onehot([str(s) for s in set(X_all[:,48])|set(X_all[:,49])|set(X_all[:,50])], diagnoses, truncate=10)"
   ]
  },
  {
   "cell_type": "code",
   "execution_count": null,
   "metadata": {},
   "outputs": [],
   "source": []
  },
  {
   "cell_type": "code",
   "execution_count": 166,
   "metadata": {},
   "outputs": [],
   "source": [
    "X_all_enc = np.zeros((len(X_all), 40))"
   ]
  },
  {
   "cell_type": "code",
   "execution_count": 167,
   "metadata": {},
   "outputs": [
    {
     "data": {
      "text/plain": [
       "40"
      ]
     },
     "execution_count": 167,
     "metadata": {},
     "output_type": "execute_result"
    }
   ],
   "source": [
    "len(encodings)"
   ]
  },
  {
   "cell_type": "code",
   "execution_count": 168,
   "metadata": {},
   "outputs": [
    {
     "name": "stdout",
     "output_type": "stream",
     "text": [
      "0 {'Other': 1, 'Asian': 2, 'Caucasian': 3, 'Hispanic': 4, 'AfricanAmerican': 5, '?': 0} ['AfricanAmerican' 'Caucasian' 'Caucasian' 'AfricanAmerican' 'Caucasian']\n",
      "1 {'Male': 0, 'Female': 1} ['Male' 'Female' 'Female' 'Female' 'Male']\n",
      "2 {'[0-10)': 0, '[80-90)': 8, '[60-70)': 6, '[50-60)': 5, '[30-40)': 3, '[20-30)': 2, '[90-100)': 9, '[40-50)': 4, '[70-80)': 7, '[10-20)': 10} ['[60-70)' '[70-80)' '[80-90)' '[50-60)' '[80-90)']\n",
      "3 {'[25-50)': 25, '[150-175)': 150, '[75-100)': 75, '[0-25)': 0, '[125-150)': 125, '[50-75)': 50, '[100-125)': 100, '?': 73} ['?' '?' '?' '?' '?']\n",
      "4 {'nan': 0, 'Newborn': 2, 'Emergency': 4, 'Not Mapped': 0, 'Not Available': 0, 'Urgent': 3, 'Elective': 1} ['Emergency' 'Elective' 'Urgent' 'Emergency' 'Elective']\n"
     ]
    }
   ],
   "source": [
    "for i in range(5):\n",
    "    print(i, encodings[i], X[:,1+i][:5])\n",
    "    X_all_enc[:,i] = encode(1+i, encodings[i])"
   ]
  },
  {
   "cell_type": "code",
   "execution_count": 169,
   "metadata": {},
   "outputs": [
    {
     "name": "stdout",
     "output_type": "stream",
     "text": [
      "5 {1: 1, 2: 2, 3: 3, 4: 4, 5: 5, 6: 6, 7: 7, 8: 8, 9: 9, 10: 10, 11: 11, 12: 12, 13: 13, 14: 14} [4 1 2 4 13]\n"
     ]
    }
   ],
   "source": [
    "print(5, encodings[5], X[:,8][:5])\n",
    "X_all_enc[:,5] = encode(8, encodings[5])"
   ]
  },
  {
   "cell_type": "code",
   "execution_count": 170,
   "metadata": {},
   "outputs": [
    {
     "name": "stdout",
     "output_type": "stream",
     "text": [
      "6 {1: 1, 2: 2, 3: 3, 4: 4, 5: 5, 6: 6, 7: 7, 8: 8, 9: 9, 10: 10, 11: 11, 12: 12, 13: 13, 14: 14, 15: 15, 16: 16, 17: 17, 18: 18, 19: 19, 20: 20, 21: 21, 22: 22, 23: 23, 24: 24, 25: 25, 26: 26, 27: 27, 28: 28, 29: 29, 30: 30, 31: 31, 32: 32, 33: 33, 34: 34, 35: 35, 36: 36, 37: 37, 38: 38, 39: 39, 40: 40, 41: 41, 42: 42, 43: 43, 44: 44, 45: 45, 46: 46, 47: 47, 48: 48, 49: 49, 50: 50, 51: 51, 52: 52, 53: 53, 54: 54, 55: 55, 56: 56, 57: 57, 58: 58, 59: 59, 60: 60, 61: 61, 62: 62, 63: 63, 64: 64, 65: 65, 66: 66, 67: 67, 68: 68, 69: 69, 70: 70, 71: 71, 72: 72, 73: 73, 74: 74, 75: 75, 76: 76, 77: 77, 78: 78, 79: 79, 80: 80, 81: 81, 82: 82, 83: 83, 84: 84, 85: 85, 86: 86, 87: 87, 88: 88, 89: 89, 90: 90, 91: 91, 92: 92, 93: 93, 94: 94, 95: 95, 96: 96, 97: 97, 98: 98, 101: 101, 103: 103, 104: 104, 106: 106, 107: 107, 108: 108, 109: 109, 113: 113, 114: 114, 120: 120} [40 24 59 60 54]\n",
      "7 {0: 0, 1: 1, 2: 2, 3: 3, 4: 4, 5: 5, 6: 6} [4 1 0 1 6]\n",
      "8 {1: 1, 2: 2, 3: 3, 4: 4, 5: 5, 6: 6, 7: 7, 8: 8, 9: 9, 10: 10, 11: 11, 12: 12, 13: 13, 14: 14, 15: 15, 16: 16, 17: 17, 18: 18, 19: 19, 20: 20, 21: 21, 22: 22, 23: 23, 24: 24, 25: 25, 26: 26, 27: 27, 28: 28, 29: 29, 30: 30, 31: 31, 32: 32, 33: 33, 34: 34, 35: 35, 36: 36, 37: 37, 38: 38, 39: 39, 40: 40, 41: 41, 42: 42, 43: 43, 44: 44, 45: 45, 46: 46, 47: 47, 48: 48, 49: 49, 50: 50, 51: 51, 52: 52, 53: 53, 54: 54, 55: 55, 56: 56, 57: 57, 58: 58, 59: 59, 60: 60, 61: 61, 62: 62, 63: 63, 65: 65, 67: 67, 74: 74, 75: 75, 81: 81} [10 5 12 14 49]\n",
      "9 {0: 0, 1: 1, 2: 2, 3: 3, 4: 4, 5: 5, 6: 6, 7: 7, 8: 8, 9: 9, 10: 10, 11: 11, 12: 12, 13: 13, 14: 14, 15: 15, 16: 16, 17: 17, 18: 18, 19: 19, 21: 21, 27: 27, 36: 36} [0 0 0 0 0]\n",
      "10 {0: 0, 1: 1, 2: 2, 3: 3, 4: 4, 5: 5, 6: 6, 7: 7, 8: 8, 9: 9, 42: 42, 13: 13} [0 0 0 0 0]\n",
      "11 {0: 0, 1: 1, 2: 2, 3: 3, 4: 4, 5: 5, 6: 6, 7: 7, 8: 8, 9: 9, 10: 10} [0 0 0 1 0]\n"
     ]
    }
   ],
   "source": [
    "for i in range(6):\n",
    "    print(6+i, encodings[6+i], X[:,11+i][:5])\n",
    "    X_all_enc[:,6+i] = encode(11+i, encodings[6+i])"
   ]
  },
  {
   "cell_type": "code",
   "execution_count": 171,
   "metadata": {},
   "outputs": [
    {
     "name": "stdout",
     "output_type": "stream",
     "text": [
      "12 {1: 1, 2: 2, 3: 3, 4: 4, 5: 5, 6: 6, 7: 7, 8: 8, 9: 9} [9 3 8 5 6]\n",
      "13 {'Norm': 0, '>300': 3, 'None': 1, '>200': 2} ['None' 'None' 'None' 'None' 'None']\n",
      "14 {'>7': 2, 'Norm': 0, '>8': 3, 'None': 1} ['None' 'None' 'None' 'None' 'None']\n",
      "15 {'Down': 1, 'No': 0, 'Steady': 2, 'Up': 3} ['No' 'Steady' 'No' 'No' 'No']\n",
      "16 {'Down': 1, 'No': 0, 'Steady': 2, 'Up': 3} ['No' 'No' 'No' 'No' 'No']\n",
      "17 {'Down': 1, 'No': 0, 'Steady': 2, 'Up': 3} ['No' 'No' 'No' 'No' 'No']\n",
      "18 {'Down': 1, 'No': 0, 'Steady': 2, 'Up': 3} ['No' 'No' 'No' 'No' 'No']\n",
      "19 {'Down': 1, 'No': 0, 'Steady': 2, 'Up': 3} ['No' 'No' 'No' 'No' 'No']\n",
      "20 {'Down': 1, 'No': 0, 'Steady': 2, 'Up': 3} ['No' 'No' 'No' 'No' 'No']\n",
      "21 {'Down': 1, 'No': 0, 'Steady': 2, 'Up': 3} ['No' 'No' 'No' 'No' 'No']\n",
      "22 {'Down': 1, 'No': 0, 'Steady': 2, 'Up': 3} ['No' 'Steady' 'No' 'No' 'Down']\n",
      "23 {'Down': 1, 'No': 0, 'Steady': 2, 'Up': 3} ['No' 'No' 'No' 'No' 'No']\n",
      "24 {'Down': 1, 'No': 0, 'Steady': 2, 'Up': 3} ['No' 'Steady' 'No' 'No' 'No']\n",
      "25 {'Down': 1, 'No': 0, 'Steady': 2, 'Up': 3} ['No' 'No' 'No' 'No' 'Steady']\n",
      "26 {'Down': 1, 'No': 0, 'Steady': 2, 'Up': 3} ['No' 'No' 'No' 'No' 'No']\n",
      "27 {'Down': 1, 'No': 0, 'Steady': 2, 'Up': 3} ['No' 'No' 'No' 'No' 'No']\n",
      "28 {'Down': 1, 'No': 0, 'Steady': 2, 'Up': 3} ['No' 'No' 'No' 'No' 'No']\n",
      "29 {'Down': 1, 'No': 0, 'Steady': 2, 'Up': 3} ['No' 'No' 'No' 'No' 'No']\n",
      "30 {'Down': 1, 'No': 0, 'Steady': 2, 'Up': 3} ['No' 'No' 'No' 'No' 'No']\n",
      "31 {'Down': 1, 'No': 0, 'Steady': 2, 'Up': 3} ['No' 'No' 'No' 'No' 'No']\n",
      "32 {'Down': 1, 'No': 0, 'Steady': 2, 'Up': 3} ['No' 'No' 'Down' 'Up' 'No']\n",
      "33 {'Down': 1, 'No': 0, 'Steady': 2, 'Up': 3} ['No' 'No' 'No' 'No' 'No']\n",
      "34 {'Down': 1, 'No': 0, 'Steady': 2, 'Up': 3} ['No' 'No' 'No' 'No' 'No']\n",
      "35 {'Down': 1, 'No': 0, 'Steady': 2, 'Up': 3} ['No' 'No' 'No' 'No' 'No']\n",
      "36 {'Down': 1, 'No': 0, 'Steady': 2, 'Up': 3} ['No' 'No' 'No' 'No' 'No']\n",
      "37 {'Down': 1, 'No': 0, 'Steady': 2, 'Up': 3} ['No' 'No' 'No' 'No' 'No']\n",
      "38 {'No': 0, 'Ch': 1} ['No' 'Ch' 'Ch' 'Ch' 'Ch']\n",
      "39 {'No': 0, 'Yes': 1} ['No' 'Yes' 'Yes' 'Yes' 'Yes']\n"
     ]
    }
   ],
   "source": [
    "for i in range(28):\n",
    "    print(12+i, encodings[12+i], X[:,20+i][:5])\n",
    "    X_all_enc[:,12+i] = encode(20+i, encodings[12+i])"
   ]
  },
  {
   "cell_type": "code",
   "execution_count": 172,
   "metadata": {},
   "outputs": [
    {
     "data": {
      "text/plain": [
       "array([ 5.,  0.,  6., 73.,  4.,  4., 40.,  4., 10.,  0.,  0.,  0.,  9.,\n",
       "        1.,  1.,  0.,  0.,  0.,  0.,  0.,  0.,  0.,  0.,  0.,  0.,  0.,\n",
       "        0.,  0.,  0.,  0.,  0.,  0.,  0.,  0.,  0.,  0.,  0.,  0.,  0.,\n",
       "        0.])"
      ]
     },
     "execution_count": 172,
     "metadata": {},
     "output_type": "execute_result"
    }
   ],
   "source": [
    "X_all_enc[0]"
   ]
  },
  {
   "cell_type": "code",
   "execution_count": 173,
   "metadata": {},
   "outputs": [],
   "source": [
    "X_all_enc = np.hstack([X_all_enc, encode(7, admission_src_id, force_string=True), encode(9, payer_code)])"
   ]
  },
  {
   "cell_type": "code",
   "execution_count": 174,
   "metadata": {},
   "outputs": [
    {
     "data": {
      "text/plain": [
       "array([[ 5.,  0.,  6., 73.,  4.,  4., 40.,  4., 10.,  0.,  0.,  0.,  9.,\n",
       "         1.,  1.,  0.,  0.,  0.,  0.,  0.,  0.,  0.,  0.,  0.,  0.,  0.,\n",
       "         0.,  0.,  0.,  0.,  0.,  0.,  0.,  0.,  0.,  0.,  0.,  0.,  0.,\n",
       "         0.,  0.,  0.,  1.,  0.,  0.,  0.,  0.,  0.,  0.,  0.,  0.,  0.,\n",
       "         0.,  0.,  1.,  0.,  0.,  0.,  0.,  0.,  0.,  0.,  0.,  0.,  0.],\n",
       "       [ 3.,  1.,  7., 73.,  1.,  1., 24.,  1.,  5.,  0.,  0.,  0.,  3.,\n",
       "         1.,  1.,  2.,  0.,  0.,  0.,  0.,  0.,  0.,  2.,  0.,  2.,  0.,\n",
       "         0.,  0.,  0.,  0.,  0.,  0.,  0.,  0.,  0.,  0.,  0.,  0.,  1.,\n",
       "         1.,  0.,  0.,  0.,  0.,  0.,  1.,  0.,  0.,  0.,  0.,  1.,  0.,\n",
       "         0.,  0.,  0.,  0.,  0.,  0.,  0.,  0.,  0.,  0.,  0.,  0.,  0.]])"
      ]
     },
     "execution_count": 174,
     "metadata": {},
     "output_type": "execute_result"
    }
   ],
   "source": [
    "X_all_enc[:2]"
   ]
  },
  {
   "cell_type": "code",
   "execution_count": 175,
   "metadata": {},
   "outputs": [],
   "source": [
    "from sklearn.preprocessing import Normalizer\n",
    "X_all_enc = Normalizer().fit_transform(X_all_enc)"
   ]
  },
  {
   "cell_type": "code",
   "execution_count": 176,
   "metadata": {},
   "outputs": [],
   "source": [
    "X_enc = X_all_enc[:len(X)]\n",
    "X_val_enc = X_all_enc[len(X):len(X)+len(X_val)]\n",
    "X_test_enc = X_all_enc[len(X)+len(X_val):]"
   ]
  },
  {
   "cell_type": "code",
   "execution_count": 177,
   "metadata": {},
   "outputs": [
    {
     "name": "stdout",
     "output_type": "stream",
     "text": [
      "(6000, 65) (2000, 65) (2000, 65) (6000,)\n"
     ]
    }
   ],
   "source": [
    "print(X_enc.shape, X_val_enc.shape, X_test_enc.shape, Y.shape)"
   ]
  },
  {
   "cell_type": "code",
   "execution_count": 178,
   "metadata": {},
   "outputs": [],
   "source": [
    "np.savetxt(\"data/diabetes/X_enc.csv\", X_enc, delimiter=\",\")\n",
    "np.savetxt(\"data/diabetes/X_val_enc.csv\", X_val_enc, delimiter=\",\")\n",
    "np.savetxt(\"data/diabetes/X_test_enc.csv\", X_test_enc, delimiter=\",\")\n",
    "np.savetxt(\"data/diabetes/Y.csv\", Y, delimiter=\",\")\n",
    "np.savetxt(\"data/diabetes/Y_val.csv\", Y_val, delimiter=\",\")\n",
    "np.savetxt(\"data/diabetes/Y_test.csv\", Y_test, delimiter=\",\")"
   ]
  },
  {
   "cell_type": "code",
   "execution_count": 179,
   "metadata": {},
   "outputs": [],
   "source": [
    "X_discharge_disposition = encode(6, discharge_disposition_onehot, force_string=True)"
   ]
  },
  {
   "cell_type": "code",
   "execution_count": 180,
   "metadata": {},
   "outputs": [
    {
     "data": {
      "text/plain": [
       "(6000, 4, 44)"
      ]
     },
     "execution_count": 180,
     "metadata": {},
     "output_type": "execute_result"
    }
   ],
   "source": [
    "X_discharge_disposition[:len(X)].shape"
   ]
  },
  {
   "cell_type": "code",
   "execution_count": 181,
   "metadata": {},
   "outputs": [],
   "source": [
    "pickle.dump(X_discharge_disposition[:len(X)], open(\"data/diabetes/X_discharge_disposition_enc.csv\", \"wb\"))\n",
    "pickle.dump(X_discharge_disposition[len(X):len(X)+len(X_val)], open(\"data/diabetes/X_val_discharge_disposition_enc.csv\", \"wb\"))\n",
    "pickle.dump(X_discharge_disposition[len(X)+len(X_val):], open(\"data/diabetes/X_test_discharge_disposition_enc.csv\", \"wb\"))"
   ]
  },
  {
   "cell_type": "code",
   "execution_count": 182,
   "metadata": {},
   "outputs": [],
   "source": [
    "X_medical_speciality = encode(10, medical_speciality_onehot)"
   ]
  },
  {
   "cell_type": "code",
   "execution_count": 183,
   "metadata": {},
   "outputs": [],
   "source": [
    "pickle.dump(X_medical_speciality[:len(X)], open(\"data/diabetes/X_medical_speciality_enc.csv\", \"wb\"))\n",
    "pickle.dump(X_medical_speciality[len(X):len(X)+len(X_val)], open(\"data/diabetes/X_val_medical_speciality_enc.csv\", \"wb\"))\n",
    "pickle.dump(X_medical_speciality[len(X)+len(X_val):], open(\"data/diabetes/X_test_medical_speciality_enc.csv\", \"wb\"))"
   ]
  },
  {
   "cell_type": "code",
   "execution_count": 184,
   "metadata": {},
   "outputs": [],
   "source": [
    "X_diagnoses1_onehot = encode(48, diagnoses_onehot, force_string=True).reshape((-1, 10, 1, 1058))"
   ]
  },
  {
   "cell_type": "code",
   "execution_count": 185,
   "metadata": {},
   "outputs": [],
   "source": [
    "X_diagnoses2_onehot = encode(49, diagnoses_onehot, force_string=True).reshape((-1, 10, 1, 1058))"
   ]
  },
  {
   "cell_type": "code",
   "execution_count": 186,
   "metadata": {},
   "outputs": [],
   "source": [
    "X_diagnoses3_onehot = encode(50, diagnoses_onehot, force_string=True).reshape((-1, 10, 1, 1058))"
   ]
  },
  {
   "cell_type": "code",
   "execution_count": 187,
   "metadata": {},
   "outputs": [],
   "source": [
    "X_diagnoses = np.concatenate([X_diagnoses1_onehot, X_diagnoses2_onehot, X_diagnoses3_onehot], axis=2)"
   ]
  },
  {
   "cell_type": "code",
   "execution_count": 188,
   "metadata": {},
   "outputs": [],
   "source": [
    "pickle.dump(X_diagnoses[:len(X)], open(\"data/diabetes/X_diagnoses_enc.csv\", \"wb\"))\n",
    "pickle.dump(X_diagnoses[len(X):len(X)+len(X_val)], open(\"data/diabetes/X_val_diagnoses_enc.csv\", \"wb\"))\n",
    "pickle.dump(X_diagnoses[len(X)+len(X_val):], open(\"data/diabetes/X_test_diagnoses_enc.csv\", \"wb\"))"
   ]
  },
  {
   "cell_type": "code",
   "execution_count": null,
   "metadata": {},
   "outputs": [],
   "source": []
  }
 ],
 "metadata": {
  "kernelspec": {
   "display_name": "Python 3",
   "language": "python",
   "name": "python3"
  },
  "language_info": {
   "codemirror_mode": {
    "name": "ipython",
    "version": 3
   },
   "file_extension": ".py",
   "mimetype": "text/x-python",
   "name": "python",
   "nbconvert_exporter": "python",
   "pygments_lexer": "ipython3",
   "version": "3.7.4"
  }
 },
 "nbformat": 4,
 "nbformat_minor": 2
}
