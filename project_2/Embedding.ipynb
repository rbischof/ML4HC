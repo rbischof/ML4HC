{
 "cells": [
  {
   "cell_type": "code",
   "execution_count": 195,
   "metadata": {},
   "outputs": [
    {
     "name": "stdout",
     "output_type": "stream",
     "text": [
      "showing info https://raw.githubusercontent.com/nltk/nltk_data/gh-pages/index.xml\n"
     ]
    },
    {
     "data": {
      "text/plain": [
       "True"
      ]
     },
     "execution_count": 195,
     "metadata": {},
     "output_type": "execute_result"
    }
   ],
   "source": [
    "import nltk\n",
    "nltk.download()"
   ]
  },
  {
   "cell_type": "code",
   "execution_count": 196,
   "metadata": {},
   "outputs": [],
   "source": [
    "import numpy as np\n",
    "import pickle\n",
    "import itertools\n",
    "import pandas as pd"
   ]
  },
  {
   "cell_type": "code",
   "execution_count": 197,
   "metadata": {},
   "outputs": [],
   "source": [
    "from nltk.tokenize import RegexpTokenizer\n",
    "tokenizer = RegexpTokenizer(r'\\w+')"
   ]
  },
  {
   "cell_type": "code",
   "execution_count": 198,
   "metadata": {},
   "outputs": [],
   "source": [
    "from nltk.corpus import stopwords\n",
    "breakers = {'with', 'without', 'comma', 'and', 'or', 'by', 'in', 'due', 'to', 'of', 'causing'}\n",
    "stop_words= (set(stopwords.words(\"english\")) | {'nan', 'unspecified', 'stated', 'other', 'state'})"
   ]
  },
  {
   "cell_type": "code",
   "execution_count": 199,
   "metadata": {},
   "outputs": [],
   "source": [
    "from nltk.stem.wordnet import WordNetLemmatizer\n",
    "lem = WordNetLemmatizer()"
   ]
  },
  {
   "cell_type": "code",
   "execution_count": 200,
   "metadata": {},
   "outputs": [],
   "source": [
    "df_train = np.asarray(pd.read_csv(\"data/diabetes/diab_train.csv\"))\n",
    "df_val = np.asarray(pd.read_csv(\"data/diabetes/diab_validation.csv\"))\n",
    "df_test = np.asarray(pd.read_csv(\"data/diabetes/diab_test.csv\"))"
   ]
  },
  {
   "cell_type": "code",
   "execution_count": 201,
   "metadata": {},
   "outputs": [],
   "source": [
    "X = np.hstack([df_train[:,:-4], df_train[:,-3:]])\n",
    "X_val = np.hstack([df_val[:,:-4], df_val[:,-3:]])\n",
    "X_test = np.hstack([df_test[:,:-4], df_test[:,-3:]])\n",
    "Y = df_train[:,-4]\n",
    "Y_val = df_val[:,-4]\n",
    "Y_test = df_test[:,-4]"
   ]
  },
  {
   "cell_type": "code",
   "execution_count": 202,
   "metadata": {},
   "outputs": [],
   "source": [
    "X_all = np.vstack([X, X_val, X_test])"
   ]
  },
  {
   "cell_type": "code",
   "execution_count": 203,
   "metadata": {},
   "outputs": [],
   "source": [
    "def sanitize(doc, breaks=True):\n",
    "    return [lem.lemmatize(w) for w in tokenizer.tokenize(str(doc).replace(\",\", \" comma\").lower())\\\n",
    "                     if w not in stop_words or (breaks and w in breakers)]"
   ]
  },
  {
   "cell_type": "code",
   "execution_count": 204,
   "metadata": {},
   "outputs": [],
   "source": [
    "def onehot(keys, tokens_docs, truncate=100):\n",
    "    # convert list of of token-lists to one flat list of tokens\n",
    "    # and then create a dictionary that maps word to id of word,\n",
    "    all_tokens = itertools.chain.from_iterable(tokens_docs)\n",
    "    word_to_id = {token: idx for idx, token in enumerate(set(all_tokens))}\n",
    "\n",
    "    # convert token lists to token-id lists\n",
    "    token_ids = [[word_to_id[token] for token in tokens_doc] for tokens_doc in tokens_docs]\n",
    "\n",
    "    maxl = 0\n",
    "    maxi = 0\n",
    "    for t in token_ids:\n",
    "        maxl = max(maxl, len(t))\n",
    "        for w in t:\n",
    "            maxi = max(maxi, w)\n",
    "\n",
    "    mapping = {}\n",
    "    for i,t in enumerate(token_ids):\n",
    "        enc = np.zeros((min(maxl, truncate), maxi+1))\n",
    "        for j in range(min(len(t), truncate)):\n",
    "            enc[j][t[j]] += 1\n",
    "        mapping[keys[i]] = enc\n",
    "    return mapping"
   ]
  },
  {
   "cell_type": "code",
   "execution_count": 205,
   "metadata": {},
   "outputs": [],
   "source": [
    "def encode(index, mapping, force_string=False):\n",
    "    Xp = X_all[:,index]\n",
    "    \n",
    "    if force_string:\n",
    "        Xp = Xp.astype(str)\n",
    "\n",
    "    return np.asarray([mapping[x] for x in Xp])"
   ]
  },
  {
   "cell_type": "code",
   "execution_count": 206,
   "metadata": {},
   "outputs": [],
   "source": [
    "def identity_map(data):\n",
    "    return {x:x for x in set(data)}"
   ]
  },
  {
   "cell_type": "code",
   "execution_count": 207,
   "metadata": {},
   "outputs": [],
   "source": [
    "encodings = []"
   ]
  },
  {
   "cell_type": "markdown",
   "metadata": {},
   "source": [
    "Race"
   ]
  },
  {
   "cell_type": "code",
   "execution_count": 208,
   "metadata": {},
   "outputs": [
    {
     "name": "stdout",
     "output_type": "stream",
     "text": [
      "{'Asian', 'Caucasian', '?', 'AfricanAmerican', 'Hispanic', 'Other'}\n"
     ]
    }
   ],
   "source": [
    "print(set(X_all[:,1]))"
   ]
  },
  {
   "cell_type": "code",
   "execution_count": 209,
   "metadata": {},
   "outputs": [],
   "source": [
    "race = {'Other': 1, 'Asian':2, 'Caucasian':3, 'Hispanic':4, 'AfricanAmerican':5, '?':0}"
   ]
  },
  {
   "cell_type": "code",
   "execution_count": 210,
   "metadata": {},
   "outputs": [],
   "source": [
    "encodings.append(race)"
   ]
  },
  {
   "cell_type": "markdown",
   "metadata": {},
   "source": [
    "Gender"
   ]
  },
  {
   "cell_type": "code",
   "execution_count": 211,
   "metadata": {
    "scrolled": true
   },
   "outputs": [
    {
     "name": "stdout",
     "output_type": "stream",
     "text": [
      "{'Male', 'Female'}\n"
     ]
    }
   ],
   "source": [
    "print(set(X_all[:,2]))"
   ]
  },
  {
   "cell_type": "code",
   "execution_count": 212,
   "metadata": {},
   "outputs": [],
   "source": [
    "gender = {'Male': 0, 'Female': 1}"
   ]
  },
  {
   "cell_type": "code",
   "execution_count": 213,
   "metadata": {},
   "outputs": [],
   "source": [
    "encodings.append(gender)"
   ]
  },
  {
   "cell_type": "markdown",
   "metadata": {},
   "source": [
    "Age"
   ]
  },
  {
   "cell_type": "code",
   "execution_count": 214,
   "metadata": {},
   "outputs": [
    {
     "name": "stdout",
     "output_type": "stream",
     "text": [
      "{'[90-100)', '[30-40)', '[50-60)', '[70-80)', '[10-20)', '[40-50)', '[60-70)', '[20-30)', '[80-90)', '[0-10)'}\n"
     ]
    }
   ],
   "source": [
    "print(set(X_all[:,3]))"
   ]
  },
  {
   "cell_type": "code",
   "execution_count": 215,
   "metadata": {},
   "outputs": [],
   "source": [
    "age = {'[0-10)': 0, '[80-90)': 8, '[60-70)': 6, '[50-60)': 5,\\\n",
    "          '[30-40)': 3, '[20-30)':2, '[90-100)':9, '[40-50)':4, '[70-80)': 7, '[10-20)': 10}"
   ]
  },
  {
   "cell_type": "code",
   "execution_count": 216,
   "metadata": {},
   "outputs": [],
   "source": [
    "encodings.append(age)"
   ]
  },
  {
   "cell_type": "markdown",
   "metadata": {},
   "source": [
    "Weight"
   ]
  },
  {
   "cell_type": "code",
   "execution_count": 217,
   "metadata": {},
   "outputs": [
    {
     "name": "stdout",
     "output_type": "stream",
     "text": [
      "{'[75-100)', '[0-25)', '[100-125)', '?', '[50-75)', '[150-175)', '[125-150)', '[25-50)'}\n"
     ]
    }
   ],
   "source": [
    "print(set(X_all[:,4]))"
   ]
  },
  {
   "cell_type": "code",
   "execution_count": 218,
   "metadata": {},
   "outputs": [],
   "source": [
    "weight = {'[25-50)': 25, '[150-175)': 150, '[75-100)': 75,\\\n",
    "          '[0-25)': 0, '[125-150)': 125, '[50-75)': 50, '[100-125)':100, '?': 73}"
   ]
  },
  {
   "cell_type": "code",
   "execution_count": 219,
   "metadata": {},
   "outputs": [],
   "source": [
    "encodings.append(weight)"
   ]
  },
  {
   "cell_type": "markdown",
   "metadata": {},
   "source": [
    "Admission Type ID"
   ]
  },
  {
   "cell_type": "code",
   "execution_count": 220,
   "metadata": {},
   "outputs": [
    {
     "name": "stdout",
     "output_type": "stream",
     "text": [
      "{nan, 'Newborn', 'Not Available', 'Elective', 'Not Mapped', 'Urgent', 'Emergency'}\n"
     ]
    }
   ],
   "source": [
    "print(set(X_all[:,5]))"
   ]
  },
  {
   "cell_type": "code",
   "execution_count": 221,
   "metadata": {},
   "outputs": [],
   "source": [
    "admission_type = {'nan': 0, 'Newborn': 2, 'Emergency':4,\\\n",
    "                  'Not Mapped': 0, 'Not Available': 0, 'Urgent': 3, 'Elective': 1}"
   ]
  },
  {
   "cell_type": "code",
   "execution_count": 222,
   "metadata": {},
   "outputs": [],
   "source": [
    "X_all[:,5] = X_all[:,5].astype(str)"
   ]
  },
  {
   "cell_type": "code",
   "execution_count": 223,
   "metadata": {},
   "outputs": [],
   "source": [
    "encodings.append(admission_type)"
   ]
  },
  {
   "cell_type": "markdown",
   "metadata": {},
   "source": [
    "Discharge Disposition ID"
   ]
  },
  {
   "cell_type": "code",
   "execution_count": 224,
   "metadata": {},
   "outputs": [
    {
     "name": "stdout",
     "output_type": "stream",
     "text": [
      "22 Items\n",
      "['Admitted as an inpatient to this hospital', 'Discharged to home', 'Discharged/transferred to ICF', 'Discharged/transferred to SNF', 'Discharged/transferred to a federal health care facility.', 'Discharged/transferred to a long term care hospital.', 'Discharged/transferred to a nursing facility certified under Medicaid but not certified under Medicare', 'Discharged/transferred to another  type of inpatient care institution', 'Discharged/transferred to another rehab fac including rehab units of a hospital.', 'Discharged/transferred to another short term hospital', 'Discharged/transferred to home under care of Home IV provider', 'Discharged/transferred to home with home health service', 'Discharged/transferred within this institution to Medicare approved swing bed', 'Discharged/transferred/referred another institution for outpatient services', 'Discharged/transferred/referred to a psychiatric hospital of a psychiatric distinct part unit of a hospital', 'Discharged/transferred/referred to this institution for outpatient services', 'Expired', 'Hospice / home', 'Hospice / medical facility', 'Left AMA', 'Not Mapped', 'nan']\n"
     ]
    }
   ],
   "source": [
    "print(len(set(X_all[:,6])), 'Items')\n",
    "print(sorted(list(set(X_all[:,6].astype(str)))))"
   ]
  },
  {
   "cell_type": "code",
   "execution_count": 225,
   "metadata": {},
   "outputs": [],
   "source": [
    "discharge_disposition = sorted([sanitize(s, breaks=False) for s in set(X_all[:,6].astype(str))])\n",
    "discharge_disposition_onehot = onehot([s for s in set(X_all[:,6].astype(str))], discharge_disposition, truncate=4)"
   ]
  },
  {
   "cell_type": "markdown",
   "metadata": {},
   "source": [
    "Admission Source ID"
   ]
  },
  {
   "cell_type": "code",
   "execution_count": 226,
   "metadata": {},
   "outputs": [
    {
     "name": "stdout",
     "output_type": "stream",
     "text": [
      "['Clinic Referral', 'Court/Law Enforcement', 'Emergency Room', 'HMO Referral', 'Not Available', 'Not Mapped', 'Physician Referral', 'Transfer from a Skilled Nursing Facility (SNF)', 'Transfer from a hospital', 'Transfer from another health care facility', 'nan']\n"
     ]
    }
   ],
   "source": [
    "print(sorted(list(set(X_all[:,7].astype(str)))))"
   ]
  },
  {
   "cell_type": "code",
   "execution_count": 227,
   "metadata": {},
   "outputs": [],
   "source": [
    "admission_src_id = {'Clinic Referral':np.asarray([1,0,0,0,0,0,0,0,0]), \\\n",
    "                    'Court/Law Enforcement':np.asarray([0,1,0,0,0,0,0,0,0]), \\\n",
    "                    'Emergency Room':np.asarray([0,0,1,0,0,0,0,0,0]), \\\n",
    "                    'HMO Referral':np.asarray([0,0,0,1,0,0,0,0,0]), \\\n",
    "                    'Not Available':np.asarray([0,0,0,0,1,0,0,0,0]), \\\n",
    "                    'Not Mapped':np.asarray([0,0,0,0,1,0,0,0,0]), \\\n",
    "                    'nan':np.asarray([0,0,0,0,1,0,0,0,0]), \\\n",
    "                    'Physician Referral':np.asarray([0,0,0,0,0,1,0,0,0]), \\\n",
    "                    'Transfer from a Skilled Nursing Facility (SNF)':np.asarray([0,0,0,0,0,0,1,0,0]), \\\n",
    "                    'Transfer from a hospital':np.asarray([0,0,0,0,0,0,0,1,0]), \\\n",
    "                    'Transfer from another health care facility':np.asarray([0,0,0,0,0,0,0,0,1])}"
   ]
  },
  {
   "cell_type": "markdown",
   "metadata": {},
   "source": [
    "Time in Hospital"
   ]
  },
  {
   "cell_type": "code",
   "execution_count": 228,
   "metadata": {},
   "outputs": [
    {
     "name": "stdout",
     "output_type": "stream",
     "text": [
      "{1, 2, 3, 4, 5, 6, 7, 8, 9, 10, 11, 12, 13, 14}\n"
     ]
    }
   ],
   "source": [
    "print(set(X_all[:,8]))"
   ]
  },
  {
   "cell_type": "code",
   "execution_count": 229,
   "metadata": {},
   "outputs": [],
   "source": [
    "encodings.append(identity_map(X_all[:,8]))"
   ]
  },
  {
   "cell_type": "markdown",
   "metadata": {},
   "source": [
    "Payer Code"
   ]
  },
  {
   "cell_type": "code",
   "execution_count": 230,
   "metadata": {},
   "outputs": [
    {
     "name": "stdout",
     "output_type": "stream",
     "text": [
      "{'PO', 'CM', '?', 'WC', 'DM', 'MC', 'CH', 'HM', 'UN', 'MD', 'BC', 'CP', 'OG', 'SP', 'OT', 'SI'}\n"
     ]
    }
   ],
   "source": [
    "print(set(X_all[:,9]))"
   ]
  },
  {
   "cell_type": "code",
   "execution_count": 231,
   "metadata": {},
   "outputs": [],
   "source": [
    "payer_code = {k:np.eye(len(set(X_all[:,9])))[i] for i,k in enumerate(set(X_all[:,9]))}"
   ]
  },
  {
   "cell_type": "markdown",
   "metadata": {},
   "source": [
    "Medical Speciality"
   ]
  },
  {
   "cell_type": "code",
   "execution_count": 232,
   "metadata": {},
   "outputs": [
    {
     "name": "stdout",
     "output_type": "stream",
     "text": [
      "['?', 'Anesthesiology-Pediatric', 'Cardiology', 'Cardiology-Pediatric', 'Emergency/Trauma', 'Endocrinology', 'Family/GeneralPractice', 'Gastroenterology', 'Gynecology', 'Hematology', 'Hematology/Oncology', 'Hospitalist', 'InfectiousDiseases', 'InternalMedicine', 'Nephrology', 'Neurology', 'Obsterics&Gynecology-GynecologicOnco', 'Obstetrics', 'ObstetricsandGynecology', 'Oncology', 'Ophthalmology', 'Orthopedics', 'Orthopedics-Reconstructive', 'Osteopath', 'Otolaryngology', 'OutreachServices', 'Pathology', 'Pediatrics', 'Pediatrics-CriticalCare', 'Pediatrics-EmergencyMedicine', 'Pediatrics-Endocrinology', 'Pediatrics-Hematology-Oncology', 'Pediatrics-Pulmonology', 'PhysicalMedicineandRehabilitation', 'PhysicianNotFound', 'Podiatry', 'Psychiatry', 'Psychology', 'Pulmonology', 'Radiologist', 'Radiology', 'Surgeon', 'Surgery-Cardiovascular', 'Surgery-Cardiovascular/Thoracic', 'Surgery-Colon&Rectal', 'Surgery-General', 'Surgery-Neuro', 'Surgery-Pediatric', 'Surgery-Plastic', 'Surgery-PlasticwithinHeadandNeck', 'Surgery-Thoracic', 'Surgery-Vascular', 'Urology']\n"
     ]
    }
   ],
   "source": [
    "print(sorted([s for s in set(X_all[:,10])]))"
   ]
  },
  {
   "cell_type": "code",
   "execution_count": 233,
   "metadata": {},
   "outputs": [],
   "source": [
    "medical_speciality = sorted([sanitize(s, breaks=False) for s in set(X_all[:,10])])\n",
    "medical_speciality_onehot = onehot([s for s in set(X_all[:,10])], medical_speciality)"
   ]
  },
  {
   "cell_type": "markdown",
   "metadata": {},
   "source": [
    "Number of Lab Procedures"
   ]
  },
  {
   "cell_type": "code",
   "execution_count": 234,
   "metadata": {},
   "outputs": [
    {
     "name": "stdout",
     "output_type": "stream",
     "text": [
      "{1, 2, 3, 4, 5, 6, 7, 8, 9, 10, 11, 12, 13, 14, 15, 16, 17, 18, 19, 20, 21, 22, 23, 24, 25, 26, 27, 28, 29, 30, 31, 32, 33, 34, 35, 36, 37, 38, 39, 40, 41, 42, 43, 44, 45, 46, 47, 48, 49, 50, 51, 52, 53, 54, 55, 56, 57, 58, 59, 60, 61, 62, 63, 64, 65, 66, 67, 68, 69, 70, 71, 72, 73, 74, 75, 76, 77, 78, 79, 80, 81, 82, 83, 84, 85, 86, 87, 88, 89, 90, 91, 92, 93, 94, 95, 96, 97, 98, 101, 103, 104, 106, 107, 108, 109, 113, 114, 120}\n"
     ]
    }
   ],
   "source": [
    "print(set(X_all[:,11]))"
   ]
  },
  {
   "cell_type": "code",
   "execution_count": 235,
   "metadata": {},
   "outputs": [],
   "source": [
    "encodings.append(identity_map(X_all[:,11]))"
   ]
  },
  {
   "cell_type": "markdown",
   "metadata": {},
   "source": [
    "Number of Procedures"
   ]
  },
  {
   "cell_type": "code",
   "execution_count": 236,
   "metadata": {},
   "outputs": [
    {
     "name": "stdout",
     "output_type": "stream",
     "text": [
      "{0, 1, 2, 3, 4, 5, 6}\n"
     ]
    }
   ],
   "source": [
    "print(set(X_all[:,12]))"
   ]
  },
  {
   "cell_type": "code",
   "execution_count": 237,
   "metadata": {},
   "outputs": [],
   "source": [
    "encodings.append(identity_map(X_all[:,12]))"
   ]
  },
  {
   "cell_type": "markdown",
   "metadata": {},
   "source": [
    "Number of Medications"
   ]
  },
  {
   "cell_type": "code",
   "execution_count": 238,
   "metadata": {},
   "outputs": [
    {
     "name": "stdout",
     "output_type": "stream",
     "text": [
      "{1, 2, 3, 4, 5, 6, 7, 8, 9, 10, 11, 12, 13, 14, 15, 16, 17, 18, 19, 20, 21, 22, 23, 24, 25, 26, 27, 28, 29, 30, 31, 32, 33, 34, 35, 36, 37, 38, 39, 40, 41, 42, 43, 44, 45, 46, 47, 48, 49, 50, 51, 52, 53, 54, 55, 56, 57, 58, 59, 60, 61, 62, 63, 65, 67, 74, 75, 81}\n"
     ]
    }
   ],
   "source": [
    "print(set(X_all[:,13]))"
   ]
  },
  {
   "cell_type": "code",
   "execution_count": 239,
   "metadata": {},
   "outputs": [],
   "source": [
    "encodings.append(identity_map(X_all[:,13]))"
   ]
  },
  {
   "cell_type": "markdown",
   "metadata": {},
   "source": [
    "Number Outpatient"
   ]
  },
  {
   "cell_type": "code",
   "execution_count": 240,
   "metadata": {},
   "outputs": [
    {
     "name": "stdout",
     "output_type": "stream",
     "text": [
      "{0, 1, 2, 3, 4, 5, 6, 7, 8, 9, 10, 11, 12, 13, 14, 15, 16, 17, 18, 19, 21, 27, 36}\n"
     ]
    }
   ],
   "source": [
    "print(set(X_all[:,14]))"
   ]
  },
  {
   "cell_type": "code",
   "execution_count": 241,
   "metadata": {},
   "outputs": [],
   "source": [
    "encodings.append(identity_map(X_all[:,14]))"
   ]
  },
  {
   "cell_type": "markdown",
   "metadata": {},
   "source": [
    "Number Emergency"
   ]
  },
  {
   "cell_type": "code",
   "execution_count": 242,
   "metadata": {},
   "outputs": [
    {
     "name": "stdout",
     "output_type": "stream",
     "text": [
      "{0, 1, 2, 3, 4, 5, 6, 7, 8, 9, 42, 13}\n"
     ]
    }
   ],
   "source": [
    "print(set(X_all[:,15]))"
   ]
  },
  {
   "cell_type": "code",
   "execution_count": 243,
   "metadata": {},
   "outputs": [],
   "source": [
    "encodings.append(identity_map(X_all[:,15]))"
   ]
  },
  {
   "cell_type": "markdown",
   "metadata": {},
   "source": [
    "Number Inpatient"
   ]
  },
  {
   "cell_type": "code",
   "execution_count": 244,
   "metadata": {},
   "outputs": [
    {
     "name": "stdout",
     "output_type": "stream",
     "text": [
      "{0, 1, 2, 3, 4, 5, 6, 7, 8, 9, 10}\n"
     ]
    }
   ],
   "source": [
    "print(set(X_all[:,16]))"
   ]
  },
  {
   "cell_type": "code",
   "execution_count": 245,
   "metadata": {},
   "outputs": [],
   "source": [
    "encodings.append(identity_map(X_all[:,16]))"
   ]
  },
  {
   "cell_type": "markdown",
   "metadata": {},
   "source": [
    "Diagnoses"
   ]
  },
  {
   "cell_type": "code",
   "execution_count": 246,
   "metadata": {},
   "outputs": [
    {
     "name": "stdout",
     "output_type": "stream",
     "text": [
      "{'235', '325', '435', '404', '253', '935', '250.22', '442', '337', '250.2', '414', '843', '210', '490', '756', '810', '812', '684', '370', 'V62', '110', '823', '250.12', '381', '618', '395', '933', '920', '402', '258', '614', '840', '436', '179', '199', '715', '992', '255', 'E947', '378', 'E822', '453', '306', '308', '599', '201', '405', '214', '384', '610', '808', '300', 'V45', '905', 'E935', '27', '719', '693', '786', 'V55', '970', '791', '477', '485', '205', '578', '510', '246', '586', '807', '706', 'V18', 'V85', '189', '945', '483', '844', '781', '577', '380', '605', '281', 'E941', '250.8', 'V66', '389', '244', '723', '964', '411', '241', '507', '794', '821', '31', '429', '286', '410', '250.42', '293', '38', '698', '532', '354', '701', '78', '601', '227', '425', '784', '788', '741', '616', '555', '569', '999', 'V08', '910', '204', '626', '412', '?', '61', 'V65', 'E812', '535', '527', '871', '158', '285', '228', '153', '890', '294', '623', '250.5', '996', '782', '622', 'E932', '557', '427', '263', '372', '136', '736', '799', '851', '432', '694', '847', '977', '813', '141', '451', '353', '621', 'V12', '560', '576', '564', '53', '413', 'E882', '785', '585', '318', '514', '753', '703', '713', 'E917', '359', '959', '198', '250.41', '558', '278', '658', '645', '428', '250.21', '494', '70', '287', '250.6', '180', '182', '620', '54', '647', '348', '611', '995', 'V25', '473', '240', '335', '556', '730', '965', '793', 'V64', 'E849', '709', '351', '276', '160', '725', '710', '465', '441', '882', '562', '250.03', 'E815', '958', '826', '275', '967', '758', '923', '644', '379', '398', '734', '316', '200', '295', '582', '795', '522', '588', '627', '707', '625', '309', '250.32', '593', '357', '156', '481', 'V27', '717', 'E943', '508', '600', '790', '922', '424', '396', '431', '814', '746', '608', '518', '423', '966', '3', '350', '319', '82', '824', '42', '88', '443', '261', '313', '208', '852', '567', '34', '915', 'V10', '893', '157', '517', '845', '387', '718', '474', '592', '250.13', '233', '250.91', '603', '131', 'E887', '397', '714', 'E934', '552', '185', '492', 'V53', '574', 'E939', '534', '680', 'E933', '478', '617', '737', 'V44', '271', '94', '728', '721', '266', '868', 'V72', '155', '260', '183', '225', '568', '598', '250', '250.4', '720', '226', '652', '79', '566', '759', '482', 'V56', '172', '250.01', '664', '283', '437', '355', '641', '916', '420', '591', '822', '250.82', '220', '783', 'E950', '187', '440', '239', '572', '633', 'V46', '170', '998', '274', '513', '590', '655', '374', '340', 'V16', 'V49', 'V14', 'E858', '691', '731', '173', '846', '385', 'E885', '907', '388', '727', '659', '968', '456', '997', '565', '861', '446', '491', '921', '161', '250.83', '150', '151', '934', '646', '312', '250.1', '751', 'V58', '745', 'E937', '307', '421', '174', '913', '747', '301', '660', '892', '250.33', '349', '724', '850', '515', '800', '787', '480', '511', '792', '722', '403', '250.11', '553', '211', '366', '825', '820', '369', '462', '415', '317', 'E944', 'E915', '571', 'V70', 'V11', '711', '869', '708', '250.92', '519', '252', '382', '284', '531', '202', '401', 'V54', '716', 'E916', '695', '426', '386', '596', '642', '273', '188', '604', '729', '493', 'E878', '962', '376', '230', '619', '696', '972', '218', '705', '648', '291', '486', '416', 'E888', '394', 'E949', '438', '496', '430', 'E819', '805', '310', '537', '305', 'E884', '197', '323', '682', '250.23', '801', '989', '322', '138', '251', '752', '250.53', '41', '789', '299', 'E930', '692', '223', '434', 'E905', '346', '272', 'E980', '365', '117', '324', '314', '581', '906', '873', '780', '265', '466', '250.43', '512', '607', '584', '345', '470', '550', '654', '459', '726', 'V57', 'E927', '540', 'E938', '361', '193', '536', '298', '250.3', '816', '9', '250.9', '171', '573', 'V63', '250.7', '360', '452', '362', 'E854', '884', '280', '455', '733', '991', '311', '595', '250.81', '304', '250.31', '356', '853', '501', '458', '262', '447', '327', 'E816', '184', '8', '332', '303', '865', '918', '543', '331', '475', '669', '250.51', 'V17', '862', '196', '583', 'E942', '735', '333', '860', '135', '802', '516', '579', '296', '292', '75', '924', '444', '866', 'E879', '358', '487', '242', '908', '594', '238', '656', 'V43', '289', '290', '681', 'V71', '342', '203', '575', '250.02', '528', '282', '250.52', '643', '738', '883', '700', 'E928', '464', '969', '457', '530', '112', '433', 'V09', '886', '191', 'V42', '154', '277', '461', '836', '11', '796', '288', '245', '5', '343', 'E880', '164', '344', 'E929', '580', '377', '368', '454', '867', 'V15', '533', '663', '250.93', '162', '521', '661'}\n"
     ]
    }
   ],
   "source": [
    "print(set(X_all[:,17])|set(X_all[:,18])|set(X_all[:,19]))"
   ]
  },
  {
   "cell_type": "markdown",
   "metadata": {},
   "source": [
    "Number of Diagnoses"
   ]
  },
  {
   "cell_type": "code",
   "execution_count": 247,
   "metadata": {},
   "outputs": [
    {
     "name": "stdout",
     "output_type": "stream",
     "text": [
      "{1, 2, 3, 4, 5, 6, 7, 8, 9}\n"
     ]
    }
   ],
   "source": [
    "print(set(X_all[:,20]))"
   ]
  },
  {
   "cell_type": "code",
   "execution_count": 248,
   "metadata": {},
   "outputs": [],
   "source": [
    "encodings.append(identity_map(X_all[:,20]))"
   ]
  },
  {
   "cell_type": "markdown",
   "metadata": {},
   "source": [
    "Max Glucose Serum"
   ]
  },
  {
   "cell_type": "code",
   "execution_count": 249,
   "metadata": {},
   "outputs": [
    {
     "name": "stdout",
     "output_type": "stream",
     "text": [
      "{'Norm', '>300', '>200', 'None'}\n"
     ]
    }
   ],
   "source": [
    "print(set(X_all[:,21]))"
   ]
  },
  {
   "cell_type": "code",
   "execution_count": 250,
   "metadata": {},
   "outputs": [],
   "source": [
    "max_glu_serum = {'Norm':0, '>300':3, 'None':1, '>200':2}"
   ]
  },
  {
   "cell_type": "code",
   "execution_count": 251,
   "metadata": {},
   "outputs": [],
   "source": [
    "encodings.append(max_glu_serum)"
   ]
  },
  {
   "cell_type": "markdown",
   "metadata": {},
   "source": [
    "A1Cresult"
   ]
  },
  {
   "cell_type": "code",
   "execution_count": 252,
   "metadata": {},
   "outputs": [
    {
     "name": "stdout",
     "output_type": "stream",
     "text": [
      "{'Norm', '>7', 'None', '>8'}\n"
     ]
    }
   ],
   "source": [
    "print(set(X_all[:,22]))"
   ]
  },
  {
   "cell_type": "code",
   "execution_count": 253,
   "metadata": {},
   "outputs": [],
   "source": [
    "a1c_res = {'>7': 2, 'Norm': 0, '>8': 3, 'None': 1}"
   ]
  },
  {
   "cell_type": "code",
   "execution_count": 254,
   "metadata": {},
   "outputs": [],
   "source": [
    "encodings.append(a1c_res)"
   ]
  },
  {
   "cell_type": "markdown",
   "metadata": {},
   "source": [
    "Metformin - Metformin Pioglitazone"
   ]
  },
  {
   "cell_type": "code",
   "execution_count": 255,
   "metadata": {},
   "outputs": [
    {
     "name": "stdout",
     "output_type": "stream",
     "text": [
      "{'Up', 'Steady', 'Down', 'No'}\n"
     ]
    }
   ],
   "source": [
    "print(set(X_all[:,23]))"
   ]
  },
  {
   "cell_type": "code",
   "execution_count": 256,
   "metadata": {},
   "outputs": [],
   "source": [
    "drug_change = {'Down': 1, 'No': 0, 'Steady': 2, 'Up': 3}"
   ]
  },
  {
   "cell_type": "code",
   "execution_count": 257,
   "metadata": {},
   "outputs": [],
   "source": [
    "encodings += [drug_change] * 23"
   ]
  },
  {
   "cell_type": "markdown",
   "metadata": {},
   "source": [
    "Change"
   ]
  },
  {
   "cell_type": "code",
   "execution_count": 258,
   "metadata": {},
   "outputs": [
    {
     "name": "stdout",
     "output_type": "stream",
     "text": [
      "{'Ch', 'No'}\n"
     ]
    }
   ],
   "source": [
    "print(set(X_all[:,46]))"
   ]
  },
  {
   "cell_type": "code",
   "execution_count": 259,
   "metadata": {},
   "outputs": [],
   "source": [
    "change = {'No': 0, 'Ch': 1}"
   ]
  },
  {
   "cell_type": "code",
   "execution_count": 260,
   "metadata": {},
   "outputs": [],
   "source": [
    "encodings.append(change)"
   ]
  },
  {
   "cell_type": "markdown",
   "metadata": {},
   "source": [
    "Diabetes Medication"
   ]
  },
  {
   "cell_type": "code",
   "execution_count": 261,
   "metadata": {},
   "outputs": [
    {
     "name": "stdout",
     "output_type": "stream",
     "text": [
      "{'Yes', 'No'}\n"
     ]
    }
   ],
   "source": [
    "print(set(X_all[:,47]))"
   ]
  },
  {
   "cell_type": "code",
   "execution_count": 262,
   "metadata": {},
   "outputs": [],
   "source": [
    "diabetes_med = {'No': 0, 'Yes': 1}"
   ]
  },
  {
   "cell_type": "code",
   "execution_count": 263,
   "metadata": {},
   "outputs": [],
   "source": [
    "encodings.append(diabetes_med)"
   ]
  },
  {
   "cell_type": "markdown",
   "metadata": {},
   "source": [
    "Diagnoses Description"
   ]
  },
  {
   "cell_type": "code",
   "execution_count": 264,
   "metadata": {},
   "outputs": [
    {
     "name": "stdout",
     "output_type": "stream",
     "text": [
      "{nan, 'Abnormal involuntary movements', 'Allergic urticaria', 'Hyperosmolality and/or hypernatremia', 'Dyschromia, unspecified', 'Diabetes with hyperosmolarity, type II or unspecified type, uncontrolled', 'Regional enteritis of small intestine', 'Poisoning by cardiac rhythm regulators', 'Frostbite of face', 'Toxic diffuse goiter without mention of thyrotoxic crisis or storm', 'Respiratory abnormality, unspecified', 'Other retinal disorders', 'Acute pulmonary manifestations due to radiation', 'Chronic passive congestion of liver', 'Infective myositis', 'Carcinoma in situ of lip, oral cavity, and pharynx', 'Synovitis and tenosynovitis, unspecified', 'Nontoxic uninodular goiter', 'Tympanosclerosis, unspecified as to involvement', 'Mitral valve stenosis and aortic valve stenosis', 'Acute myocardial infarction of anterolateral wall, episode of care unspecified', 'Adenovirus infection in conditions classified elsewhere and of unspecified site', 'Alteration of consciousness', 'Malignant neoplasm of rectosigmoid junction', 'Toxic erythema', 'Intussusception', 'Aneurysm of artery of upper extremity', 'Spontaneous tension pneumothorax', 'Generalized nonconvulsive epilepsy, without mention of intractable epilepsy', 'Werdnig-Hoffmann disease', 'Flat foot', 'Nonsenile cataract, unspecified', 'Paroxysmal supraventricular tachycardia', 'Drug withdrawal', 'Traumatic amputation of other finger(s) (complete) (partial), without mention of complication', 'Postoperative shock, unspecified', 'Hypoglycemic coma', 'Malignant neoplasm of base of tongue', 'Pneumonia due to Klebsiella pneumoniae', 'Abnormal function study of brain and central nervous system, unspecified', 'Injury to kidney without mention of open wound into cavity, unspecified injury', 'Malignant neoplasm of liver, primary', 'Abscess of anal and rectal regions', 'Acute and subacute bacterial endocarditis', 'Pneumococcal pneumonia [Streptococcus pneumoniae pneumonia]', 'Dissection of aorta, unspecified site', 'Opioid type dependence, unspecified', 'Diabetes with ketoacidosis, type I [juvenile type], not stated as uncontrolled', 'Nonspecific abnormal findings in cerebrospinal fluid', 'Hemorrhage, unspecified', 'Empyema with fistula', 'Anal fissure', 'Contusion of thigh', 'Congenital abnormalities of uterus, unspecified as to episode of care or not applicable', 'Pneumonia due to adenovirus', 'Urinary-genital tract fistula, female', 'Paralysis agitans', 'Cervicitis and endocervicitis', 'Ocular laceration without prolapse of intraocular tissue', 'Closed fracture of unspecified part of upper end of humerus', 'Senile dementia, uncomplicated', 'Malignant neoplasm of gallbladder', 'Benign neoplasm of ovary', 'Diabetes with other specified manifestations, type II or unspecified type, uncontrolled', 'Concussion with no loss of consciousness', 'Adult onset fluency disorder', 'Poisoning by oxazolidine derivatives', 'Profound impairment, both eyes, impairment level not further specified', 'Malignant hypertensive heart disease without heart failure', 'Anomalies of skull and face bones', 'Bipolar I disorder, single manic episode, unspecified', 'Abrasion or friction burn of elbow, forearm, and wrist, without mention of infection', 'Acute osteomyelitis, site unspecified', \"Alzheimer's disease\", 'Multiple myeloma, without mention of having achieved remission', 'Gouty arthropathy, unspecified', 'Renal agenesis and dysgenesis', 'Acute gastritis, without mention of hemorrhage', 'Cervical spondylosis without myelopathy', 'Anhidrosis', 'Acquired deformity of nose', 'Open wound of toe(s), without mention of complication', 'Generalized vaccinia as a complication of medical care, not elsewhere classified', 'Central nervous system malformation in fetus, unspecified as to episode of care or not applicable', 'Autoimmune hemolytic anemias', 'Oligohydramnios, unspecified as to episode of care or not applicable', 'Rheumatic myocarditis', 'Closed fracture of vault of skull without mention of intracranial injury, unspecified state of consciousness', 'Delirium due to conditions classified elsewhere', 'Acute maxillary sinusitis', 'Reticulosarcoma, unspecified site, extranodal and solid organ sites', 'Rheumatoid arthritis', 'Esotropia, unspecified', 'Perichondritis of pinna, unspecified', 'Retinal detachment with retinal defect, unspecified', 'Acute peptic ulcer of unspecified site with hemorrhage, without mention of obstruction', 'Adhesive capsulitis of shoulder', 'Sprain of lumbosacral (joint) (ligament)', 'Cellulitis and abscess of finger, unspecified', 'Dyspareunia', 'Iliofemoral (ligament) sprain', 'Cerebral thrombosis without mention of cerebral infarction', 'Fitting and adjustment of other device', 'Alcohol withdrawal delirium', 'Effusion of joint, site unspecified', 'Postinflammatory pulmonary fibrosis', 'Diabetes with ketoacidosis, type I [juvenile type], uncontrolled', 'Achlorhydria', 'Malignant neoplasm of nipple and areola of female breast', 'Other orthopedic aftercare', 'Hereditary peripheral neuropathy', 'Hydronephrosis', 'Acquired hypertrophic pyloric stenosis', \"Meckel's diverticulum\", 'Hematemesis', 'Acute gastric ulcer with hemorrhage, without mention of obstruction', 'Open wound of hand except finger(s) alone, without mention of complication', 'Injury to spleen without mention of open wound into cavity, unspecified injury', 'Other anaphylactic reaction', 'Acute cor pulmonale', 'Molluscum contagiosum', 'Postsurgical hypothyroidism', 'Bladder neck obstruction', 'Malignant neoplasm of corpus uteri, except isthmus', 'Congenital pulmonary valve anomaly, unspecified', 'Spotted fevers', 'Poisoning by adrenal cortical steroids', 'Depressive disorder, not elsewhere classified', 'Amnestic disorder in conditions classified elsewhere', 'Poisoning by iron and its compounds', 'Coronary atherosclerosis of unspecified type of vessel, native or graft', 'Malignant neoplasm of thymus', 'Headache', 'Acromegaly and gigantism', 'Acute myeloid leukemia, without mention of having achieved remission', 'Encephalitis myelitis and encephalomyelitis', 'Closed fracture of base of skull without mention of intra cranial injury, unspecified state of consciousness', 'Postmastectomy lymphedema syndrome', 'Stomatitis and mucositis, unspecified', 'Benign neoplasm of adrenal gland', 'Herpes zoster with meningitis', 'Acute duodenal ulcer with hemorrhage, without mention of obstruction', 'Follicular cyst of ovary', 'Pneumonitis due to inhalation of food or vomitus', 'Diabetes with other coma, type I [juvenile type], uncontrolled', 'Cellulitis and abscess of face', 'Femoral hernia with obstruction, unilateral or unspecified (not specified as recurrent)', 'Open wound of scalp, without mention of complication', 'Pulpitis', 'Malignant neoplasm of glottis', 'Diverticulosis of small intestine (without mention of hemorrhage)', 'Contusion of breast', 'Diabetes with ketoacidosis, type II or unspecified type, uncontrolled', 'Nephroptosis', 'Papilledema, unspecified', 'Pernicious anemia', 'Myocarditis, unspecified', 'Ulcerative (chronic) enterocolitis', 'Malignant neoplasm of connective and other soft tissue of head, face, and neck', 'Inguinal hernia, with gangrene, unilateral or unspecified (not specified as recurrent)', 'Arteriovenous fistula, acquired', 'Diabetes with hyperosmolarity, type I [juvenile type], uncontrolled', 'Diabetes with unspecified complication, type II or unspecified type, uncontrolled', \"Raynaud's syndrome\", 'Malignant neoplasm of ovary', 'Closed fracture of carpal bone, unspecified', 'Neoplasm of uncertain behavior of major salivary glands', 'Acute prostatitis', 'Malignant neoplasm of cervical esophagus', 'Submucous leiomyoma of uterus', 'Injury to bladder and urethra, without mention of open wound into cavity', 'Infectious colitis, enteritis, and gastroenteritis', 'Viral hepatitis A with hepatic coma', 'Undersocialized conduct disorder, aggressive type, unspecified', 'Mild hyperemesis gravidarum, unspecified as to episode of care or not applicable', 'Diabetes with renal manifestations, type I [juvenile type], uncontrolled', 'Diabetes mellitus without mention of complication, type II or unspecified type, uncontrolled', 'Anal and rectal polyp', 'Cystic fibrosis without mention of meconium ileus', 'Malnutrition of moderate degree', 'Chronic airway obstruction, not elsewhere classified', 'Malignant neoplasm of nasal cavities', 'Diabetes mellitus without mention of complication, type I [juvenile type], uncontrolled', 'Congenital factor VIII disorder', 'Poisoning by antidepressant, unspecified', 'Corns and callosities', 'Acute thyroiditis', 'Emphysematous bleb', 'Diabetes with other coma, type I [juvenile type], not stated as uncontrolled', 'Acute kidney failure', 'Carbuncle and furuncle of face', 'Acute, but ill-defined, cerebrovascular disease', 'Abrasion or friction burn of finger(s), without mention of infection', 'Occlusion and stenosis of basilar artery without mention of cerebral infarction', 'Absence of menstruation', 'Pressure ulcer, unspecified site', 'Spinal stenosis in cervical region', 'Secondary and unspecified malignant neoplasm of lymph nodes of head, face, and neck', 'Ingrowing nail', 'Encounter for extracorporeal dialysis', 'Injury other and unspecified', 'Unspecified cardiac device in situ', 'Black eye, not otherwise specified', 'Congestive heart failure, unspecified', 'Sprain of ankle, unspecified site', 'Sprain of lateral collateral ligament of knee', 'Postcholecystectomy syndrome', 'Acute laryngitis without mention of obstruction', 'Acute alcoholic intoxication in alcoholism, unspecified', 'Lipoma of skin and subcutaneous tissue of face', 'Acute gastrojejunal ulcer with hemorrhage, without mention of obstruction', 'Peritonitis in infectious diseases classified elsewhere', 'Attention to tracheostomy', 'Air embolism', 'Hypertensive heart and chronic kidney disease, malignant, without heart failure and with chronic kidney disease stage I through stage IV, or unspecified', 'Malignant neoplasm of vagina', 'First-degree perineal laceration, unspecified as to episode of care or not applicable', 'Acute pancreatitis', 'Primary uterine inertia, unspecified as to episode of care or not applicable', 'Obesity, unspecified', 'Acne varioliformis', 'Mechanical complication of unspecified cardiac device, implant, and graft', 'Postmyocardial infarction syndrome', 'Late pregnancy', 'Achalasia and cardiospasm', 'Candidiasis of mouth', 'Alcoholic fatty liver', 'Diabetes with neurological manifestations, type II or unspecified type, not stated as uncontrolled', 'Trigeminal nerve disorders', 'Adjustment disorder with depressed mood', 'Abdominal pregnancy without intrauterine pregnancy', 'Fracture of medial malleolus, closed', 'Diabetes with other coma, type II or unspecified type, uncontrolled', 'Hypertrophy (benign) of prostate without urinary obstruction and other lower urinary tract symptom (LUTS)', 'Pyogenic arthritis, site unspecified', 'Closed fracture of patella', 'Diabetes with unspecified complication, type I [juvenile type], uncontrolled', 'Closed fracture of upper end of tibia alone', 'Spinal stenosis, unspecified region', 'Eczema herpeticum', \"Cushing's syndrome\", 'Poisoning by central nervous system muscle-tone depressants', 'Nodular lymphoma, unspecified site, extranodal and solid organ sites', 'Iron deficiency anemia secondary to blood loss (chronic)', 'Malignant neoplasm of head of pancreas', 'Closed fracture of acetabulum', 'Abscess of liver', 'Polyarteritis nodosa', 'Observation and evaluation for suspected conditions not found', 'Urethral stricture due to unspecified infection', 'Injury to other intra-abdominal organs without mention of open wound into cavity, unspecified intra-abdominal organ', 'Osteoporosis, unspecified', 'Nausea and vomiting', 'Degenerative and vascular disorders, unspecified', 'Diabetes mellitus of mother, complicating pregnancy, childbirth, or the puerperium, unspecified as to episode of care or not applicable', 'Bronchopneumonia, organism unspecified', 'Anxiety state, unspecified', 'Closed fracture of upper end of forearm, unspecified', 'Closed fracture of rib(s), unspecified', 'Prolapse of cord complicating labor and delivery, unspecified as to episode of care or not applicable', 'Brachial plexus lesions', 'Encysted hydrocele', 'Bronchitis, not specified as acute or chronic', 'Rheumatic aortic stenosis', 'Unstable lie, unspecified as to episode of care or not applicable', 'Other severe protein-calorie malnutrition', 'Budd-chiari syndrome', 'Residence remote from hospital or other health care facility', 'Failed mechanical induction of labor, unspecified as to episode of care or not applicable', 'Late effects of cerebrovascular disease, cognitive deficits', 'Hereditary spherocytosis', 'Subarachnoid hemorrhage following injury without mention of open intracranial wound, unspecified state of consciousness', 'Pulmonary collapse', 'Angina decubitus', 'Atrioventricular block, complete', 'Endomyocardial fibrosis', 'Diabetes mellitus without mention of complication, type II or unspecified type, not stated as uncontrolled', 'Polycythemia, secondary', 'Ariboflavinosis', 'Acute cystitis', 'Pleurisy without mention of effusion or current tuberculosis', 'Calculus in diverticulum of bladder', 'Diabetes with renal manifestations, type II or unspecified type, uncontrolled', 'Poisoning by dietetics', 'Aplastic anemia and other bone marrow failure syndromes', 'Disseminated malignant neoplasm without specification of site', 'Nervous system complication, unspecified', 'Foreign body in pharynx', 'Basilar artery syndrome', 'Dengue', 'Acute infective polyneuritis', 'Polyp of corpus uteri', 'Cerebral cysts', 'Ankylosing spondylitis', 'Inflammatory disease of breast', 'Acute suppurative otitis media without spontaneous rupture of eardrum', 'Peritonsillar abscess', 'Diabetes mellitus without mention of complication, type I [juvenile type], not stated as uncontrolled', 'Pneumonia, organism unspecified', 'Chronic pyelonephritis without lesion of renal medullary necrosis', 'Subarachnoid hemorrhage', 'Streptococcal septicemia', \"M_ni\\x8fre's disease, unspecified\", 'Constipation, unspecified', 'Nontraumatic extradural hemorrhage', 'Closed fracture of nasal bones', 'Acute salpingitis and oophoritis', 'Acute pharyngitis', 'Malignant neoplasm of penis and other male genital organs', 'Articular cartilage disorder, site unspecified', 'Common truncus', 'Displacement of cervical intervertebral disc without myelopathy', 'Disorders of mineral metabolism', 'Acute cholecystitis', 'Hypertensive chronic kidney disease, malignant, with chronic kidney disease stage I through stage IV, or unspecified', 'Acute vascular insufficiency of intestine', 'Salmonella gastroenteritis', 'Malignant neoplasm of endocervix', 'Malignant neoplasm of retroperitoneum', 'Extrinsic asthma, unspecified', 'Disturbance of skin sensation', 'Benign essential hypertension complicating pregnancy, childbirth, and the puerperium, unspecified as to episode of care or not applicable', 'Care involving breathing exercises', 'Closed fracture of intracapsular section of neck of femur, unspecified', 'Abdominal pain, unspecified site', 'Threatened premature labor, unspecified as to episode of care or not applicable', 'General counseling and advice on contraceptive management', 'Acute laryngopharyngitis', 'Closed fracture of unspecified part of femur', 'Cortex (cerebral) contusion without mention of open intracranial wound, unspecified state of consciousness', 'Closed fracture of cervical vertebra, unspecified level', 'Maternal distress complicating labor and delivery, unspecified as to episode of care or not applicable', 'Tuberculosis of lung, infiltrative, unspecified', 'Intestinal infection due to E. coli, unspecified', 'Diabetes with other coma, type II or unspecified type, not stated as uncontrolled', 'Diabetes with ophthalmic manifestations, type II or unspecified type, uncontrolled', 'Encounter for radiotherapy', 'Diabetes with hyperosmolarity, type II or unspecified type, not stated as uncontrolled', 'Benign neoplasm of esophagus', 'Orthostatic hypotension', 'Malignant neoplasm of cardia', 'Sideroblastic anemia', 'Celiac disease', 'Acute pericarditis in diseases classified elsewhere', 'Simple chronic bronchitis', 'Corneal ulcer, unspecified', 'Benign neoplasm of kidney, except pelvis', 'Chronic maxillary sinusitis', 'Acute inflammation of orbit, unspecified', 'Patent ductus arteriosus', 'Scleritis, unspecified', 'Diabetes with ketoacidosis, type II or unspecified type, not stated as uncontrolled', 'Atrophy of salivary gland', 'Closed fracture of clavicle, unspecified part', 'Influenza with pneumonia', 'Other degenerative diseases of the basal ganglia', 'Diabetes with renal manifestations, type II or unspecified type, not stated as uncontrolled', 'Leukoplakia of penis', 'Chronic tonsillitis', 'Malignant neoplasm of cerebrum, except lobes and ventricles', 'Foreign body in mouth', 'Kaschin-Beck disease, site unspecified', 'Abnormal glandular Papanicolaou smear of cervix', 'Esophageal varices with bleeding', 'Malignant neoplasm of trachea', 'Contact dermatitis and other eczema due to detergents', 'Diabetes with other specified manifestations, type I [juvenile type], uncontrolled', 'Acute appendicitis with generalized peritonitis', 'Arterial embolism and thrombosis', 'Calculus of gallbladder with acute cholecystitis, without mention of obstruction', 'Other and unspecified intracranial hemorrhage following injury without mention of open intracranial wound, unspecified state of consciousness', 'Diabetes with other specified manifestations, type I [juvenile type], not stated as uncontrolled', 'Simple type schizophrenia, unspecified', 'Premenopausal menorrhagia', 'Varicose veins of lower extremities with ulcer', 'Systemic lupus erythematosus', 'Malignant neoplasm of thyroid gland', 'Unspecified deformity of forearm, excluding fingers', 'Neoplasm of unspecified nature of digestive system', 'Carcinoma in situ of breast', 'Hyperparathyroidism, unspecified', 'Open wound of foot except toe(s) alone, without mention of complication', 'Hypertrophy of nasal turbinates', 'Chronic kidney disease (ckd)', 'Acute myringitis, unspecified', 'Pneumonia due to mycoplasma pneumoniae', 'Acute lymphoid leukemia, without mention of having achieved remission', 'Secondary malignant neoplasm of kidney', 'Neutropenia, unspecified', 'Seminal vesiculitis', 'Cerebral atherosclerosis', 'Fetal-maternal hemorrhage, unspecified as to episode of care or not applicable', 'Atherosclerosis of aorta', 'Mitral valve disorders', 'Anorexia', 'Nephrotic syndrome with lesion of proliferative glomerulonephritis', 'Diabetes with renal manifestations, type I [juvenile type], not stated as uncontrolled', 'Endometriosis of uterus', 'Malignant neoplasm of prostate', 'Pruritus ani', 'Nonspecific findings on examination of blood', 'Benign neoplasm of thyroid glands', 'Sprain of neck', 'Pulmonary congestion and hypostasis', 'Malignant neoplasm of kidney, except pelvis', 'Phlebitis and thrombophlebitis of superficial vessels of lower extremities', 'Renal colic', 'Diabetes with peripheral circulatory disorders, type II or unspecified type, not stated as uncontrolled', 'Unspecified injury of heart without mention of open wound into thorax', 'Diabetes with other specified manifestations, type II or unspecified type, not stated as uncontrolled', 'Diabetes with hyperosmolarity, type I [juvenile type], not stated as uncontrolled', 'Acute leukemia of unspecified cell type, without mention of having achieved remission', 'Allergic purpura', 'Urinary tract infection, site not specified', 'Tachycardia, unspecified', 'Idiopathic peripheral autonomic neuropathy, unspecified', 'Osteoarthrosis, generalized, site unspecified', 'Primary pulmonary hypertension', 'Peritoneal adhesions (postoperative) (postinfection)', 'Rheumatism, unspecified and fibrositis', 'Malignant neoplasm of trigone of urinary bladder', 'Goiter, specified as simple', 'Reaction to spinal or lumbar puncture', 'Disorders of thyrocalcitonin secretion', 'Femoral hernia without mention of obstruction of gangrene, unilateral or unspecified(not specified as recurrent)', 'Internal hemorrhoids without mention of complication', 'Bartonellosis', 'Malignant essential hypertension', 'Benign neoplasm of lip', 'Orchitis, epididymitis, and epididymo-orchitis, with abscess', 'Calculus of kidney', 'Secondary malignant neoplasm of lung', 'Multiple sclerosis', 'Depressive type psychosis', 'Benign neoplasm of brain', 'Tracheostomy complication, unspecified', 'Other ill-defined and unknown causes of morbidity and mortality', 'Toxic effect of hydrocyanic acid and cyanides', 'Lesion of sciatic nerve', 'Abscess of lung', 'Diseases of tricuspid valve', 'Human immunodeficiency virus [HIV] disease', 'Acute bronchitis', 'Poisoning by opium (alkaloids), unspecified', 'Unspecified prolapse of vaginal walls', 'Intracerebral hemorrhage', 'Other and unspecified noninfectious gastroenteritis and colitis', 'Paranoid personality disorder', 'Neoplasm of uncertain behavior of bone and articular cartilage', 'Malignant neoplasm of hepatic flexure', 'Burn of unspecified degree of lower limb [leg], unspecified site', 'Anomalies of spleen', 'Hemopericardium', 'Dermatophytosis of scalp and beard', 'Myasthenia gravis without (acute) exacerbation', \"Bell's palsy\", 'Portal vein thrombosis', 'Migraine with aura, without mention of intractable migraine without mention of status migrainosus'}\n"
     ]
    }
   ],
   "source": [
    "print(set(X_all[:,48]))"
   ]
  },
  {
   "cell_type": "code",
   "execution_count": 265,
   "metadata": {},
   "outputs": [],
   "source": [
    "diagnoses = sorted([sanitize(s) for s in set(X_all[:,48])|set(X_all[:,49])|set(X_all[:,50])])\n",
    "diagnoses_onehot = onehot([str(s) for s in set(X_all[:,48])|set(X_all[:,49])|set(X_all[:,50])], diagnoses, truncate=10)"
   ]
  },
  {
   "cell_type": "code",
   "execution_count": null,
   "metadata": {},
   "outputs": [],
   "source": []
  },
  {
   "cell_type": "code",
   "execution_count": 266,
   "metadata": {},
   "outputs": [],
   "source": [
    "X_all_enc = np.zeros((len(X_all), 40))"
   ]
  },
  {
   "cell_type": "code",
   "execution_count": 267,
   "metadata": {},
   "outputs": [
    {
     "data": {
      "text/plain": [
       "40"
      ]
     },
     "execution_count": 267,
     "metadata": {},
     "output_type": "execute_result"
    }
   ],
   "source": [
    "len(encodings)"
   ]
  },
  {
   "cell_type": "code",
   "execution_count": 268,
   "metadata": {},
   "outputs": [
    {
     "name": "stdout",
     "output_type": "stream",
     "text": [
      "0 {'Other': 1, 'Asian': 2, 'Caucasian': 3, 'Hispanic': 4, 'AfricanAmerican': 5, '?': 0} ['AfricanAmerican' 'Caucasian' 'Caucasian' 'AfricanAmerican' 'Caucasian']\n",
      "1 {'Male': 0, 'Female': 1} ['Male' 'Female' 'Female' 'Female' 'Male']\n",
      "2 {'[0-10)': 0, '[80-90)': 8, '[60-70)': 6, '[50-60)': 5, '[30-40)': 3, '[20-30)': 2, '[90-100)': 9, '[40-50)': 4, '[70-80)': 7, '[10-20)': 10} ['[60-70)' '[70-80)' '[80-90)' '[50-60)' '[80-90)']\n",
      "3 {'[25-50)': 25, '[150-175)': 150, '[75-100)': 75, '[0-25)': 0, '[125-150)': 125, '[50-75)': 50, '[100-125)': 100, '?': 73} ['?' '?' '?' '?' '?']\n",
      "4 {'nan': 0, 'Newborn': 2, 'Emergency': 4, 'Not Mapped': 0, 'Not Available': 0, 'Urgent': 3, 'Elective': 1} ['Emergency' 'Elective' 'Urgent' 'Emergency' 'Elective']\n"
     ]
    }
   ],
   "source": [
    "for i in range(5):\n",
    "    print(i, encodings[i], X[:,1+i][:5])\n",
    "    X_all_enc[:,i] = encode(1+i, encodings[i])"
   ]
  },
  {
   "cell_type": "code",
   "execution_count": 269,
   "metadata": {},
   "outputs": [
    {
     "name": "stdout",
     "output_type": "stream",
     "text": [
      "5 {1: 1, 2: 2, 3: 3, 4: 4, 5: 5, 6: 6, 7: 7, 8: 8, 9: 9, 10: 10, 11: 11, 12: 12, 13: 13, 14: 14} [4 1 2 4 13]\n"
     ]
    }
   ],
   "source": [
    "print(5, encodings[5], X[:,8][:5])\n",
    "X_all_enc[:,5] = encode(8, encodings[5])"
   ]
  },
  {
   "cell_type": "code",
   "execution_count": 270,
   "metadata": {},
   "outputs": [
    {
     "name": "stdout",
     "output_type": "stream",
     "text": [
      "6 {1: 1, 2: 2, 3: 3, 4: 4, 5: 5, 6: 6, 7: 7, 8: 8, 9: 9, 10: 10, 11: 11, 12: 12, 13: 13, 14: 14, 15: 15, 16: 16, 17: 17, 18: 18, 19: 19, 20: 20, 21: 21, 22: 22, 23: 23, 24: 24, 25: 25, 26: 26, 27: 27, 28: 28, 29: 29, 30: 30, 31: 31, 32: 32, 33: 33, 34: 34, 35: 35, 36: 36, 37: 37, 38: 38, 39: 39, 40: 40, 41: 41, 42: 42, 43: 43, 44: 44, 45: 45, 46: 46, 47: 47, 48: 48, 49: 49, 50: 50, 51: 51, 52: 52, 53: 53, 54: 54, 55: 55, 56: 56, 57: 57, 58: 58, 59: 59, 60: 60, 61: 61, 62: 62, 63: 63, 64: 64, 65: 65, 66: 66, 67: 67, 68: 68, 69: 69, 70: 70, 71: 71, 72: 72, 73: 73, 74: 74, 75: 75, 76: 76, 77: 77, 78: 78, 79: 79, 80: 80, 81: 81, 82: 82, 83: 83, 84: 84, 85: 85, 86: 86, 87: 87, 88: 88, 89: 89, 90: 90, 91: 91, 92: 92, 93: 93, 94: 94, 95: 95, 96: 96, 97: 97, 98: 98, 101: 101, 103: 103, 104: 104, 106: 106, 107: 107, 108: 108, 109: 109, 113: 113, 114: 114, 120: 120} [40 24 59 60 54]\n",
      "7 {0: 0, 1: 1, 2: 2, 3: 3, 4: 4, 5: 5, 6: 6} [4 1 0 1 6]\n",
      "8 {1: 1, 2: 2, 3: 3, 4: 4, 5: 5, 6: 6, 7: 7, 8: 8, 9: 9, 10: 10, 11: 11, 12: 12, 13: 13, 14: 14, 15: 15, 16: 16, 17: 17, 18: 18, 19: 19, 20: 20, 21: 21, 22: 22, 23: 23, 24: 24, 25: 25, 26: 26, 27: 27, 28: 28, 29: 29, 30: 30, 31: 31, 32: 32, 33: 33, 34: 34, 35: 35, 36: 36, 37: 37, 38: 38, 39: 39, 40: 40, 41: 41, 42: 42, 43: 43, 44: 44, 45: 45, 46: 46, 47: 47, 48: 48, 49: 49, 50: 50, 51: 51, 52: 52, 53: 53, 54: 54, 55: 55, 56: 56, 57: 57, 58: 58, 59: 59, 60: 60, 61: 61, 62: 62, 63: 63, 65: 65, 67: 67, 74: 74, 75: 75, 81: 81} [10 5 12 14 49]\n",
      "9 {0: 0, 1: 1, 2: 2, 3: 3, 4: 4, 5: 5, 6: 6, 7: 7, 8: 8, 9: 9, 10: 10, 11: 11, 12: 12, 13: 13, 14: 14, 15: 15, 16: 16, 17: 17, 18: 18, 19: 19, 21: 21, 27: 27, 36: 36} [0 0 0 0 0]\n",
      "10 {0: 0, 1: 1, 2: 2, 3: 3, 4: 4, 5: 5, 6: 6, 7: 7, 8: 8, 9: 9, 42: 42, 13: 13} [0 0 0 0 0]\n",
      "11 {0: 0, 1: 1, 2: 2, 3: 3, 4: 4, 5: 5, 6: 6, 7: 7, 8: 8, 9: 9, 10: 10} [0 0 0 1 0]\n"
     ]
    }
   ],
   "source": [
    "for i in range(6):\n",
    "    print(6+i, encodings[6+i], X[:,11+i][:5])\n",
    "    X_all_enc[:,6+i] = encode(11+i, encodings[6+i])"
   ]
  },
  {
   "cell_type": "code",
   "execution_count": 271,
   "metadata": {},
   "outputs": [
    {
     "name": "stdout",
     "output_type": "stream",
     "text": [
      "12 {1: 1, 2: 2, 3: 3, 4: 4, 5: 5, 6: 6, 7: 7, 8: 8, 9: 9} [9 3 8 5 6]\n",
      "13 {'Norm': 0, '>300': 3, 'None': 1, '>200': 2} ['None' 'None' 'None' 'None' 'None']\n",
      "14 {'>7': 2, 'Norm': 0, '>8': 3, 'None': 1} ['None' 'None' 'None' 'None' 'None']\n",
      "15 {'Down': 1, 'No': 0, 'Steady': 2, 'Up': 3} ['No' 'Steady' 'No' 'No' 'No']\n",
      "16 {'Down': 1, 'No': 0, 'Steady': 2, 'Up': 3} ['No' 'No' 'No' 'No' 'No']\n",
      "17 {'Down': 1, 'No': 0, 'Steady': 2, 'Up': 3} ['No' 'No' 'No' 'No' 'No']\n",
      "18 {'Down': 1, 'No': 0, 'Steady': 2, 'Up': 3} ['No' 'No' 'No' 'No' 'No']\n",
      "19 {'Down': 1, 'No': 0, 'Steady': 2, 'Up': 3} ['No' 'No' 'No' 'No' 'No']\n",
      "20 {'Down': 1, 'No': 0, 'Steady': 2, 'Up': 3} ['No' 'No' 'No' 'No' 'No']\n",
      "21 {'Down': 1, 'No': 0, 'Steady': 2, 'Up': 3} ['No' 'No' 'No' 'No' 'No']\n",
      "22 {'Down': 1, 'No': 0, 'Steady': 2, 'Up': 3} ['No' 'Steady' 'No' 'No' 'Down']\n",
      "23 {'Down': 1, 'No': 0, 'Steady': 2, 'Up': 3} ['No' 'No' 'No' 'No' 'No']\n",
      "24 {'Down': 1, 'No': 0, 'Steady': 2, 'Up': 3} ['No' 'Steady' 'No' 'No' 'No']\n",
      "25 {'Down': 1, 'No': 0, 'Steady': 2, 'Up': 3} ['No' 'No' 'No' 'No' 'Steady']\n",
      "26 {'Down': 1, 'No': 0, 'Steady': 2, 'Up': 3} ['No' 'No' 'No' 'No' 'No']\n",
      "27 {'Down': 1, 'No': 0, 'Steady': 2, 'Up': 3} ['No' 'No' 'No' 'No' 'No']\n",
      "28 {'Down': 1, 'No': 0, 'Steady': 2, 'Up': 3} ['No' 'No' 'No' 'No' 'No']\n",
      "29 {'Down': 1, 'No': 0, 'Steady': 2, 'Up': 3} ['No' 'No' 'No' 'No' 'No']\n",
      "30 {'Down': 1, 'No': 0, 'Steady': 2, 'Up': 3} ['No' 'No' 'No' 'No' 'No']\n",
      "31 {'Down': 1, 'No': 0, 'Steady': 2, 'Up': 3} ['No' 'No' 'No' 'No' 'No']\n",
      "32 {'Down': 1, 'No': 0, 'Steady': 2, 'Up': 3} ['No' 'No' 'Down' 'Up' 'No']\n",
      "33 {'Down': 1, 'No': 0, 'Steady': 2, 'Up': 3} ['No' 'No' 'No' 'No' 'No']\n",
      "34 {'Down': 1, 'No': 0, 'Steady': 2, 'Up': 3} ['No' 'No' 'No' 'No' 'No']\n",
      "35 {'Down': 1, 'No': 0, 'Steady': 2, 'Up': 3} ['No' 'No' 'No' 'No' 'No']\n",
      "36 {'Down': 1, 'No': 0, 'Steady': 2, 'Up': 3} ['No' 'No' 'No' 'No' 'No']\n",
      "37 {'Down': 1, 'No': 0, 'Steady': 2, 'Up': 3} ['No' 'No' 'No' 'No' 'No']\n",
      "38 {'No': 0, 'Ch': 1} ['No' 'Ch' 'Ch' 'Ch' 'Ch']\n",
      "39 {'No': 0, 'Yes': 1} ['No' 'Yes' 'Yes' 'Yes' 'Yes']\n"
     ]
    }
   ],
   "source": [
    "for i in range(28):\n",
    "    print(12+i, encodings[12+i], X[:,20+i][:5])\n",
    "    X_all_enc[:,12+i] = encode(20+i, encodings[12+i])"
   ]
  },
  {
   "cell_type": "code",
   "execution_count": 272,
   "metadata": {},
   "outputs": [
    {
     "data": {
      "text/plain": [
       "array([ 5.,  0.,  6., 73.,  4.,  4., 40.,  4., 10.,  0.,  0.,  0.,  9.,\n",
       "        1.,  1.,  0.,  0.,  0.,  0.,  0.,  0.,  0.,  0.,  0.,  0.,  0.,\n",
       "        0.,  0.,  0.,  0.,  0.,  0.,  0.,  0.,  0.,  0.,  0.,  0.,  0.,\n",
       "        0.])"
      ]
     },
     "execution_count": 272,
     "metadata": {},
     "output_type": "execute_result"
    }
   ],
   "source": [
    "X_all_enc[0]"
   ]
  },
  {
   "cell_type": "code",
   "execution_count": 273,
   "metadata": {},
   "outputs": [],
   "source": [
    "X_all_enc = np.hstack([X_all_enc, encode(7, admission_src_id, force_string=True), encode(9, payer_code)])"
   ]
  },
  {
   "cell_type": "code",
   "execution_count": 274,
   "metadata": {},
   "outputs": [
    {
     "data": {
      "text/plain": [
       "array([[ 5.,  0.,  6., 73.,  4.,  4., 40.,  4., 10.,  0.,  0.,  0.,  9.,\n",
       "         1.,  1.,  0.,  0.,  0.,  0.,  0.,  0.,  0.,  0.,  0.,  0.,  0.,\n",
       "         0.,  0.,  0.,  0.,  0.,  0.,  0.,  0.,  0.,  0.,  0.,  0.,  0.,\n",
       "         0.,  0.,  0.,  1.,  0.,  0.,  0.,  0.,  0.,  0.,  0.,  0.,  0.,\n",
       "         0.,  0.,  1.,  0.,  0.,  0.,  0.,  0.,  0.,  0.,  0.,  0.,  0.],\n",
       "       [ 3.,  1.,  7., 73.,  1.,  1., 24.,  1.,  5.,  0.,  0.,  0.,  3.,\n",
       "         1.,  1.,  2.,  0.,  0.,  0.,  0.,  0.,  0.,  2.,  0.,  2.,  0.,\n",
       "         0.,  0.,  0.,  0.,  0.,  0.,  0.,  0.,  0.,  0.,  0.,  0.,  1.,\n",
       "         1.,  0.,  0.,  0.,  0.,  0.,  1.,  0.,  0.,  0.,  0.,  0.,  1.,\n",
       "         0.,  0.,  0.,  0.,  0.,  0.,  0.,  0.,  0.,  0.,  0.,  0.,  0.]])"
      ]
     },
     "execution_count": 274,
     "metadata": {},
     "output_type": "execute_result"
    }
   ],
   "source": [
    "X_all_enc[:2]"
   ]
  },
  {
   "cell_type": "code",
   "execution_count": 275,
   "metadata": {},
   "outputs": [],
   "source": [
    "from sklearn.preprocessing import Normalizer\n",
    "#X_all_enc = Normalizer().fit_transform(X_all_enc)"
   ]
  },
  {
   "cell_type": "code",
   "execution_count": 276,
   "metadata": {},
   "outputs": [],
   "source": [
    "X_enc = X_all_enc[:len(X)]\n",
    "X_val_enc = X_all_enc[len(X):len(X)+len(X_val)]\n",
    "X_test_enc = X_all_enc[len(X)+len(X_val):]"
   ]
  },
  {
   "cell_type": "code",
   "execution_count": 277,
   "metadata": {},
   "outputs": [
    {
     "name": "stdout",
     "output_type": "stream",
     "text": [
      "(6000, 65) (2000, 65) (2000, 65) (6000,)\n"
     ]
    }
   ],
   "source": [
    "print(X_enc.shape, X_val_enc.shape, X_test_enc.shape, Y.shape)"
   ]
  },
  {
   "cell_type": "code",
   "execution_count": 278,
   "metadata": {},
   "outputs": [],
   "source": [
    "np.savetxt(\"data/diabetes/X_enc.csv\", X_enc, delimiter=\",\")\n",
    "np.savetxt(\"data/diabetes/X_val_enc.csv\", X_val_enc, delimiter=\",\")\n",
    "np.savetxt(\"data/diabetes/X_test_enc.csv\", X_test_enc, delimiter=\",\")\n",
    "np.savetxt(\"data/diabetes/Y.csv\", Y, delimiter=\",\")\n",
    "np.savetxt(\"data/diabetes/Y_val.csv\", Y_val, delimiter=\",\")\n",
    "np.savetxt(\"data/diabetes/Y_test.csv\", Y_test, delimiter=\",\")"
   ]
  },
  {
   "cell_type": "code",
   "execution_count": 279,
   "metadata": {},
   "outputs": [],
   "source": [
    "X_discharge_disposition = encode(6, discharge_disposition_onehot, force_string=True)"
   ]
  },
  {
   "cell_type": "code",
   "execution_count": 280,
   "metadata": {},
   "outputs": [
    {
     "data": {
      "text/plain": [
       "(6000, 4, 44)"
      ]
     },
     "execution_count": 280,
     "metadata": {},
     "output_type": "execute_result"
    }
   ],
   "source": [
    "X_discharge_disposition[:len(X)].shape"
   ]
  },
  {
   "cell_type": "code",
   "execution_count": 281,
   "metadata": {},
   "outputs": [],
   "source": [
    "pickle.dump(X_discharge_disposition[:len(X)], open(\"data/diabetes/X_discharge_disposition_enc.csv\", \"wb\"))\n",
    "pickle.dump(X_discharge_disposition[len(X):len(X)+len(X_val)], open(\"data/diabetes/X_val_discharge_disposition_enc.csv\", \"wb\"))\n",
    "pickle.dump(X_discharge_disposition[len(X)+len(X_val):], open(\"data/diabetes/X_test_discharge_disposition_enc.csv\", \"wb\"))"
   ]
  },
  {
   "cell_type": "code",
   "execution_count": 282,
   "metadata": {},
   "outputs": [],
   "source": [
    "X_medical_speciality = encode(10, medical_speciality_onehot)"
   ]
  },
  {
   "cell_type": "code",
   "execution_count": 283,
   "metadata": {},
   "outputs": [],
   "source": [
    "pickle.dump(X_medical_speciality[:len(X)], open(\"data/diabetes/X_medical_speciality_enc.csv\", \"wb\"))\n",
    "pickle.dump(X_medical_speciality[len(X):len(X)+len(X_val)], open(\"data/diabetes/X_val_medical_speciality_enc.csv\", \"wb\"))\n",
    "pickle.dump(X_medical_speciality[len(X)+len(X_val):], open(\"data/diabetes/X_test_medical_speciality_enc.csv\", \"wb\"))"
   ]
  },
  {
   "cell_type": "code",
   "execution_count": 284,
   "metadata": {},
   "outputs": [],
   "source": [
    "X_diagnoses1_onehot = encode(48, diagnoses_onehot, force_string=True).reshape((-1, 10, 1, 1058))"
   ]
  },
  {
   "cell_type": "code",
   "execution_count": 285,
   "metadata": {},
   "outputs": [],
   "source": [
    "X_diagnoses2_onehot = encode(49, diagnoses_onehot, force_string=True).reshape((-1, 10, 1, 1058))"
   ]
  },
  {
   "cell_type": "code",
   "execution_count": 286,
   "metadata": {},
   "outputs": [],
   "source": [
    "X_diagnoses3_onehot = encode(50, diagnoses_onehot, force_string=True).reshape((-1, 10, 1, 1058))"
   ]
  },
  {
   "cell_type": "code",
   "execution_count": 287,
   "metadata": {},
   "outputs": [],
   "source": [
    "X_diagnoses = np.concatenate([X_diagnoses1_onehot, X_diagnoses2_onehot, X_diagnoses3_onehot], axis=2)"
   ]
  },
  {
   "cell_type": "code",
   "execution_count": 288,
   "metadata": {},
   "outputs": [],
   "source": [
    "pickle.dump(X_diagnoses[:len(X)], open(\"data/diabetes/X_diagnoses_enc.csv\", \"wb\"))\n",
    "pickle.dump(X_diagnoses[len(X):len(X)+len(X_val)], open(\"data/diabetes/X_val_diagnoses_enc.csv\", \"wb\"))\n",
    "pickle.dump(X_diagnoses[len(X)+len(X_val):], open(\"data/diabetes/X_test_diagnoses_enc.csv\", \"wb\"))"
   ]
  },
  {
   "cell_type": "code",
   "execution_count": null,
   "metadata": {},
   "outputs": [],
   "source": []
  }
 ],
 "metadata": {
  "kernelspec": {
   "display_name": "Python 3",
   "language": "python",
   "name": "python3"
  },
  "language_info": {
   "codemirror_mode": {
    "name": "ipython",
    "version": 3
   },
   "file_extension": ".py",
   "mimetype": "text/x-python",
   "name": "python",
   "nbconvert_exporter": "python",
   "pygments_lexer": "ipython3",
   "version": "3.7.4"
  }
 },
 "nbformat": 4,
 "nbformat_minor": 2
}
