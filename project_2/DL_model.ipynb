{
 "cells": [
  {
   "cell_type": "code",
   "execution_count": 29,
   "metadata": {},
   "outputs": [],
   "source": [
    "import numpy as np\n",
    "import pickle\n",
    "import pandas as pd\n",
    "from tensorflow.keras import models\n",
    "from tensorflow.keras.layers import Dense, Input, Dropout, LSTM, Masking, Bidirectional, Concatenate, BatchNormalization\n",
    "from tensorflow.keras.callbacks import ModelCheckpoint, EarlyStopping, LearningRateScheduler, ReduceLROnPlateau"
   ]
  },
  {
   "cell_type": "code",
   "execution_count": 2,
   "metadata": {},
   "outputs": [],
   "source": [
    "X = np.asarray(pd.read_csv(\"data/diabetes/X_enc.csv\", header=None))\n",
    "X_val = np.asarray(pd.read_csv(\"data/diabetes/X_val_enc.csv\", header=None))\n",
    "X_test = np.asarray(pd.read_csv(\"data/diabetes/X_test_enc.csv\", header=None))\n",
    "Y = np.asarray(pd.read_csv(\"data/diabetes/Y.csv\", header=None))\n",
    "Y_val = np.asarray(pd.read_csv(\"data/diabetes/Y_val.csv\", header=None))\n",
    "Y_test = np.asarray(pd.read_csv(\"data/diabetes/Y_test.csv\", header=None))"
   ]
  },
  {
   "cell_type": "code",
   "execution_count": 3,
   "metadata": {},
   "outputs": [
    {
     "name": "stdout",
     "output_type": "stream",
     "text": [
      "(6000, 1) (2000, 1)\n"
     ]
    }
   ],
   "source": [
    "print(Y.shape, Y_val.shape)"
   ]
  },
  {
   "cell_type": "code",
   "execution_count": 4,
   "metadata": {},
   "outputs": [],
   "source": [
    "X_discharge_disposition = pickle.load(open(\"data/diabetes/X_discharge_disposition_enc.csv\", \"rb\"))\n",
    "X_val_discharge_disposition = pickle.load(open(\"data/diabetes/X_val_discharge_disposition_enc.csv\", \"rb\"))\n",
    "X_test_discharge_disposition = pickle.load(open(\"data/diabetes/X_test_discharge_disposition_enc.csv\", \"rb\"))"
   ]
  },
  {
   "cell_type": "code",
   "execution_count": 5,
   "metadata": {},
   "outputs": [
    {
     "name": "stdout",
     "output_type": "stream",
     "text": [
      "(6000, 5, 44)\n"
     ]
    }
   ],
   "source": [
    "print(X_discharge_disposition.shape)"
   ]
  },
  {
   "cell_type": "code",
   "execution_count": 6,
   "metadata": {},
   "outputs": [],
   "source": [
    "X_medical_speciality = pickle.load(open(\"data/diabetes/X_medical_speciality_enc.csv\", \"rb\"))\n",
    "X_val_medical_speciality = pickle.load(open(\"data/diabetes/X_val_medical_speciality_enc.csv\", \"rb\"))\n",
    "X_test_medical_speciality = pickle.load(open(\"data/diabetes/X_test_medical_speciality_enc.csv\", \"rb\"))"
   ]
  },
  {
   "cell_type": "code",
   "execution_count": 7,
   "metadata": {},
   "outputs": [
    {
     "name": "stdout",
     "output_type": "stream",
     "text": [
      "(6000, 3, 51)\n"
     ]
    }
   ],
   "source": [
    "print(X_medical_speciality.shape)"
   ]
  },
  {
   "cell_type": "code",
   "execution_count": 8,
   "metadata": {},
   "outputs": [],
   "source": [
    "X_diagnoses = pickle.load(open(\"data/diabetes/X_diagnoses_enc.csv\", \"rb\")).reshape(6000, 10, -1)\n",
    "X_val_diagnoses = pickle.load(open(\"data/diabetes/X_val_diagnoses_enc.csv\", \"rb\")).reshape(2000, 10, -1)\n",
    "X_test_diagnoses = pickle.load(open(\"data/diabetes/X_test_diagnoses_enc.csv\", \"rb\")).reshape(2000, 10, -1)"
   ]
  },
  {
   "cell_type": "code",
   "execution_count": 9,
   "metadata": {},
   "outputs": [
    {
     "name": "stdout",
     "output_type": "stream",
     "text": [
      "(6000, 10, 3174)\n"
     ]
    }
   ],
   "source": [
    "print(X_diagnoses.shape)"
   ]
  },
  {
   "cell_type": "code",
   "execution_count": 32,
   "metadata": {},
   "outputs": [],
   "source": [
    "def model():\n",
    "    x = Input(shape=(65,))\n",
    "    \n",
    "    x_d = Input(shape=(10, 3174))\n",
    "    x_dis = Input(shape=(5, 44))\n",
    "    x_m = Input(shape=(3, 51))\n",
    "    \n",
    "    rnn_d = LSTM(30)(x_d)\n",
    "    rnn_dis = LSTM(20)(x_dis)\n",
    "    rnn_m = LSTM(20)(x_m)\n",
    "    \n",
    "    #conc = Concatenate()([x, rnn_d, rnn_dis, rnn_m])\n",
    "\n",
    "    dense = Dense(400, activation='relu', name=\"dense\")(x)\n",
    "    dense = Dropout(.1)(dense)\n",
    "    dense = BatchNormalization()(dense)\n",
    "    dense = Dense(300, activation='relu', name=\"dense2\")(dense)\n",
    "    dense = Dropout(.1)(dense)\n",
    "    dense = BatchNormalization()(dense)\n",
    "    dense = Dense(200, activation='relu', name=\"dense3\")(dense)\n",
    "    dense = Dropout(.1)(dense)\n",
    "    dense = BatchNormalization()(dense)\n",
    "    dense = Dense(100, activation='relu', name=\"dense4\")(dense)\n",
    "    dense = Dropout(.1)(dense)\n",
    "    dense = BatchNormalization()(dense)\n",
    "    y = Dense(1, activation='sigmoid', name=\"y\")(dense)\n",
    "\n",
    "    model = models.Model([x], y, name=\"model\")\n",
    "    model.compile(optimizer='Adam', loss=\"binary_crossentropy\", metrics=['acc'])\n",
    "\n",
    "    return model"
   ]
  },
  {
   "cell_type": "code",
   "execution_count": 33,
   "metadata": {},
   "outputs": [],
   "source": [
    "m = model()"
   ]
  },
  {
   "cell_type": "code",
   "execution_count": 34,
   "metadata": {},
   "outputs": [
    {
     "name": "stdout",
     "output_type": "stream",
     "text": [
      "Model: \"model\"\n",
      "_________________________________________________________________\n",
      "Layer (type)                 Output Shape              Param #   \n",
      "=================================================================\n",
      "input_25 (InputLayer)        [(None, 65)]              0         \n",
      "_________________________________________________________________\n",
      "dense (Dense)                (None, 400)               26400     \n",
      "_________________________________________________________________\n",
      "dropout_3 (Dropout)          (None, 400)               0         \n",
      "_________________________________________________________________\n",
      "batch_normalization_2 (Batch (None, 400)               1600      \n",
      "_________________________________________________________________\n",
      "dense2 (Dense)               (None, 300)               120300    \n",
      "_________________________________________________________________\n",
      "dropout_4 (Dropout)          (None, 300)               0         \n",
      "_________________________________________________________________\n",
      "batch_normalization_3 (Batch (None, 300)               1200      \n",
      "_________________________________________________________________\n",
      "dense3 (Dense)               (None, 200)               60200     \n",
      "_________________________________________________________________\n",
      "dropout_5 (Dropout)          (None, 200)               0         \n",
      "_________________________________________________________________\n",
      "batch_normalization_4 (Batch (None, 200)               800       \n",
      "_________________________________________________________________\n",
      "dense4 (Dense)               (None, 100)               20100     \n",
      "_________________________________________________________________\n",
      "dropout_6 (Dropout)          (None, 100)               0         \n",
      "_________________________________________________________________\n",
      "batch_normalization_5 (Batch (None, 100)               400       \n",
      "_________________________________________________________________\n",
      "y (Dense)                    (None, 1)                 101       \n",
      "=================================================================\n",
      "Total params: 231,101\n",
      "Trainable params: 229,101\n",
      "Non-trainable params: 2,000\n",
      "_________________________________________________________________\n"
     ]
    }
   ],
   "source": [
    "m.summary()"
   ]
  },
  {
   "cell_type": "code",
   "execution_count": 35,
   "metadata": {},
   "outputs": [
    {
     "data": {
      "text/plain": [
       "(6000, 1)"
      ]
     },
     "execution_count": 35,
     "metadata": {},
     "output_type": "execute_result"
    }
   ],
   "source": [
    "Y.shape"
   ]
  },
  {
   "cell_type": "code",
   "execution_count": 36,
   "metadata": {},
   "outputs": [
    {
     "name": "stdout",
     "output_type": "stream",
     "text": [
      "Train on 6000 samples, validate on 2000 samples\n",
      "Epoch 1/100\n",
      "6000/6000 [==============================] - 4s 659us/sample - loss: 0.7602 - acc: 0.5520 - val_loss: 0.6721 - val_acc: 0.6035\n",
      "Epoch 2/100\n",
      "6000/6000 [==============================] - 2s 401us/sample - loss: 0.6989 - acc: 0.5753 - val_loss: 0.6732 - val_acc: 0.6035\n",
      "Epoch 3/100\n",
      "6000/6000 [==============================] - 2s 398us/sample - loss: 0.6703 - acc: 0.6107 - val_loss: 0.6566 - val_acc: 0.6125\n",
      "Epoch 4/100\n",
      "6000/6000 [==============================] - 3s 447us/sample - loss: 0.6658 - acc: 0.6152 - val_loss: 0.6414 - val_acc: 0.6335\n",
      "Epoch 5/100\n",
      "6000/6000 [==============================] - 3s 431us/sample - loss: 0.6599 - acc: 0.6210 - val_loss: 0.6401 - val_acc: 0.6390\n",
      "Epoch 6/100\n",
      "6000/6000 [==============================] - 3s 418us/sample - loss: 0.6524 - acc: 0.6282 - val_loss: 0.6418 - val_acc: 0.6320\n",
      "Epoch 7/100\n",
      "6000/6000 [==============================] - 3s 431us/sample - loss: 0.6505 - acc: 0.6315 - val_loss: 0.6434 - val_acc: 0.6345\n",
      "Epoch 8/100\n",
      "5856/6000 [============================>.] - ETA: 0s - loss: 0.6500 - acc: 0.6265\n",
      "Epoch 00008: ReduceLROnPlateau reducing learning rate to 0.00010000000474974513.\n",
      "6000/6000 [==============================] - 2s 414us/sample - loss: 0.6498 - acc: 0.6273 - val_loss: 0.6387 - val_acc: 0.6380\n",
      "Epoch 9/100\n",
      "6000/6000 [==============================] - 3s 488us/sample - loss: 0.6410 - acc: 0.6397 - val_loss: 0.6336 - val_acc: 0.6365\n",
      "Epoch 10/100\n",
      "6000/6000 [==============================] - 3s 432us/sample - loss: 0.6384 - acc: 0.6418 - val_loss: 0.6346 - val_acc: 0.6410\n",
      "Epoch 11/100\n",
      "6000/6000 [==============================] - 3s 463us/sample - loss: 0.6373 - acc: 0.6392 - val_loss: 0.6342 - val_acc: 0.6390\n",
      "Epoch 12/100\n",
      "6000/6000 [==============================] - 3s 429us/sample - loss: 0.6403 - acc: 0.6367 - val_loss: 0.6339 - val_acc: 0.6390\n",
      "Epoch 13/100\n",
      "6000/6000 [==============================] - 3s 464us/sample - loss: 0.6370 - acc: 0.6412 - val_loss: 0.6335 - val_acc: 0.6415\n",
      "Epoch 14/100\n",
      "6000/6000 [==============================] - 2s 378us/sample - loss: 0.6334 - acc: 0.6502 - val_loss: 0.6342 - val_acc: 0.6405\n",
      "Epoch 15/100\n",
      "6000/6000 [==============================] - 3s 422us/sample - loss: 0.6372 - acc: 0.6393 - val_loss: 0.6337 - val_acc: 0.6390\n",
      "Epoch 16/100\n",
      "5952/6000 [============================>.] - ETA: 0s - loss: 0.6403 - acc: 0.6373\n",
      "Epoch 00016: ReduceLROnPlateau reducing learning rate to 1.0000000474974514e-05.\n",
      "6000/6000 [==============================] - 2s 380us/sample - loss: 0.6407 - acc: 0.6370 - val_loss: 0.6335 - val_acc: 0.6390\n",
      "Epoch 17/100\n",
      "6000/6000 [==============================] - 3s 448us/sample - loss: 0.6321 - acc: 0.6465 - val_loss: 0.6329 - val_acc: 0.6360\n",
      "Epoch 18/100\n",
      "6000/6000 [==============================] - 3s 441us/sample - loss: 0.6312 - acc: 0.6520 - val_loss: 0.6331 - val_acc: 0.6375\n",
      "Epoch 00018: early stopping\n"
     ]
    },
    {
     "data": {
      "text/plain": [
       "<tensorflow.python.keras.callbacks.History at 0x7f002d33fe10>"
      ]
     },
     "execution_count": 36,
     "metadata": {},
     "output_type": "execute_result"
    }
   ],
   "source": [
    "cbs = []\n",
    "cbs.append(EarlyStopping(monitor=\"val_acc\", mode=\"max\", patience=5, verbose=1))\n",
    "cbs.append(ReduceLROnPlateau(monitor=\"val_acc\", mode=\"max\", patience=3, verbose=2))        \n",
    "m.fit([X], Y, shuffle=True, epochs=100, \\\n",
    "      validation_data=([X_val], Y_val), \\\n",
    "      callbacks=cbs)"
   ]
  },
  {
   "cell_type": "code",
   "execution_count": 41,
   "metadata": {},
   "outputs": [
    {
     "data": {
      "text/plain": [
       "(6000, 1)"
      ]
     },
     "execution_count": 41,
     "metadata": {},
     "output_type": "execute_result"
    }
   ],
   "source": [
    "Y.shape"
   ]
  },
  {
   "cell_type": "code",
   "execution_count": 43,
   "metadata": {},
   "outputs": [
    {
     "data": {
      "text/plain": [
       "LGBMClassifier(boosting_type='gbdt', class_weight=None, colsample_bytree=1.0,\n",
       "               importance_type='split', learning_rate=0.1, max_depth=-1,\n",
       "               min_child_samples=20, min_child_weight=0.001, min_split_gain=0.0,\n",
       "               n_estimators=100, n_jobs=-1, num_leaves=31, objective=None,\n",
       "               random_state=None, reg_alpha=0.0, reg_lambda=0.0, silent=True,\n",
       "               subsample=1.0, subsample_for_bin=200000, subsample_freq=0)"
      ]
     },
     "execution_count": 43,
     "metadata": {},
     "output_type": "execute_result"
    }
   ],
   "source": [
    "import lightgbm as lgbm\n",
    "params = {\n",
    "    'objective' :'binary',\n",
    "    'metric': 'binary_logloss'\n",
    "}\n",
    "d_train = lgbm.Dataset(X, Y)\n",
    "d_valid = lgbm.Dataset(X_val, Y_val)\n",
    "lmod = lgbm.LGBMClassifier()\n",
    "lmod.fit(X, Y.reshape(-1))\n",
    "#bst = lgbm.train(params, d_train, 5000, valid_sets=[d_valid], verbose_eval=50, early_stopping_rounds=100)"
   ]
  },
  {
   "cell_type": "code",
   "execution_count": 44,
   "metadata": {},
   "outputs": [
    {
     "data": {
      "text/plain": [
       "array([0., 0., 1., ..., 0., 0., 0.])"
      ]
     },
     "execution_count": 44,
     "metadata": {},
     "output_type": "execute_result"
    }
   ],
   "source": [
    "lmod.predict(X_val)"
   ]
  },
  {
   "cell_type": "code",
   "execution_count": 45,
   "metadata": {},
   "outputs": [
    {
     "data": {
      "text/plain": [
       "0.45239"
      ]
     },
     "execution_count": 45,
     "metadata": {},
     "output_type": "execute_result"
    }
   ],
   "source": [
    "np.mean(np.abs(Y_test-lmod.predict(X_val).round().astype(int)))"
   ]
  },
  {
   "cell_type": "code",
   "execution_count": null,
   "metadata": {},
   "outputs": [],
   "source": []
  }
 ],
 "metadata": {
  "kernelspec": {
   "display_name": "Python 3",
   "language": "python",
   "name": "python3"
  },
  "language_info": {
   "codemirror_mode": {
    "name": "ipython",
    "version": 3
   },
   "file_extension": ".py",
   "mimetype": "text/x-python",
   "name": "python",
   "nbconvert_exporter": "python",
   "pygments_lexer": "ipython3",
   "version": "3.7.4"
  }
 },
 "nbformat": 4,
 "nbformat_minor": 2
}
